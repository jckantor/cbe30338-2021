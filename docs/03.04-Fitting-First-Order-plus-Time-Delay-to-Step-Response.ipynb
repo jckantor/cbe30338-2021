{
 "cells": [
  {
   "cell_type": "markdown",
   "metadata": {
    "nbpages": {
     "level": 0,
     "link": "[](https://jckantor.github.io/cbe30338-2021/03.04-Fitting-First-Order-plus-Time-Delay-to-Step-Response.html)",
     "section": ""
    }
   },
   "source": [
    "<!--NOTEBOOK_HEADER-->\n",
    "*This notebook contains material from [cbe30338-2021](https://jckantor.github.io/cbe30338-2021);\n",
    "content is available [on Github](https://github.com/jckantor/cbe30338-2021.git).*\n"
   ]
  },
  {
   "cell_type": "markdown",
   "metadata": {
    "nbpages": {
     "level": 0,
     "link": "[](https://jckantor.github.io/cbe30338-2021/03.04-Fitting-First-Order-plus-Time-Delay-to-Step-Response.html)",
     "section": ""
    }
   },
   "source": [
    "<!--NAVIGATION-->\n",
    "< [3.3 Linear Approximation of a Multivariable Model](https://jckantor.github.io/cbe30338-2021/03.03-Linear-Approximation-of-a-Multivariable-Model.html) | [Contents](toc.html) | [Tag Index](tag_index.html) | [3.6 Second Order Models](https://jckantor.github.io/cbe30338-2021/03.06-Second-Order-Models.html) ><p><a href=\"https://colab.research.google.com/github/jckantor/cbe30338-2021/blob/master/docs/03.04-Fitting-First-Order-plus-Time-Delay-to-Step-Response.ipynb\"> <img align=\"left\" src=\"https://colab.research.google.com/assets/colab-badge.svg\" alt=\"Open in Colab\" title=\"Open in Google Colaboratory\"></a><p><a href=\"https://jckantor.github.io/cbe30338-2021/03.04-Fitting-First-Order-plus-Time-Delay-to-Step-Response.ipynb\"> <img align=\"left\" src=\"https://img.shields.io/badge/Github-Download-blue.svg\" alt=\"Download\" title=\"Download Notebook\"></a>"
   ]
  },
  {
   "cell_type": "markdown",
   "metadata": {
    "nbpages": {
     "level": 1,
     "link": "[3.4 Fitting First Order plus Time Delay to Step Response](https://jckantor.github.io/cbe30338-2021/03.04-Fitting-First-Order-plus-Time-Delay-to-Step-Response.html#3.4-Fitting-First-Order-plus-Time-Delay-to-Step-Response)",
     "section": "3.4 Fitting First Order plus Time Delay to Step Response"
    },
    "slideshow": {
     "slide_type": "-"
    }
   },
   "source": [
    "# 3.4 Fitting First Order plus Time Delay to Step Response"
   ]
  },
  {
   "cell_type": "markdown",
   "metadata": {
    "nbpages": {
     "level": 2,
     "link": "[3.4.1 Summary](https://jckantor.github.io/cbe30338-2021/03.04-Fitting-First-Order-plus-Time-Delay-to-Step-Response.html#3.4.1-Summary)",
     "section": "3.4.1 Summary"
    },
    "slideshow": {
     "slide_type": "-"
    }
   },
   "source": [
    "## 3.4.1 Summary\n",
    "\n",
    "Linear first order plus time delay (FOPTD) models are often good approximations to process dynamics for process control applications. This notebook demonstrates the fitting of FOPTD models to step response data."
   ]
  },
  {
   "cell_type": "markdown",
   "metadata": {
    "nbpages": {
     "level": 2,
     "link": "[3.4.2 Initializations](https://jckantor.github.io/cbe30338-2021/03.04-Fitting-First-Order-plus-Time-Delay-to-Step-Response.html#3.4.2-Initializations)",
     "section": "3.4.2 Initializations"
    },
    "slideshow": {
     "slide_type": "-"
    }
   },
   "source": [
    "## 3.4.2 Initializations"
   ]
  },
  {
   "cell_type": "code",
   "execution_count": 1,
   "metadata": {
    "nbpages": {
     "level": 2,
     "link": "[3.4.2 Initializations](https://jckantor.github.io/cbe30338-2021/03.04-Fitting-First-Order-plus-Time-Delay-to-Step-Response.html#3.4.2-Initializations)",
     "section": "3.4.2 Initializations"
    }
   },
   "outputs": [],
   "source": [
    "%matplotlib inline\n",
    "import numpy as np\n",
    "import matplotlib.pyplot as plt\n",
    "import control\n",
    "from scipy.optimize import minimize"
   ]
  },
  {
   "cell_type": "markdown",
   "metadata": {
    "nbpages": {
     "level": 2,
     "link": "[3.4.3 First Order plus Time Delay Models](https://jckantor.github.io/cbe30338-2021/03.04-Fitting-First-Order-plus-Time-Delay-to-Step-Response.html#3.4.3-First-Order-plus-Time-Delay-Models)",
     "section": "3.4.3 First Order plus Time Delay Models"
    },
    "slideshow": {
     "slide_type": "-"
    }
   },
   "source": [
    "## 3.4.3 First Order plus Time Delay Models"
   ]
  },
  {
   "cell_type": "markdown",
   "metadata": {
    "nbpages": {
     "level": 3,
     "link": "[3.4.3.1 First Order Models](https://jckantor.github.io/cbe30338-2021/03.04-Fitting-First-Order-plus-Time-Delay-to-Step-Response.html#3.4.3.1-First-Order-Models)",
     "section": "3.4.3.1 First Order Models"
    },
    "slideshow": {
     "slide_type": "-"
    }
   },
   "source": [
    "### 3.4.3.1 First Order Models\n",
    "\n",
    "A linear first-order plus time-delay model is a good approximation for many process control applications. Assume the manipulated process input, $u$, and measured process output, $y$, are initially at steady-state $u_0, y_0$.  \n",
    "\n",
    "Without loss of generality, the response of a linear first-order system without time-delay can be written as a differential equation\n",
    "\n",
    "$$\\tau\\frac{d(y-y_0)}{dt} + (y-y_0) = K(u-u_0)$$\n",
    "\n",
    "or\n",
    "\n",
    "$$\\tau\\frac{dy}{dt} + (y-y_0) = K(u-u_0)$$"
   ]
  },
  {
   "cell_type": "markdown",
   "metadata": {
    "nbpages": {
     "level": 3,
     "link": "[3.4.3.1 First Order Models](https://jckantor.github.io/cbe30338-2021/03.04-Fitting-First-Order-plus-Time-Delay-to-Step-Response.html#3.4.3.1-First-Order-Models)",
     "section": "3.4.3.1 First Order Models"
    },
    "slideshow": {
     "slide_type": "-"
    }
   },
   "source": [
    "At time $t_0$, the input $u$ is changed to a new constant value $u_\\infty$. Provided the system is stable (i.e, $\\tau \\geq 0$), the new steady state value of $y$ will be \n",
    "\n",
    "$$y_\\infty = y_0 + K(u_\\infty - u_0)$$\n",
    "\n",
    "\n",
    "The solution to the differential equation can be written in a number of useful forms.\n",
    "\n",
    "\\begin{align*}\n",
    "y(t) & = y_0 + K(u_\\infty - u_0) (1 - e^{-(t-t_0)/\\tau)}) \\\\\n",
    "\\\\\n",
    "& = y_0 + (y_\\infty - y_0) (1 - e^{-(t-t_0)/\\tau)}) \\\\\n",
    "\\\\\n",
    "& = y_\\infty + (y_0 - y_\\infty)e^{-(t-t_0)/\\tau)}\n",
    "\\end{align*}"
   ]
  },
  {
   "cell_type": "markdown",
   "metadata": {
    "nbpages": {
     "level": 3,
     "link": "[3.4.3.2 Time Delay](https://jckantor.github.io/cbe30338-2021/03.04-Fitting-First-Order-plus-Time-Delay-to-Step-Response.html#3.4.3.2-Time-Delay)",
     "section": "3.4.3.2 Time Delay"
    },
    "slideshow": {
     "slide_type": "-"
    }
   },
   "source": [
    "### 3.4.3.2 Time Delay\n",
    "\n",
    "Chemical processes are frequently encumbered with time delays associated with the transport of materials, chemical measurement, or simply sluggish response to control inputs. A pure time delay is modeled by a single parameter, $\\tau_d$, such that \n",
    "\n",
    "$$y(t) = u(t-\\tau_d)$$"
   ]
  },
  {
   "cell_type": "markdown",
   "metadata": {
    "nbpages": {
     "level": 3,
     "link": "[3.4.3.3 First Order plus Time Delay (FOPTD) ](https://jckantor.github.io/cbe30338-2021/03.04-Fitting-First-Order-plus-Time-Delay-to-Step-Response.html#3.4.3.3-First-Order-plus-Time-Delay-(FOPTD))",
     "section": "3.4.3.3 First Order plus Time Delay (FOPTD) "
    },
    "slideshow": {
     "slide_type": "-"
    }
   },
   "source": [
    "### 3.4.3.3 First Order plus Time Delay (FOPTD) \n",
    "\n",
    "If we add the time delay feature to the first order process described above, then\n",
    "\n",
    "\\begin{align*}\n",
    "y(t) & = y_0 + K(u_\\infty - u_0) (1 - e^{-(t-\\tau_d - t_0)/\\tau)}) \\\\\n",
    "\\\\\n",
    "& = y_0 + (y_\\infty - y_0) (1 - e^{-(t-\\tau_d-t_0)/\\tau)}) \\\\\n",
    "\\\\\n",
    "& = y_\\infty + (y_0 - y_\\infty)e^{-(t-\\tau_d-t_0)/\\tau)}\n",
    "\\end{align*}"
   ]
  },
  {
   "cell_type": "markdown",
   "metadata": {
    "nbpages": {
     "level": 3,
     "link": "[3.4.3.4 Visualization](https://jckantor.github.io/cbe30338-2021/03.04-Fitting-First-Order-plus-Time-Delay-to-Step-Response.html#3.4.3.4-Visualization)",
     "section": "3.4.3.4 Visualization"
    },
    "slideshow": {
     "slide_type": "-"
    }
   },
   "source": [
    "### 3.4.3.4 Visualization\n",
    "\n",
    "First we write a function to compute the response of a first order system with time delay to a unit step input where $u_0 = 0$ and $u_\\infty = 1$.  "
   ]
  },
  {
   "cell_type": "code",
   "execution_count": 2,
   "metadata": {
    "nbpages": {
     "level": 3,
     "link": "[3.4.3.4 Visualization](https://jckantor.github.io/cbe30338-2021/03.04-Fitting-First-Order-plus-Time-Delay-to-Step-Response.html#3.4.3.4-Visualization)",
     "section": "3.4.3.4 Visualization"
    }
   },
   "outputs": [],
   "source": [
    "def foptd(t, K=1, tau=1, tau_d=0):\n",
    "    tau_d = max(0,tau_d)\n",
    "    tau = max(0,tau)\n",
    "    return np.array([K*(1-np.exp(-(t-tau_d)/tau)) if t >= tau_d else 0 for t in t])"
   ]
  },
  {
   "cell_type": "code",
   "execution_count": 3,
   "metadata": {
    "nbpages": {
     "level": 3,
     "link": "[3.4.3.4 Visualization](https://jckantor.github.io/cbe30338-2021/03.04-Fitting-First-Order-plus-Time-Delay-to-Step-Response.html#3.4.3.4-Visualization)",
     "section": "3.4.3.4 Visualization"
    },
    "slideshow": {
     "slide_type": "-"
    }
   },
   "outputs": [
    {
     "data": {
      "text/plain": [
       "<matplotlib.text.Text at 0x112c0cdd8>"
      ]
     },
     "execution_count": 3,
     "metadata": {},
     "output_type": "execute_result"
    },
    {
     "data": {
      "image/png": "[encoded data removed]",
      "text/plain": [
       "<matplotlib.figure.Figure at 0x10ef73dd8>"
      ]
     },
     "metadata": {},
     "output_type": "display_data"
    }
   ],
   "source": [
    "t = np.linspace(0,50,200)\n",
    "tau = 10\n",
    "tau_delay = 3\n",
    "K = 2\n",
    "\n",
    "y = foptd(t,K,tau,tau_delay)\n",
    "plt.plot(t,y)\n",
    "plt.xlabel('Time [min]')\n",
    "plt.ylabel('Response')\n",
    "plt.title('FOPTD Step Response')"
   ]
  },
  {
   "cell_type": "markdown",
   "metadata": {
    "nbpages": {
     "level": 2,
     "link": "[3.4.4 Fitting an FOPTD model](https://jckantor.github.io/cbe30338-2021/03.04-Fitting-First-Order-plus-Time-Delay-to-Step-Response.html#3.4.4-Fitting-an-FOPTD-model)",
     "section": "3.4.4 Fitting an FOPTD model"
    },
    "slideshow": {
     "slide_type": "-"
    }
   },
   "source": [
    "## 3.4.4 Fitting an FOPTD model"
   ]
  },
  {
   "cell_type": "markdown",
   "metadata": {
    "nbpages": {
     "level": 3,
     "link": "[3.4.4.1 Sample Problem Statement](https://jckantor.github.io/cbe30338-2021/03.04-Fitting-First-Order-plus-Time-Delay-to-Step-Response.html#3.4.4.1-Sample-Problem-Statement)",
     "section": "3.4.4.1 Sample Problem Statement"
    },
    "slideshow": {
     "slide_type": "-"
    }
   },
   "source": [
    "### 3.4.4.1 Sample Problem Statement\n",
    "\n",
    "A distillation column is initially at steady state where the cooling water flow to the condensor is 110 kg/hr and the vapor phase mole fraction of the volatile compound is 0.87.  At t = 60 min, the steam flow is raised to 120 kg/hr. The vapor phase mole fraction increases as shown in the following chart. \n",
    "\n",
    "The problem task to fit a FOPTD model to this experimental result."
   ]
  },
  {
   "cell_type": "code",
   "execution_count": 4,
   "metadata": {
    "nbpages": {
     "level": 3,
     "link": "[3.4.4.1 Sample Problem Statement](https://jckantor.github.io/cbe30338-2021/03.04-Fitting-First-Order-plus-Time-Delay-to-Step-Response.html#3.4.4.1-Sample-Problem-Statement)",
     "section": "3.4.4.1 Sample Problem Statement"
    },
    "slideshow": {
     "slide_type": "-"
    }
   },
   "outputs": [
    {
     "data": {
      "text/plain": [
       "<matplotlib.text.Text at 0x112dac2e8>"
      ]
     },
     "execution_count": 4,
     "metadata": {},
     "output_type": "execute_result"
    },
    {
     "data": {
      "image/png": "[encoded data removed]",
      "text/plain": [
       "<matplotlib.figure.Figure at 0x1006c4d30>"
      ]
     },
     "metadata": {},
     "output_type": "display_data"
    }
   ],
   "source": [
    "# create the hypothetical problem data\n",
    "delta_y,t = control.step(0.05*control.tf([-2, 1],[25, 10, 1]))\n",
    "y = 0.87 + delta_y\n",
    "t = t + 60\n",
    "\n",
    "plt.plot(t,y)\n",
    "plt.xlabel('Time [min]')\n",
    "plt.ylabel('mole fraction')\n",
    "plt.title('Vapor mole fraction response to 10 kg/hr increase in condensor coolng')"
   ]
  },
  {
   "cell_type": "markdown",
   "metadata": {
    "nbpages": {
     "level": 3,
     "link": "[3.4.4.2 Step 1. Shift and scale the experimental data to correspond to a unit step input at time t =  0.](https://jckantor.github.io/cbe30338-2021/03.04-Fitting-First-Order-plus-Time-Delay-to-Step-Response.html#3.4.4.2-Step-1.-Shift-and-scale-the-experimental-data-to-correspond-to-a-unit-step-input-at-time-t-=-0.)",
     "section": "3.4.4.2 Step 1. Shift and scale the experimental data to correspond to a unit step input at time t =  0."
    },
    "slideshow": {
     "slide_type": "-"
    }
   },
   "source": [
    "### 3.4.4.2 Step 1. Shift and scale the experimental data to correspond to a unit step input at time t =  0.\n",
    "\n",
    "The first step is to scale the experimental data to fit the framework of an FOPTD model. This generally involves three steps:\n",
    "\n",
    "* Shift the time scale to t = 0 corresponds to the start of the experiment.\n",
    "\n",
    "$$ t_s = t - t_0$$\n",
    "\n",
    "* Shift the response so y = 0 is the initial steady state\n",
    "* Rescale the response to a unit change in input\n",
    "\n",
    "$$ y_s = \\frac{y(t) - y_0}{u_\\infty - u_0}$$"
   ]
  },
  {
   "cell_type": "code",
   "execution_count": 5,
   "metadata": {
    "nbpages": {
     "level": 3,
     "link": "[3.4.4.2 Step 1. Shift and scale the experimental data to correspond to a unit step input at time t =  0.](https://jckantor.github.io/cbe30338-2021/03.04-Fitting-First-Order-plus-Time-Delay-to-Step-Response.html#3.4.4.2-Step-1.-Shift-and-scale-the-experimental-data-to-correspond-to-a-unit-step-input-at-time-t-=-0.)",
     "section": "3.4.4.2 Step 1. Shift and scale the experimental data to correspond to a unit step input at time t =  0."
    },
    "slideshow": {
     "slide_type": "-"
    }
   },
   "outputs": [
    {
     "data": {
      "text/plain": [
       "<matplotlib.text.Text at 0x1133cf828>"
      ]
     },
     "execution_count": 5,
     "metadata": {},
     "output_type": "execute_result"
    },
    {
     "data": {
      "image/png": "[encoded data removed]",
      "text/plain": [
       "<matplotlib.figure.Figure at 0x10ef73ac8>"
      ]
     },
     "metadata": {},
     "output_type": "display_data"
    }
   ],
   "source": [
    "ts = t - t[0]\n",
    "ys = (y - y[0])/(120 - 110)\n",
    "\n",
    "plt.plot(ts, ys)\n",
    "plt.title('Shifted and Scaled Data')"
   ]
  },
  {
   "cell_type": "markdown",
   "metadata": {
    "nbpages": {
     "level": 3,
     "link": "[3.4.4.3 Step 2. Create a function to compute the response of an FOPTD model.](https://jckantor.github.io/cbe30338-2021/03.04-Fitting-First-Order-plus-Time-Delay-to-Step-Response.html#3.4.4.3-Step-2.-Create-a-function-to-compute-the-response-of-an-FOPTD-model.)",
     "section": "3.4.4.3 Step 2. Create a function to compute the response of an FOPTD model."
    },
    "slideshow": {
     "slide_type": "-"
    }
   },
   "source": [
    "### 3.4.4.3 Step 2. Create a function to compute the response of an FOPTD model."
   ]
  },
  {
   "cell_type": "markdown",
   "metadata": {
    "nbpages": {
     "level": 3,
     "link": "[3.4.4.3 Step 2. Create a function to compute the response of an FOPTD model.](https://jckantor.github.io/cbe30338-2021/03.04-Fitting-First-Order-plus-Time-Delay-to-Step-Response.html#3.4.4.3-Step-2.-Create-a-function-to-compute-the-response-of-an-FOPTD-model.)",
     "section": "3.4.4.3 Step 2. Create a function to compute the response of an FOPTD model."
    }
   },
   "source": [
    "For a given list of times $t$ and parameters $K$, $\\tau$, and $\\tau_d$, the `foptd` returns the response of an FOPTD system to a unit change in input at $t = 0$."
   ]
  },
  {
   "cell_type": "code",
   "execution_count": 6,
   "metadata": {
    "nbpages": {
     "level": 3,
     "link": "[3.4.4.3 Step 2. Create a function to compute the response of an FOPTD model.](https://jckantor.github.io/cbe30338-2021/03.04-Fitting-First-Order-plus-Time-Delay-to-Step-Response.html#3.4.4.3-Step-2.-Create-a-function-to-compute-the-response-of-an-FOPTD-model.)",
     "section": "3.4.4.3 Step 2. Create a function to compute the response of an FOPTD model."
    }
   },
   "outputs": [
    {
     "data": {
      "text/plain": [
       "<matplotlib.legend.Legend at 0x1133b1978>"
      ]
     },
     "execution_count": 6,
     "metadata": {},
     "output_type": "execute_result"
    },
    {
     "data": {
      "image/png": "[encoded data removed]",
      "text/plain": [
       "<matplotlib.figure.Figure at 0x1133b1748>"
      ]
     },
     "metadata": {},
     "output_type": "display_data"
    }
   ],
   "source": [
    "def foptd(t, K=1, tau=1, tau_d=0):\n",
    "    tau_d = max(0,tau_d)\n",
    "    tau = max(0,tau)\n",
    "    return np.array([K*(1-np.exp(-(t-tau_d)/tau)) if t >= tau_d else 0 for t in t])\n",
    "\n",
    "z = foptd(ts, 0.005, 10, 3)\n",
    "plt.plot(ts,ys,ts,z)\n",
    "plt.legend(['Experiment','FOPTD'])"
   ]
  },
  {
   "cell_type": "markdown",
   "metadata": {
    "nbpages": {
     "level": 3,
     "link": "[3.4.4.4 Step 3. Create a function to measure the error between an FOPTD model and the experimental data.](https://jckantor.github.io/cbe30338-2021/03.04-Fitting-First-Order-plus-Time-Delay-to-Step-Response.html#3.4.4.4-Step-3.-Create-a-function-to-measure-the-error-between-an-FOPTD-model-and-the-experimental-data.)",
     "section": "3.4.4.4 Step 3. Create a function to measure the error between an FOPTD model and the experimental data."
    },
    "slideshow": {
     "slide_type": "-"
    }
   },
   "source": [
    "### 3.4.4.4 Step 3. Create a function to measure the error between an FOPTD model and the experimental data.\n",
    "\n",
    "Let's called the step response of the fitted model to be $\\hat{y}_s$. We seek to minimize\n",
    "\n",
    "$$\\min_{K,\\tau,\\tau_d} \\int_0^T \\|\\hat{y}_s - y_s\\|\\,dt$$\n",
    "\n",
    "for some suitable norm $\\|\\cdot\\|$.  A common choice of norm for process control is the absolute value of the difference called Integral Absolute Error (IAE)\n",
    "\n",
    "$$\\text{IAE} = \\min_{K,\\tau,\\tau_d} \\int_0^T |\\hat{y}_s - y_s|\\,dt$$\n",
    "\n",
    "The advantage of IAE over other choices of norms is that it tends to be more robust with respect to larger errors."
   ]
  },
  {
   "cell_type": "code",
   "execution_count": 7,
   "metadata": {
    "nbpages": {
     "level": 3,
     "link": "[3.4.4.4 Step 3. Create a function to measure the error between an FOPTD model and the experimental data.](https://jckantor.github.io/cbe30338-2021/03.04-Fitting-First-Order-plus-Time-Delay-to-Step-Response.html#3.4.4.4-Step-3.-Create-a-function-to-measure-the-error-between-an-FOPTD-model-and-the-experimental-data.)",
     "section": "3.4.4.4 Step 3. Create a function to measure the error between an FOPTD model and the experimental data."
    },
    "slideshow": {
     "slide_type": "-"
    }
   },
   "outputs": [
    {
     "data": {
      "text/plain": [
       "0.0077632135835474644"
      ]
     },
     "execution_count": 7,
     "metadata": {},
     "output_type": "execute_result"
    }
   ],
   "source": [
    "def err(X,t,y):\n",
    "    K,tau,tau_d = X\n",
    "    z = foptd(t,K,tau,tau_d)\n",
    "    iae = sum(abs(z-y))*(max(t)-min(t))/len(t)\n",
    "    return iae\n",
    "\n",
    "X = [0.005,10,3]\n",
    "err(X,ts,ys)"
   ]
  },
  {
   "cell_type": "markdown",
   "metadata": {
    "nbpages": {
     "level": 3,
     "link": "[3.4.4.5 Step 4. Use scipy.optimize.minimize() to find the best fitting FOPTD model.](https://jckantor.github.io/cbe30338-2021/03.04-Fitting-First-Order-plus-Time-Delay-to-Step-Response.html#3.4.4.5-Step-4.-Use-scipy.optimize.minimize()-to-find-the-best-fitting-FOPTD-model.)",
     "section": "3.4.4.5 Step 4. Use scipy.optimize.minimize() to find the best fitting FOPTD model."
    },
    "slideshow": {
     "slide_type": "-"
    }
   },
   "source": [
    "### 3.4.4.5 Step 4. Use scipy.optimize.minimize() to find the best fitting FOPTD model."
   ]
  },
  {
   "cell_type": "code",
   "execution_count": 8,
   "metadata": {
    "nbpages": {
     "level": 3,
     "link": "[3.4.4.5 Step 4. Use scipy.optimize.minimize() to find the best fitting FOPTD model.](https://jckantor.github.io/cbe30338-2021/03.04-Fitting-First-Order-plus-Time-Delay-to-Step-Response.html#3.4.4.5-Step-4.-Use-scipy.optimize.minimize()-to-find-the-best-fitting-FOPTD-model.)",
     "section": "3.4.4.5 Step 4. Use scipy.optimize.minimize() to find the best fitting FOPTD model."
    }
   },
   "outputs": [
    {
     "name": "stdout",
     "output_type": "stream",
     "text": [
      "K = 0.00512\n",
      "tau = 8.04\n",
      "tau_d = 4.61\n"
     ]
    }
   ],
   "source": [
    "K,tau,tau_d = minimize(err,X,args=(ts,ys)).x\n",
    "\n",
    "print(\"K = {:.5f}\".format(K))\n",
    "print(\"tau = {:.2f}\".format(tau))\n",
    "print(\"tau_d = {:.2f}\".format(tau_d))"
   ]
  },
  {
   "cell_type": "markdown",
   "metadata": {
    "nbpages": {
     "level": 3,
     "link": "[3.4.4.6 Step 5. Rescale FOPTD output and compare to experimental data.](https://jckantor.github.io/cbe30338-2021/03.04-Fitting-First-Order-plus-Time-Delay-to-Step-Response.html#3.4.4.6-Step-5.-Rescale-FOPTD-output-and-compare-to-experimental-data.)",
     "section": "3.4.4.6 Step 5. Rescale FOPTD output and compare to experimental data."
    },
    "slideshow": {
     "slide_type": "-"
    }
   },
   "source": [
    "### 3.4.4.6 Step 5. Rescale FOPTD output and compare to experimental data."
   ]
  },
  {
   "cell_type": "code",
   "execution_count": 9,
   "metadata": {
    "nbpages": {
     "level": 3,
     "link": "[3.4.4.6 Step 5. Rescale FOPTD output and compare to experimental data.](https://jckantor.github.io/cbe30338-2021/03.04-Fitting-First-Order-plus-Time-Delay-to-Step-Response.html#3.4.4.6-Step-5.-Rescale-FOPTD-output-and-compare-to-experimental-data.)",
     "section": "3.4.4.6 Step 5. Rescale FOPTD output and compare to experimental data."
    }
   },
   "outputs": [
    {
     "data": {
      "text/plain": [
       "<matplotlib.legend.Legend at 0x113683cc0>"
      ]
     },
     "execution_count": 9,
     "metadata": {},
     "output_type": "execute_result"
    },
    {
     "data": {
      "image/png": "[encoded data removed]",
      "text/plain": [
       "<matplotlib.figure.Figure at 0x113537ac8>"
      ]
     },
     "metadata": {},
     "output_type": "display_data"
    }
   ],
   "source": [
    "z = foptd(ts,K,tau,tau_d)\n",
    "ypred = y[0] + z*(120 - 110)\n",
    "\n",
    "plt.plot(t,y,t,ypred)\n",
    "plt.xlabel('Time [min]')\n",
    "plt.ylabel('vapor mole fraction')\n",
    "plt.legend(['Experiment','FOPTD'])"
   ]
  },
  {
   "cell_type": "code",
   "execution_count": null,
   "metadata": {
    "collapsed": true,
    "jupyter": {
     "outputs_hidden": true
    },
    "nbpages": {
     "level": 3,
     "link": "[3.4.4.6 Step 5. Rescale FOPTD output and compare to experimental data.](https://jckantor.github.io/cbe30338-2021/03.04-Fitting-First-Order-plus-Time-Delay-to-Step-Response.html#3.4.4.6-Step-5.-Rescale-FOPTD-output-and-compare-to-experimental-data.)",
     "section": "3.4.4.6 Step 5. Rescale FOPTD output and compare to experimental data."
    }
   },
   "outputs": [],
   "source": []
  },
  {
   "cell_type": "markdown",
   "metadata": {
    "nbpages": {
     "level": 3,
     "link": "[3.4.4.6 Step 5. Rescale FOPTD output and compare to experimental data.](https://jckantor.github.io/cbe30338-2021/03.04-Fitting-First-Order-plus-Time-Delay-to-Step-Response.html#3.4.4.6-Step-5.-Rescale-FOPTD-output-and-compare-to-experimental-data.)",
     "section": "3.4.4.6 Step 5. Rescale FOPTD output and compare to experimental data."
    }
   },
   "source": [
    "<!--NAVIGATION-->\n",
    "< [3.3 Linear Approximation of a Multivariable Model](https://jckantor.github.io/cbe30338-2021/03.03-Linear-Approximation-of-a-Multivariable-Model.html) | [Contents](toc.html) | [Tag Index](tag_index.html) | [3.6 Second Order Models](https://jckantor.github.io/cbe30338-2021/03.06-Second-Order-Models.html) ><p><a href=\"https://colab.research.google.com/github/jckantor/cbe30338-2021/blob/master/docs/03.04-Fitting-First-Order-plus-Time-Delay-to-Step-Response.ipynb\"> <img align=\"left\" src=\"https://colab.research.google.com/assets/colab-badge.svg\" alt=\"Open in Colab\" title=\"Open in Google Colaboratory\"></a><p><a href=\"https://jckantor.github.io/cbe30338-2021/03.04-Fitting-First-Order-plus-Time-Delay-to-Step-Response.ipynb\"> <img align=\"left\" src=\"https://img.shields.io/badge/Github-Download-blue.svg\" alt=\"Download\" title=\"Download Notebook\"></a>"
   ]
  }
 ],
 "metadata": {
  "kernelspec": {
   "display_name": "Python 3",
   "language": "python",
   "name": "python3"
  },
  "language_info": {
   "codemirror_mode": {
    "name": "ipython",
    "version": 3
   },
   "file_extension": ".py",
   "mimetype": "text/x-python",
   "name": "python",
   "nbconvert_exporter": "python",
   "pygments_lexer": "ipython3",
   "version": "3.8.5"
  }
 },
 "nbformat": 4,
 "nbformat_minor": 4
}
