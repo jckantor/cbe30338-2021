{
 "cells": [
  {
   "cell_type": "markdown",
   "metadata": {},
   "source": [
    "<!--NOTEBOOK_HEADER-->\n",
    "*This notebook contains material from [cbe30338-2021](https://jckantor.github.io/cbe30338-2021);\n",
    "content is available [on Github](https://github.com/jckantor/cbe30338-2021.git).*\n"
   ]
  },
  {
   "cell_type": "markdown",
   "metadata": {},
   "source": [
    "<!--NAVIGATION-->\n",
    "< [1.1 Schedule and Course Organization](https://jckantor.github.io/cbe30338-2021/01.01-Schedule.html) | [Contents](toc.html) | [Tag Index](tag_index.html) | [1.3 The Temperature Control Laboratory](https://jckantor.github.io/cbe30338-2021/01.03-TCLab.html) ><p><a href=\"https://colab.research.google.com/github/jckantor/cbe30338-2021/blob/master/docs/01.02-What-is-Process-Control.ipynb\"> <img align=\"left\" src=\"https://colab.research.google.com/assets/colab-badge.svg\" alt=\"Open in Colab\" title=\"Open in Google Colaboratory\"></a><p><a href=\"https://jckantor.github.io/cbe30338-2021/01.02-What-is-Process-Control.ipynb\"> <img align=\"left\" src=\"https://img.shields.io/badge/Github-Download-blue.svg\" alt=\"Download\" title=\"Download Notebook\"></a>"
   ]
  },
  {
   "cell_type": "markdown",
   "metadata": {
    "nbpages": {
     "level": 1,
     "link": "[1.2 What is Process Control?](https://jckantor.github.io/cbe30338-2021/01.02-What-is-Process-Control.html#1.2-What-is-Process-Control?)",
     "section": "1.2 What is Process Control?"
    }
   },
   "source": [
    "# 1.2 What is Process Control?"
   ]
  },
  {
   "cell_type": "markdown",
   "metadata": {
    "nbpages": {
     "level": 2,
     "link": "[1.2.1 Examples](https://jckantor.github.io/cbe30338-2021/01.02-What-is-Process-Control.html#1.2.1-Examples)",
     "section": "1.2.1 Examples"
    }
   },
   "source": [
    "## 1.2.1 Examples"
   ]
  },
  {
   "cell_type": "markdown",
   "metadata": {
    "nbpages": {
     "level": 3,
     "link": "[1.2.1.1 Refineries: Fluidized Catalytic Cracking Unit (FCCU)](https://jckantor.github.io/cbe30338-2021/01.02-What-is-Process-Control.html#1.2.1.1-Refineries:-Fluidized-Catalytic-Cracking-Unit-(FCCU))",
     "section": "1.2.1.1 Refineries: Fluidized Catalytic Cracking Unit (FCCU)"
    }
   },
   "source": [
    "### 1.2.1.1 Refineries: Fluidized Catalytic Cracking Unit (FCCU)\n",
    "\n",
    "The FCCU is a critical process in most refineries. This is the unit responsible for 'cracking' the long chain hydrocarbons found to create more valuable molecules that can be blended into gasoline. Operation of the FCCU involves a complex coordination of a large scale reactors, regenerators, distillation operating with the potential for catastrophic accidents. When you here of explosions at refineries, often it is the outcome of some event involving operation of the FCCU.\n",
    "\n",
    "The following video was created by the U.S. Chemical Safety Board (USCSB) to demonstrate causes of an explosion in 2015 at an ExxonMobil refinery in Torrance, CA.  Watch the first 2-3 minutes for an excellent animation of FCCU operation. While you are watching the animation, ask yourself how this unit can be controlled to establish desired flowrates, prevent hazards, maximize the economic value of the products, and acheive product quality requirements. \n",
    "\n",
    "(If found this interesting,  you might also check out an animation of a [2005 incident at the BP Texas City Refinery](https://youtu.be/goSEyGNfiPM?t=43))"
   ]
  },
  {
   "cell_type": "code",
   "execution_count": 4,
   "metadata": {
    "nbpages": {
     "level": 3,
     "link": "[1.2.1.1 Refineries: Fluidized Catalytic Cracking Unit (FCCU)](https://jckantor.github.io/cbe30338-2021/01.02-What-is-Process-Control.html#1.2.1.1-Refineries:-Fluidized-Catalytic-Cracking-Unit-(FCCU))",
     "section": "1.2.1.1 Refineries: Fluidized Catalytic Cracking Unit (FCCU)"
    }
   },
   "outputs": [
    {
     "data": {
      "text/html": [
       "<iframe width=\"560\" height=\"315\" src=\"https://www.youtube.com/embed/JplAKJrgyew\" frameborder=\"0\" allow=\"accelerometer; autoplay; clipboard-write; encrypted-media; gyroscope; picture-in-picture\" allowfullscreen></iframe>"
      ],
      "text/plain": [
       "<IPython.core.display.HTML object>"
      ]
     },
     "execution_count": 4,
     "metadata": {},
     "output_type": "execute_result"
    }
   ],
   "source": [
    "from IPython.display import HTML\n",
    "\n",
    "HTML('<iframe width=\"560\" height=\"315\" src=\"https://www.youtube.com/embed/JplAKJrgyew\" frameborder=\"0\" allow=\"accelerometer; autoplay; clipboard-write; encrypted-media; gyroscope; picture-in-picture\" allowfullscreen></iframe>')"
   ]
  },
  {
   "cell_type": "markdown",
   "metadata": {
    "nbpages": {
     "level": 3,
     "link": "[1.2.1.2 Manufacturing: Tesla Shanghai Gigafactory](https://jckantor.github.io/cbe30338-2021/01.02-What-is-Process-Control.html#1.2.1.2-Manufacturing:-Tesla-Shanghai-Gigafactory)",
     "section": "1.2.1.2 Manufacturing: Tesla Shanghai Gigafactory"
    }
   },
   "source": [
    "### 1.2.1.2 Manufacturing: Tesla Shanghai Gigafactory\n",
    "\n",
    "Telsa has recently been outfitting factories with very large scale automated casting ('megacasting') to signficantly reduce the complexity of its manufacturiing processes.\n",
    "\n",
    "As you watch the following video, try to identify the many levels of control required to realize this automated manufacturing system. For example, what sensors and actuators are required for each robot to do their tasks?  How is quality control maintained? How are operations coordinated among the assembly stations in the manufacturing line?"
   ]
  },
  {
   "cell_type": "code",
   "execution_count": 4,
   "metadata": {
    "nbpages": {
     "level": 3,
     "link": "[1.2.1.2 Manufacturing: Tesla Shanghai Gigafactory](https://jckantor.github.io/cbe30338-2021/01.02-What-is-Process-Control.html#1.2.1.2-Manufacturing:-Tesla-Shanghai-Gigafactory)",
     "section": "1.2.1.2 Manufacturing: Tesla Shanghai Gigafactory"
    }
   },
   "outputs": [
    {
     "data": {
      "text/html": [
       "<blockquote class=\"twitter-tweet\"><p lang=\"en\" dir=\"ltr\">Giga Shanghai is becoming a production powerhouse. Watch mega castings for Model Y coming out of 6k-ton Giga presses. The whole process is fully automated, including quality check. Pretty mind blowing to say the least. <a href=\"https://t.co/PBMUpDjnD8\">pic.twitter.com/PBMUpDjnD8</a></p>&mdash; Ray4Tesla⚡️🚘☀️🔋 (@ray4tesla) <a href=\"https://twitter.com/ray4tesla/status/1356639381549846529?ref_src=twsrc%5Etfw\">February 2, 2021</a></blockquote> <script async src=\"https://platform.twitter.com/widgets.js\" charset=\"utf-8\"></script>"
      ],
      "text/plain": [
       "<IPython.core.display.HTML object>"
      ]
     },
     "execution_count": 4,
     "metadata": {},
     "output_type": "execute_result"
    }
   ],
   "source": [
    "from IPython.display import HTML\n",
    "s = '<blockquote class=\"twitter-tweet\"><p lang=\"en\" dir=\"ltr\">' + \\\n",
    "    'Giga Shanghai is becoming a production powerhouse. Watch ' + \\\n",
    "    'mega castings for Model Y coming out of 6k-ton Giga presses. ' + \\\n",
    "    'The whole process is fully automated, including quality check. ' + \\\n",
    "    'Pretty mind blowing to say the least. ' + \\\n",
    "    '<a href=\"https://t.co/PBMUpDjnD8\">pic.twitter.com/PBMUpDjnD8</a>' + \\\n",
    "    '</p>&mdash; Ray4Tesla⚡️🚘☀️🔋 (@ray4tesla) ' + \\\n",
    "    '<a href=\"https://twitter.com/ray4tesla/status/1356639381549846529?ref_src=twsrc%5Etfw\">February 2, 2021</a>' + \\\n",
    "    '</blockquote> <script async src=\"https://platform.twitter.com/widgets.js\" charset=\"utf-8\"></script>'\n",
    "HTML(s)"
   ]
  },
  {
   "cell_type": "markdown",
   "metadata": {
    "nbpages": {
     "level": 3,
     "link": "[1.2.1.3 Biomedical: Automated Insulin Therapy](https://jckantor.github.io/cbe30338-2021/01.02-What-is-Process-Control.html#1.2.1.3-Biomedical:-Automated-Insulin-Therapy)",
     "section": "1.2.1.3 Biomedical: Automated Insulin Therapy"
    }
   },
   "source": [
    "### 1.2.1.3 Biomedical: Automated Insulin Therapy\n",
    "\n",
    "Over the last decade, due to the research work by chemical and biomedical engineers, automated insulin therapies are now commercially available from several manufacturers. The following links and illusration show the major components of these systems. \n",
    "\n",
    "* What sensors are required?\n",
    "* What actuators are required?\n",
    "* What is the control objective?\n",
    "* How do you assure safety?\n",
    "\n",
    "[Medtronic MiniMed 770G System](https://www.medtronicdiabetes.com/products/minimed-770g-insulin-pump-system?utm_source=tsa_google_ppc&utm_campaign=Insulin+Pumps+2.0&utm_medium=text&gclid=Cj0KCQiA0-6ABhDMARIsAFVdQv87xTl1TF0Yx9YWM-LRV4x-FjZvWFaZhSA_33o--SDWvbY7h4O-UyEaAvzaEALw_wcB&gclsrc=aw.ds)\n",
    "\n",
    "![](https://www.medtronicdiabetes.com/res/img/770g/770g-img1a.jpg)"
   ]
  },
  {
   "cell_type": "markdown",
   "metadata": {
    "nbpages": {
     "level": 2,
     "link": "[1.2.2 Elements of Feedback Control](https://jckantor.github.io/cbe30338-2021/01.02-What-is-Process-Control.html#1.2.2-Elements-of-Feedback-Control)",
     "section": "1.2.2 Elements of Feedback Control"
    }
   },
   "source": [
    "## 1.2.2 Elements of Feedback Control"
   ]
  },
  {
   "cell_type": "markdown",
   "metadata": {
    "nbpages": {
     "level": 2,
     "link": "[1.2.2 Elements of Feedback Control](https://jckantor.github.io/cbe30338-2021/01.02-What-is-Process-Control.html#1.2.2-Elements-of-Feedback-Control)",
     "section": "1.2.2 Elements of Feedback Control"
    }
   },
   "source": [
    "![](./figures/FeedbackControlDiagram.png)"
   ]
  },
  {
   "cell_type": "markdown",
   "metadata": {
    "nbpages": {
     "level": 3,
     "link": "[1.2.2.1 Discussion Questions](https://jckantor.github.io/cbe30338-2021/01.02-What-is-Process-Control.html#1.2.2.1-Discussion-Questions)",
     "section": "1.2.2.1 Discussion Questions"
    }
   },
   "source": [
    "### 1.2.2.1 Discussion Questions\n",
    "\n",
    "Consider the automated insulin control system in the following image.  Indentify\n",
    "\n",
    "* Sensors\n",
    "* Actuators\n",
    "* Process\n",
    "* Computations (where are they done?)\n",
    "* What are disturbance variables?\n",
    "* Can you measure what you actually want control?\n",
    "* What are the manipulated variables? Are there other manipulations you might wish to do?\n",
    "* What is the setpoint?\n",
    "* What diagnostic outputs would you wish to monitor?"
   ]
  },
  {
   "cell_type": "markdown",
   "metadata": {
    "nbpages": {
     "level": 3,
     "link": "[1.2.2.1 Discussion Questions](https://jckantor.github.io/cbe30338-2021/01.02-What-is-Process-Control.html#1.2.2.1-Discussion-Questions)",
     "section": "1.2.2.1 Discussion Questions"
    }
   },
   "source": []
  },
  {
   "cell_type": "code",
   "execution_count": null,
   "metadata": {
    "nbpages": {
     "level": 3,
     "link": "[1.2.2.1 Discussion Questions](https://jckantor.github.io/cbe30338-2021/01.02-What-is-Process-Control.html#1.2.2.1-Discussion-Questions)",
     "section": "1.2.2.1 Discussion Questions"
    }
   },
   "outputs": [],
   "source": []
  },
  {
   "cell_type": "markdown",
   "metadata": {},
   "source": [
    "<!--NAVIGATION-->\n",
    "< [1.1 Schedule and Course Organization](https://jckantor.github.io/cbe30338-2021/01.01-Schedule.html) | [Contents](toc.html) | [Tag Index](tag_index.html) | [1.3 The Temperature Control Laboratory](https://jckantor.github.io/cbe30338-2021/01.03-TCLab.html) ><p><a href=\"https://colab.research.google.com/github/jckantor/cbe30338-2021/blob/master/docs/01.02-What-is-Process-Control.ipynb\"> <img align=\"left\" src=\"https://colab.research.google.com/assets/colab-badge.svg\" alt=\"Open in Colab\" title=\"Open in Google Colaboratory\"></a><p><a href=\"https://jckantor.github.io/cbe30338-2021/01.02-What-is-Process-Control.ipynb\"> <img align=\"left\" src=\"https://img.shields.io/badge/Github-Download-blue.svg\" alt=\"Download\" title=\"Download Notebook\"></a>"
   ]
  }
 ],
 "metadata": {
  "kernelspec": {
   "display_name": "Python 3",
   "language": "python",
   "name": "python3"
  },
  "language_info": {
   "codemirror_mode": {
    "name": "ipython",
    "version": 3
   },
   "file_extension": ".py",
   "mimetype": "text/x-python",
   "name": "python",
   "nbconvert_exporter": "python",
   "pygments_lexer": "ipython3",
   "version": "3.8.5"
  }
 },
 "nbformat": 4,
 "nbformat_minor": 4
}
