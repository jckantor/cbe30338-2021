{
 "cells": [
  {
   "cell_type": "markdown",
   "metadata": {},
   "source": [
    "# [cbe30338-2021](https://jckantor.github.io/cbe30338-2021)\n",
    "\n",
    "## Index of Data files in this Repository\n",
    "\n",
    "### Model_Data.csv\n",
    "![Model_Data.csv](data/Model_Data.csv)\n",
    "* [2.3.2.5 Estimating $\\alpha$](https://jckantor.github.io/cbe30338-2021/02.03-First-Order-Model-for-a-Single-Heater.html#2.3.2.5-Estimating-$\\alpha$)\n",
    "* [2.3.3 Matching the Model to Experimental Data](https://jckantor.github.io/cbe30338-2021/02.03-First-Order-Model-for-a-Single-Heater.html#2.3.3-Matching-the-Model-to-Experimental-Data)\n",
    "* [2.4.1.1 Read data into a Pandas DataFrame](https://jckantor.github.io/cbe30338-2021/02.04-Model-Identification.html#2.4.1.1-Read-data-into-a-Pandas-DataFrame)\n",
    "\n",
    "### saved_data.csv\n",
    "![saved_data.csv](data/saved_data.csv)\n",
    "* [4.1.2.2.1 Saving to a file](https://jckantor.github.io/cbe30338-2021/04.01-Process-Historians.html#4.1.2.2.1-Saving-to-a-file)"
   ]
  }
 ],
 "metadata": {},
 "nbformat": 4,
 "nbformat_minor": 4
}
