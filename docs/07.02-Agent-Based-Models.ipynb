{
 "cells": [
  {
   "cell_type": "markdown",
   "metadata": {},
   "source": [
    "<!--NOTEBOOK_HEADER-->\n",
    "*This notebook contains material from [cbe30338-2021](https://jckantor.github.io/cbe30338-2021);\n",
    "content is available [on Github](https://github.com/jckantor/cbe30338-2021.git).*\n"
   ]
  },
  {
   "cell_type": "markdown",
   "metadata": {},
   "source": [
    "<!--NAVIGATION-->\n",
    "< [7.1 Introduction to Simpy](https://jckantor.github.io/cbe30338-2021/07.01-Introduction-to-Simpy.html) | [Contents](toc.html) | [Tag Index](tag_index.html) | [7.2 Ready to Roomba](https://jckantor.github.io/cbe30338-2021/07.02-Ready-to-Roomba.html) ><p><a href=\"https://colab.research.google.com/github/jckantor/cbe30338-2021/blob/master/docs/07.02-Agent-Based-Models.ipynb\"> <img align=\"left\" src=\"https://colab.research.google.com/assets/colab-badge.svg\" alt=\"Open in Colab\" title=\"Open in Google Colaboratory\"></a><p><a href=\"https://jckantor.github.io/cbe30338-2021/07.02-Agent-Based-Models.ipynb\"> <img align=\"left\" src=\"https://img.shields.io/badge/Github-Download-blue.svg\" alt=\"Download\" title=\"Download Notebook\"></a>"
   ]
  },
  {
   "cell_type": "markdown",
   "metadata": {
    "nbpages": {
     "level": 1,
     "link": "[7.2 Agent Based Models](https://jckantor.github.io/cbe30338-2021/07.02-Agent-Based-Models.html#7.2-Agent-Based-Models)",
     "section": "7.2 Agent Based Models"
    }
   },
   "source": [
    "# 7.2 Agent Based Models"
   ]
  },
  {
   "cell_type": "code",
   "execution_count": 1,
   "metadata": {
    "colab": {
     "base_uri": "https://localhost:8080/"
    },
    "executionInfo": {
     "elapsed": 4412,
     "status": "ok",
     "timestamp": 1620138180032,
     "user": {
      "displayName": "Jeffrey Kantor",
      "photoUrl": "https://lh3.googleusercontent.com/a-/AOh14Gg_n8V7bVINy02QRuRgOoMo11Ri7NKU3OUKdC1bkQ=s64",
      "userId": "09038942003589296665"
     },
     "user_tz": 240
    },
    "id": "a545_3MHv8yQ",
    "nbpages": {
     "level": 1,
     "link": "[7.2 Agent Based Models](https://jckantor.github.io/cbe30338-2021/07.02-Agent-Based-Models.html#7.2-Agent-Based-Models)",
     "section": "7.2 Agent Based Models"
    },
    "outputId": "d8fc0dba-f199-4efe-f788-d5a45598dc0b"
   },
   "outputs": [
    {
     "name": "stdout",
     "output_type": "stream",
     "text": [
      "Collecting simpy\n",
      "  Downloading https://files.pythonhosted.org/packages/20/f9/874b0bab83406827db93292a5bbe5acb5c18e3cea665b2f6e053292cb687/simpy-4.0.1-py2.py3-none-any.whl\n",
      "Installing collected packages: simpy\n",
      "Successfully installed simpy-4.0.1\n"
     ]
    }
   ],
   "source": [
    "!pip install simpy"
   ]
  },
  {
   "cell_type": "markdown",
   "metadata": {
    "id": "AqtywOQFwL4C",
    "nbpages": {
     "level": 2,
     "link": "[7.2.1 Simpy: What we have learned so far](https://jckantor.github.io/cbe30338-2021/07.02-Agent-Based-Models.html#7.2.1-Simpy:-What-we-have-learned-so-far)",
     "section": "7.2.1 Simpy: What we have learned so far"
    }
   },
   "source": [
    "## 7.2.1 Simpy: What we have learned so far\n",
    "\n",
    "* Simpy provides a simulation environment that manages discrete-event simulations\n",
    "* Use Python generators to model behavior of components of a larger system.\n",
    "* Register instances of generators with the simulation environment\n",
    "* Append \"who, what, value\" to a data log for post-processing \n",
    "\n",
    "\n",
    "What we will learn in this unit:\n",
    "\n",
    "* Modeling multiple units\n",
    "* Modeling a shared resource\n",
    "* Extracting data from a data log\n"
   ]
  },
  {
   "cell_type": "markdown",
   "metadata": {
    "id": "7-gQUafjwL4C",
    "nbpages": {
     "level": 2,
     "link": "[7.2.2 Example: A room full of Roombas](https://jckantor.github.io/cbe30338-2021/07.02-Agent-Based-Models.html#7.2.2-Example:-A-room-full-of-Roombas)",
     "section": "7.2.2 Example: A room full of Roombas"
    }
   },
   "source": [
    "## 7.2.2 Example: A room full of Roombas\n",
    "\n",
    "Let's imagine a large facility that is being cleaned by a collection of Roomba-type robotic cleaning units.  Each unit is characterized by time required to charge, and an amount of time it can clean before needing to be recharged. The facility must be cleaned during a 16 hour overnight shift. On average, 3 units must be operating continuously to meet the cleaning requirements, i.e., 3 x 16 = 48 hours machine cleaning each night. We would like to determine how many charging stations will be required.\n",
    "\n",
    "| Unit | Charge Time (hrs) | Clean Time (hrs) |\n",
    "| :--: | :--: | :--: |\n",
    "| A | 1.0 | 2.5 |\n",
    "| B | 0.5 | 1.5 |\n",
    "| C | 0.8 | 2.0 |\n",
    "| D | 1.4 | 3.5 |\n",
    "| E | 0.5 | 1.2 |"
   ]
  },
  {
   "cell_type": "markdown",
   "metadata": {
    "id": "ORPgR5J0wL4D",
    "nbpages": {
     "level": 2,
     "link": "[7.2.2 Example: A room full of Roombas](https://jckantor.github.io/cbe30338-2021/07.02-Agent-Based-Models.html#7.2.2-Example:-A-room-full-of-Roombas)",
     "section": "7.2.2 Example: A room full of Roombas"
    }
   },
   "source": [
    "![roomba](https://upload.wikimedia.org/wikipedia/commons/2/27/%D0%A0%D0%BE%D0%B1%D0%BE%D1%82_%D0%BF%D1%8B%D0%BB%D0%B5%D1%81%D0%BE%D1%81_Roomba_780.jpg)"
   ]
  },
  {
   "cell_type": "markdown",
   "metadata": {
    "id": "nxpGoykL3Qsm",
    "nbpages": {
     "level": 2,
     "link": "[7.2.3 One Roomba Model](https://jckantor.github.io/cbe30338-2021/07.02-Agent-Based-Models.html#7.2.3-One-Roomba-Model)",
     "section": "7.2.3 One Roomba Model"
    }
   },
   "source": [
    "## 7.2.3 One Roomba Model"
   ]
  },
  {
   "cell_type": "code",
   "execution_count": 2,
   "metadata": {
    "colab": {
     "base_uri": "https://localhost:8080/",
     "height": 204
    },
    "executionInfo": {
     "elapsed": 434,
     "status": "ok",
     "timestamp": 1620138229121,
     "user": {
      "displayName": "Jeffrey Kantor",
      "photoUrl": "https://lh3.googleusercontent.com/a-/AOh14Gg_n8V7bVINy02QRuRgOoMo11Ri7NKU3OUKdC1bkQ=s64",
      "userId": "09038942003589296665"
     },
     "user_tz": 240
    },
    "id": "OUG61n39wL4D",
    "nbpages": {
     "level": 2,
     "link": "[7.2.3 One Roomba Model](https://jckantor.github.io/cbe30338-2021/07.02-Agent-Based-Models.html#7.2.3-One-Roomba-Model)",
     "section": "7.2.3 One Roomba Model"
    },
    "outputId": "2ab0e7a4-ecf9-40c2-aa5d-07b33baf1f60"
   },
   "outputs": [
    {
     "data": {
      "text/html": [
       "<div>\n",
       "<style scoped>\n",
       "    .dataframe tbody tr th:only-of-type {\n",
       "        vertical-align: middle;\n",
       "    }\n",
       "\n",
       "    .dataframe tbody tr th {\n",
       "        vertical-align: top;\n",
       "    }\n",
       "\n",
       "    .dataframe thead th {\n",
       "        text-align: right;\n",
       "    }\n",
       "</style>\n",
       "<table border=\"1\" class=\"dataframe\">\n",
       "  <thead>\n",
       "    <tr style=\"text-align: right;\">\n",
       "      <th></th>\n",
       "      <th>id</th>\n",
       "      <th>charge_time</th>\n",
       "      <th>clean_time</th>\n",
       "    </tr>\n",
       "  </thead>\n",
       "  <tbody>\n",
       "    <tr>\n",
       "      <th>0</th>\n",
       "      <td>A</td>\n",
       "      <td>1.0</td>\n",
       "      <td>2.5</td>\n",
       "    </tr>\n",
       "    <tr>\n",
       "      <th>1</th>\n",
       "      <td>B</td>\n",
       "      <td>0.5</td>\n",
       "      <td>1.5</td>\n",
       "    </tr>\n",
       "    <tr>\n",
       "      <th>2</th>\n",
       "      <td>C</td>\n",
       "      <td>0.8</td>\n",
       "      <td>2.0</td>\n",
       "    </tr>\n",
       "    <tr>\n",
       "      <th>3</th>\n",
       "      <td>D</td>\n",
       "      <td>1.4</td>\n",
       "      <td>3.5</td>\n",
       "    </tr>\n",
       "    <tr>\n",
       "      <th>4</th>\n",
       "      <td>E</td>\n",
       "      <td>0.5</td>\n",
       "      <td>1.2</td>\n",
       "    </tr>\n",
       "  </tbody>\n",
       "</table>\n",
       "</div>"
      ],
      "text/plain": [
       "  id  charge_time  clean_time\n",
       "0  A          1.0         2.5\n",
       "1  B          0.5         1.5\n",
       "2  C          0.8         2.0\n",
       "3  D          1.4         3.5\n",
       "4  E          0.5         1.2"
      ]
     },
     "execution_count": 2,
     "metadata": {
      "tags": []
     },
     "output_type": "execute_result"
    }
   ],
   "source": [
    "import pandas as pd\n",
    "\n",
    "roomba_data = [\n",
    "    [\"A\", 1.0, 2.5],\n",
    "    [\"B\", 0.5, 1.5],\n",
    "    [\"C\", 0.8, 2.0],\n",
    "    [\"D\", 1.4, 3.5],\n",
    "    [\"E\", 0.5, 1.2],\n",
    "]\n",
    "\n",
    "roomba_df = pd.DataFrame(roomba_data, columns=[\"id\", \"charge_time\", \"clean_time\"])\n",
    "roomba_df"
   ]
  },
  {
   "cell_type": "code",
   "execution_count": null,
   "metadata": {
    "id": "g3QUoTdKw3uc",
    "nbpages": {
     "level": 2,
     "link": "[7.2.3 One Roomba Model](https://jckantor.github.io/cbe30338-2021/07.02-Agent-Based-Models.html#7.2.3-One-Roomba-Model)",
     "section": "7.2.3 One Roomba Model"
    }
   },
   "outputs": [],
   "source": [
    "import simpy\n",
    "import pandas as pd\n",
    "\n",
    "data_log = []\n",
    "\n",
    "def roomba(id, charge_time, clean_time):\n",
    "    pass\n",
    "\n",
    "\n",
    "\n",
    "\n",
    "env = simpy.Environment()\n",
    "\n",
    "env.run(until=16)\n",
    "\n",
    "# convert the data_log to a Pandas DataFrame and display\n",
    "df = pd.DataFrame(data_log, columns=[\"id\", \"event\", \"begin\", \"end\"])\n",
    "display(df)\n"
   ]
  },
  {
   "cell_type": "markdown",
   "metadata": {
    "id": "FrNSl_cq5JS9",
    "nbpages": {
     "level": 2,
     "link": "[7.2.3 One Roomba Model](https://jckantor.github.io/cbe30338-2021/07.02-Agent-Based-Models.html#7.2.3-One-Roomba-Model)",
     "section": "7.2.3 One Roomba Model"
    }
   },
   "source": []
  },
  {
   "cell_type": "markdown",
   "metadata": {
    "id": "lEPEZDua3WYb",
    "nbpages": {
     "level": 2,
     "link": "[7.2.4 Multiple Roombas](https://jckantor.github.io/cbe30338-2021/07.02-Agent-Based-Models.html#7.2.4-Multiple-Roombas)",
     "section": "7.2.4 Multiple Roombas"
    }
   },
   "source": [
    "## 7.2.4 Multiple Roombas"
   ]
  },
  {
   "cell_type": "code",
   "execution_count": null,
   "metadata": {
    "id": "yr1VjjRq3VaC",
    "nbpages": {
     "level": 2,
     "link": "[7.2.4 Multiple Roombas](https://jckantor.github.io/cbe30338-2021/07.02-Agent-Based-Models.html#7.2.4-Multiple-Roombas)",
     "section": "7.2.4 Multiple Roombas"
    }
   },
   "outputs": [],
   "source": []
  },
  {
   "cell_type": "markdown",
   "metadata": {
    "id": "iMSdgJjj4Ul3",
    "nbpages": {
     "level": 2,
     "link": "[7.2.5 Shared Resources](https://jckantor.github.io/cbe30338-2021/07.02-Agent-Based-Models.html#7.2.5-Shared-Resources)",
     "section": "7.2.5 Shared Resources"
    }
   },
   "source": [
    "## 7.2.5 Shared Resources"
   ]
  },
  {
   "cell_type": "code",
   "execution_count": null,
   "metadata": {
    "id": "Bxes1O4L4WDv",
    "nbpages": {
     "level": 2,
     "link": "[7.2.5 Shared Resources](https://jckantor.github.io/cbe30338-2021/07.02-Agent-Based-Models.html#7.2.5-Shared-Resources)",
     "section": "7.2.5 Shared Resources"
    }
   },
   "outputs": [],
   "source": []
  },
  {
   "cell_type": "markdown",
   "metadata": {},
   "source": [
    "<!--NAVIGATION-->\n",
    "< [7.1 Introduction to Simpy](https://jckantor.github.io/cbe30338-2021/07.01-Introduction-to-Simpy.html) | [Contents](toc.html) | [Tag Index](tag_index.html) | [7.2 Ready to Roomba](https://jckantor.github.io/cbe30338-2021/07.02-Ready-to-Roomba.html) ><p><a href=\"https://colab.research.google.com/github/jckantor/cbe30338-2021/blob/master/docs/07.02-Agent-Based-Models.ipynb\"> <img align=\"left\" src=\"https://colab.research.google.com/assets/colab-badge.svg\" alt=\"Open in Colab\" title=\"Open in Google Colaboratory\"></a><p><a href=\"https://jckantor.github.io/cbe30338-2021/07.02-Agent-Based-Models.ipynb\"> <img align=\"left\" src=\"https://img.shields.io/badge/Github-Download-blue.svg\" alt=\"Download\" title=\"Download Notebook\"></a>"
   ]
  }
 ],
 "metadata": {
  "colab": {
   "authorship_tag": "ABX9TyN9XJTAgGZDf1Bsh/PU8PVx",
   "collapsed_sections": [],
   "name": "07.05-Agent-Based-Models.ipynb",
   "provenance": []
  },
  "kernelspec": {
   "display_name": "Python 3",
   "language": "python",
   "name": "python3"
  },
  "language_info": {
   "codemirror_mode": {
    "name": "ipython",
    "version": 3
   },
   "file_extension": ".py",
   "mimetype": "text/x-python",
   "name": "python",
   "nbconvert_exporter": "python",
   "pygments_lexer": "ipython3",
   "version": "3.8.5"
  }
 },
 "nbformat": 4,
 "nbformat_minor": 4
}
