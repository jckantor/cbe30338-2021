{
 "cells": [
  {
   "cell_type": "markdown",
   "metadata": {
    "id": "0LK2EfX4lq-4",
    "nbpages": {
     "level": 0,
     "link": "[](https://jckantor.github.io/cbe30338-2021/06.04-Predictive-Control-2.html)",
     "section": ""
    }
   },
   "source": [
    "<!--NOTEBOOK_HEADER-->\n",
    "*This notebook contains material from [cbe30338-2021](https://jckantor.github.io/cbe30338-2021);\n",
    "content is available [on Github](https://github.com/jckantor/cbe30338-2021.git).*\n"
   ]
  },
  {
   "cell_type": "markdown",
   "metadata": {
    "id": "eCfL4gSqlq-_",
    "nbpages": {
     "level": 0,
     "link": "[](https://jckantor.github.io/cbe30338-2021/06.04-Predictive-Control-2.html)",
     "section": ""
    }
   },
   "source": [
    "<!--NAVIGATION-->\n",
    "< [6.3  Predictive Control](https://jckantor.github.io/cbe30338-2021/06.03-Predictive-Control.html) | [Contents](toc.html) | [Tag Index](tag_index.html) | [7.0 Projects](https://jckantor.github.io/cbe30338-2021/07.00-Projects.html) ><p><a href=\"https://colab.research.google.com/github/jckantor/cbe30338-2021/blob/master/docs/06.04-Predictive-Control-2.ipynb\"> <img align=\"left\" src=\"https://colab.research.google.com/assets/colab-badge.svg\" alt=\"Open in Colab\" title=\"Open in Google Colaboratory\"></a><p><a href=\"https://jckantor.github.io/cbe30338-2021/06.04-Predictive-Control-2.ipynb\"> <img align=\"left\" src=\"https://img.shields.io/badge/Github-Download-blue.svg\" alt=\"Download\" title=\"Download Notebook\"></a>"
   ]
  },
  {
   "cell_type": "markdown",
   "metadata": {
    "id": "MchKwOJOlq_A",
    "nbpages": {
     "level": 1,
     "link": "[6.4  Predictive Control](https://jckantor.github.io/cbe30338-2021/06.04-Predictive-Control-2.html#6.4-Predictive-Control)",
     "section": "6.4  Predictive Control"
    }
   },
   "source": [
    "# 6.4  Predictive Control\n"
   ]
  },
  {
   "cell_type": "markdown",
   "metadata": {
    "id": "gsSqgmyilq_B",
    "nbpages": {
     "level": 3,
     "link": "[6.4.1 Model](https://jckantor.github.io/cbe30338-2021/06.04-Predictive-Control-2.html#6.4.1-Model)",
     "section": "6.4.1 Model"
    }
   },
   "source": [
    "### 6.4.1 Model\n",
    "\n",
    "We will use the two-state model for a single heater/sensor assembly for the calculations that follow.\n",
    "\n",
    "\\begin{align}\n",
    "C^H_p\\frac{dT_{H,1}}{dt} & = U_a(T_{amb} - T_{H,1}) + U_b(T_{S,1} - T_{H,1}) + \\alpha P_1 u_1\\\\\n",
    "C^S_p\\frac{dT_{S,1}}{dt} & = U_b(T_{H,1} - T_{S,1}) \n",
    "\\end{align}\n",
    "\n",
    "The model is recast into linear state space form as\n",
    "\n",
    "\\begin{align}\n",
    "\\frac{dx}{dt} & = A x + B_u u + B_d d \\\\\n",
    "y & = C x\n",
    "\\end{align}\n",
    "\n",
    "where\n",
    "\n",
    "$$x = \\begin{bmatrix} T_{H,1} \\\\ T_{S,1} \\end{bmatrix}\n",
    "\\qquad\n",
    "u = \\begin{bmatrix} u_1 \\end{bmatrix}\n",
    "\\qquad\n",
    "d = \\begin{bmatrix} T_{amb} \\end{bmatrix}\n",
    "\\qquad\n",
    "y = \\begin{bmatrix} T_{S,1} \\end{bmatrix}$$\n",
    "\n",
    "and\n",
    "\n",
    "$$A = \\begin{bmatrix} -\\frac{U_a+U_b}{C^H_p} & \\frac{U_b}{C^H_p} \\\\ \\frac{U_b}{C^S_p} & -\\frac{U_b}{C^S_p} \\end{bmatrix}\n",
    "\\qquad\n",
    "B_u = \\begin{bmatrix} \\frac{\\alpha P_1}{C^H_p} \\\\ 0 \\end{bmatrix}\n",
    "\\qquad\n",
    "B_d = \\begin{bmatrix} \\frac{U_a}{C_p^H} \\\\ 0 \\end{bmatrix}\n",
    "\\qquad\n",
    "C = \\begin{bmatrix} 0 & 1 \\end{bmatrix}$$\n"
   ]
  },
  {
   "cell_type": "markdown",
   "metadata": {
    "id": "ztXe8jjMlq_H",
    "nbpages": {
     "level": 2,
     "link": "[6.4.1 Feedforward Optimal Control](https://jckantor.github.io/cbe30338-2021/06.04-Predictive-Control-2.html#6.4.1-Feedforward-Optimal-Control)",
     "section": "6.4.1 Feedforward Optimal Control"
    }
   },
   "source": [
    "## 6.4.1 Feedforward Optimal Control\n",
    "\n",
    "An optimal control policy minimizes the differences\n",
    "\n",
    "\\begin{align*}\n",
    "\\min_{u} \\int_{t_0}^{t_f} \\|T_H^{SP}(t) - T_H(t)\\|^2\\,dt \\\\\n",
    "\\end{align*}\n",
    "\n",
    "subject to constraints\n",
    "\n",
    "\\begin{align*}\n",
    "C_p^H \\frac{dT_H}{dt} & = U_a (T_{amb} - T_H) + U_c (T_S - T_H) + P u(t) + d(t)\\\\\n",
    "C_p^S \\frac{dT_S}{dt} & = - U_c (T_S - T_H) \n",
    "\\end{align*}\n",
    "\n",
    "initial conditions\n",
    "\n",
    "\\begin{align*}\n",
    "T_H(t_0) & = T_{amb} \\\\\n",
    "T_S(t_0) & = T_{amb}\n",
    "\\end{align*}\n",
    "\n",
    "and prior knowledge of $d(t)$."
   ]
  },
  {
   "cell_type": "markdown",
   "metadata": {
    "nbpages": {
     "level": 2,
     "link": "[6.4.2 Adapting for use in a Feedback Loop](https://jckantor.github.io/cbe30338-2021/06.04-Predictive-Control-2.html#6.4.2-Adapting-for-use-in-a-Feedback-Loop)",
     "section": "6.4.2 Adapting for use in a Feedback Loop"
    }
   },
   "source": [
    "## 6.4.2 Adapting for use in a Feedback Loop\n",
    "\n",
    "The problem with feedforward control is that it makes no use of measurements and information that become availiable in the course of normal operation. The necessary adaptations are:\n",
    "\n",
    "1. Assume knowledge of the state is available to establish initial conditions for the optimal control calculation. We'll use an observer to make this possible.\n",
    "\n",
    "2. We need to assume something about future values of the setpoint. We will assume the current SP value will be constant into the future.\n",
    "\n",
    "3. We need to know future values of the disturbance. We will assume the disturbance is constant and that we have a current estimate.\n",
    "\n"
   ]
  },
  {
   "cell_type": "code",
   "execution_count": 2,
   "metadata": {
    "id": "BFMFRXBQmEMy",
    "nbpages": {
     "level": 2,
     "link": "[6.4.2 Adapting for use in a Feedback Loop](https://jckantor.github.io/cbe30338-2021/06.04-Predictive-Control-2.html#6.4.2-Adapting-for-use-in-a-Feedback-Loop)",
     "section": "6.4.2 Adapting for use in a Feedback Loop"
    }
   },
   "outputs": [],
   "source": [
    "%matplotlib inline\n",
    "import matplotlib.pyplot as plt\n",
    "import numpy as np\n",
    "import cvxpy as cp\n",
    "\n",
    "# parameter estimates.\n",
    "alpha = 0.00016       # watts / (units P * percent U1)\n",
    "P1 = 200              # P units\n",
    "P2 = 100              # P units\n",
    "Ua = 0.050            # heat transfer coefficient from heater to environment\n",
    "CpH = 2.2             # heat capacity of the heater (J/deg C)\n",
    "CpS = 1.9             # heat capacity of the sensor (J/deg C)\n",
    "Ub = 0.021            # heat transfer coefficient from heater to sensor\n",
    "\n",
    "# state space model\n",
    "A = np.array([[-(Ua + Ub)/CpH, Ub/CpH], [Ub/CpS, -Ub/CpS]])\n",
    "Bu = np.array([[alpha*P1/CpH], [0]])     # single column\n",
    "Bd = np.array([[Ua/CpH], [0]])           # single column\n",
    "C = np.array([[0, 1]])                   # single row\n",
    "\n",
    "Tamb = 20"
   ]
  },
  {
   "cell_type": "markdown",
   "metadata": {
    "nbpages": {
     "level": 2,
     "link": "[6.4.3 TCLab Event Loop](https://jckantor.github.io/cbe30338-2021/06.04-Predictive-Control-2.html#6.4.3-TCLab-Event-Loop)",
     "section": "6.4.3 TCLab Event Loop"
    }
   },
   "source": [
    "## 6.4.3 TCLab Event Loop\n",
    "\n",
    "Borrowing from notebook 4.6."
   ]
  },
  {
   "cell_type": "code",
   "execution_count": 3,
   "metadata": {
    "nbpages": {
     "level": 2,
     "link": "[6.4.3 TCLab Event Loop](https://jckantor.github.io/cbe30338-2021/06.04-Predictive-Control-2.html#6.4.3-TCLab-Event-Loop)",
     "section": "6.4.3 TCLab Event Loop"
    }
   },
   "outputs": [],
   "source": [
    "# Relay Control\n",
    "def relay(MV_min, MV_max):\n",
    "    MV = MV_min\n",
    "    while True:\n",
    "        SP, PV = yield MV\n",
    "        MV = MV_max if PV < SP else MV_min"
   ]
  },
  {
   "cell_type": "code",
   "execution_count": 4,
   "metadata": {
    "nbpages": {
     "level": 2,
     "link": "[6.4.3 TCLab Event Loop](https://jckantor.github.io/cbe30338-2021/06.04-Predictive-Control-2.html#6.4.3-TCLab-Event-Loop)",
     "section": "6.4.3 TCLab Event Loop"
    }
   },
   "outputs": [],
   "source": [
    "def tclab_observer(L, t_now=0, x_hat=[Tamb, Tamb], d_hat=[Tamb]):\n",
    "    \n",
    "    while True:\n",
    "        # yield current state, get MV for next period\n",
    "        t_next, Q, T_measured = yield x_hat\n",
    "        \n",
    "        # model prediction\n",
    "        x_predict = x_hat + (t_next - t_now)*(A@x_hat + Bu@[Q] + Bd@d_hat)\n",
    "        \n",
    "        # measurement correction\n",
    "        y = np.array([T_measured])\n",
    "        x_hat = x_predict - (t_next - t_now)*np.dot(L, np.dot(C, x_predict) - y)\n",
    "        t_now = t_next"
   ]
  },
  {
   "cell_type": "code",
   "execution_count": 5,
   "metadata": {
    "nbpages": {
     "level": 2,
     "link": "[6.4.3 TCLab Event Loop](https://jckantor.github.io/cbe30338-2021/06.04-Predictive-Control-2.html#6.4.3-TCLab-Event-Loop)",
     "section": "6.4.3 TCLab Event Loop"
    }
   },
   "outputs": [
    {
     "data": {
      "image/png": "[encoded data removed]",
      "text/plain": [
       "<Figure size 640x240 with 2 Axes>"
      ]
     },
     "metadata": {},
     "output_type": "display_data"
    },
    {
     "name": "stdout",
     "output_type": "stream",
     "text": [
      "TCLab Model disconnected successfully.\n"
     ]
    },
    {
     "data": {
      "image/png": "[encoded data removed]",
      "text/plain": [
       "<Figure size 640x240 with 2 Axes>"
      ]
     },
     "metadata": {
      "needs_background": "light"
     },
     "output_type": "display_data"
    }
   ],
   "source": [
    "from tclab import setup, clock, Historian, Plotter\n",
    "\n",
    "Tamb = 21\n",
    "SP = 45\n",
    "\n",
    "t_final = 300\n",
    "t_step = 2\n",
    "\n",
    "# create a controller instance\n",
    "controller = relay(0, 80)\n",
    "U1 = next(controller)\n",
    "\n",
    "# create estimator instance\n",
    "L = np.array([[0.4], [0.2]])\n",
    "observer = tclab_observer(L)\n",
    "Th, Ts = next(observer)\n",
    "\n",
    "# execute the event loop\n",
    "TCLab = setup(connected=False, speedup=20)\n",
    "with TCLab() as lab:\n",
    "    h = Historian([('SP', lambda: SP), \n",
    "                   ('T1', lambda: lab.T1), \n",
    "                   ('Q1', lab.Q1), \n",
    "                   ('Th', lambda: Th), \n",
    "                   ('Ts', lambda: Ts)])\n",
    "    p = Plotter(h, t_final, layout=[['T1','Ts','Th', 'SP'], ['Q1']])\n",
    "    for t in clock(t_final, t_step):\n",
    "        T1 = lab.T1 \n",
    "        Th, Ts = observer.send([t, U1, T1])\n",
    "        U1 = controller.send([SP, Ts])\n",
    "        lab.Q1(U1)\n",
    "        p.update(t)"
   ]
  },
  {
   "cell_type": "markdown",
   "metadata": {
    "nbpages": {
     "level": 2,
     "link": "[6.4.4 What do we need for Predictive Control?](https://jckantor.github.io/cbe30338-2021/06.04-Predictive-Control-2.html#6.4.4-What-do-we-need-for-Predictive-Control?)",
     "section": "6.4.4 What do we need for Predictive Control?"
    }
   },
   "source": [
    "## 6.4.4 What do we need for Predictive Control?"
   ]
  },
  {
   "cell_type": "code",
   "execution_count": 11,
   "metadata": {
    "colab": {
     "base_uri": "https://localhost:8080/",
     "height": 441
    },
    "executionInfo": {
     "elapsed": 6186,
     "status": "ok",
     "timestamp": 1618928059293,
     "user": {
      "displayName": "",
      "photoUrl": "",
      "userId": ""
     },
     "user_tz": 240
    },
    "id": "7c6IY7rolxul",
    "nbpages": {
     "level": 2,
     "link": "[6.4.4 What do we need for Predictive Control?](https://jckantor.github.io/cbe30338-2021/06.04-Predictive-Control-2.html#6.4.4-What-do-we-need-for-Predictive-Control?)",
     "section": "6.4.4 What do we need for Predictive Control?"
    },
    "outputId": "501e7233-58ea-4357-d2b7-ac4691463cf5"
   },
   "outputs": [
    {
     "ename": "NameError",
     "evalue": "name 'r' is not defined",
     "output_type": "error",
     "traceback": [
      "\u001b[0;31m---------------------------------------------------------------------------\u001b[0m",
      "\u001b[0;31mNameError\u001b[0m                                 Traceback (most recent call last)",
      "\u001b[0;32m<ipython-input-11-505aa1773e7b>\u001b[0m in \u001b[0;36m<module>\u001b[0;34m\u001b[0m\n\u001b[1;32m     13\u001b[0m \u001b[0;34m\u001b[0m\u001b[0m\n\u001b[1;32m     14\u001b[0m \u001b[0;31m# least-squares optimization objective\u001b[0m\u001b[0;34m\u001b[0m\u001b[0;34m\u001b[0m\u001b[0;34m\u001b[0m\u001b[0m\n\u001b[0;32m---> 15\u001b[0;31m \u001b[0mobjective\u001b[0m \u001b[0;34m=\u001b[0m \u001b[0mcp\u001b[0m\u001b[0;34m.\u001b[0m\u001b[0mMinimize\u001b[0m\u001b[0;34m(\u001b[0m\u001b[0msum\u001b[0m\u001b[0;34m(\u001b[0m\u001b[0;34m(\u001b[0m\u001b[0my\u001b[0m\u001b[0;34m[\u001b[0m\u001b[0mt\u001b[0m\u001b[0;34m]\u001b[0m\u001b[0;34m-\u001b[0m\u001b[0mr\u001b[0m\u001b[0;34m(\u001b[0m\u001b[0mt\u001b[0m\u001b[0;34m)\u001b[0m\u001b[0;34m)\u001b[0m\u001b[0;34m**\u001b[0m\u001b[0;36m2\u001b[0m \u001b[0;32mfor\u001b[0m \u001b[0mt\u001b[0m \u001b[0;32min\u001b[0m \u001b[0mt_grid\u001b[0m\u001b[0;34m)\u001b[0m\u001b[0;34m)\u001b[0m\u001b[0;34m\u001b[0m\u001b[0;34m\u001b[0m\u001b[0m\n\u001b[0m\u001b[1;32m     16\u001b[0m \u001b[0;34m\u001b[0m\u001b[0m\n\u001b[1;32m     17\u001b[0m \u001b[0mmodel\u001b[0m \u001b[0;34m=\u001b[0m \u001b[0;34m[\u001b[0m\u001b[0mx\u001b[0m\u001b[0;34m[\u001b[0m\u001b[0mt\u001b[0m\u001b[0;34m]\u001b[0m \u001b[0;34m==\u001b[0m \u001b[0mx\u001b[0m\u001b[0;34m[\u001b[0m\u001b[0mt\u001b[0m\u001b[0;34m-\u001b[0m\u001b[0mdt\u001b[0m\u001b[0;34m]\u001b[0m \u001b[0;34m+\u001b[0m \u001b[0mdt\u001b[0m\u001b[0;34m*\u001b[0m\u001b[0;34m(\u001b[0m\u001b[0mA\u001b[0m\u001b[0;34m@\u001b[0m\u001b[0mx\u001b[0m\u001b[0;34m[\u001b[0m\u001b[0mt\u001b[0m\u001b[0;34m-\u001b[0m\u001b[0mdt\u001b[0m\u001b[0;34m]\u001b[0m \u001b[0;34m+\u001b[0m \u001b[0mBu\u001b[0m\u001b[0;34m@\u001b[0m\u001b[0mu\u001b[0m\u001b[0;34m[\u001b[0m\u001b[0mt\u001b[0m\u001b[0;34m-\u001b[0m\u001b[0mdt\u001b[0m\u001b[0;34m]\u001b[0m \u001b[0;34m+\u001b[0m \u001b[0mBd\u001b[0m\u001b[0;34m@\u001b[0m\u001b[0;34m[\u001b[0m\u001b[0md\u001b[0m\u001b[0;34m(\u001b[0m\u001b[0mt\u001b[0m\u001b[0;34m-\u001b[0m\u001b[0mdt\u001b[0m\u001b[0;34m)\u001b[0m\u001b[0;34m]\u001b[0m\u001b[0;34m)\u001b[0m \u001b[0;32mfor\u001b[0m \u001b[0mt\u001b[0m \u001b[0;32min\u001b[0m \u001b[0mt_grid\u001b[0m\u001b[0;34m[\u001b[0m\u001b[0;36m1\u001b[0m\u001b[0;34m:\u001b[0m\u001b[0;34m]\u001b[0m\u001b[0;34m]\u001b[0m\u001b[0;34m\u001b[0m\u001b[0;34m\u001b[0m\u001b[0m\n",
      "\u001b[0;32m<ipython-input-11-505aa1773e7b>\u001b[0m in \u001b[0;36m<genexpr>\u001b[0;34m(.0)\u001b[0m\n\u001b[1;32m     13\u001b[0m \u001b[0;34m\u001b[0m\u001b[0m\n\u001b[1;32m     14\u001b[0m \u001b[0;31m# least-squares optimization objective\u001b[0m\u001b[0;34m\u001b[0m\u001b[0;34m\u001b[0m\u001b[0;34m\u001b[0m\u001b[0m\n\u001b[0;32m---> 15\u001b[0;31m \u001b[0mobjective\u001b[0m \u001b[0;34m=\u001b[0m \u001b[0mcp\u001b[0m\u001b[0;34m.\u001b[0m\u001b[0mMinimize\u001b[0m\u001b[0;34m(\u001b[0m\u001b[0msum\u001b[0m\u001b[0;34m(\u001b[0m\u001b[0;34m(\u001b[0m\u001b[0my\u001b[0m\u001b[0;34m[\u001b[0m\u001b[0mt\u001b[0m\u001b[0;34m]\u001b[0m\u001b[0;34m-\u001b[0m\u001b[0mr\u001b[0m\u001b[0;34m(\u001b[0m\u001b[0mt\u001b[0m\u001b[0;34m)\u001b[0m\u001b[0;34m)\u001b[0m\u001b[0;34m**\u001b[0m\u001b[0;36m2\u001b[0m \u001b[0;32mfor\u001b[0m \u001b[0mt\u001b[0m \u001b[0;32min\u001b[0m \u001b[0mt_grid\u001b[0m\u001b[0;34m)\u001b[0m\u001b[0;34m)\u001b[0m\u001b[0;34m\u001b[0m\u001b[0;34m\u001b[0m\u001b[0m\n\u001b[0m\u001b[1;32m     16\u001b[0m \u001b[0;34m\u001b[0m\u001b[0m\n\u001b[1;32m     17\u001b[0m \u001b[0mmodel\u001b[0m \u001b[0;34m=\u001b[0m \u001b[0;34m[\u001b[0m\u001b[0mx\u001b[0m\u001b[0;34m[\u001b[0m\u001b[0mt\u001b[0m\u001b[0;34m]\u001b[0m \u001b[0;34m==\u001b[0m \u001b[0mx\u001b[0m\u001b[0;34m[\u001b[0m\u001b[0mt\u001b[0m\u001b[0;34m-\u001b[0m\u001b[0mdt\u001b[0m\u001b[0;34m]\u001b[0m \u001b[0;34m+\u001b[0m \u001b[0mdt\u001b[0m\u001b[0;34m*\u001b[0m\u001b[0;34m(\u001b[0m\u001b[0mA\u001b[0m\u001b[0;34m@\u001b[0m\u001b[0mx\u001b[0m\u001b[0;34m[\u001b[0m\u001b[0mt\u001b[0m\u001b[0;34m-\u001b[0m\u001b[0mdt\u001b[0m\u001b[0;34m]\u001b[0m \u001b[0;34m+\u001b[0m \u001b[0mBu\u001b[0m\u001b[0;34m@\u001b[0m\u001b[0mu\u001b[0m\u001b[0;34m[\u001b[0m\u001b[0mt\u001b[0m\u001b[0;34m-\u001b[0m\u001b[0mdt\u001b[0m\u001b[0;34m]\u001b[0m \u001b[0;34m+\u001b[0m \u001b[0mBd\u001b[0m\u001b[0;34m@\u001b[0m\u001b[0;34m[\u001b[0m\u001b[0md\u001b[0m\u001b[0;34m(\u001b[0m\u001b[0mt\u001b[0m\u001b[0;34m-\u001b[0m\u001b[0mdt\u001b[0m\u001b[0;34m)\u001b[0m\u001b[0;34m]\u001b[0m\u001b[0;34m)\u001b[0m \u001b[0;32mfor\u001b[0m \u001b[0mt\u001b[0m \u001b[0;32min\u001b[0m \u001b[0mt_grid\u001b[0m\u001b[0;34m[\u001b[0m\u001b[0;36m1\u001b[0m\u001b[0;34m:\u001b[0m\u001b[0;34m]\u001b[0m\u001b[0;34m]\u001b[0m\u001b[0;34m\u001b[0m\u001b[0;34m\u001b[0m\u001b[0m\n",
      "\u001b[0;31mNameError\u001b[0m: name 'r' is not defined"
     ]
    }
   ],
   "source": [
    "Tamb = 21\n",
    "SP = 45\n",
    "\n",
    "t_horizon = 500\n",
    "dt = 2\n",
    "n = round(t_horizon/dt)\n",
    "t_grid = np.linspace(0, t_horizon, n+1)\n",
    "\n",
    "# add $u$ as a decision variable\n",
    "u = {t: cp.Variable(1, nonneg=True) for t in t_grid}\n",
    "x = {t: cp.Variable(2) for t in t_grid}\n",
    "y = {t: cp.Variable(1) for t in t_grid}\n",
    "\n",
    "# least-squares optimization objective\n",
    "objective = cp.Minimize(sum((y[t]-r(t))**2 for t in t_grid))\n",
    "\n",
    "model = [x[t] == x[t-dt] + dt*(A@x[t-dt] + Bu@u[t-dt] + Bd@[d(t-dt)]) for t in t_grid[1:]]\n",
    "output = [y[t] == C@x[t] for t in t_grid]\n",
    "inputs = [u[t] <= 100 for t in t_grid]\n",
    "IC = [x[0] == np.array([30, Tamb])]\n",
    "\n",
    "problem = cp.Problem(objective,  model + IC + output + inputs)\n",
    "problem.solve()\n",
    "\n",
    "# display solution\n",
    "fix, ax = plt.subplots(3, 1, figsize=(10,6), sharex=True)\n",
    "ax[0].plot(t_grid, [x[t][0].value  for t in t_grid], label=\"T_H\")\n",
    "ax[0].plot(t_grid, [x[t][1].value  for t in t_grid], label=\"T_S\")\n",
    "ax[0].plot(t_grid, [r(t) for t in t_grid], label=\"SP\")\n",
    "ax[0].set_ylabel(\"deg C\")\n",
    "ax[0].legend()\n",
    "ax[1].plot(t_grid, [u[t].value for t in t_grid], label=\"u(t)\")\n",
    "ax[1].set_ylabel(\"% of max power\")\n",
    "ax[2].plot(t_grid, [d(t) for t in t_grid], label=\"d(t)\")\n",
    "ax[2].set_ylabel(\"deg C\")\n",
    "for a in ax:\n",
    "    a.grid(True)\n",
    "    a.legend()\n",
    "plt.tight_layout()"
   ]
  },
  {
   "cell_type": "code",
   "execution_count": 110,
   "metadata": {
    "nbpages": {
     "level": 2,
     "link": "[6.4.4 What do we need for Predictive Control?](https://jckantor.github.io/cbe30338-2021/06.04-Predictive-Control-2.html#6.4.4-What-do-we-need-for-Predictive-Control?)",
     "section": "6.4.4 What do we need for Predictive Control?"
    }
   },
   "outputs": [],
   "source": [
    "\n",
    "def predictive_control(t_horizon=600, dt=2):\n",
    "    n = round(t_horizon/dt)\n",
    "    t_grid = np.linspace(0, t_horizon, n+1)\n",
    "    \n",
    "    u = {t: cp.Variable(1, nonneg=True) for t in t_grid}\n",
    "    x = {t: cp.Variable(2) for t in t_grid}\n",
    "    y = {t: cp.Variable(1) for t in t_grid}\n",
    "    output = [y[t] == C@x[t] for t in t_grid]\n",
    "    inputs = [u[t] <= 100 for t in t_grid]\n",
    "    model = [x[t] == x[t-dt] + dt*(A@x[t-dt] + Bu@u[t-dt] + Bd@[Tamb]) for t in t_grid[1:]]\n",
    "    MV = 0\n",
    "    \n",
    "    while True:\n",
    "        print(MV)\n",
    "        SP, Th, Ts = yield MV\n",
    "        objective = cp.Minimize(sum((y[t]-SP)**2 for t in t_grid))\n",
    "        IC = [x[0] == np.array([Th, Ts])]\n",
    "        problem = cp.Problem(objective,  model + IC + output + inputs)\n",
    "        problem.solve()\n",
    "        MV = u[0].value[0]"
   ]
  },
  {
   "cell_type": "code",
   "execution_count": 111,
   "metadata": {
    "nbpages": {
     "level": 2,
     "link": "[6.4.4 What do we need for Predictive Control?](https://jckantor.github.io/cbe30338-2021/06.04-Predictive-Control-2.html#6.4.4-What-do-we-need-for-Predictive-Control?)",
     "section": "6.4.4 What do we need for Predictive Control?"
    }
   },
   "outputs": [
    {
     "data": {
      "image/png": "[encoded data removed]",
      "text/plain": [
       "<Figure size 640x240 with 2 Axes>"
      ]
     },
     "metadata": {},
     "output_type": "display_data"
    },
    {
     "name": "stdout",
     "output_type": "stream",
     "text": [
      "TCLab Model disconnected successfully.\n"
     ]
    },
    {
     "data": {
      "image/png": "[encoded data removed]",
      "text/plain": [
       "<Figure size 640x240 with 2 Axes>"
      ]
     },
     "metadata": {
      "needs_background": "light"
     },
     "output_type": "display_data"
    }
   ],
   "source": [
    "t_final = 300\n",
    "t_step = 2\n",
    "\n",
    "# create a controller instance\n",
    "controller = predictive_control()\n",
    "U1 = next(controller)\n",
    "\n",
    "# create estimator instance\n",
    "L = np.array([[0.4], [0.2]])\n",
    "observer = tclab_observer(L)\n",
    "Th, Ts = next(observer)\n",
    "\n",
    "# execute the event loop\n",
    "TCLab = setup(connected=False, speedup=20)\n",
    "with TCLab() as lab:\n",
    "    h = Historian([('SP', lambda: SP), \n",
    "                   ('T1', lambda: lab.T1), \n",
    "                   ('Q1', lab.Q1), \n",
    "                   ('Th', lambda: Th), \n",
    "                   ('Ts', lambda: Ts)])\n",
    "    p = Plotter(h, t_final, layout=[['T1','Ts','Th', 'SP'], ['Q1']])\n",
    "    for t in clock(t_final, t_step):\n",
    "        T1 = lab.T1 \n",
    "        Th, Ts = observer.send([t, U1, T1])\n",
    "        U1 = controller.send([SP, Th, Ts])\n",
    "        lab.Q1(U1)\n",
    "        p.update(t)"
   ]
  },
  {
   "cell_type": "markdown",
   "metadata": {},
   "source": [
    "<!--NAVIGATION-->\n",
    "< [6.3  Predictive Control](https://jckantor.github.io/cbe30338-2021/06.03-Predictive-Control.html) | [Contents](toc.html) | [Tag Index](tag_index.html) | [7.0 Projects](https://jckantor.github.io/cbe30338-2021/07.00-Projects.html) ><p><a href=\"https://colab.research.google.com/github/jckantor/cbe30338-2021/blob/master/docs/06.04-Predictive-Control-2.ipynb\"> <img align=\"left\" src=\"https://colab.research.google.com/assets/colab-badge.svg\" alt=\"Open in Colab\" title=\"Open in Google Colaboratory\"></a><p><a href=\"https://jckantor.github.io/cbe30338-2021/06.04-Predictive-Control-2.ipynb\"> <img align=\"left\" src=\"https://img.shields.io/badge/Github-Download-blue.svg\" alt=\"Download\" title=\"Download Notebook\"></a>"
   ]
  }
 ],
 "metadata": {
  "colab": {
   "collapsed_sections": [],
   "name": "Predictive-Control.ipynb",
   "provenance": [
    {
     "file_id": "https://github.com/jckantor/cbe30338-2021/blob/master/docs/06.02-Simulation-and-Open-Loop-Optimal-Control.ipynb",
     "timestamp": 1618928532300
    }
   ]
  },
  "kernelspec": {
   "display_name": "Python 3",
   "language": "python",
   "name": "python3"
  },
  "language_info": {
   "codemirror_mode": {
    "name": "ipython",
    "version": 3
   },
   "file_extension": ".py",
   "mimetype": "text/x-python",
   "name": "python",
   "nbconvert_exporter": "python",
   "pygments_lexer": "ipython3",
   "version": "3.8.5"
  }
 },
 "nbformat": 4,
 "nbformat_minor": 4
}
