{
 "cells": [
  {
   "cell_type": "markdown",
   "metadata": {
    "nbpages": {
     "level": 0,
     "link": "[](https://jckantor.github.io/cbe30338-2021/03.02-Linear-Approximation-of-a-Process-Model.html)",
     "section": ""
    }
   },
   "source": [
    "<!--NOTEBOOK_HEADER-->\n",
    "*This notebook contains material from [cbe30338-2021](https://jckantor.github.io/cbe30338-2021);\n",
    "content is available [on Github](https://github.com/jckantor/cbe30338-2021.git).*\n"
   ]
  },
  {
   "cell_type": "markdown",
   "metadata": {
    "nbpages": {
     "level": 0,
     "link": "[](https://jckantor.github.io/cbe30338-2021/03.02-Linear-Approximation-of-a-Process-Model.html)",
     "section": ""
    }
   },
   "source": [
    "<!--NAVIGATION-->\n",
    "< [3.1 Step Response of a Gravity Drained Tank](https://jckantor.github.io/cbe30338-2021/03.01-Step-Response-of-a-Gravity-Drained-Tank.html) | [Contents](toc.html) | [Tag Index](tag_index.html) | [3.3 Linear Approximation of a Multivariable Model](https://jckantor.github.io/cbe30338-2021/03.03-Linear-Approximation-of-a-Multivariable-Model.html) ><p><a href=\"https://colab.research.google.com/github/jckantor/cbe30338-2021/blob/master/../cbe30338-2021/docs/03.02-Linear-Approximation-of-a-Process-Model.ipynb\"> <img align=\"left\" src=\"https://colab.research.google.com/assets/colab-badge.svg\" alt=\"Open in Colab\" title=\"Open in Google Colaboratory\"></a><p><a href=\"https://jckantor.github.io/cbe30338-2021/03.02-Linear-Approximation-of-a-Process-Model.ipynb\"> <img align=\"left\" src=\"https://img.shields.io/badge/Github-Download-blue.svg\" alt=\"Download\" title=\"Download Notebook\"></a>"
   ]
  },
  {
   "cell_type": "markdown",
   "metadata": {
    "nbpages": {
     "level": 1,
     "link": "[3.2 Linear Approximation of a Process Model](https://jckantor.github.io/cbe30338-2021/03.02-Linear-Approximation-of-a-Process-Model.html#3.2-Linear-Approximation-of-a-Process-Model)",
     "section": "3.2 Linear Approximation of a Process Model"
    }
   },
   "source": [
    "# 3.2 Linear Approximation of a Process Model"
   ]
  },
  {
   "cell_type": "markdown",
   "metadata": {
    "nbpages": {
     "level": 2,
     "link": "[3.2.1 Key Idea](https://jckantor.github.io/cbe30338-2021/03.02-Linear-Approximation-of-a-Process-Model.html#3.2.1-Key-Idea)",
     "section": "3.2.1 Key Idea"
    }
   },
   "source": [
    "## 3.2.1 Key Idea\n",
    "\n",
    "Process models usually exhibit some form of non-linearity due to the multiplication of an extensive flowrate and an intensive thermodynamic state variable, chemical kinetics, or various types of transport phenomenon. Near a steady-state, however, an approximate linear models often provide a 'good-enough' dynamical model for control design and analysis. Here we show how a linear approximation is constructed using a Taylor series expansion."
   ]
  },
  {
   "cell_type": "markdown",
   "metadata": {
    "nbpages": {
     "level": 2,
     "link": "[3.2.2 Why is this Important?](https://jckantor.github.io/cbe30338-2021/03.02-Linear-Approximation-of-a-Process-Model.html#3.2.2-Why-is-this-Important?)",
     "section": "3.2.2 Why is this Important?"
    }
   },
   "source": [
    "## 3.2.2 Why is this Important?\n",
    "\n",
    "As we will learn later in this course, linear models are amenable to control design and analysis. For process systems that will be operated near a steady-state, linear models provide a useful framework for control design."
   ]
  },
  {
   "cell_type": "markdown",
   "metadata": {
    "nbpages": {
     "level": 2,
     "link": "[3.2.3 Procedure for a Single Variable System](https://jckantor.github.io/cbe30338-2021/03.02-Linear-Approximation-of-a-Process-Model.html#3.2.3-Procedure-for-a-Single-Variable-System)",
     "section": "3.2.3 Procedure for a Single Variable System"
    }
   },
   "source": [
    "## 3.2.3 Procedure for a Single Variable System\n",
    "\n",
    "We start with a process model that consists of a single first-order\n",
    "ordinary differential equation of the form\n",
    "\n",
    "$$\\frac{dh}{dt}=f(h,q)$$\n",
    "\n",
    "where $h$ is the state variable and $q$ is an input variable. Choose\n",
    "a nominal value for the process input $q$, we'll call this nominal\n",
    "value $\\bar{q}$. The following procedure will produce a linear approximate\n",
    "valid near the steady-state."
   ]
  },
  {
   "cell_type": "markdown",
   "metadata": {
    "nbpages": {
     "level": 3,
     "link": "[3.2.3.1 Step 1.  Find a Nominal Steady State Operating Condition](https://jckantor.github.io/cbe30338-2021/03.02-Linear-Approximation-of-a-Process-Model.html#3.2.3.1-Step-1.-Find-a-Nominal-Steady-State-Operating-Condition)",
     "section": "3.2.3.1 Step 1.  Find a Nominal Steady State Operating Condition"
    }
   },
   "source": [
    "### 3.2.3.1 Step 1.  Find a Nominal Steady State Operating Condition\n",
    "Find the steady-state value of $h$ by solving\n",
    "\n",
    "$$0=f(\\bar{h},\\bar{q})$$\n",
    "\n",
    "where $\\bar{q}$ is a nominal (i.e, typical, or desired value) of a manipulated process variable."
   ]
  },
  {
   "cell_type": "markdown",
   "metadata": {
    "nbpages": {
     "level": 3,
     "link": "[3.2.3.2 Step 2. Define deviation variables](https://jckantor.github.io/cbe30338-2021/03.02-Linear-Approximation-of-a-Process-Model.html#3.2.3.2-Step-2.-Define-deviation-variables)",
     "section": "3.2.3.2 Step 2. Define deviation variables"
    }
   },
   "source": [
    "### 3.2.3.2 Step 2. Define deviation variables\n",
    "\\begin{eqnarray*}\n",
    "x & = & h-\\bar{h}\\\\\n",
    "u & = & q-\\bar{q}\n",
    "\\end{eqnarray*}"
   ]
  },
  {
   "cell_type": "markdown",
   "metadata": {
    "nbpages": {
     "level": 3,
     "link": "[3.2.3.3 Step 3. Taylor Series Expansion](https://jckantor.github.io/cbe30338-2021/03.02-Linear-Approximation-of-a-Process-Model.html#3.2.3.3-Step-3.-Taylor-Series-Expansion)",
     "section": "3.2.3.3 Step 3. Taylor Series Expansion"
    }
   },
   "source": [
    "### 3.2.3.3 Step 3. Taylor Series Expansion\n",
    "Compute the first terms in the Taylor series and evaluate at steady-state. The higher-order terms are not needed provided the lower-order terms are non-zero and the deviations are small.\n",
    "$$\n",
    "f(\\bar{h}+x,\\bar{q}+u)\\approx f(\\bar{h},\\bar{q})+\\left.\\frac{\\partial f}{\\partial h}\\right|_{\\bar{h},\\bar{q}}x+\\left.\\frac{\\partial f}{\\partial q}\\right|_{\\bar{h},\\bar{q}}u+\\cdots\n",
    "$$"
   ]
  },
  {
   "cell_type": "markdown",
   "metadata": {
    "nbpages": {
     "level": 3,
     "link": "[3.2.3.4 Step 4. Linear Approximation](https://jckantor.github.io/cbe30338-2021/03.02-Linear-Approximation-of-a-Process-Model.html#3.2.3.4-Step-4.-Linear-Approximation)",
     "section": "3.2.3.4 Step 4. Linear Approximation"
    }
   },
   "source": [
    "### 3.2.3.4 Step 4. Linear Approximation\n",
    "The linear approximation is \n",
    "$$\n",
    "\\frac{dx}{dt}=\\underbrace{\\left.\\frac{\\partial f}{\\partial h}\\right|_{\\bar{h},\\bar{q}}}_{a}x+\\underbrace{\\left.\\frac{\\partial f}{\\partial q}\\right|_{\\bar{h},\\bar{q}}}_{b}u\n",
    "$$"
   ]
  },
  {
   "cell_type": "markdown",
   "metadata": {
    "nbpages": {
     "level": 3,
     "link": "[3.2.3.5 Example: Gravity Drained Tank](https://jckantor.github.io/cbe30338-2021/03.02-Linear-Approximation-of-a-Process-Model.html#3.2.3.5-Example:-Gravity-Drained-Tank)",
     "section": "3.2.3.5 Example: Gravity Drained Tank"
    }
   },
   "source": [
    "### 3.2.3.5 Example: Gravity Drained Tank\n",
    "\n",
    "A simple model for the liquid height in a gravity-drained tank with cross-sectional area $A$ is \n",
    "\n",
    "$$A\\frac{dh}{dt}=q_{in}-C\\sqrt{h}$$\n",
    "\n",
    "where $q_{in}$ is a volumetric inflow and $C$ is a constant associated with the drain. This is a non-linear process model that can be written\n",
    "\n",
    "$$\\frac{dh}{dt}=f(h,q_{in})$$\n",
    "\n",
    "where\n",
    "\n",
    "$$f(h,q_{in})=\\frac{1}{A}\\left(q_{in}-C\\sqrt{h}\\right)$$\n",
    "\n",
    "Given a nominal inlet flowrate $\\bar{q}_{in}$, the steady state value of $h$, that is $\\bar{h}$, is found by solving the steady state equation\n",
    "\n",
    "$$0=f(\\bar{h},\\bar{q}_{in})=\\frac{1}{A}\\left(\\bar{q}_{in}-C\\sqrt{\\bar{h}}\\right)$$\n",
    "\n",
    "which gives \n",
    "\n",
    "$$\\bar{h}=\\frac{\\bar{q}_{in}^{2}}{C^{2}}$$\n",
    "\n",
    "It's interesting to note the steady-state height of the liquid in a gravity-drained tank is proportional to the square of the nominal flowrate. A 50\\% increase in flowrate more than doubles the liquid height.\n",
    "\n",
    "Let $x$ and $u$ represent the deviations from steady-state\n",
    "\n",
    "\\begin{eqnarray*}\n",
    "x & = & h-\\bar{h}\\\\\n",
    "u & = & q-\\bar{q}\n",
    "\\end{eqnarray*}\n",
    "\n",
    "Then\n",
    "\n",
    "\\begin{eqnarray*}\n",
    "\\frac{d(\\bar{h}+x)}{dt} & = & \\frac{1}{A}\\left(\\bar{q}_{in}+u-C\\sqrt{\\bar{h}+x}\\right)\n",
    "\\end{eqnarray*}\n",
    "\n",
    "The Taylor series expansion \n",
    "\n",
    "$$f(\\bar{h}+x,\\bar{q}_{in}+u)\\approx f(\\bar{h},\\bar{q}_{in})+\\left.\\frac{\\partial f}{\\partial h}\\right|_{\\bar{h},\\bar{q}}x+\\left.\\frac{\\partial f}{\\partial q}\\right|_{\\bar{h},\\bar{q}}u+\\frac{1}{2}\\left.\\frac{\\partial^{2}f}{\\partial h^{2}}\\right|_{\\bar{h}}x^{2}\\cdots$$\n",
    "\n",
    "For this example \n",
    "\n",
    "$$\\frac{dx}{dt}=\\left(-\\frac{C}{2A\\sqrt{\\bar{h}}}\\right)x+\\left(\\frac{1}{A}\\right)u$$\n",
    "\n",
    "An alternative form of the model is found by substituting the solution for $\\bar{h}$. While these have somewhat different analytical expressions for a given application they will yield identical numerical results.\n",
    "\n",
    "$$\\frac{dx}{dt}=\\left(-\\frac{C^{2}}{2A\\bar{q}_{in}}\\right)x+\\left(\\frac{1}{A}\\right)u$$\n",
    "\n",
    "How well does this approximation work? \n",
    "\n",
    "This question can be answered by comparing the results of two simulations. In the first case the simulation consists of integrating \n",
    "\n",
    "$$A\\frac{dh}{dt}=q_{in}-C\\sqrt{h}$$\n",
    "\n",
    "as shown in the graph below. \n",
    "\n",
    "where $A=1$, $C=2$, initial condition $h(0)=0$, and a constant input $q_{in}=\\bar{q}_{in}=1$. For these parameter values, the approximate linear model for the deviation from steady-state is given by\n",
    "\n",
    "\\begin{eqnarray*}\n",
    "\\frac{dx}{dt} & = & \\left(-\\frac{C^{2}}{2A\\bar{q}_{in}}\\right)x+\\left(\\frac{1}{A}\\right)u\\\\\n",
    "\\\\\n",
    " & = & -2\\,x+u\n",
    "\\end{eqnarray*}\n",
    "\n",
    "In terms of deviations from steady state, the input $u=q_{in}-\\bar{q}_{in}=0$ and the initial conditionis $x(0)=h(0)-\\bar{h}=-\\bar{h}$. Plotting $h(t)$ and $x(t)+\\bar{h}$ on the same axis produces the results shown in Figure \\ref{fig:LinearApproximation}. \n",
    "\n"
   ]
  },
  {
   "cell_type": "code",
   "execution_count": 11,
   "metadata": {
    "nbpages": {
     "level": 3,
     "link": "[3.2.3.5 Example: Gravity Drained Tank](https://jckantor.github.io/cbe30338-2021/03.02-Linear-Approximation-of-a-Process-Model.html#3.2.3.5-Example:-Gravity-Drained-Tank)",
     "section": "3.2.3.5 Example: Gravity Drained Tank"
    }
   },
   "outputs": [
    {
     "data": {
      "image/png": "[encoded data removed]",
      "text/plain": [
       "<matplotlib.figure.Figure at 0x111bc15c0>"
      ]
     },
     "metadata": {},
     "output_type": "display_data"
    }
   ],
   "source": [
    "#Simulation of a Gravity-Drained Tank\n",
    "\n",
    "%matplotlib inline\n",
    "import matplotlib.pyplot as plt\n",
    "import numpy as np\n",
    "from scipy.integrate import odeint\n",
    "\n",
    "# parameter values\n",
    "qin = 1\n",
    "A = 1\n",
    "C = 2\n",
    "\n",
    "# steady state\n",
    "hbar = (qin/C)**2\n",
    "\n",
    "# nonlinear simulation\n",
    "def hdot(h,t):\n",
    "    return (qin - C*np.sqrt(h))/A\n",
    "\n",
    "t = np.linspace(0,5)\n",
    "h = odeint(hdot,[0],t)\n",
    "\n",
    "# linear approximation\n",
    "a = -C**2/2/A/qin\n",
    "b = 1/A\n",
    "\n",
    "def xdot(x,t):\n",
    "    return a*x + b*u\n",
    "\n",
    "u = 0\n",
    "x = odeint(xdot,[-hbar],t)\n",
    "\n",
    "# visualization\n",
    "plt.plot(t,h)\n",
    "plt.plot(t,x+hbar)\n",
    "plt.legend(['Nonlinear','Linear Approximation'],loc='lower right')\n",
    "plt.xlabel('Time [min]')\n",
    "plt.ylabel('Height [m]')\n",
    "plt.title('Gravity-drained tank: Nonlinear model vs. linear approximation')\n",
    "plt.grid()"
   ]
  },
  {
   "cell_type": "markdown",
   "metadata": {
    "nbpages": {
     "level": 3,
     "link": "[3.2.3.6 Exercises](https://jckantor.github.io/cbe30338-2021/03.02-Linear-Approximation-of-a-Process-Model.html#3.2.3.6-Exercises)",
     "section": "3.2.3.6 Exercises"
    }
   },
   "source": [
    "### 3.2.3.6 Exercises\n",
    "\n",
    "**1.** Suppose you have a tank with an cross-sectional area of 1 square meter, a steady inlet flow $\\bar{q}_{in}=10$ liters/min, and observe a liquid height of 0.5 meters. What is the constant $C$? What is the characteristic time constant for the tank?\n",
    "\n",
    "**2.** You have an elementary reaction \n",
    "\n",
    "$$2{\\cal A}\\longrightarrow Products$$\n",
    "\n",
    "carried out under isothermal conditions in a stirred tank of volume $V$. The reaction rate is given by the expression \n",
    "\n",
    "$$R_{A}=k_{A}C_{A}^{2}$$\n",
    "\n",
    "and the inlet concentration to the tank is $C_{A,in}$ at flowrate $q$. Construct a linear approximation for the dynamics of this process in the neighborhood of a steady state."
   ]
  },
  {
   "cell_type": "code",
   "execution_count": null,
   "metadata": {
    "collapsed": true,
    "nbpages": {
     "level": 3,
     "link": "[3.2.3.6 Exercises](https://jckantor.github.io/cbe30338-2021/03.02-Linear-Approximation-of-a-Process-Model.html#3.2.3.6-Exercises)",
     "section": "3.2.3.6 Exercises"
    }
   },
   "outputs": [],
   "source": []
  },
  {
   "cell_type": "markdown",
   "metadata": {
    "nbpages": {
     "level": 3,
     "link": "[3.2.3.6 Exercises](https://jckantor.github.io/cbe30338-2021/03.02-Linear-Approximation-of-a-Process-Model.html#3.2.3.6-Exercises)",
     "section": "3.2.3.6 Exercises"
    }
   },
   "source": [
    "<!--NAVIGATION-->\n",
    "< [3.1 Step Response of a Gravity Drained Tank](https://jckantor.github.io/cbe30338-2021/03.01-Step-Response-of-a-Gravity-Drained-Tank.html) | [Contents](toc.html) | [Tag Index](tag_index.html) | [3.3 Linear Approximation of a Multivariable Model](https://jckantor.github.io/cbe30338-2021/03.03-Linear-Approximation-of-a-Multivariable-Model.html) ><p><a href=\"https://colab.research.google.com/github/jckantor/cbe30338-2021/blob/master/../cbe30338-2021/docs/03.02-Linear-Approximation-of-a-Process-Model.ipynb\"> <img align=\"left\" src=\"https://colab.research.google.com/assets/colab-badge.svg\" alt=\"Open in Colab\" title=\"Open in Google Colaboratory\"></a><p><a href=\"https://jckantor.github.io/cbe30338-2021/03.02-Linear-Approximation-of-a-Process-Model.ipynb\"> <img align=\"left\" src=\"https://img.shields.io/badge/Github-Download-blue.svg\" alt=\"Download\" title=\"Download Notebook\"></a>"
   ]
  }
 ],
 "metadata": {
  "kernelspec": {
   "display_name": "Python 3",
   "language": "python",
   "name": "python3"
  },
  "language_info": {
   "codemirror_mode": {
    "name": "ipython",
    "version": 3
   },
   "file_extension": ".py",
   "mimetype": "text/x-python",
   "name": "python",
   "nbconvert_exporter": "python",
   "pygments_lexer": "ipython3",
   "version": "3.7.4"
  }
 },
 "nbformat": 4,
 "nbformat_minor": 2
}
