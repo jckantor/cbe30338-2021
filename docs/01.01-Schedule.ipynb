{
 "cells": [
  {
   "cell_type": "markdown",
   "metadata": {},
   "source": [
    "<!--NOTEBOOK_HEADER-->\n",
    "*This notebook contains material from [cbe30338-2021](https://jckantor.github.io/cbe30338-2021);\n",
    "content is available [on Github](https://github.com/jckantor/cbe30338-2021.git).*\n"
   ]
  },
  {
   "cell_type": "markdown",
   "metadata": {},
   "source": [
    "<!--NAVIGATION-->\n",
    "< [1.0 Introduction](https://jckantor.github.io/cbe30338-2021/01.00-Introduction.html) | [Contents](toc.html) | [1.2 What is Process Control?](https://jckantor.github.io/cbe30338-2021/01.02-What-is-Process-Control.html) ><p><a href=\"https://colab.research.google.com/github/jckantor/cbe30338-2021/blob/master/docs/01.01-Schedule.ipynb\"> <img align=\"left\" src=\"https://colab.research.google.com/assets/colab-badge.svg\" alt=\"Open in Colab\" title=\"Open in Google Colaboratory\"></a><p><a href=\"https://jckantor.github.io/cbe30338-2021/01.01-Schedule.ipynb\"> <img align=\"left\" src=\"https://img.shields.io/badge/Github-Download-blue.svg\" alt=\"Download\" title=\"Download Notebook\"></a>"
   ]
  },
  {
   "cell_type": "markdown",
   "metadata": {
    "nbpages": {
     "level": 1,
     "link": "[1.1 Schedule and Course Organization](https://jckantor.github.io/cbe30338-2021/01.01-Schedule.html#1.1-Schedule-and-Course-Organization)",
     "section": "1.1 Schedule and Course Organization"
    },
    "pycharm": {}
   },
   "source": [
    "# 1.1 Schedule and Course Organization"
   ]
  },
  {
   "cell_type": "markdown",
   "metadata": {
    "nbpages": {
     "level": 2,
     "link": "[1.1.1 Getting Started](https://jckantor.github.io/cbe30338-2021/01.01-Schedule.html#1.1.1-Getting-Started)",
     "section": "1.1.1 Getting Started"
    },
    "pycharm": {}
   },
   "source": [
    "## 1.1.1 Getting Started\n",
    "\n",
    "**CBE 30338/32338 Chemical Process Control** will be conducted as a fully on-line course for the 2021 Spring semeter. For this to be effective, each student, instuctor, and teaching assistant will need access to the required technology and keep their systems and software in good working order for the duration of the semester.\n",
    "\n",
    "**Please let the instructors know immediately if you don't have access to a laptop, or you don't have adequate internet connectivity. The University has resources available to assist with these situations.**\n",
    "\n",
    "Please use the period before the start of the semester to prepare your systems and technology. Pay attention to the following the following details:\n",
    "\n",
    "* We will be making extensive use of Zoom for office hours, on-classes, and laboratory sessions. Please verify that you can access Zoom by joining the test meeting **with video** at [https://zoom.us/test](https://zoom.us/test). \n",
    "\n",
    "* Please confirm that you have a working installation of the latest Anaconda distribution of Python. If in doubt, reinstall a fresh download available from [Anaconda.com](https://www.anaconda.com/).\n",
    "\n",
    "* A major component of the course is hands-on use of real hardware to implement working control systems. For this purpose wyou will need to purchase an individual copy of the **Temperature Control Labortory** available through [Amazon](https://www.amazon.com/TCLab-Temperature-Control-Lab/dp/B07GMFWMRY), the Notre Dame Bookstore, and [apmonitor.com](https://apmonitor.com/pdc/index.php/Main/PurchaseLabKit). Please allow time for ordering, shipping, and for you to install and test the device using your laptop.\n",
    "\n",
    "* The Temperature Control Lab requires a USB type A port. If your laptop is a newer model with only USB-C ports then you will need to purchase a USB-C to USB-A adaptor ([such as this device for an Apple Mac](https://www.amazon.com/Apple-USB-C-to-USB-Adapter/dp/B00VU2OID2/)) or USB-C docking station ([such as this](https://www.amazon.com/LENTION-Multi-Port-Compatible-2020-2016-Chromebook/dp/B07FNH5Y84/) from LENTION)."
   ]
  },
  {
   "cell_type": "markdown",
   "metadata": {
    "nbpages": {
     "level": 2,
     "link": "[1.1.2 Introduction to the Course and Process Control](https://jckantor.github.io/cbe30338-2021/01.01-Schedule.html#1.1.2-Introduction-to-the-Course-and-Process-Control)",
     "section": "1.1.2 Introduction to the Course and Process Control"
    },
    "pycharm": {}
   },
   "source": [
    "## 1.1.2 Introduction to the Course and Process Control"
   ]
  },
  {
   "cell_type": "markdown",
   "metadata": {
    "nbpages": {
     "level": 3,
     "link": "[1.1.2.1 Week 1](https://jckantor.github.io/cbe30338-2021/01.01-Schedule.html#1.1.2.1-Week-1)",
     "section": "1.1.2.1 Week 1"
    },
    "pycharm": {}
   },
   "source": [
    "### 1.1.2.1 Week 1\n",
    "\n",
    "Class meetings begin on week 1. Each of the sessions scheduled below will be done as a Zoom meeting. To protect privacy, the specific Zoom meeting links are available through the course management system. Attendance will be monitored for each session with required attendance.\n",
    "\n",
    "| Date | Time (EDT) | Activity | Topic | Reading | Req'd? |\n",
    "| :--  | :--  | :------  | :--- | :--- | :---: |\n",
    "| 2/4(Th) | 11:10am-12:25pm | [Class Meeting](https://notredame.zoom.us/j/98411704304?pwd=Yk1GYjlkRjZnR3UxV0Q2V0RRRXJiUT09) | Introductions <br> Course Resources <br> Syllabus  <br> Introduction to TCLab <br> What is Process Control? | [Syllabus](https://docs.google.com/document/d/1nyId3IqaRej6zYwJ-HlFvR8lfqszkLH7OWzamw-vI-E/edit?usp=sharing) <br> [FBS 1.2-1.4](https://fbswiki.org/wiki/index.php/Feedback_Systems:_An_Introduction_for_Scientists_and_Engineers) <br> [cbe30338-2021 Section 1.1](https://jckantor.github.io/cbe30338-2021/) | &check;\n",
    "| 2/5(F) | 11:40am-12:30pm <br> 1:00-1:50pm | Lab Session 1 <br> Lab Session 2 | **No meeting for week 1** | | "
   ]
  },
  {
   "cell_type": "markdown",
   "metadata": {
    "nbpages": {
     "level": 2,
     "link": "[1.1.3 Modeling and Parameter Estimation](https://jckantor.github.io/cbe30338-2021/01.01-Schedule.html#1.1.3-Modeling-and-Parameter-Estimation)",
     "section": "1.1.3 Modeling and Parameter Estimation"
    },
    "pycharm": {}
   },
   "source": [
    "## 1.1.3 Modeling and Parameter Estimation"
   ]
  },
  {
   "cell_type": "markdown",
   "metadata": {
    "nbpages": {
     "level": 3,
     "link": "[1.1.3.1 Week 2](https://jckantor.github.io/cbe30338-2021/01.01-Schedule.html#1.1.3.1-Week-2)",
     "section": "1.1.3.1 Week 2"
    },
    "pycharm": {}
   },
   "source": [
    "### 1.1.3.1 Week 2\n",
    "\n",
    "| Date | Time (EDT) | Activity | Topic | Reading | Req'd? | Assignment Due |\n",
    "| :--  | :--  | :------  | :--- | :--- | :---: | :--- |\n",
    "| 2/8(M) | 1:30-3pm | Office hours | | |\n",
    "| 2/9(T) | 11:10am-12:25pm | [Class Meeting](https://notredame.zoom.us/j/98411704304?pwd=Yk1GYjlkRjZnR3UxV0Q2V0RRRXJiUT09) | System Modeling <br> Pharmacokinetics | [FBS 3.1, 3.2](https://fbswiki.org/wiki/index.php/System_Modeling) <br> [cbe30338-2021 Section 2.1](https://jckantor.github.io/cbe30338-2021/) | &check; | Assignment 1\n",
    "| 2/11(Th) | 11:10am-12:25pm | [Class Meeting](https://notredame.zoom.us/j/98411704304?pwd=Yk1GYjlkRjZnR3UxV0Q2V0RRRXJiUT09) | First Order Systems <br> Degrees of Freedom | [cbe30338-2021 Section 2.2](https://jckantor.github.io/cbe30338-2021/) | &check;\n",
    "| 2/12(F) | 11:40am-12:30pm <br> 1:00-1:50pm | Lab Session 1 <br> Lab Session 2 | TCLab Operation <br> First Order Model ID | [cbe30338-2021 Section 1.3](https://jckantor.github.io/cbe30338-2021/) <br> [cbe30338-2021 Section 1.4](https://jckantor.github.io/cbe30338-2021/)| &check;"
   ]
  },
  {
   "cell_type": "markdown",
   "metadata": {
    "nbpages": {
     "level": 3,
     "link": "[1.1.3.2 Week 3](https://jckantor.github.io/cbe30338-2021/01.01-Schedule.html#1.1.3.2-Week-3)",
     "section": "1.1.3.2 Week 3"
    },
    "pycharm": {}
   },
   "source": [
    "### 1.1.3.2 Week 3\n",
    "\n",
    "| Date | Time (EDT) | Activity | Topic | Reading | Req'd? | Assignment Due |\n",
    "| :--  | :--  | :------  | :--- | :---| :---: | :--- |\n",
    "| 2/15(M) | 1:30-3pm | Office hours | | \n",
    "| 2/16(T) | 11:10am-12:25pm | [Class Meeting](https://notredame.zoom.us/j/98411704304?pwd=Yk1GYjlkRjZnR3UxV0Q2V0RRRXJiUT09) | First-Order Model TCLab | [cbe30338-2021 Section 2.3](https://jckantor.github.io/cbe30338-2021/) | &check; | Assignment 2 |\n",
    "| 2/18(Th) | 11:10am-12:25pm | [Class Meeting](https://notredame.zoom.us/j/98411704304?pwd=Yk1GYjlkRjZnR3UxV0Q2V0RRRXJiUT09) | Identifying Linear Dynamics | [cbe30338-2021 Section 2.4](https://jckantor.github.io/cbe30338-2021/) | &check;\n",
    "| 2/19(F) | 11:40am-12:30pm <br> 1:00-1:50pm | Lab Session 1 <br> Lab Session 2 | Dynamic Model Identification | | &check; | Lab Assignment 1"
   ]
  },
  {
   "cell_type": "markdown",
   "metadata": {
    "nbpages": {
     "level": 2,
     "link": "[1.1.4 Feedback Control](https://jckantor.github.io/cbe30338-2021/01.01-Schedule.html#1.1.4-Feedback-Control)",
     "section": "1.1.4 Feedback Control"
    },
    "pycharm": {}
   },
   "source": [
    "## 1.1.4 Feedback Control"
   ]
  },
  {
   "cell_type": "markdown",
   "metadata": {
    "nbpages": {
     "level": 3,
     "link": "[1.1.4.1 Week 4](https://jckantor.github.io/cbe30338-2021/01.01-Schedule.html#1.1.4.1-Week-4)",
     "section": "1.1.4.1 Week 4"
    },
    "pycharm": {}
   },
   "source": [
    "### 1.1.4.1 Week 4\n",
    "\n",
    "| Date | Time (EDT) | Activity | Topic | Reading | Req'd? | Assignment Due |\n",
    "| :--  | :--  | :------  | :--- | :--- | :---: | :--- |\n",
    "| 2/22(M) | 1:30-3pm | Office hours | | \n",
    "| 2/23(T) | 11:10am-12:25pm | [Class Meeting](https://notredame.zoom.us/j/98411704304?pwd=Yk1GYjlkRjZnR3UxV0Q2V0RRRXJiUT09) | Case Study: PCR Thermal Cycling <br> Setpoints | [cbe30338-2021 Section 3.1 & 3.2](https://jckantor.github.io/cbe30338-2021/) | &check; | Assignment 3 |\n",
    "| 2/25(Th) | 11:10am-12:25pm | [Class Meeting](https://notredame.zoom.us/j/98411704304?pwd=Yk1GYjlkRjZnR3UxV0Q2V0RRRXJiUT09) | Relay, Proportional, and PI Control | [cbe30338-2021 Section 3.3, 3.4, & 3.5](https://jckantor.github.io/cbe30338-2021/)  | &check; | Quiz 1: Modeling & Identification\n",
    "| 2/26(F) | 11:40am-12:30pm <br> 1:00-1:50pm | Lab Session 1 <br> Lab Session 2 | Single Variable Relay Control <br> PI Control | [cbe30338-2021 Section 3.6](https://jckantor.github.io/cbe30338-2021/) | &check; | Lab Assignment 2"
   ]
  },
  {
   "cell_type": "markdown",
   "metadata": {
    "nbpages": {
     "level": 3,
     "link": "[1.1.4.2 Week 5](https://jckantor.github.io/cbe30338-2021/01.01-Schedule.html#1.1.4.2-Week-5)",
     "section": "1.1.4.2 Week 5"
    },
    "pycharm": {}
   },
   "source": [
    "### 1.1.4.2 Week 5\n",
    "\n",
    "| Date | Time (EDT) | Activity | Topic | Reading | Req'd? | Assignment Due |\n",
    "| :--  | :--  | :------  | :--- | :--- | :---: | :--- |\n",
    "| 3/1(M) | 1:30-3pm | Office hours | | |\n",
    "| 3/2(T) | 11:10am-12:25pm | **University Mini-break** |  | | | |\n",
    "| 3/4(Th) | 11:10am-12:25pm | [Class Meeting](https://notredame.zoom.us/j/98411704304?pwd=Yk1GYjlkRjZnR3UxV0Q2V0RRRXJiUT09) | PI Implementation & Co-routines | | &check;\n",
    "| 3/5(F) | | **Junior Parents Weekend** | | | | Lab Assignment 3"
   ]
  },
  {
   "cell_type": "markdown",
   "metadata": {
    "nbpages": {
     "level": 3,
     "link": "[1.1.4.3 Week 6](https://jckantor.github.io/cbe30338-2021/01.01-Schedule.html#1.1.4.3-Week-6)",
     "section": "1.1.4.3 Week 6"
    },
    "pycharm": {}
   },
   "source": [
    "### 1.1.4.3 Week 6\n",
    "\n",
    "| Date | Time (EDT) | Activity | Topic | Reading | Req'd? | Assignment Due |\n",
    "| :--  | :--  | :------  | :--- | :--- | :---: | :--- |\n",
    "| 3/8(M) | 1:30-3pm | Office hours | | \n",
    "| 3/9(T) | 11:10am-12:25pm | [Class Meeting](https://notredame.zoom.us/j/98411704304?pwd=Yk1GYjlkRjZnR3UxV0Q2V0RRRXJiUT09) | Practical PI Control | | &check; | No assignment (JPW)\n",
    "| 3/11(Th) | 11:10am-12:25pm | [Class Meeting](https://notredame.zoom.us/j/98411704304?pwd=Yk1GYjlkRjZnR3UxV0Q2V0RRRXJiUT09) | Advanced PI and PID Control | | &check;\n",
    "| 3/12(F) | 11:40am-12:30pm <br> 1:00-1:50pm | Lab Session 1 <br> Lab Session 2 | Advanced PID Control | | &check;"
   ]
  },
  {
   "cell_type": "markdown",
   "metadata": {
    "nbpages": {
     "level": 2,
     "link": "[1.1.5 Process Analytics](https://jckantor.github.io/cbe30338-2021/01.01-Schedule.html#1.1.5-Process-Analytics)",
     "section": "1.1.5 Process Analytics"
    },
    "pycharm": {}
   },
   "source": [
    "## 1.1.5 Process Analytics"
   ]
  },
  {
   "cell_type": "markdown",
   "metadata": {
    "nbpages": {
     "level": 3,
     "link": "[1.1.5.1 Week 7](https://jckantor.github.io/cbe30338-2021/01.01-Schedule.html#1.1.5.1-Week-7)",
     "section": "1.1.5.1 Week 7"
    },
    "pycharm": {}
   },
   "source": [
    "### 1.1.5.1 Week 7\n",
    "\n",
    "| Date | Time (EDT) | Activity | Topic | Reading | Req'd? | Assignment Due |\n",
    "| :--  | :--  | :------  | :---  | :--- | :---: | :--- |\n",
    "| 3/15(M) | 1:30-3pm | Drop-in office hours | | |\n",
    "| 3/16(T) | 11:10am-12:25pm | [Class Meeting](https://notredame.zoom.us/j/98411704304?pwd=Yk1GYjlkRjZnR3UxV0Q2V0RRRXJiUT09) | Guest: Katie Gates ND'10 <br> What is Process Analytics? | | &check; | Assignment 4 |\n",
    "| 3/18(Th) | 11:10am-12:25pm | [Class Meeting](https://notredame.zoom.us/j/98411704304?pwd=Yk1GYjlkRjZnR3UxV0Q2V0RRRXJiUT09) | | | &check; | Quiz 2: Feedback Control\n",
    "| 3/19(F) | 11:40am-12:30pm <br> 1:00-1:50pm | Lab Session 1 <br> Lab Session 2 | Using the Data Historian | | &check;"
   ]
  },
  {
   "cell_type": "markdown",
   "metadata": {
    "nbpages": {
     "level": 3,
     "link": "[1.1.5.2 Week 8](https://jckantor.github.io/cbe30338-2021/01.01-Schedule.html#1.1.5.2-Week-8)",
     "section": "1.1.5.2 Week 8"
    },
    "pycharm": {}
   },
   "source": [
    "### 1.1.5.2 Week 8\n",
    "\n",
    "| Date | Time (EDT) | Activity | Topic | Reading | Req'd? | Assignment Due |\n",
    "| :--  | :--  | :------  | :--- | :--- | :---: | :--- |\n",
    "| 3/22(M) | 1:30-3pm | Drop-in office hours | | |\n",
    "| 3/23(T) | 11:10am-12:25pm | [Class Meeting](https://notredame.zoom.us/j/98411704304?pwd=Yk1GYjlkRjZnR3UxV0Q2V0RRRXJiUT09) | Anamoly Detection | | &check; | Assignment 5 |\n",
    "| 3/25(Th) | 11:10am-12:25pm | [Class Meeting](https://notredame.zoom.us/j/98411704304?pwd=Yk1GYjlkRjZnR3UxV0Q2V0RRRXJiUT09) | Machine Learning | | &check;\n",
    "| 3/26(F) | 11:40am-12:30pm <br> 1:00-1:50pm | Lab Session 1 <br> Lab Session 2 | Anomoly Detection <br> Machine Learning | | &check;"
   ]
  },
  {
   "cell_type": "markdown",
   "metadata": {
    "nbpages": {
     "level": 2,
     "link": "[1.1.6 Optimization](https://jckantor.github.io/cbe30338-2021/01.01-Schedule.html#1.1.6-Optimization)",
     "section": "1.1.6 Optimization"
    },
    "pycharm": {}
   },
   "source": [
    "## 1.1.6 Optimization"
   ]
  },
  {
   "cell_type": "markdown",
   "metadata": {
    "nbpages": {
     "level": 3,
     "link": "[1.1.6.1 Week 9](https://jckantor.github.io/cbe30338-2021/01.01-Schedule.html#1.1.6.1-Week-9)",
     "section": "1.1.6.1 Week 9"
    },
    "pycharm": {}
   },
   "source": [
    "### 1.1.6.1 Week 9\n",
    "\n",
    "| Date | Time (EDT) | Activity | Topic | Reading | Req'd? | Assignment Due |\n",
    "| :--  | :--  | :------  | :--- | :---  | :---: | :--- |\n",
    "| 3/29(M) | 1:30-3pm | Drop-in office hours | | |\n",
    "| 3/30(T) | 11:10am-12:25pm | [Class Meeting](https://notredame.zoom.us/j/98411704304?pwd=Yk1GYjlkRjZnR3UxV0Q2V0RRRXJiUT09) | Introduction to Semester Project <br> | | &check; | Assignment 6 |\n",
    "| 4/1(Th) | 11:10am-12:25pm | [Class Meeting](https://notredame.zoom.us/j/98411704304?pwd=Yk1GYjlkRjZnR3UxV0Q2V0RRRXJiUT09) | | | &check; | Quiz 3: Process Analytics\n",
    "| 4/2(F) | | **Good Friday** |"
   ]
  },
  {
   "cell_type": "markdown",
   "metadata": {
    "nbpages": {
     "level": 3,
     "link": "[1.1.6.2 Week 10](https://jckantor.github.io/cbe30338-2021/01.01-Schedule.html#1.1.6.2-Week-10)",
     "section": "1.1.6.2 Week 10"
    },
    "pycharm": {}
   },
   "source": [
    "### 1.1.6.2 Week 10\n",
    "\n",
    "| Date | Time (EDT) | Activity | Topic | Reading | Req'd? | Assignment Due |\n",
    "| :--  | :--  | :------  | :--- | :--- | :---: | :--- |\n",
    "| 4/5(M) | 1:30-3pm | Drop-in office hours | | |\n",
    "| 4/6(T) | 11:10am-12:25pm | [Class Meeting](https://notredame.zoom.us/j/98411704304?pwd=Yk1GYjlkRjZnR3UxV0Q2V0RRRXJiUT09) | | | &check; | No assignment (Easter) |\n",
    "| 4/8(Th) | 11:10am-12:25pm | [Class Meeting](https://notredame.zoom.us/j/98411704304?pwd=Yk1GYjlkRjZnR3UxV0Q2V0RRRXJiUT09) | | | &check;\n",
    "| 4/9(F) | 11:40am-12:30pm <br> 1:00-1:50pm | Lab Session 1 <br> Lab Session 2 | Static Optimization <br> Operability Analysis | | &check;"
   ]
  },
  {
   "cell_type": "markdown",
   "metadata": {
    "nbpages": {
     "level": 2,
     "link": "[1.1.7 Predictive Control](https://jckantor.github.io/cbe30338-2021/01.01-Schedule.html#1.1.7-Predictive-Control)",
     "section": "1.1.7 Predictive Control"
    },
    "pycharm": {}
   },
   "source": [
    "## 1.1.7 Predictive Control"
   ]
  },
  {
   "cell_type": "markdown",
   "metadata": {
    "nbpages": {
     "level": 3,
     "link": "[1.1.7.1 Week 11](https://jckantor.github.io/cbe30338-2021/01.01-Schedule.html#1.1.7.1-Week-11)",
     "section": "1.1.7.1 Week 11"
    },
    "pycharm": {}
   },
   "source": [
    "### 1.1.7.1 Week 11\n",
    "\n",
    "| Date | Time (EDT) | Activity | Topic | Reading | Req'd? | Assignment Due |\n",
    "| :--  | :--  | :------  | :--- | :--- | :---: | :--- |\n",
    "| 4/12(M) | 1:30-3pm | Drop-in office hours | | |\n",
    "| 4/13(T) | 11:10am-12:25pm | [Class Meeting](https://notredame.zoom.us/j/98411704304?pwd=Yk1GYjlkRjZnR3UxV0Q2V0RRRXJiUT09) | | | &check; |  Assignment 7 <br> Project Proposal |\n",
    "| 4/15(Th) | 11:10am-12:25pm | [Class Meeting](https://notredame.zoom.us/j/98411704304?pwd=Yk1GYjlkRjZnR3UxV0Q2V0RRRXJiUT09) | | | &check; | Quiz 4: Optimization\n",
    "| 4/16(F) | 11:40am-12:30pm <br> 1:00-1:50pm | Lab Session 1 <br> Lab Session 2 | State Estimation | | &check;"
   ]
  },
  {
   "cell_type": "markdown",
   "metadata": {
    "nbpages": {
     "level": 3,
     "link": "[1.1.7.2 Week 12](https://jckantor.github.io/cbe30338-2021/01.01-Schedule.html#1.1.7.2-Week-12)",
     "section": "1.1.7.2 Week 12"
    },
    "pycharm": {}
   },
   "source": [
    "### 1.1.7.2 Week 12\n",
    "\n",
    "| Date | Time (EDT) | Activity | Topic | Reading | Req'd? | Assignment Due |\n",
    "| :--  | :--  | :------  | :--- | :--- | :---: | :--- |\n",
    "| 4/19(M) | 1:30-3pm | Drop-in office hours | | |\n",
    "| 4/20(T) | 11:10am-12:25pm | [Class Meeting](https://notredame.zoom.us/j/98411704304?pwd=Yk1GYjlkRjZnR3UxV0Q2V0RRRXJiUT09) | | | &check; | Assignment 8 |\n",
    "| 4/22(Th) | 11:10am-12:25pm | [Class Meeting](https://notredame.zoom.us/j/98411704304?pwd=Yk1GYjlkRjZnR3UxV0Q2V0RRRXJiUT09) | | | &check;\n",
    "| 4/23(F) | 11:40am-12:30pm <br> 1:00-1:50pm | Lab Session 1 <br> Lab Session 2 | Model Predictive Control | | &check;"
   ]
  },
  {
   "cell_type": "markdown",
   "metadata": {
    "nbpages": {
     "level": 2,
     "link": "[1.1.8 Final Project](https://jckantor.github.io/cbe30338-2021/01.01-Schedule.html#1.1.8-Final-Project)",
     "section": "1.1.8 Final Project"
    },
    "pycharm": {}
   },
   "source": [
    "## 1.1.8 Final Project"
   ]
  },
  {
   "cell_type": "markdown",
   "metadata": {
    "nbpages": {
     "level": 3,
     "link": "[1.1.8.1 Week 13](https://jckantor.github.io/cbe30338-2021/01.01-Schedule.html#1.1.8.1-Week-13)",
     "section": "1.1.8.1 Week 13"
    },
    "pycharm": {}
   },
   "source": [
    "### 1.1.8.1 Week 13\n",
    "\n",
    "| Date | Time (EDT) | Activity | Topic | Reading | Req'd? | Assignment Due |\n",
    "| :--  | :--  | :------  | :--- | :--- | :---: | :--- |\n",
    "| 4/26(M) | 1:30-3pm | Drop-in office hours | | |\n",
    "| -- | --- | Office hours by appointment |\n",
    "| 4/27(T) | 11:10am-12:25pm | [Class Meeting](https://notredame.zoom.us/j/98411704304?pwd=Yk1GYjlkRjZnR3UxV0Q2V0RRRXJiUT09) | | | &check; | Assignment 9 <br> Project Progress Report |\n",
    "| 4/29(Th) | 11:10am-12:25pm | [Class Meeting](https://notredame.zoom.us/j/98411704304?pwd=Yk1GYjlkRjZnR3UxV0Q2V0RRRXJiUT09) | | | &check; | Quiz 5: Predictive Control\n",
    "| 4/30(F) | 11:40am-12:30pm <br> 1:00-1:50pm | Lab Session 1 <br> Lab Session 2 | | | &check;"
   ]
  },
  {
   "cell_type": "markdown",
   "metadata": {
    "nbpages": {
     "level": 3,
     "link": "[1.1.8.2 Week 14](https://jckantor.github.io/cbe30338-2021/01.01-Schedule.html#1.1.8.2-Week-14)",
     "section": "1.1.8.2 Week 14"
    },
    "pycharm": {}
   },
   "source": [
    "### 1.1.8.2 Week 14\n",
    "\n",
    "| Date | Time (EDT) | Activity | Topic | Reading | Req'd? | Assignment Due |\n",
    "| :--  | :--  | :------  | :--- | :--- | :---: | :--- |\n",
    "| 5/3(M) | 1:30-3pm | Drop-in office hours | | |\n",
    "| -- | --- | Office hours by appointment |\n",
    "| 5/4(T) | 11:10am-12:25pm | [Class Meeting](https://notredame.zoom.us/j/98411704304?pwd=Yk1GYjlkRjZnR3UxV0Q2V0RRRXJiUT09) | | | &check; |\n",
    "| 5/6(Th) | 11:10am-12:25pm | [Class Meeting](https://notredame.zoom.us/j/98411704304?pwd=Yk1GYjlkRjZnR3UxV0Q2V0RRRXJiUT09) | | | &check;\n",
    "| 5/7(F) | | no lab - Final Project | | |"
   ]
  },
  {
   "cell_type": "markdown",
   "metadata": {
    "nbpages": {
     "level": 3,
     "link": "[1.1.8.3 Finals Week](https://jckantor.github.io/cbe30338-2021/01.01-Schedule.html#1.1.8.3-Finals-Week)",
     "section": "1.1.8.3 Finals Week"
    },
    "pycharm": {}
   },
   "source": [
    "### 1.1.8.3 Finals Week\n",
    "\n",
    "| Date | Time (EDT) | Activity | Topic | Reading | Req'd? | Assignment Due |\n",
    "| :--  | :--  | :------  | :--- | :--- | :---: | :--- |\n",
    "| 5/11(M) | 1:30-3pm | Office hours | | |\n",
    "| -- | --- | Office hours by appointment |\n",
    "| 5/11(T) | 11:10am-12:25pm | [Class Meeting](https://notredame.zoom.us/j/98411704304?pwd=Yk1GYjlkRjZnR3UxV0Q2V0RRRXJiUT09) | | | &check;\n",
    "| 5/14(F) | 10:30am - 12:30pm | Project Presentations | | | &check;"
   ]
  },
  {
   "cell_type": "code",
   "execution_count": null,
   "metadata": {
    "nbpages": {
     "level": 3,
     "link": "[1.1.8.3 Finals Week](https://jckantor.github.io/cbe30338-2021/01.01-Schedule.html#1.1.8.3-Finals-Week)",
     "section": "1.1.8.3 Finals Week"
    },
    "pycharm": {}
   },
   "outputs": [],
   "source": []
  },
  {
   "cell_type": "markdown",
   "metadata": {},
   "source": [
    "<!--NAVIGATION-->\n",
    "< [1.0 Introduction](https://jckantor.github.io/cbe30338-2021/01.00-Introduction.html) | [Contents](toc.html) | [1.2 What is Process Control?](https://jckantor.github.io/cbe30338-2021/01.02-What-is-Process-Control.html) ><p><a href=\"https://colab.research.google.com/github/jckantor/cbe30338-2021/blob/master/docs/01.01-Schedule.ipynb\"> <img align=\"left\" src=\"https://colab.research.google.com/assets/colab-badge.svg\" alt=\"Open in Colab\" title=\"Open in Google Colaboratory\"></a><p><a href=\"https://jckantor.github.io/cbe30338-2021/01.01-Schedule.ipynb\"> <img align=\"left\" src=\"https://img.shields.io/badge/Github-Download-blue.svg\" alt=\"Download\" title=\"Download Notebook\"></a>"
   ]
  }
 ],
 "metadata": {
  "kernelspec": {
   "display_name": "Python 3",
   "language": "python",
   "name": "python3"
  },
  "language_info": {
   "codemirror_mode": {
    "name": "ipython",
    "version": 3
   },
   "file_extension": ".py",
   "mimetype": "text/x-python",
   "name": "python",
   "nbconvert_exporter": "python",
   "pygments_lexer": "ipython3",
   "version": "3.8.5"
  }
 },
 "nbformat": 4,
 "nbformat_minor": 4
}
