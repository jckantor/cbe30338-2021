{
 "cells": [
  {
   "cell_type": "markdown",
   "metadata": {},
   "source": [
    "# [cbe30338-2021](https://jckantor.github.io/cbe30338-2021)\n",
    "\n",
    "## Index of Figures in this Repository\n",
    "\n",
    "### B.00-arduino_lab_kit.png\n",
    "![B.00-arduino_lab_kit.png](figures/B.00-arduino_lab_kit.png)\n",
    "* [21.1.1 Hardware](https://jckantor.github.io/cbe30338-2021/21.01-TCLab.html#21.1.1-Hardware)\n",
    "\n",
    "### B.00-TCLabOverview.png\n",
    "![B.00-TCLabOverview.png](figures/B.00-TCLabOverview.png)\n",
    "* [21.2 The TCLab Python Package](https://jckantor.github.io/cbe30338-2021/21.02-The-TCLab-Python-Package.html#21.2-The-TCLab-Python-Package)\n",
    "\n",
    "### Internal_Model_Control.png\n",
    "![Internal_Model_Control.png](figures/Internal_Model_Control.png)\n",
    "* [5.2.5.1 Internal Model Control](https://jckantor.github.io/cbe30338-2021/05.02-Closed--Loop-Transfer-Functions-for-Car-Cruise-Control.html#5.2.5.1-Internal-Model-Control)"
   ]
  }
 ],
 "metadata": {},
 "nbformat": 4,
 "nbformat_minor": 4
}
