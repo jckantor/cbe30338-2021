{
 "cells": [
  {
   "cell_type": "markdown",
   "metadata": {
    "nbpages": {
     "level": 0,
     "link": "[](https://jckantor.github.io/cbe30338-2021/22.10-TCLab-Lab-2-Model-Indentification.html)",
     "section": ""
    }
   },
   "source": [
    "<!--NOTEBOOK_HEADER-->\n",
    "*This notebook contains material from [cbe30338-2021](https://jckantor.github.io/cbe30338-2021);\n",
    "content is available [on Github](https://github.com/jckantor/cbe30338-2021.git).*\n"
   ]
  },
  {
   "cell_type": "markdown",
   "metadata": {
    "nbpages": {
     "level": 0,
     "link": "[](https://jckantor.github.io/cbe30338-2021/22.10-TCLab-Lab-2-Model-Indentification.html)",
     "section": ""
    }
   },
   "source": [
    "<!--NAVIGATION-->\n",
    "< [22.10 TCLab Lab 2: Model Identification](https://jckantor.github.io/cbe30338-2021/22.10-TCLab-Lab-2-Model-Indentification-Solutions.html) | [Contents](toc.html) | [Tag Index](tag_index.html) | [22.11 Model Identification: Fitting models to data](https://jckantor.github.io/cbe30338-2021/22.11-TCLab-Lab-2-Fitting.html) ><p><a href=\"https://colab.research.google.com/github/jckantor/cbe30338-2021/blob/master/docs/22.10-TCLab-Lab-2-Model-Indentification.ipynb\"> <img align=\"left\" src=\"https://colab.research.google.com/assets/colab-badge.svg\" alt=\"Open in Colab\" title=\"Open in Google Colaboratory\"></a><p><a href=\"https://jckantor.github.io/cbe30338-2021/22.10-TCLab-Lab-2-Model-Indentification.ipynb\"> <img align=\"left\" src=\"https://img.shields.io/badge/Github-Download-blue.svg\" alt=\"Download\" title=\"Download Notebook\"></a>"
   ]
  },
  {
   "cell_type": "code",
   "execution_count": null,
   "metadata": {},
   "outputs": [],
   "source": [
    "# IMPORT DATA FILES USED BY THIS NOTEBOOK\n",
    "import os,  requests\n",
    "\n",
    "file_links = [(\"data/tclab-data.csv\", \"https://jckantor.github.io/cbe30338-2021/data/tclab-data.csv\")]\n",
    "\n",
    "# This cell has been added by nbpages. Run this cell to download data files required for this notebook.\n",
    "\n",
    "for filepath, fileurl in file_links:\n",
    "    stem, filename = os.path.split(filepath)\n",
    "    if stem:\n",
    "        if not os.path.exists(stem):\n",
    "            os.mkdir(stem)\n",
    "    if not os.path.isfile(filepath):\n",
    "        with open(filepath, 'wb') as f:\n",
    "            response = requests.get(fileurl)\n",
    "            f.write(response.content)\n"
   ]
  },
  {
   "cell_type": "markdown",
   "metadata": {
    "nbpages": {
     "level": 1,
     "link": "[22.10 TCLab Lab 2: Model Identification](https://jckantor.github.io/cbe30338-2021/22.10-TCLab-Lab-2-Model-Indentification.html#22.10-TCLab-Lab-2:-Model-Identification)",
     "section": "22.10 TCLab Lab 2: Model Identification"
    }
   },
   "source": [
    "# 22.10 TCLab Lab 2: Model Identification"
   ]
  },
  {
   "cell_type": "markdown",
   "metadata": {
    "nbpages": {
     "level": 1,
     "link": "[22.10 TCLab Lab 2: Model Identification](https://jckantor.github.io/cbe30338-2021/22.10-TCLab-Lab-2-Model-Indentification.html#22.10-TCLab-Lab-2:-Model-Identification)",
     "section": "22.10 TCLab Lab 2: Model Identification"
    }
   },
   "source": [
    "For this laboratory session you will collect data from a step test experiment, then fit the data to models derived from first-principles energy balances. Fitting models to data is an engineering skill that links between the real world of engineering systems to the theory you've been learning in the classroom."
   ]
  },
  {
   "cell_type": "markdown",
   "metadata": {
    "nbpages": {
     "level": 2,
     "link": "[22.10.1 Procedures](https://jckantor.github.io/cbe30338-2021/22.10-TCLab-Lab-2-Model-Indentification.html#22.10.1-Procedures)",
     "section": "22.10.1 Procedures"
    }
   },
   "source": [
    "## 22.10.1 Procedures"
   ]
  },
  {
   "cell_type": "markdown",
   "metadata": {
    "nbpages": {
     "level": 2,
     "link": "[22.10.1 Procedures](https://jckantor.github.io/cbe30338-2021/22.10-TCLab-Lab-2-Model-Indentification.html#22.10.1-Procedures)",
     "section": "22.10.1 Procedures"
    }
   },
   "source": [
    "1. Please work in groups of two.\n",
    "\n",
    "2. Check out a TCLab kit. The kit consists of\n",
    "    * plastic container\n",
    "    * Arduino device with the TCLab shield installed\n",
    "    * 5 watt USB power supply\n",
    "    * USB power cable\n",
    "    * USB data cable\n",
    "    * equipment log sheet\n",
    "    \n",
    "   Before going further, sign and date the equipment log sheet. \n",
    "\n",
    "3. Download a copy of this notebook to your laptop, and complete the exercises shown below. Under each exercise heading, add as many text and code cells as needed to complete the exercise. The results should be embedded in the notebook. Be sure to 'save-as-you-go' to avoid losing your work.\n",
    "\n",
    "4. Add any relevant notes to the equipment log and return the kit to equipment at the front of the lab. **Return any malfunctioning kit to the instructor for repair.**\n",
    "\n",
    "5. Submit your completed lab notebook via Sakai.  The notebook should contain the name of both lab partners. Both partners should submit a copy of the notebook."
   ]
  },
  {
   "cell_type": "markdown",
   "metadata": {
    "nbpages": {
     "level": 2,
     "link": "[22.10.2 Exercise 1. Verify operation of the temperature control lab.](https://jckantor.github.io/cbe30338-2021/22.10-TCLab-Lab-2-Model-Indentification.html#22.10.2-Exercise-1.-Verify-operation-of-the-temperature-control-lab.)",
     "section": "22.10.2 Exercise 1. Verify operation of the temperature control lab."
    }
   },
   "source": [
    "## 22.10.2 Exercise 1. Verify operation of the temperature control lab.\n",
    "\n",
    "Execute the following cell to verify that you have a working connection to the temperature control lab hardware. This will test for installation of TCLab.py, connection to the Arduino device, and working firmware within the Arduino."
   ]
  },
  {
   "cell_type": "code",
   "execution_count": null,
   "metadata": {
    "nbpages": {
     "level": 2,
     "link": "[22.10.2 Exercise 1. Verify operation of the temperature control lab.](https://jckantor.github.io/cbe30338-2021/22.10-TCLab-Lab-2-Model-Indentification.html#22.10.2-Exercise-1.-Verify-operation-of-the-temperature-control-lab.)",
     "section": "22.10.2 Exercise 1. Verify operation of the temperature control lab."
    }
   },
   "outputs": [],
   "source": [
    "from tclab import TCLab, clock, Historian, Plotter\n",
    "\n",
    "lab = TCLab()\n",
    "print(\"TCLab Temperatures:\", lab.T1, lab.T2)\n",
    "lab.close()"
   ]
  },
  {
   "cell_type": "markdown",
   "metadata": {
    "nbpages": {
     "level": 2,
     "link": "[22.10.3 Exercise 2.  Check for steady state](https://jckantor.github.io/cbe30338-2021/22.10-TCLab-Lab-2-Model-Indentification.html#22.10.3-Exercise-2.-Check-for-steady-state)",
     "section": "22.10.3 Exercise 2.  Check for steady state"
    }
   },
   "source": [
    "## 22.10.3 Exercise 2.  Check for steady state\n",
    "\n",
    "As discussed in class, for good model fitting it is essential for the TCLab hardware to be at steady state before proceeding with the step test. Run the following code to verify that the heaters are off and that the temperatures are at a steady ambient temperature."
   ]
  },
  {
   "cell_type": "code",
   "execution_count": null,
   "metadata": {
    "nbpages": {
     "level": 2,
     "link": "[22.10.3 Exercise 2.  Check for steady state](https://jckantor.github.io/cbe30338-2021/22.10-TCLab-Lab-2-Model-Indentification.html#22.10.3-Exercise-2.-Check-for-steady-state)",
     "section": "22.10.3 Exercise 2.  Check for steady state"
    }
   },
   "outputs": [],
   "source": [
    "# experimental parameters\n",
    "tfinal = 30\n",
    "\n",
    "# perform experiment\n",
    "with TCLab() as lab:\n",
    "    h = Historian(lab.sources)\n",
    "    p = Plotter(h, tfinal)\n",
    "    for t in clock(tfinal):\n",
    "        p.update(t)"
   ]
  },
  {
   "cell_type": "markdown",
   "metadata": {
    "nbpages": {
     "level": 2,
     "link": "[22.10.4 Exercise 3. Step test.](https://jckantor.github.io/cbe30338-2021/22.10-TCLab-Lab-2-Model-Indentification.html#22.10.4-Exercise-3.-Step-test.)",
     "section": "22.10.4 Exercise 3. Step test."
    }
   },
   "source": [
    "## 22.10.4 Exercise 3. Step test.\n",
    "\n",
    "The step test consists of turning on one heater at 50% power and recording temperature data for at least 800 seconds. Copy and paste the code from Exercise 2 into the following cell, then modify as needed to accomplish the step test. "
   ]
  },
  {
   "cell_type": "code",
   "execution_count": null,
   "metadata": {
    "nbpages": {
     "level": 2,
     "link": "[22.10.4 Exercise 3. Step test.](https://jckantor.github.io/cbe30338-2021/22.10-TCLab-Lab-2-Model-Indentification.html#22.10.4-Exercise-3.-Step-test.)",
     "section": "22.10.4 Exercise 3. Step test."
    }
   },
   "outputs": [],
   "source": [
    "# write your code here"
   ]
  },
  {
   "cell_type": "markdown",
   "metadata": {
    "nbpages": {
     "level": 2,
     "link": "[22.10.5 Exercise 4. Verify and save data to a .csv file](https://jckantor.github.io/cbe30338-2021/22.10-TCLab-Lab-2-Model-Indentification.html#22.10.5-Exercise-4.-Verify-and-save-data-to-a-.csv-file)",
     "section": "22.10.5 Exercise 4. Verify and save data to a .csv file"
    }
   },
   "source": [
    "## 22.10.5 Exercise 4. Verify and save data to a .csv file\n",
    "\n",
    "Run the following cell to verify and save your data to a '.csv' file. Be sure you can find and locate the data on your laptop before leaving the lab. You will need access to this data for subsequent exercises."
   ]
  },
  {
   "cell_type": "code",
   "execution_count": null,
   "metadata": {
    "nbpages": {
     "level": 2,
     "link": "[22.10.5 Exercise 4. Verify and save data to a .csv file](https://jckantor.github.io/cbe30338-2021/22.10-TCLab-Lab-2-Model-Indentification.html#22.10.5-Exercise-4.-Verify-and-save-data-to-a-.csv-file)",
     "section": "22.10.5 Exercise 4. Verify and save data to a .csv file"
    }
   },
   "outputs": [],
   "source": [
    "%matplotlib inline\n",
    "import matplotlib.pyplot as plt\n",
    "\n",
    "t, T1, T2, Q1, Q2 = h.fields\n",
    "\n",
    "plt.plot(t, T1, t, T2, t, Q1, t, Q2)\n",
    "plt.legend(['T1','T2','Q1','Q2'])\n",
    "plt.xlabel('Time / seconds')\n",
    "plt.grid()\n",
    "\n",
    "h.to_csv('tclab-data.csv')"
   ]
  },
  {
   "cell_type": "markdown",
   "metadata": {
    "nbpages": {
     "level": 2,
     "link": "[22.10.6 Exercise 5. Analysis](https://jckantor.github.io/cbe30338-2021/22.10-TCLab-Lab-2-Model-Indentification.html#22.10.6-Exercise-5.-Analysis)",
     "section": "22.10.6 Exercise 5. Analysis"
    }
   },
   "source": [
    "## 22.10.6 Exercise 5. Analysis\n",
    "\n",
    "1.) Approximating the the step test results for T1 as a first order transfer function, estimate the time constant and gain. Write your answer in the following cell."
   ]
  },
  {
   "cell_type": "code",
   "execution_count": null,
   "metadata": {
    "nbpages": {
     "level": 2,
     "link": "[22.10.6 Exercise 5. Analysis](https://jckantor.github.io/cbe30338-2021/22.10-TCLab-Lab-2-Model-Indentification.html#22.10.6-Exercise-5.-Analysis)",
     "section": "22.10.6 Exercise 5. Analysis"
    }
   },
   "outputs": [],
   "source": []
  },
  {
   "cell_type": "markdown",
   "metadata": {
    "nbpages": {
     "level": 2,
     "link": "[22.10.6 Exercise 5. Analysis](https://jckantor.github.io/cbe30338-2021/22.10-TCLab-Lab-2-Model-Indentification.html#22.10.6-Exercise-5.-Analysis)",
     "section": "22.10.6 Exercise 5. Analysis"
    }
   },
   "source": [
    "2.) As we discussed in class, a simple energy balance model for T1 is given by\n",
    "\n",
    "$$C_p \\frac{dT_1}{dt} = U_a(T_{amb} - T_1) + P Q_1$$\n",
    "\n",
    "where the parameter $P$ has, through independent means, been determined as 0.04 watts per percent increase in $Q_1$. Use the results of this experiment to estimate values for $C_p$ and $U_a$. Write your answers in the following cell."
   ]
  },
  {
   "cell_type": "markdown",
   "metadata": {
    "nbpages": {
     "level": 2,
     "link": "[22.10.6 Exercise 5. Analysis](https://jckantor.github.io/cbe30338-2021/22.10-TCLab-Lab-2-Model-Indentification.html#22.10.6-Exercise-5.-Analysis)",
     "section": "22.10.6 Exercise 5. Analysis"
    }
   },
   "source": []
  },
  {
   "cell_type": "markdown",
   "metadata": {
    "nbpages": {
     "level": 2,
     "link": "[22.10.6 Exercise 5. Analysis](https://jckantor.github.io/cbe30338-2021/22.10-TCLab-Lab-2-Model-Indentification.html#22.10.6-Exercise-5.-Analysis)",
     "section": "22.10.6 Exercise 5. Analysis"
    }
   },
   "source": [
    "<!--NAVIGATION-->\n",
    "< [22.10 TCLab Lab 2: Model Identification](https://jckantor.github.io/cbe30338-2021/22.10-TCLab-Lab-2-Model-Indentification-Solutions.html) | [Contents](toc.html) | [Tag Index](tag_index.html) | [22.11 Model Identification: Fitting models to data](https://jckantor.github.io/cbe30338-2021/22.11-TCLab-Lab-2-Fitting.html) ><p><a href=\"https://colab.research.google.com/github/jckantor/cbe30338-2021/blob/master/docs/22.10-TCLab-Lab-2-Model-Indentification.ipynb\"> <img align=\"left\" src=\"https://colab.research.google.com/assets/colab-badge.svg\" alt=\"Open in Colab\" title=\"Open in Google Colaboratory\"></a><p><a href=\"https://jckantor.github.io/cbe30338-2021/22.10-TCLab-Lab-2-Model-Indentification.ipynb\"> <img align=\"left\" src=\"https://img.shields.io/badge/Github-Download-blue.svg\" alt=\"Download\" title=\"Download Notebook\"></a>"
   ]
  }
 ],
 "metadata": {
  "kernelspec": {
   "display_name": "Python 3",
   "language": "python",
   "name": "python3"
  },
  "language_info": {
   "codemirror_mode": {
    "name": "ipython",
    "version": 3
   },
   "file_extension": ".py",
   "mimetype": "text/x-python",
   "name": "python",
   "nbconvert_exporter": "python",
   "pygments_lexer": "ipython3",
   "version": "3.7.4"
  }
 },
 "nbformat": 4,
 "nbformat_minor": 4
}
