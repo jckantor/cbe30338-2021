{
 "cells": [
  {
   "cell_type": "markdown",
   "metadata": {
    "colab_type": "text",
    "id": "UeRQIUsNYBVm",
    "nbpages": {
     "level": 0,
     "link": "[](https://jckantor.github.io/cbe30338-2021/07.00-Simulation-and-Optimal-Control.html)",
     "section": ""
    }
   },
   "source": [
    "<!--NOTEBOOK_HEADER-->\n",
    "*This notebook contains material from [cbe30338-2021](https://jckantor.github.io/cbe30338-2021);\n",
    "content is available [on Github](https://github.com/jckantor/cbe30338-2021.git).*\n"
   ]
  },
  {
   "cell_type": "markdown",
   "metadata": {
    "colab_type": "text",
    "id": "4WiGEs4mYBVn",
    "nbpages": {
     "level": 0,
     "link": "[](https://jckantor.github.io/cbe30338-2021/07.00-Simulation-and-Optimal-Control.html)",
     "section": ""
    }
   },
   "source": [
    "<!--NAVIGATION-->\n",
    "< [6.99 Pyomo Examples](https://jckantor.github.io/cbe30338-2021/06.99-Pyomo-Examples.html) | [Contents](toc.html) | [Tag Index](tag_index.html) | [7.1 Simulation and Optimal Control in Pharmacokinetics](https://jckantor.github.io/cbe30338-2021/07.01-Simulation-and-Optimal-Control-in-Pharmacokinetics.html) ><p><a href=\"https://colab.research.google.com/github/jckantor/cbe30338-2021/blob/master/../cbe30338-2021/docs/07.00-Simulation-and-Optimal-Control.ipynb\"> <img align=\"left\" src=\"https://colab.research.google.com/assets/colab-badge.svg\" alt=\"Open in Colab\" title=\"Open in Google Colaboratory\"></a><p><a href=\"https://jckantor.github.io/cbe30338-2021/07.00-Simulation-and-Optimal-Control.ipynb\"> <img align=\"left\" src=\"https://img.shields.io/badge/Github-Download-blue.svg\" alt=\"Download\" title=\"Download Notebook\"></a>"
   ]
  },
  {
   "cell_type": "markdown",
   "metadata": {
    "colab_type": "text",
    "id": "OhMTyGqXYBVo",
    "nbpages": {
     "level": 1,
     "link": "[7.0 Simulation and Optimal Control](https://jckantor.github.io/cbe30338-2021/07.00-Simulation-and-Optimal-Control.html#7.0-Simulation-and-Optimal-Control)",
     "section": "7.0 Simulation and Optimal Control"
    }
   },
   "source": [
    "# 7.0 Simulation and Optimal Control"
   ]
  },
  {
   "cell_type": "markdown",
   "metadata": {
    "colab_type": "text",
    "id": "Qld7ka8bYDxV",
    "nbpages": {
     "level": 2,
     "link": "[7.0.1 Available Solvers](https://jckantor.github.io/cbe30338-2021/07.00-Simulation-and-Optimal-Control.html#7.0.1-Available-Solvers)",
     "section": "7.0.1 Available Solvers"
    }
   },
   "source": [
    "## 7.0.1 Available Solvers\n",
    "\n",
    "* [ampl.com](https://ampl.com/products/solvers/open-source/)"
   ]
  },
  {
   "cell_type": "markdown",
   "metadata": {
    "colab_type": "text",
    "id": "0rhOSuSKYBVp",
    "nbpages": {
     "level": 2,
     "link": "[7.0.1 Available Solvers](https://jckantor.github.io/cbe30338-2021/07.00-Simulation-and-Optimal-Control.html#7.0.1-Available-Solvers)",
     "section": "7.0.1 Available Solvers"
    }
   },
   "source": [
    "<!--NAVIGATION-->\n",
    "< [6.99 Pyomo Examples](https://jckantor.github.io/cbe30338-2021/06.99-Pyomo-Examples.html) | [Contents](toc.html) | [Tag Index](tag_index.html) | [7.1 Simulation and Optimal Control in Pharmacokinetics](https://jckantor.github.io/cbe30338-2021/07.01-Simulation-and-Optimal-Control-in-Pharmacokinetics.html) ><p><a href=\"https://colab.research.google.com/github/jckantor/cbe30338-2021/blob/master/../cbe30338-2021/docs/07.00-Simulation-and-Optimal-Control.ipynb\"> <img align=\"left\" src=\"https://colab.research.google.com/assets/colab-badge.svg\" alt=\"Open in Colab\" title=\"Open in Google Colaboratory\"></a><p><a href=\"https://jckantor.github.io/cbe30338-2021/07.00-Simulation-and-Optimal-Control.ipynb\"> <img align=\"left\" src=\"https://img.shields.io/badge/Github-Download-blue.svg\" alt=\"Download\" title=\"Download Notebook\"></a>"
   ]
  }
 ],
 "metadata": {
  "colab": {
   "collapsed_sections": [],
   "name": "07.00-Simulation-and-Optimal-Control.ipynb",
   "provenance": [],
   "version": "0.3.2"
  },
  "kernelspec": {
   "display_name": "Python 3",
   "language": "python",
   "name": "python3"
  }
 },
 "nbformat": 4,
 "nbformat_minor": 0
}
