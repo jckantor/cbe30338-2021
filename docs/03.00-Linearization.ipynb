{
 "cells": [
  {
   "cell_type": "markdown",
   "metadata": {
    "nbpages": {
     "level": 0,
     "link": "[](https://jckantor.github.io/cbe30338-2021/03.00-Linearization.html)",
     "section": ""
    }
   },
   "source": [
    "<!--NOTEBOOK_HEADER-->\n",
    "*This notebook contains material from [cbe30338-2021](https://jckantor.github.io/cbe30338-2021);\n",
    "content is available [on Github](https://github.com/jckantor/cbe30338-2021.git).*\n"
   ]
  },
  {
   "cell_type": "markdown",
   "metadata": {
    "nbpages": {
     "level": 0,
     "link": "[](https://jckantor.github.io/cbe30338-2021/03.00-Linearization.html)",
     "section": ""
    }
   },
   "source": [
    "<!--NAVIGATION-->\n",
    "< [2.10 Process Variables](https://jckantor.github.io/cbe30338-2021/02.10-Process-Variables.html) | [Contents](toc.html) | [Tag Index](tag_index.html) | [3.1 Step Response of a Gravity Drained Tank](https://jckantor.github.io/cbe30338-2021/03.01-Step-Response-of-a-Gravity-Drained-Tank.html) ><p><a href=\"https://colab.research.google.com/github/jckantor/cbe30338-2021/blob/master/docs/03.00-Linearization.ipynb\"> <img align=\"left\" src=\"https://colab.research.google.com/assets/colab-badge.svg\" alt=\"Open in Colab\" title=\"Open in Google Colaboratory\"></a><p><a href=\"https://jckantor.github.io/cbe30338-2021/03.00-Linearization.ipynb\"> <img align=\"left\" src=\"https://img.shields.io/badge/Github-Download-blue.svg\" alt=\"Download\" title=\"Download Notebook\"></a>"
   ]
  },
  {
   "cell_type": "markdown",
   "metadata": {
    "nbpages": {
     "level": 1,
     "link": "[3.0 Linearization](https://jckantor.github.io/cbe30338-2021/03.00-Linearization.html#3.0-Linearization)",
     "section": "3.0 Linearization"
    }
   },
   "source": [
    "# 3.0 Linearization"
   ]
  },
  {
   "cell_type": "markdown",
   "metadata": {
    "nbpages": {
     "level": 1,
     "link": "[3.0 Linearization](https://jckantor.github.io/cbe30338-2021/03.00-Linearization.html#3.0-Linearization)",
     "section": "3.0 Linearization"
    }
   },
   "source": [
    "<!--NAVIGATION-->\n",
    "< [2.10 Process Variables](https://jckantor.github.io/cbe30338-2021/02.10-Process-Variables.html) | [Contents](toc.html) | [Tag Index](tag_index.html) | [3.1 Step Response of a Gravity Drained Tank](https://jckantor.github.io/cbe30338-2021/03.01-Step-Response-of-a-Gravity-Drained-Tank.html) ><p><a href=\"https://colab.research.google.com/github/jckantor/cbe30338-2021/blob/master/docs/03.00-Linearization.ipynb\"> <img align=\"left\" src=\"https://colab.research.google.com/assets/colab-badge.svg\" alt=\"Open in Colab\" title=\"Open in Google Colaboratory\"></a><p><a href=\"https://jckantor.github.io/cbe30338-2021/03.00-Linearization.ipynb\"> <img align=\"left\" src=\"https://img.shields.io/badge/Github-Download-blue.svg\" alt=\"Download\" title=\"Download Notebook\"></a>"
   ]
  }
 ],
 "metadata": {
  "kernelspec": {
   "display_name": "Python 3",
   "language": "python",
   "name": "python3"
  },
  "language_info": {
   "codemirror_mode": {
    "name": "ipython",
    "version": 3
   },
   "file_extension": ".py",
   "mimetype": "text/x-python",
   "name": "python",
   "nbconvert_exporter": "python",
   "pygments_lexer": "ipython3",
   "version": "3.8.5"
  }
 },
 "nbformat": 4,
 "nbformat_minor": 4
}
