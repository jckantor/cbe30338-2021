{
 "cells": [
  {
   "cell_type": "markdown",
   "metadata": {},
   "source": [
    "<!--NOTEBOOK_HEADER-->\n",
    "*This notebook contains material from [cbe30338-2021](https://jckantor.github.io/cbe30338-2021);\n",
    "content is available [on Github](https://github.com/jckantor/cbe30338-2021.git).*\n"
   ]
  },
  {
   "cell_type": "markdown",
   "metadata": {},
   "source": [
    "<!--NAVIGATION-->\n",
    "< [4.2 State Estimation](https://jckantor.github.io/cbe30338-2021/04.02-State-Estimation.html) | [Contents](toc.html) | [4.4 Anomaly Detection](https://jckantor.github.io/cbe30338-2021/04.04-Anomaly-Detection.html) ><p><a href=\"https://colab.research.google.com/github/jckantor/cbe30338-2021/blob/master/docs/04.03-Lab-Assigment-State-Estimation.ipynb\"> <img align=\"left\" src=\"https://colab.research.google.com/assets/colab-badge.svg\" alt=\"Open in Colab\" title=\"Open in Google Colaboratory\"></a><p><a href=\"https://jckantor.github.io/cbe30338-2021/04.03-Lab-Assigment-State-Estimation.ipynb\"> <img align=\"left\" src=\"https://img.shields.io/badge/Github-Download-blue.svg\" alt=\"Download\" title=\"Download Notebook\"></a>"
   ]
  },
  {
   "cell_type": "markdown",
   "metadata": {
    "nbpages": {
     "level": 1,
     "link": "[4.3 Lab Assignment 5: State Estimation](https://jckantor.github.io/cbe30338-2021/04.03-Lab-Assigment-State-Estimation.html#4.3-Lab-Assignment-5:-State-Estimation)",
     "section": "4.3 Lab Assignment 5: State Estimation"
    }
   },
   "source": [
    "# 4.3 Lab Assignment 5: State Estimation\n",
    "\n",
    "Using the notes for Secion 4.2, the goal of this lab assignment is to build a state estimator for the Temperature Control Laboratory, then use it to achieve independent control of the two heater temperatures. The project will require updating the four state model your developed for Lab Assignment 2 described in Section 2.4."
   ]
  },
  {
   "cell_type": "markdown",
   "metadata": {
    "nbpages": {
     "level": 3,
     "link": "[4.3.1 Step 1. Estimate model parameters](https://jckantor.github.io/cbe30338-2021/04.03-Lab-Assigment-State-Estimation.html#4.3.1-Step-1.-Estimate-model-parameters)",
     "section": "4.3.1 Step 1. Estimate model parameters"
    }
   },
   "source": [
    "### 4.3.1 Step 1. Estimate model parameters\n",
    "\n",
    "Refer to exercise 3 from Lab Assignment 2. Write our the four state model of the Temperature Control Lab. If needed, perform the experiment described in the assignment to gather the data needed to fit all model parameters. Report the parameter values."
   ]
  },
  {
   "cell_type": "markdown",
   "metadata": {
    "nbpages": {
     "level": 3,
     "link": "[4.3.2 Step 2. Create state-space model](https://jckantor.github.io/cbe30338-2021/04.03-Lab-Assigment-State-Estimation.html#4.3.2-Step-2.-Create-state-space-model)",
     "section": "4.3.2 Step 2. Create state-space model"
    }
   },
   "source": [
    "### 4.3.2 Step 2. Create state-space model\n",
    "\n",
    "Using the matrix and vector formulation described in notebook 4.2, rewrite the equations for the four state model in state-space form. In a new python notebook, use the parameter values from Step 1 to numerically evaluate matrices $A$, $B_u$, $B_d$ and $d$.  Compute the eigenvalues (they should all be negative real numbers) of $A$ and report the negative inverse of the eigenvalues as time constants. "
   ]
  },
  {
   "cell_type": "markdown",
   "metadata": {
    "nbpages": {
     "level": 3,
     "link": "[4.3.3 Step 3. Implement a state estimator ](https://jckantor.github.io/cbe30338-2021/04.03-Lab-Assigment-State-Estimation.html#4.3.3-Step-3.-Implement-a-state-estimator)",
     "section": "4.3.3 Step 3. Implement a state estimator "
    }
   },
   "source": [
    "### 4.3.3 Step 3. Implement a state estimator \n",
    "\n",
    "Implement a state estimate utilizing measurements T1 and T2, and inputs Q1 and Q2, to estimate the state. As an initial choice for matrix $L$ use\n",
    "\n",
    "$$L = \\begin{bmatrix} 0.4 & 0 \\\\ 0.2 & 0 \\\\ 0 & 0.4 \\\\ 0 & 0.2 \\end{bmatrix}$$"
   ]
  },
  {
   "cell_type": "markdown",
   "metadata": {
    "nbpages": {
     "level": 3,
     "link": "[4.3.4 Step 4. Implement relay control for the heater temperatures T1H and T2H](https://jckantor.github.io/cbe30338-2021/04.03-Lab-Assigment-State-Estimation.html#4.3.4-Step-4.-Implement-relay-control-for-the-heater-temperatures-T1H-and-T2H)",
     "section": "4.3.4 Step 4. Implement relay control for the heater temperatures T1H and T2H"
    }
   },
   "source": [
    "### 4.3.4 Step 4. Implement relay control for the heater temperatures T1H and T2H\n",
    "\n",
    "Using constant setpoints of 45 and 40 degrees, respectively, for temperatures $T_{1}$ and $T_{2}$. At time t = 300, have the setpoints switch to 40 and 45 degrees, respectiviely. Show control performance over total of 600 seconds when using sensor measurements for relay control.  Replace the sensor measurements with observer estimates for heater temperatures $T_{H,1}$ and $T_{H,2}$ and repeat the test. What do you observe?"
   ]
  },
  {
   "cell_type": "code",
   "execution_count": null,
   "metadata": {
    "nbpages": {
     "level": 3,
     "link": "[4.3.4 Step 4. Implement relay control for the heater temperatures T1H and T2H](https://jckantor.github.io/cbe30338-2021/04.03-Lab-Assigment-State-Estimation.html#4.3.4-Step-4.-Implement-relay-control-for-the-heater-temperatures-T1H-and-T2H)",
     "section": "4.3.4 Step 4. Implement relay control for the heater temperatures T1H and T2H"
    }
   },
   "outputs": [],
   "source": []
  },
  {
   "cell_type": "markdown",
   "metadata": {},
   "source": [
    "<!--NAVIGATION-->\n",
    "< [4.2 State Estimation](https://jckantor.github.io/cbe30338-2021/04.02-State-Estimation.html) | [Contents](toc.html) | [4.4 Anomaly Detection](https://jckantor.github.io/cbe30338-2021/04.04-Anomaly-Detection.html) ><p><a href=\"https://colab.research.google.com/github/jckantor/cbe30338-2021/blob/master/docs/04.03-Lab-Assigment-State-Estimation.ipynb\"> <img align=\"left\" src=\"https://colab.research.google.com/assets/colab-badge.svg\" alt=\"Open in Colab\" title=\"Open in Google Colaboratory\"></a><p><a href=\"https://jckantor.github.io/cbe30338-2021/04.03-Lab-Assigment-State-Estimation.ipynb\"> <img align=\"left\" src=\"https://img.shields.io/badge/Github-Download-blue.svg\" alt=\"Download\" title=\"Download Notebook\"></a>"
   ]
  }
 ],
 "metadata": {
  "kernelspec": {
   "display_name": "Python 3",
   "language": "python",
   "name": "python3"
  },
  "language_info": {
   "codemirror_mode": {
    "name": "ipython",
    "version": 3
   },
   "file_extension": ".py",
   "mimetype": "text/x-python",
   "name": "python",
   "nbconvert_exporter": "python",
   "pygments_lexer": "ipython3",
   "version": "3.8.5"
  }
 },
 "nbformat": 4,
 "nbformat_minor": 4
}
