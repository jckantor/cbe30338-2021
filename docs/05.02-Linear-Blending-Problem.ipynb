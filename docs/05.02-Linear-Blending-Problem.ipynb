{
 "cells": [
  {
   "cell_type": "markdown",
   "metadata": {
    "nbpages": {
     "level": 0,
     "link": "[](https://jckantor.github.io/cbe30338-2021/05.02-Linear-Blending-Problem.html)",
     "section": ""
    }
   },
   "source": [
    "<!--NOTEBOOK_HEADER-->\n",
    "*This notebook contains material from [cbe30338-2021](https://jckantor.github.io/cbe30338-2021);\n",
    "content is available [on Github](https://github.com/jckantor/cbe30338-2021.git).*\n"
   ]
  },
  {
   "cell_type": "markdown",
   "metadata": {
    "nbpages": {
     "level": 0,
     "link": "[](https://jckantor.github.io/cbe30338-2021/05.02-Linear-Blending-Problem.html)",
     "section": ""
    }
   },
   "source": [
    "<!--NAVIGATION-->\n",
    "< [5.1 Linear Production Model](https://jckantor.github.io/cbe30338-2021/05.01-Linear-Production-Model.html) | [Contents](toc.html) | [Tag Index](tag_index.html) | [5.3 Gasoline Blending](https://jckantor.github.io/cbe30338-2021/05.03-Gasoline-Blending.html) ><p><a href=\"https://colab.research.google.com/github/jckantor/cbe30338-2021/blob/master/docs/05.02-Linear-Blending-Problem.ipynb\"> <img align=\"left\" src=\"https://colab.research.google.com/assets/colab-badge.svg\" alt=\"Open in Colab\" title=\"Open in Google Colaboratory\"></a><p><a href=\"https://jckantor.github.io/cbe30338-2021/05.02-Linear-Blending-Problem.ipynb\"> <img align=\"left\" src=\"https://img.shields.io/badge/Github-Download-blue.svg\" alt=\"Download\" title=\"Download Notebook\"></a>"
   ]
  },
  {
   "cell_type": "markdown",
   "metadata": {
    "nbpages": {
     "level": 1,
     "link": "[5.2 Linear Blending Problem](https://jckantor.github.io/cbe30338-2021/05.02-Linear-Blending-Problem.html#5.2-Linear-Blending-Problem)",
     "section": "5.2 Linear Blending Problem"
    }
   },
   "source": [
    "# 5.2 Linear Blending Problem\n",
    "\n",
    "This notebook introduces simple material blending problems, and outlines a multi-step procedure for creating and solving models for these problems using CVXPY."
   ]
  },
  {
   "cell_type": "markdown",
   "metadata": {
    "nbpages": {
     "level": 3,
     "link": "[5.2.1 Learning Goals](https://jckantor.github.io/cbe30338-2021/05.02-Linear-Blending-Problem.html#5.2.1-Learning-Goals)",
     "section": "5.2.1 Learning Goals"
    }
   },
   "source": [
    "### 5.2.1 Learning Goals\n",
    "\n",
    "* Linear Blending problems\n",
    "    * Frequently encountered in material blending \n",
    "    * Models generally consist of linear mixing rules and mass/material balances\n",
    "    * Decision variables are indexed by a set of raw materials\n",
    "    \n",
    "    \n",
    "* Modeling and solving linear blending problems in CVXPY\n",
    "    * Step 1. Coding problem data. Nested dictionaries or Pandas dataframes.\n",
    "    * Step 2. Create index set. Use .keys() with nested dictionaries, or .index with Pandas dataframes.\n",
    "    * Step 3. Create a dictionary of decision variables. Add any pertinent qualifiers or constraints for individual variables such as lower and upper bounds, non-negativity, variable names.\n",
    "    * Step 4. Create an expression defining the problem objective.\n",
    "    * Step 5. Create a one or more lists of problem constraints.\n",
    "    * Step 6. Create the problem object from the objectives and constraints.\n",
    "    * Step 7. Solve and display the solution."
   ]
  },
  {
   "cell_type": "markdown",
   "metadata": {
    "nbpages": {
     "level": 2,
     "link": "[5.2.1 Problem Statement (Jenchura, 2017)](https://jckantor.github.io/cbe30338-2021/05.02-Linear-Blending-Problem.html#5.2.1-Problem-Statement-(Jenchura,-2017))",
     "section": "5.2.1 Problem Statement (Jenchura, 2017)"
    }
   },
   "source": [
    "## 5.2.1 Problem Statement (Jenchura, 2017)\n",
    "\n",
    "A brewery receives an order for 100 gallons of 4% ABV (alchohol by volume) beer. The brewery has on hand beer A that is 4.5% ABV that cost \\\\$0.32 per gallon to make, and beer B that is 3.7% ABV and cost \\\\$0.25 per gallon. Water can also be used as a blending agent at a cost of \\\\$0.05 per gallon. Find the minimum cost blend that meets the customer requirements."
   ]
  },
  {
   "cell_type": "markdown",
   "metadata": {
    "nbpages": {
     "level": 2,
     "link": "[5.2.2 Solving optimization problems with CVXPY](https://jckantor.github.io/cbe30338-2021/05.02-Linear-Blending-Problem.html#5.2.2-Solving-optimization-problems-with-CVXPY)",
     "section": "5.2.2 Solving optimization problems with CVXPY"
    }
   },
   "source": [
    "## 5.2.2 Solving optimization problems with CVXPY\n",
    "\n",
    "The blending problem described above is relatively simple, it can be solved in CVXPY using no more than `cp.Variable()`, `cp.Minimize()`, and `cp.Problem()` as demonstrated below."
   ]
  },
  {
   "cell_type": "code",
   "execution_count": 4,
   "metadata": {
    "nbpages": {
     "level": 2,
     "link": "[5.2.2 Solving optimization problems with CVXPY](https://jckantor.github.io/cbe30338-2021/05.02-Linear-Blending-Problem.html#5.2.2-Solving-optimization-problems-with-CVXPY)",
     "section": "5.2.2 Solving optimization problems with CVXPY"
    }
   },
   "outputs": [],
   "source": [
    "import numpy as np\n",
    "import cvxpy as cp"
   ]
  },
  {
   "cell_type": "markdown",
   "metadata": {
    "nbpages": {
     "level": 3,
     "link": "[5.2.2.1 Step 1. Coding Problem Data as a Python Dictionary](https://jckantor.github.io/cbe30338-2021/05.02-Linear-Blending-Problem.html#5.2.2.1-Step-1.-Coding-Problem-Data-as-a-Python-Dictionary)",
     "section": "5.2.2.1 Step 1. Coding Problem Data as a Python Dictionary"
    }
   },
   "source": [
    "### 5.2.2.1 Step 1. Coding Problem Data as a Python Dictionary\n",
    "\n",
    "The first step is to represent the problem data in a generic manner that could be extended to include additional blending components.  Here we use a dictionary of raw materials, each key denoting a unique blending agent. For each key there is a second level dictionary containing attributes of the blending component. This nested \"dictionary of dictionaries\" organization is a useful of organizing tabular data for optimization problems."
   ]
  },
  {
   "cell_type": "code",
   "execution_count": 28,
   "metadata": {
    "nbpages": {
     "level": 3,
     "link": "[5.2.2.1 Step 1. Coding Problem Data as a Python Dictionary](https://jckantor.github.io/cbe30338-2021/05.02-Linear-Blending-Problem.html#5.2.2.1-Step-1.-Coding-Problem-Data-as-a-Python-Dictionary)",
     "section": "5.2.2.1 Step 1. Coding Problem Data as a Python Dictionary"
    }
   },
   "outputs": [
    {
     "name": "stdout",
     "output_type": "stream",
     "text": [
      "{'A': {'abv': 0.045, 'cost': 0.32}, 'B': {'abv': 0.037, 'cost': 0.25}, 'C': {'abv': 0.03, 'cost': 0.09}, 'W': {'abv': 0.0, 'cost': 0.05}}\n"
     ]
    }
   ],
   "source": [
    "data = {\n",
    "    'A': {'abv': 0.045, 'cost': 0.32},\n",
    "    'B': {'abv': 0.037, 'cost': 0.25},\n",
    "    'W': {'abv': 0.000, 'cost': 0.05},\n",
    "}\n",
    "print(data)"
   ]
  },
  {
   "cell_type": "markdown",
   "metadata": {
    "nbpages": {
     "level": 3,
     "link": "[5.2.2.2 Step 2. Identifying index sets](https://jckantor.github.io/cbe30338-2021/05.02-Linear-Blending-Problem.html#5.2.2.2-Step-2.-Identifying-index-sets)",
     "section": "5.2.2.2 Step 2. Identifying index sets"
    }
   },
   "source": [
    "### 5.2.2.2 Step 2. Identifying index sets\n",
    "\n",
    "The objectives and constraints encountered in optimization problems often include sums over a set of objects. In the case, we will need to create sums over the set of raw materials in the blending problem."
   ]
  },
  {
   "cell_type": "code",
   "execution_count": 29,
   "metadata": {
    "nbpages": {
     "level": 3,
     "link": "[5.2.2.2 Step 2. Identifying index sets](https://jckantor.github.io/cbe30338-2021/05.02-Linear-Blending-Problem.html#5.2.2.2-Step-2.-Identifying-index-sets)",
     "section": "5.2.2.2 Step 2. Identifying index sets"
    }
   },
   "outputs": [
    {
     "name": "stdout",
     "output_type": "stream",
     "text": [
      "{'C', 'A', 'W', 'B'}\n"
     ]
    }
   ],
   "source": [
    "components = set(data.keys())\n",
    "print(components)"
   ]
  },
  {
   "cell_type": "markdown",
   "metadata": {
    "nbpages": {
     "level": 3,
     "link": "[5.2.2.3 Step 3. Create decision variables](https://jckantor.github.io/cbe30338-2021/05.02-Linear-Blending-Problem.html#5.2.2.3-Step-3.-Create-decision-variables)",
     "section": "5.2.2.3 Step 3. Create decision variables"
    }
   },
   "source": [
    "### 5.2.2.3 Step 3. Create decision variables"
   ]
  },
  {
   "cell_type": "code",
   "execution_count": 30,
   "metadata": {
    "nbpages": {
     "level": 3,
     "link": "[5.2.2.3 Step 3. Create decision variables](https://jckantor.github.io/cbe30338-2021/05.02-Linear-Blending-Problem.html#5.2.2.3-Step-3.-Create-decision-variables)",
     "section": "5.2.2.3 Step 3. Create decision variables"
    }
   },
   "outputs": [
    {
     "name": "stdout",
     "output_type": "stream",
     "text": [
      "{'C': Variable((), nonneg=True), 'A': Variable((), nonneg=True), 'W': Variable((), nonneg=True), 'B': Variable((), nonneg=True)}\n"
     ]
    }
   ],
   "source": [
    "x = {c: cp.Variable(nonneg=True) for c in components}\n",
    "print(x)"
   ]
  },
  {
   "cell_type": "markdown",
   "metadata": {
    "nbpages": {
     "level": 3,
     "link": "[5.2.2.4 Step 4. Objective Function](https://jckantor.github.io/cbe30338-2021/05.02-Linear-Blending-Problem.html#5.2.2.4-Step-4.-Objective-Function)",
     "section": "5.2.2.4 Step 4. Objective Function"
    }
   },
   "source": [
    "### 5.2.2.4 Step 4. Objective Function\n",
    "\n",
    "If we let subscript $c$ denote a blending component from the set of blending components $C$, and denote the volume of $c$ used in the blend as $x_c$, the cost of the blend is\n",
    "\n",
    "\\begin{align}\n",
    "\\mbox{cost} & = \\sum_{c\\in C} x_c P_c\n",
    "\\end{align}\n",
    "\n",
    "where $P_c$ is the price per unit volume of $c$. Using the Python data dictionary defined above, the price $P_c$ is given by `data[c]['cost']`."
   ]
  },
  {
   "cell_type": "code",
   "execution_count": 31,
   "metadata": {
    "nbpages": {
     "level": 3,
     "link": "[5.2.2.4 Step 4. Objective Function](https://jckantor.github.io/cbe30338-2021/05.02-Linear-Blending-Problem.html#5.2.2.4-Step-4.-Objective-Function)",
     "section": "5.2.2.4 Step 4. Objective Function"
    }
   },
   "outputs": [
    {
     "name": "stdout",
     "output_type": "stream",
     "text": [
      "minimize var8441 @ 0.09 + var8442 @ 0.32 + var8443 @ 0.05 + var8444 @ 0.25\n"
     ]
    }
   ],
   "source": [
    "total_cost = sum([x[c]*data[c][\"cost\"] for c in components])\n",
    "objective = cp.Minimize(total_cost)\n",
    "print(objective)"
   ]
  },
  {
   "cell_type": "markdown",
   "metadata": {
    "nbpages": {
     "level": 3,
     "link": "[5.2.2.5 Step 5. Constraints](https://jckantor.github.io/cbe30338-2021/05.02-Linear-Blending-Problem.html#5.2.2.5-Step-5.-Constraints)",
     "section": "5.2.2.5 Step 5. Constraints"
    }
   },
   "source": [
    "### 5.2.2.5 Step 5. Constraints"
   ]
  },
  {
   "cell_type": "code",
   "execution_count": 32,
   "metadata": {
    "nbpages": {
     "level": 3,
     "link": "[5.2.2.5 Step 5. Constraints](https://jckantor.github.io/cbe30338-2021/05.02-Linear-Blending-Problem.html#5.2.2.5-Step-5.-Constraints)",
     "section": "5.2.2.5 Step 5. Constraints"
    }
   },
   "outputs": [],
   "source": [
    "V = 100\n",
    "abv = 0.040\n",
    "constraints = []"
   ]
  },
  {
   "cell_type": "markdown",
   "metadata": {
    "nbpages": {
     "level": 4,
     "link": "[5.2.2.5.1 Volume Constraint](https://jckantor.github.io/cbe30338-2021/05.02-Linear-Blending-Problem.html#5.2.2.5.1-Volume-Constraint)",
     "section": "5.2.2.5.1 Volume Constraint"
    }
   },
   "source": [
    "#### 5.2.2.5.1 Volume Constraint\n",
    "\n",
    "The customer requirement is produce a total volume $V$. Assuming ideal solutions, the constraint is given by\n",
    "\n",
    "\\begin{align}\n",
    "V &  = \\sum_{c\\in C} x_c\n",
    "\\end{align}\n",
    "\n",
    "where $x_c$ denotes the volume of component $c$ used in the blend."
   ]
  },
  {
   "cell_type": "code",
   "execution_count": 33,
   "metadata": {
    "nbpages": {
     "level": 4,
     "link": "[5.2.2.5.1 Volume Constraint](https://jckantor.github.io/cbe30338-2021/05.02-Linear-Blending-Problem.html#5.2.2.5.1-Volume-Constraint)",
     "section": "5.2.2.5.1 Volume Constraint"
    }
   },
   "outputs": [],
   "source": [
    "constraints.append(V == sum(x[c] for c in components))"
   ]
  },
  {
   "cell_type": "markdown",
   "metadata": {
    "nbpages": {
     "level": 4,
     "link": "[5.2.2.5.2 Product Composition Constraint](https://jckantor.github.io/cbe30338-2021/05.02-Linear-Blending-Problem.html#5.2.2.5.2-Product-Composition-Constraint)",
     "section": "5.2.2.5.2 Product Composition Constraint"
    }
   },
   "source": [
    "#### 5.2.2.5.2 Product Composition Constraint\n",
    "\n",
    "The product composition is specified as 4% alchohol by volume. Denoting this as $\\bar{A}$, the constraint may be written as\n",
    "\n",
    "\\begin{align}\n",
    "\\bar{A} & = \\frac{\\sum_{c\\in C}x_c A_c}{\\sum_{c\\in C} x_c}\n",
    "\\end{align}\n",
    "\n",
    "where $A_c$ is the alcohol by volume for component $c$. As written, this is a nonlinear constraint. Multiplying both sides of the equation by the denominator yields a linear constraint\n",
    "\n",
    "\\begin{align}\n",
    "\\bar{A}\\sum_{c\\in C} x_c & = \\sum_{c\\in C}x_c A_c\n",
    "\\end{align}\n",
    "\n",
    "A final form for this constraint can be given in either of two versions. In the first version we subtract the left-hand side from the right to give\n",
    "\n",
    "\\begin{align}\n",
    "0 & = \\sum_{c\\in C}x_c \\left(A_c - \\bar{A}\\right) & \\mbox{ Version 1 of the linear blending constraint}\n",
    "\\end{align}\n",
    "\n",
    "Alternatively, the summation on the left-hand side corresponds to total volume. Since that is known as part of the problem specification, the blending constraint could also be written as\n",
    "\n",
    "\\begin{align}\n",
    "\\bar{A}V & = \\sum_{c\\in C}x_c A_c  & \\mbox{ Version 2 of the linear blending constraint}\n",
    "\\end{align}\n",
    "\n",
    "Which should you use? Either will generally work well. The advantage of version 1 is that it is fully specified by a product requirement $\\bar{A}$, which is sometimes helpful in writing elegant Python code."
   ]
  },
  {
   "cell_type": "code",
   "execution_count": 34,
   "metadata": {
    "nbpages": {
     "level": 4,
     "link": "[5.2.2.5.2 Product Composition Constraint](https://jckantor.github.io/cbe30338-2021/05.02-Linear-Blending-Problem.html#5.2.2.5.2-Product-Composition-Constraint)",
     "section": "5.2.2.5.2 Product Composition Constraint"
    }
   },
   "outputs": [],
   "source": [
    "constraints.append(0 <= sum(x[c]*(data[c]['abv'] - abv) for c in components))"
   ]
  },
  {
   "cell_type": "markdown",
   "metadata": {
    "nbpages": {
     "level": 3,
     "link": "[5.2.2.6 Step 6. Create CVXPY Problem object](https://jckantor.github.io/cbe30338-2021/05.02-Linear-Blending-Problem.html#5.2.2.6-Step-6.-Create-CVXPY-Problem-object)",
     "section": "5.2.2.6 Step 6. Create CVXPY Problem object"
    }
   },
   "source": [
    "### 5.2.2.6 Step 6. Create CVXPY Problem object"
   ]
  },
  {
   "cell_type": "code",
   "execution_count": 35,
   "metadata": {
    "nbpages": {
     "level": 3,
     "link": "[5.2.2.6 Step 6. Create CVXPY Problem object](https://jckantor.github.io/cbe30338-2021/05.02-Linear-Blending-Problem.html#5.2.2.6-Step-6.-Create-CVXPY-Problem-object)",
     "section": "5.2.2.6 Step 6. Create CVXPY Problem object"
    }
   },
   "outputs": [],
   "source": [
    "problem = cp.Problem(objective, constraints)"
   ]
  },
  {
   "cell_type": "markdown",
   "metadata": {
    "nbpages": {
     "level": 3,
     "link": "[5.2.2.7 Step 7. Solve problem and display solution](https://jckantor.github.io/cbe30338-2021/05.02-Linear-Blending-Problem.html#5.2.2.7-Step-7.-Solve-problem-and-display-solution)",
     "section": "5.2.2.7 Step 7. Solve problem and display solution"
    }
   },
   "source": [
    "### 5.2.2.7 Step 7. Solve problem and display solution"
   ]
  },
  {
   "cell_type": "code",
   "execution_count": 36,
   "metadata": {
    "nbpages": {
     "level": 3,
     "link": "[5.2.2.7 Step 7. Solve problem and display solution](https://jckantor.github.io/cbe30338-2021/05.02-Linear-Blending-Problem.html#5.2.2.7-Step-7.-Solve-problem-and-display-solution)",
     "section": "5.2.2.7 Step 7. Solve problem and display solution"
    }
   },
   "outputs": [
    {
     "name": "stdout",
     "output_type": "stream",
     "text": [
      "Minimum cost to produce 100 gallons at ABV=0.04 = $24.33\n",
      "A: 66.67 gallons\n",
      "B:  0.00 gallons\n",
      "C: 33.33 gallons\n",
      "W:  0.00 gallons\n"
     ]
    }
   ],
   "source": [
    "problem.solve()\n",
    "\n",
    "print(f\"Minimum cost to produce {V} gallons at ABV={abv} = ${total_cost.value:5.2f}\")\n",
    "for c in sorted(components):\n",
    "    print(f\"{c}: {x[c].value:5.2f} gallons\")"
   ]
  },
  {
   "cell_type": "markdown",
   "metadata": {
    "nbpages": {
     "level": 2,
     "link": "[5.2.3 Parametric Studies](https://jckantor.github.io/cbe30338-2021/05.02-Linear-Blending-Problem.html#5.2.3-Parametric-Studies)",
     "section": "5.2.3 Parametric Studies"
    }
   },
   "source": [
    "## 5.2.3 Parametric Studies\n",
    "\n",
    "An important use of optimization models is to investigate how operations depend on critical parameters. For example, for this blending problem we may be interested in questions like:\n",
    "\n",
    "* How does the operating cost change with product alcohol content?\n",
    "* What is the cost of producing one more gallon of product?\n",
    "* What if the supply of a raw material is constrained?\n",
    "* What if we produce two products rather than one?\n",
    "* How much would be pay for raw materials with different specifications"
   ]
  },
  {
   "cell_type": "markdown",
   "metadata": {
    "nbpages": {
     "level": 3,
     "link": "[5.2.3.1 Consolidating](https://jckantor.github.io/cbe30338-2021/05.02-Linear-Blending-Problem.html#5.2.3.1-Consolidating)",
     "section": "5.2.3.1 Consolidating"
    }
   },
   "source": [
    "### 5.2.3.1 Consolidating\n",
    "\n",
    "To enable parametric studies, our first step is to consolidate all of the prior development into a single cell, and to consolidate the "
   ]
  },
  {
   "cell_type": "code",
   "execution_count": 63,
   "metadata": {
    "nbpages": {
     "level": 3,
     "link": "[5.2.3.1 Consolidating](https://jckantor.github.io/cbe30338-2021/05.02-Linear-Blending-Problem.html#5.2.3.1-Consolidating)",
     "section": "5.2.3.1 Consolidating"
    }
   },
   "outputs": [
    {
     "name": "stdout",
     "output_type": "stream",
     "text": [
      "Minimum cost to produce 100 gallons at ABV=0.04 = $24.33\n",
      "A: 66.67\n",
      "B:  0.00\n",
      "C: 33.33\n",
      "W:  0.00\n",
      "{'C': 33.333333327922226, 'A': 66.6666666671207, 'W': 1.1218738137027075e-09, 'B': 3.835217640330187e-09}\n"
     ]
    },
    {
     "data": {
      "text/html": [
       "<div>\n",
       "<style scoped>\n",
       "    .dataframe tbody tr th:only-of-type {\n",
       "        vertical-align: middle;\n",
       "    }\n",
       "\n",
       "    .dataframe tbody tr th {\n",
       "        vertical-align: top;\n",
       "    }\n",
       "\n",
       "    .dataframe thead th {\n",
       "        text-align: right;\n",
       "    }\n",
       "</style>\n",
       "<table border=\"1\" class=\"dataframe\">\n",
       "  <thead>\n",
       "    <tr style=\"text-align: right;\">\n",
       "      <th></th>\n",
       "      <th>C</th>\n",
       "      <th>A</th>\n",
       "      <th>W</th>\n",
       "      <th>B</th>\n",
       "    </tr>\n",
       "  </thead>\n",
       "  <tbody>\n",
       "    <tr>\n",
       "      <th>C</th>\n",
       "      <td>33.333333</td>\n",
       "      <td>66.666667</td>\n",
       "      <td>1.121874e-09</td>\n",
       "      <td>3.835218e-09</td>\n",
       "    </tr>\n",
       "    <tr>\n",
       "      <th>A</th>\n",
       "      <td>33.333333</td>\n",
       "      <td>66.666667</td>\n",
       "      <td>1.121874e-09</td>\n",
       "      <td>3.835218e-09</td>\n",
       "    </tr>\n",
       "    <tr>\n",
       "      <th>W</th>\n",
       "      <td>33.333333</td>\n",
       "      <td>66.666667</td>\n",
       "      <td>1.121874e-09</td>\n",
       "      <td>3.835218e-09</td>\n",
       "    </tr>\n",
       "    <tr>\n",
       "      <th>B</th>\n",
       "      <td>33.333333</td>\n",
       "      <td>66.666667</td>\n",
       "      <td>1.121874e-09</td>\n",
       "      <td>3.835218e-09</td>\n",
       "    </tr>\n",
       "  </tbody>\n",
       "</table>\n",
       "</div>"
      ],
      "text/plain": [
       "           C          A             W             B\n",
       "C  33.333333  66.666667  1.121874e-09  3.835218e-09\n",
       "A  33.333333  66.666667  1.121874e-09  3.835218e-09\n",
       "W  33.333333  66.666667  1.121874e-09  3.835218e-09\n",
       "B  33.333333  66.666667  1.121874e-09  3.835218e-09"
      ]
     },
     "execution_count": 63,
     "metadata": {},
     "output_type": "execute_result"
    }
   ],
   "source": [
    "import numpy as np\n",
    "import cvxpy as cp\n",
    "import pandas as pd\n",
    "\n",
    "def brew_blend(volume, abv, data):\n",
    "    \n",
    "    # create set of components\n",
    "    components = set(data.keys())\n",
    "    \n",
    "    # create variables\n",
    "    x = {c: cp.Variable(nonneg=True, name=c) for c in components}\n",
    "    \n",
    "    # create objective function\n",
    "    total_cost = sum(x[c]*data[c]['cost'] for c in components)\n",
    "    \n",
    "    # create list of constraints\n",
    "    constraints = [\n",
    "        volume == sum(x[c] for c in components),\n",
    "        0 == sum(x[c]*(data[c]['abv'] - abv) for c in components)\n",
    "    ]\n",
    "    \n",
    "    # create and solve problem\n",
    "    problem = cp.Problem(cp.Minimize(total_cost), constraints)\n",
    "    problem.solve()\n",
    "    \n",
    "    # return results\n",
    "    min_cost = problem.value\n",
    "    optimal_blend = {c: x[c].value for c in components}\n",
    "    return min_cost, optimal_blend\n",
    "\n",
    "# problem data\n",
    "data = {\n",
    "    'A': {'abv': 0.045, 'cost': 0.32},\n",
    "    'B': {'abv': 0.037, 'cost': 0.25},\n",
    "    \"C\": {'abv': 0.030, 'cost': 0.09},\n",
    "    'W': {'abv': 0.000, 'cost': 0.05},\n",
    "}\n",
    "\n",
    "# product requirement\n",
    "volume = 100\n",
    "abv = 0.04\n",
    "\n",
    "# optimal solution\n",
    "min_cost, optimal_blend = brew_blend(volume, abv, data)\n",
    "\n",
    "# display solutoin\n",
    "print(f\"Minimum cost to produce {volume} gallons at ABV={abv} = ${min_cost:5.2f}\")\n",
    "for c in sorted(optimal_blend.keys()):\n",
    "    print(f\"{c}: {optimal_blend[c]:5.2f}\")\n",
    "\n",
    "print(optimal_blend)\n",
    "df = pd.DataFrame(optimal_blend, index=optimal_blend.keys())\n",
    "df"
   ]
  },
  {
   "cell_type": "code",
   "execution_count": 38,
   "metadata": {
    "nbpages": {
     "level": 3,
     "link": "[5.2.3.1 Consolidating](https://jckantor.github.io/cbe30338-2021/05.02-Linear-Blending-Problem.html#5.2.3.1-Consolidating)",
     "section": "5.2.3.1 Consolidating"
    }
   },
   "outputs": [
    {
     "data": {
      "image/png": "[encoded data removed]",
      "text/plain": [
       "<Figure size 432x288 with 2 Axes>"
      ]
     },
     "metadata": {
      "needs_background": "light"
     },
     "output_type": "display_data"
    }
   ],
   "source": [
    "%matplotlib inline\n",
    "\n",
    "import numpy as np\n",
    "import matplotlib.pyplot as plt\n",
    "\n",
    "data = {\n",
    "    'A': {'abv': 0.045, 'cost': 0.32},\n",
    "    'B': {'abv': 0.037, 'cost': 0.25},\n",
    "    \"C\": {'abv': 0.030, 'cost': 0.09},\n",
    "    'W': {'abv': 0.000, 'cost': 0.05},\n",
    "}\n",
    "\n",
    "# gather results for a range of abv values\n",
    "abv = np.linspace(0, 0.05)\n",
    "results = [brew_blend(volume, a, data) for a in abv]\n",
    "\n",
    "fig, ax = plt.subplots(2, 1, sharex=True)\n",
    "ax[0].plot(abv, [cost for cost, values in results])\n",
    "ax[0].set_ylabel(\"$\")\n",
    "ax[0].grid(True)\n",
    "\n",
    "for c in sorted(data.keys()):\n",
    "    ax[1].plot(abv, [values[c] for cost, values in results], label=c)\n",
    "ax[1].set_xlabel('Blended ABV')\n",
    "ax[1].set_ylabel('gallons')\n",
    "ax[1].legend()\n",
    "ax[1].grid(True)"
   ]
  },
  {
   "cell_type": "markdown",
   "metadata": {
    "nbpages": {
     "level": 3,
     "link": "[5.2.3.1 Consolidating](https://jckantor.github.io/cbe30338-2021/05.02-Linear-Blending-Problem.html#5.2.3.1-Consolidating)",
     "section": "5.2.3.1 Consolidating"
    }
   },
   "source": [
    "<hr>\n",
    "\n",
    "**Study Question:** "
   ]
  },
  {
   "cell_type": "markdown",
   "metadata": {
    "nbpages": {
     "level": 3,
     "link": "[5.2.3.1 Consolidating](https://jckantor.github.io/cbe30338-2021/05.02-Linear-Blending-Problem.html#5.2.3.1-Consolidating)",
     "section": "5.2.3.1 Consolidating"
    }
   },
   "source": [
    "<!--NAVIGATION-->\n",
    "< [5.1 Linear Production Model](https://jckantor.github.io/cbe30338-2021/05.01-Linear-Production-Model.html) | [Contents](toc.html) | [Tag Index](tag_index.html) | [5.3 Gasoline Blending](https://jckantor.github.io/cbe30338-2021/05.03-Gasoline-Blending.html) ><p><a href=\"https://colab.research.google.com/github/jckantor/cbe30338-2021/blob/master/docs/05.02-Linear-Blending-Problem.ipynb\"> <img align=\"left\" src=\"https://colab.research.google.com/assets/colab-badge.svg\" alt=\"Open in Colab\" title=\"Open in Google Colaboratory\"></a><p><a href=\"https://jckantor.github.io/cbe30338-2021/05.02-Linear-Blending-Problem.ipynb\"> <img align=\"left\" src=\"https://img.shields.io/badge/Github-Download-blue.svg\" alt=\"Download\" title=\"Download Notebook\"></a>"
   ]
  }
 ],
 "metadata": {
  "kernelspec": {
   "display_name": "Python 3",
   "language": "python",
   "name": "python3"
  },
  "language_info": {
   "codemirror_mode": {
    "name": "ipython",
    "version": 3
   },
   "file_extension": ".py",
   "mimetype": "text/x-python",
   "name": "python",
   "nbconvert_exporter": "python",
   "pygments_lexer": "ipython3",
   "version": "3.8.5"
  }
 },
 "nbformat": 4,
 "nbformat_minor": 4
}
