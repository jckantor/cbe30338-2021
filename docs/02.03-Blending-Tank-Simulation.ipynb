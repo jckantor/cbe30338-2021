{
 "cells": [
  {
   "cell_type": "markdown",
   "metadata": {
    "nbpages": {
     "level": 0,
     "link": "[](https://jckantor.github.io/cbe30338-2021/02.03-Blending-Tank-Simulation.html)",
     "section": ""
    }
   },
   "source": [
    "<!--NOTEBOOK_HEADER-->\n",
    "*This notebook contains material from [cbe30338-2021](https://jckantor.github.io/cbe30338-2021);\n",
    "content is available [on Github](https://github.com/jckantor/cbe30338-2021.git).*\n"
   ]
  },
  {
   "cell_type": "markdown",
   "metadata": {
    "nbpages": {
     "level": 0,
     "link": "[](https://jckantor.github.io/cbe30338-2021/02.03-Blending-Tank-Simulation.html)",
     "section": ""
    }
   },
   "source": [
    "<!--NAVIGATION-->\n",
    "< [2.2 Gravity Drained Tank](https://jckantor.github.io/cbe30338-2021/02.02-Gravity-Drained-Tank.html) | [Contents](toc.html) | [Tag Index](tag_index.html) | [2.3 Fed-Batch Bioreactor](https://jckantor.github.io/cbe30338-2021/02.03-Fed-Batch-Bioreactor.html) ><p><a href=\"https://colab.research.google.com/github/jckantor/cbe30338-2021/blob/master/docs/02.03-Blending-Tank-Simulation.ipynb\"> <img align=\"left\" src=\"https://colab.research.google.com/assets/colab-badge.svg\" alt=\"Open in Colab\" title=\"Open in Google Colaboratory\"></a><p><a href=\"https://jckantor.github.io/cbe30338-2021/02.03-Blending-Tank-Simulation.ipynb\"> <img align=\"left\" src=\"https://img.shields.io/badge/Github-Download-blue.svg\" alt=\"Download\" title=\"Download Notebook\"></a>"
   ]
  },
  {
   "cell_type": "markdown",
   "metadata": {
    "nbpages": {
     "level": 1,
     "link": "[2.3 Blending Tank Simulation](https://jckantor.github.io/cbe30338-2021/02.03-Blending-Tank-Simulation.html#2.3-Blending-Tank-Simulation)",
     "section": "2.3 Blending Tank Simulation"
    },
    "slideshow": {
     "slide_type": "slide"
    }
   },
   "source": [
    "# 2.3 Blending Tank Simulation"
   ]
  },
  {
   "cell_type": "markdown",
   "metadata": {
    "nbpages": {
     "level": 2,
     "link": "[2.3.1 Summary](https://jckantor.github.io/cbe30338-2021/02.03-Blending-Tank-Simulation.html#2.3.1-Summary)",
     "section": "2.3.1 Summary"
    }
   },
   "source": [
    "## 2.3.1 Summary\n",
    "\n",
    "This example provides an introduction to the use of python for the simulation of a simple process modeled by a pair of ordinary differential equations. See SEMD textbook example 2.1 for more details on the process."
   ]
  },
  {
   "cell_type": "markdown",
   "metadata": {
    "nbpages": {
     "level": 2,
     "link": "[2.3.2 Basic Simulation of the Blending Tank](https://jckantor.github.io/cbe30338-2021/02.03-Blending-Tank-Simulation.html#2.3.2-Basic-Simulation-of-the-Blending-Tank)",
     "section": "2.3.2 Basic Simulation of the Blending Tank"
    },
    "slideshow": {
     "slide_type": "slide"
    }
   },
   "source": [
    "## 2.3.2 Basic Simulation of the Blending Tank\n",
    "\n",
    "\\begin{align*}\n",
    "\\frac{dV}{dt} & = \\frac{1}{\\rho}(w_1 + w_2 - w)\\\\\n",
    "\\frac{dx}{dt} & = \\frac{1}{\\rho V}(w_1 (x_1 - x) + w_2 (x_2 - x))\n",
    "\\end{align*}"
   ]
  },
  {
   "cell_type": "markdown",
   "metadata": {
    "nbpages": {
     "level": 3,
     "link": "[2.3.2.1 Step 1. Initialize Python Workspace](https://jckantor.github.io/cbe30338-2021/02.03-Blending-Tank-Simulation.html#2.3.2.1-Step-1.-Initialize-Python-Workspace)",
     "section": "2.3.2.1 Step 1. Initialize Python Workspace"
    },
    "slideshow": {
     "slide_type": "slide"
    }
   },
   "source": [
    "### 2.3.2.1 Step 1. Initialize Python Workspace\n",
    "\n",
    "Unlike Matlab, in Python it is always necessary to import the functions and libraries that you intend to use. In this case we import the complete `pylab` library, and the function `odeint` for integrating systems of differential equations from the `scipy` library.  The command `%matplotlib inline` causes graphic commands to produce results directly within the notebook output cells."
   ]
  },
  {
   "cell_type": "code",
   "execution_count": 13,
   "metadata": {
    "collapsed": true,
    "jupyter": {
     "outputs_hidden": true
    },
    "nbpages": {
     "level": 3,
     "link": "[2.3.2.1 Step 1. Initialize Python Workspace](https://jckantor.github.io/cbe30338-2021/02.03-Blending-Tank-Simulation.html#2.3.2.1-Step-1.-Initialize-Python-Workspace)",
     "section": "2.3.2.1 Step 1. Initialize Python Workspace"
    }
   },
   "outputs": [],
   "source": [
    "%matplotlib inline\n",
    "import numpy as np\n",
    "import matplotlib.pyplot as plt\n",
    "from scipy.integrate import odeint\n"
   ]
  },
  {
   "cell_type": "markdown",
   "metadata": {
    "nbpages": {
     "level": 3,
     "link": "[2.3.2.2 Step 2. Establish Parameter Values](https://jckantor.github.io/cbe30338-2021/02.03-Blending-Tank-Simulation.html#2.3.2.2-Step-2.-Establish-Parameter-Values)",
     "section": "2.3.2.2 Step 2. Establish Parameter Values"
    },
    "slideshow": {
     "slide_type": "slide"
    }
   },
   "source": [
    "### 2.3.2.2 Step 2. Establish Parameter Values"
   ]
  },
  {
   "cell_type": "code",
   "execution_count": 14,
   "metadata": {
    "collapsed": true,
    "jupyter": {
     "outputs_hidden": true
    },
    "nbpages": {
     "level": 3,
     "link": "[2.3.2.2 Step 2. Establish Parameter Values](https://jckantor.github.io/cbe30338-2021/02.03-Blending-Tank-Simulation.html#2.3.2.2-Step-2.-Establish-Parameter-Values)",
     "section": "2.3.2.2 Step 2. Establish Parameter Values"
    }
   },
   "outputs": [],
   "source": [
    "rho = 900.0  # density, kg/m**3\n",
    "\n",
    "w1 = 500.0   # stream 1, kg/min\n",
    "w2 = 200.0   # stream 2, kg/min\n",
    "w =  650.0   # set outflow equal to sum of inflows\n",
    "\n",
    "x1 = 0.4     # composition stream 1, mass fraction\n",
    "x2 = 0.75    # composition stream 2, mass fraction"
   ]
  },
  {
   "cell_type": "markdown",
   "metadata": {
    "nbpages": {
     "level": 3,
     "link": "[2.3.2.3 Step 3. Write a function to compute the RHS's of the Differential Equations](https://jckantor.github.io/cbe30338-2021/02.03-Blending-Tank-Simulation.html#2.3.2.3-Step-3.-Write-a-function-to-compute-the-RHS's-of-the-Differential-Equations)",
     "section": "2.3.2.3 Step 3. Write a function to compute the RHS's of the Differential Equations"
    },
    "slideshow": {
     "slide_type": "slide"
    }
   },
   "source": [
    "### 2.3.2.3 Step 3. Write a function to compute the RHS's of the Differential Equations"
   ]
  },
  {
   "cell_type": "code",
   "execution_count": 15,
   "metadata": {
    "collapsed": true,
    "jupyter": {
     "outputs_hidden": true
    },
    "nbpages": {
     "level": 3,
     "link": "[2.3.2.3 Step 3. Write a function to compute the RHS's of the Differential Equations](https://jckantor.github.io/cbe30338-2021/02.03-Blending-Tank-Simulation.html#2.3.2.3-Step-3.-Write-a-function-to-compute-the-RHS's-of-the-Differential-Equations)",
     "section": "2.3.2.3 Step 3. Write a function to compute the RHS's of the Differential Equations"
    }
   },
   "outputs": [],
   "source": [
    "def func(y,t):\n",
    "    V,x = y\n",
    "    dVdt = (w1 + w2 - w)/rho\n",
    "    dxdt = (w1*(x1-x)+w2*(x2-x))/(rho*V)\n",
    "    return [dVdt, dxdt]"
   ]
  },
  {
   "cell_type": "markdown",
   "metadata": {
    "nbpages": {
     "level": 3,
     "link": "[2.3.2.4 Step 4. Set the Initial Conditions, Time Grid, and Integrate](https://jckantor.github.io/cbe30338-2021/02.03-Blending-Tank-Simulation.html#2.3.2.4-Step-4.-Set-the-Initial-Conditions,-Time-Grid,-and-Integrate)",
     "section": "2.3.2.4 Step 4. Set the Initial Conditions, Time Grid, and Integrate"
    },
    "slideshow": {
     "slide_type": "slide"
    }
   },
   "source": [
    "### 2.3.2.4 Step 4. Set the Initial Conditions, Time Grid, and Integrate"
   ]
  },
  {
   "cell_type": "code",
   "execution_count": 16,
   "metadata": {
    "collapsed": true,
    "jupyter": {
     "outputs_hidden": true
    },
    "nbpages": {
     "level": 3,
     "link": "[2.3.2.4 Step 4. Set the Initial Conditions, Time Grid, and Integrate](https://jckantor.github.io/cbe30338-2021/02.03-Blending-Tank-Simulation.html#2.3.2.4-Step-4.-Set-the-Initial-Conditions,-Time-Grid,-and-Integrate)",
     "section": "2.3.2.4 Step 4. Set the Initial Conditions, Time Grid, and Integrate"
    }
   },
   "outputs": [],
   "source": [
    "V = 2.0      # initial volume, cubic meters\n",
    "x = 0.0      # initial composition, mass fraction\n",
    "\n",
    "t = np.linspace(0,10.0)\n",
    "y = odeint(func,[V,x],t)"
   ]
  },
  {
   "cell_type": "markdown",
   "metadata": {
    "nbpages": {
     "level": 3,
     "link": "[2.3.2.5 Step 5. Visualize the Solution](https://jckantor.github.io/cbe30338-2021/02.03-Blending-Tank-Simulation.html#2.3.2.5-Step-5.-Visualize-the-Solution)",
     "section": "2.3.2.5 Step 5. Visualize the Solution"
    },
    "slideshow": {
     "slide_type": "slide"
    }
   },
   "source": [
    "### 2.3.2.5 Step 5. Visualize the Solution"
   ]
  },
  {
   "cell_type": "code",
   "execution_count": 17,
   "metadata": {
    "nbpages": {
     "level": 3,
     "link": "[2.3.2.5 Step 5. Visualize the Solution](https://jckantor.github.io/cbe30338-2021/02.03-Blending-Tank-Simulation.html#2.3.2.5-Step-5.-Visualize-the-Solution)",
     "section": "2.3.2.5 Step 5. Visualize the Solution"
    }
   },
   "outputs": [
    {
     "data": {
      "image/png": "[encoded data removed]",
      "text/plain": [
       "<matplotlib.figure.Figure at 0x111585f28>"
      ]
     },
     "metadata": {},
     "output_type": "display_data"
    }
   ],
   "source": [
    "plt.plot(t,y)\n",
    "plt.xlabel('Time [min]')\n",
    "plt.ylabel('Volume, Composition')\n",
    "plt.legend(['Volume','Composition'])\n",
    "plt.ylim(0,3)\n",
    "plt.grid()\n",
    "#plt.savefig('BlendingTankStartUp.png')"
   ]
  },
  {
   "cell_type": "markdown",
   "metadata": {
    "nbpages": {
     "level": 2,
     "link": "[2.3.3 Steady State Analysis](https://jckantor.github.io/cbe30338-2021/02.03-Blending-Tank-Simulation.html#2.3.3-Steady-State-Analysis)",
     "section": "2.3.3 Steady State Analysis"
    },
    "slideshow": {
     "slide_type": "slide"
    }
   },
   "source": [
    "## 2.3.3 Steady State Analysis\n",
    "\n",
    "The blending tank is a system with two state variables (volume and composition). Suppose a mechanism is put in place to force the inflow to equal the outflow, that is\n",
    "\n",
    "$$w = w_1 + w_2$$\n",
    "\n",
    "The mechanism could involve the installation of an overflow weir, level controller, or some other device to force a balance between the outflow and total inflows.  In this case,\n",
    "\n",
    "$$\\frac{dV}{dt} = 0$$\n",
    "\n",
    "which means volume is at *steady state*. "
   ]
  },
  {
   "cell_type": "markdown",
   "metadata": {
    "nbpages": {
     "level": 2,
     "link": "[2.3.3 Steady State Analysis](https://jckantor.github.io/cbe30338-2021/02.03-Blending-Tank-Simulation.html#2.3.3-Steady-State-Analysis)",
     "section": "2.3.3 Steady State Analysis"
    },
    "slideshow": {
     "slide_type": "slide"
    }
   },
   "source": [
    " \n",
    "In that case there is just one remaining differential equation\n",
    "\n",
    "$$\\frac{dx}{dt} = \\frac{1}{\\rho V}( w_1(x_1 - x) + w_1(x_2 - x)) = 0$$\n",
    "\n",
    "Solving for the steady value of $x$,\n",
    "\n",
    "$$\\bar{x} = \\frac{w_1x_1 + w_2x_2}{w_1 + w_2}$$"
   ]
  },
  {
   "cell_type": "code",
   "execution_count": 19,
   "metadata": {
    "nbpages": {
     "level": 2,
     "link": "[2.3.3 Steady State Analysis](https://jckantor.github.io/cbe30338-2021/02.03-Blending-Tank-Simulation.html#2.3.3-Steady-State-Analysis)",
     "section": "2.3.3 Steady State Analysis"
    },
    "slideshow": {
     "slide_type": "slide"
    }
   },
   "outputs": [
    {
     "name": "stdout",
     "output_type": "stream",
     "text": [
      "Steady State Composition = 0.5\n"
     ]
    }
   ],
   "source": [
    "w1 = 500.0   # stream 1, kg/min\n",
    "w2 = 200.0   # stream 2, kg/min\n",
    "\n",
    "x1 = 0.4     # composition stream 1, mass fraction\n",
    "x2 = 0.75    # composition stream 2, mass fraction\n",
    "\n",
    "x = (w1*x1 + w2*x2)/(w1 + w2)\n",
    "\n",
    "print('Steady State Composition =', x)"
   ]
  },
  {
   "cell_type": "code",
   "execution_count": null,
   "metadata": {
    "collapsed": true,
    "jupyter": {
     "outputs_hidden": true
    },
    "nbpages": {
     "level": 2,
     "link": "[2.3.3 Steady State Analysis](https://jckantor.github.io/cbe30338-2021/02.03-Blending-Tank-Simulation.html#2.3.3-Steady-State-Analysis)",
     "section": "2.3.3 Steady State Analysis"
    }
   },
   "outputs": [],
   "source": []
  },
  {
   "cell_type": "markdown",
   "metadata": {
    "nbpages": {
     "level": 2,
     "link": "[2.3.3 Steady State Analysis](https://jckantor.github.io/cbe30338-2021/02.03-Blending-Tank-Simulation.html#2.3.3-Steady-State-Analysis)",
     "section": "2.3.3 Steady State Analysis"
    }
   },
   "source": [
    "<!--NAVIGATION-->\n",
    "< [2.2 Gravity Drained Tank](https://jckantor.github.io/cbe30338-2021/02.02-Gravity-Drained-Tank.html) | [Contents](toc.html) | [Tag Index](tag_index.html) | [2.3 Fed-Batch Bioreactor](https://jckantor.github.io/cbe30338-2021/02.03-Fed-Batch-Bioreactor.html) ><p><a href=\"https://colab.research.google.com/github/jckantor/cbe30338-2021/blob/master/docs/02.03-Blending-Tank-Simulation.ipynb\"> <img align=\"left\" src=\"https://colab.research.google.com/assets/colab-badge.svg\" alt=\"Open in Colab\" title=\"Open in Google Colaboratory\"></a><p><a href=\"https://jckantor.github.io/cbe30338-2021/02.03-Blending-Tank-Simulation.ipynb\"> <img align=\"left\" src=\"https://img.shields.io/badge/Github-Download-blue.svg\" alt=\"Download\" title=\"Download Notebook\"></a>"
   ]
  }
 ],
 "metadata": {
  "anaconda-cloud": {},
  "celltoolbar": "Slideshow",
  "kernelspec": {
   "display_name": "Python 3",
   "language": "python",
   "name": "python3"
  },
  "language_info": {
   "codemirror_mode": {
    "name": "ipython",
    "version": 3
   },
   "file_extension": ".py",
   "mimetype": "text/x-python",
   "name": "python",
   "nbconvert_exporter": "python",
   "pygments_lexer": "ipython3",
   "version": "3.8.5"
  }
 },
 "nbformat": 4,
 "nbformat_minor": 4
}
