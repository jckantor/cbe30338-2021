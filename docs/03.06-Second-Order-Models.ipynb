{
 "cells": [
  {
   "cell_type": "markdown",
   "metadata": {
    "nbpages": {
     "level": 0,
     "link": "[](https://jckantor.github.io/cbe30338-2021/03.06-Second-Order-Models.html)",
     "section": ""
    }
   },
   "source": [
    "<!--NOTEBOOK_HEADER-->\n",
    "*This notebook contains material from [cbe30338-2021](https://jckantor.github.io/cbe30338-2021);\n",
    "content is available [on Github](https://github.com/jckantor/cbe30338-2021.git).*\n"
   ]
  },
  {
   "cell_type": "markdown",
   "metadata": {
    "nbpages": {
     "level": 0,
     "link": "[](https://jckantor.github.io/cbe30338-2021/03.06-Second-Order-Models.html)",
     "section": ""
    }
   },
   "source": [
    "<!--NAVIGATION-->\n",
    "< [3.5 One Compartment Pharmacokinetics](https://jckantor.github.io/cbe30338-2021/03.05-One-Compartment-Pharmacokinetics.html) | [Contents](toc.html) | [Tag Index](tag_index.html) | [3.7 Interacting Tanks](https://jckantor.github.io/cbe30338-2021/03.07-Interacting-Tanks.html) ><p><a href=\"https://colab.research.google.com/github/jckantor/cbe30338-2021/blob/master/docs/03.06-Second-Order-Models.ipynb\"> <img align=\"left\" src=\"https://colab.research.google.com/assets/colab-badge.svg\" alt=\"Open in Colab\" title=\"Open in Google Colaboratory\"></a><p><a href=\"https://jckantor.github.io/cbe30338-2021/03.06-Second-Order-Models.ipynb\"> <img align=\"left\" src=\"https://img.shields.io/badge/Github-Download-blue.svg\" alt=\"Download\" title=\"Download Notebook\"></a>"
   ]
  },
  {
   "cell_type": "markdown",
   "metadata": {
    "nbpages": {
     "level": 1,
     "link": "[3.6 Second Order Models](https://jckantor.github.io/cbe30338-2021/03.06-Second-Order-Models.html#3.6-Second-Order-Models)",
     "section": "3.6 Second Order Models"
    }
   },
   "source": [
    "# 3.6 Second Order Models\n",
    "\n",
    "A standard form for a generic second-order model for a stable linear system is given  by\n",
    "\n",
    "$$\\tau^2\\frac{d^2y}{dt^2} + 2\\zeta\\tau\\frac{dy}{dt} + y = K u$$\n",
    "\n",
    "where $y$ and $u$ are **deviation variables**.  The parameters have a generic interpretation that are commonly used to describe the qualitative characteristics of these systems.\n",
    "\n",
    "| Parameter | Units | Description |\n",
    "| :-: | :-: | :-: |\n",
    "| $K$ | $\\frac{\\mbox{units of } y}{\\mbox{units of }u}$ | Steady State Gain |\n",
    "| $\\tau \\gt 0$ | time | Time Constant |\n",
    "| $\\zeta \\geq 0$ | dimensionless | Damping Factor |\n",
    "\n",
    "The standard form assumes that a zero input (i.e, $u(t) = 0$) results in a zero response ($y(t) = 0$). In practice, the nominal or quiescent value of $y$ or $u$ may different from zero. In that case we would write\n",
    "\n",
    "$$\\tau^2\\frac{d^2y}{dt^2} + 2\\zeta\\tau\\frac{dy}{dt} + y - y_{ref} = K\\left(u(t) - u_{ref}\\right)$$\n",
    "\n",
    "where $u_{ref}$ and $y_{ref}$ represent constant reference values."
   ]
  },
  {
   "cell_type": "markdown",
   "metadata": {
    "nbpages": {
     "level": 2,
     "link": "[3.6.1 Step Response](https://jckantor.github.io/cbe30338-2021/03.06-Second-Order-Models.html#3.6.1-Step-Response)",
     "section": "3.6.1 Step Response"
    }
   },
   "source": [
    "## 3.6.1 Step Response\n",
    "\n",
    "The step response corresponds to a system that is initially at steady-state where $u = u_{ref}$ and $y = y_{ref}$.  At time $t=0$ the input is incremented by a constant value U, i.e. $u = u_{ref} + U$ for $t \\geq 0$.  The subsequent response $y(t) - y_{ref}$ is the **step response**.\n",
    "\n",
    "Second order linear systems have elegant analytical solutions expressed using exponential and trignometric functions. There are four distinct cases that depend on the value of the damping factor $\\zeta$:\n",
    "\n",
    "* Overdamped\n",
    "* Critically damped\n",
    "* Underdamped\n",
    "* Undamped Oscillations"
   ]
  },
  {
   "cell_type": "markdown",
   "metadata": {
    "nbpages": {
     "level": 3,
     "link": "[3.6.1.1 Overdamped ($\\zeta > 1$)](https://jckantor.github.io/cbe30338-2021/03.06-Second-Order-Models.html#3.6.1.1-Overdamped-($\\zeta->-1$))",
     "section": "3.6.1.1 Overdamped ($\\zeta > 1$)"
    }
   },
   "source": [
    "### 3.6.1.1 Overdamped ($\\zeta > 1$)\n",
    "\n",
    "An overdamped response tends to be sluggish, and with a potentially a large difference in time scales $\\tau_1$ and $\\tau_2$. The geometric mean of $\\tau_1$ and $\\tau_2$ is $\\tau$.  The value of $\\zeta$ determines the differences.\n",
    "\n",
    "$$y(t) = y_{ref} + KU\\left(1 - \\frac{\\tau_1e^{-t/\\tau_1} - \\tau_2e^{-t/\\tau_2}}{\\tau_1 - \\tau_2}\\right)$$\n",
    "\n",
    "where $\\tau_1$ and $\\tau_2$ are found by factor the polynomial\n",
    "\n",
    "$$\\tau^2s^2 + 2\\zeta\\tau s + 1 = (\\tau_1s + 1)(\\tau_2s + 1)$$\n",
    "\n",
    "For $\\zeta \\geq 1$ the solutions are given by\n",
    "\n",
    "\\begin{align}\n",
    "\\tau_1 & = \\frac{\\tau}{\\zeta - \\sqrt{\\zeta^2-1}} \\\\\n",
    "\\tau_2 & = \\frac{\\tau}{\\zeta + \\sqrt{\\zeta^2-1}}\n",
    "\\end{align}\n",
    "\n"
   ]
  },
  {
   "cell_type": "code",
   "execution_count": 132,
   "metadata": {
    "nbpages": {
     "level": 3,
     "link": "[3.6.1.1 Overdamped ($\\zeta > 1$)](https://jckantor.github.io/cbe30338-2021/03.06-Second-Order-Models.html#3.6.1.1-Overdamped-($\\zeta->-1$))",
     "section": "3.6.1.1 Overdamped ($\\zeta > 1$)"
    }
   },
   "outputs": [],
   "source": [
    "%matplotlib inline\n",
    "import numpy as np\n",
    "import matplotlib.pyplot as plt\n",
    "from ipywidgets import interact"
   ]
  },
  {
   "cell_type": "code",
   "execution_count": 134,
   "metadata": {
    "nbpages": {
     "level": 3,
     "link": "[3.6.1.1 Overdamped ($\\zeta > 1$)](https://jckantor.github.io/cbe30338-2021/03.06-Second-Order-Models.html#3.6.1.1-Overdamped-($\\zeta->-1$))",
     "section": "3.6.1.1 Overdamped ($\\zeta > 1$)"
    }
   },
   "outputs": [
    {
     "data": {
      "application/vnd.jupyter.widget-view+json": {
       "model_id": "ad3ba8301e2344e0a04df39bec70b6ea",
       "version_major": 2,
       "version_minor": 0
      },
      "text/plain": [
       "A Jupyter Widget"
      ]
     },
     "metadata": {},
     "output_type": "display_data"
    }
   ],
   "source": [
    "def overdamped(K, tau, zeta):\n",
    "    t = np.linspace(0,20)\n",
    "    tau_1 = tau/(zeta - np.sqrt(zeta**2 - 1))\n",
    "    tau_2 = tau/(zeta + np.sqrt(zeta**2 - 1))\n",
    "\n",
    "    y = K*(1 - ((tau_1*np.exp(-t/tau_1) - tau_2*np.exp(-t/tau_2))/(tau_1 - tau_2)))\n",
    "    plt.plot(t,y)\n",
    "    plt.grid()\n",
    "    \n",
    "interact(overdamped, K=(0.5,2), tau=(0.5,2), zeta=(1.01,2));"
   ]
  },
  {
   "cell_type": "markdown",
   "metadata": {
    "nbpages": {
     "level": 3,
     "link": "[3.6.1.2 Critically Damped ($\\zeta = 1$)](https://jckantor.github.io/cbe30338-2021/03.06-Second-Order-Models.html#3.6.1.2-Critically-Damped-($\\zeta-=-1$))",
     "section": "3.6.1.2 Critically Damped ($\\zeta = 1$)"
    }
   },
   "source": [
    "### 3.6.1.2 Critically Damped ($\\zeta = 1$)\n",
    "\n",
    "$$y(t) = y_{ref} + KU\\left[1 - \\left(1 + \\frac{t}{\\tau}\\right)e^{-t/\\tau}\\right]$$"
   ]
  },
  {
   "cell_type": "code",
   "execution_count": 135,
   "metadata": {
    "nbpages": {
     "level": 3,
     "link": "[3.6.1.2 Critically Damped ($\\zeta = 1$)](https://jckantor.github.io/cbe30338-2021/03.06-Second-Order-Models.html#3.6.1.2-Critically-Damped-($\\zeta-=-1$))",
     "section": "3.6.1.2 Critically Damped ($\\zeta = 1$)"
    }
   },
   "outputs": [
    {
     "data": {
      "image/png": "[encoded data removed]",
      "text/plain": [
       "<matplotlib.figure.Figure at 0x117ab1e48>"
      ]
     },
     "metadata": {},
     "output_type": "display_data"
    }
   ],
   "source": [
    "def criticallydamped(K, tau):\n",
    "    t = np.linspace(0,20)\n",
    "    y = K*(1 - (1 + t/tau)*np.exp(-t/tau))\n",
    "    plt.plot(t,y)\n",
    "    plt.grid()\n",
    "    \n",
    "criticallydamped(K=2, tau=2)"
   ]
  },
  {
   "cell_type": "markdown",
   "metadata": {
    "nbpages": {
     "level": 3,
     "link": "[3.6.1.3 Underdamped ($0 \\lt \\zeta \\lt 1$)](https://jckantor.github.io/cbe30338-2021/03.06-Second-Order-Models.html#3.6.1.3-Underdamped-($0-\\lt-\\zeta-\\lt-1$))",
     "section": "3.6.1.3 Underdamped ($0 \\lt \\zeta \\lt 1$)"
    }
   },
   "source": [
    "### 3.6.1.3 Underdamped ($0 \\lt \\zeta \\lt 1$)\n",
    "\n",
    "One version of the solution can be written\n",
    "\n",
    "$$y(t) = y_{ref} + KU\\left(1 - e^{-\\zeta t/\\tau}\\left[\\cos\\left(\\frac{\\sqrt{1-\\zeta^2}}{\\tau}t\\right) + \\frac{\\zeta}{\\sqrt{1-\\zeta^2}}\\sin\\left(\\frac{\\sqrt{1-\\zeta^2}}{\\tau}t\\right)\\right] \\right)$$\n",
    "\n",
    "This can be expressed a bit more compactly by introducing a frequency\n",
    "\n",
    "$$\\omega = \\frac{\\sqrt{1-\\zeta^2}}{\\tau}$$\n",
    "\n",
    "which results in\n",
    "\n",
    "$$y(t) = y_{ref} + KU\\left[1 - e^{-\\zeta t/\\tau}\\left(\\cos\\left(\\omega t\\right) + \\frac{\\zeta}{\\sqrt{1-\\zeta^2}}\\,\\sin\\left(\\omega t\\right) \\right)\\right]$$\n"
   ]
  },
  {
   "cell_type": "code",
   "execution_count": 125,
   "metadata": {
    "nbpages": {
     "level": 3,
     "link": "[3.6.1.3 Underdamped ($0 \\lt \\zeta \\lt 1$)](https://jckantor.github.io/cbe30338-2021/03.06-Second-Order-Models.html#3.6.1.3-Underdamped-($0-\\lt-\\zeta-\\lt-1$))",
     "section": "3.6.1.3 Underdamped ($0 \\lt \\zeta \\lt 1$)"
    }
   },
   "outputs": [
    {
     "data": {
      "application/vnd.jupyter.widget-view+json": {
       "model_id": "e69f482c6c814da5af8addbcf8b529f0",
       "version_major": 2,
       "version_minor": 0
      },
      "text/plain": [
       "A Jupyter Widget"
      ]
     },
     "metadata": {},
     "output_type": "display_data"
    },
    {
     "data": {
      "text/plain": [
       "<function __main__.underdamped>"
      ]
     },
     "execution_count": 125,
     "metadata": {},
     "output_type": "execute_result"
    }
   ],
   "source": [
    "def underdamped(K, tau, zeta):\n",
    "    t = np.linspace(0,20)\n",
    "    c = np.cos(np.sqrt(1-zeta**2)*t/tau)\n",
    "    s = np.sin(np.sqrt(1-zeta**2)*t/tau)\n",
    "    \n",
    "    y = K*(1 - np.exp(-zeta*t/tau)*(c + zeta*s/np.sqrt(1-zeta**2)))\n",
    "    plt.plot(t,y)\n",
    "    plt.grid()\n",
    "    \n",
    "interact(underdamped, K=(0.5,3), tau=(0.5,3), zeta=(0,0.999))"
   ]
  },
  {
   "cell_type": "markdown",
   "metadata": {
    "nbpages": {
     "level": 3,
     "link": "[3.6.1.4 Undamped ($\\zeta = 0$)](https://jckantor.github.io/cbe30338-2021/03.06-Second-Order-Models.html#3.6.1.4-Undamped-($\\zeta-=-0$))",
     "section": "3.6.1.4 Undamped ($\\zeta = 0$)"
    }
   },
   "source": [
    "### 3.6.1.4 Undamped ($\\zeta = 0$)\n",
    "\n",
    "Finally, there is the special case of an undamped oscillation\n",
    "\n",
    "$$y(t) = y_{ref} + KU\\left[1 - \\cos\\left(\\omega t\\right) \\right]$$\n",
    "\n",
    "where $\\omega = 1/\\tau$."
   ]
  },
  {
   "cell_type": "markdown",
   "metadata": {
    "nbpages": {
     "level": 2,
     "link": "[3.6.2 Simulation](https://jckantor.github.io/cbe30338-2021/03.06-Second-Order-Models.html#3.6.2-Simulation)",
     "section": "3.6.2 Simulation"
    }
   },
   "source": [
    "## 3.6.2 Simulation\n",
    "\n",
    "A second-order differential equation can be simulated as a system of two first order differential equations. The key is to introduce a new variable $v = \\frac{dy}{dt}$. \n",
    "\n",
    "$$\\begin{align*}\n",
    "\\frac{dy}{dt} & = v \\\\\n",
    "\\frac{dv}{dt} & = -\\frac{1}{\\tau^2}(y-y_{ref}) - \\frac{2\\zeta}{\\tau}v + K\\left(u(t)-u_{ref}\\right)\n",
    "\\end{align*}$$"
   ]
  },
  {
   "cell_type": "code",
   "execution_count": 136,
   "metadata": {
    "nbpages": {
     "level": 2,
     "link": "[3.6.2 Simulation](https://jckantor.github.io/cbe30338-2021/03.06-Second-Order-Models.html#3.6.2-Simulation)",
     "section": "3.6.2 Simulation"
    }
   },
   "outputs": [
    {
     "data": {
      "application/vnd.jupyter.widget-view+json": {
       "model_id": "3625a868b2ee4d1db0c0e42759a52dd2",
       "version_major": 2,
       "version_minor": 0
      },
      "text/plain": [
       "A Jupyter Widget"
      ]
     },
     "metadata": {},
     "output_type": "display_data"
    }
   ],
   "source": [
    "%matplotlib inline\n",
    "import numpy as np\n",
    "import matplotlib.pyplot as plt\n",
    "from scipy.integrate import odeint\n",
    "from ipywidgets import interact\n",
    "\n",
    "def simulation(yref=0, U=1, K=1, tau=1, zeta=0.2):\n",
    "\n",
    "    def deriv(X,t):\n",
    "        y,v = X\n",
    "        ydot = v\n",
    "        vdot = -(y-yref)/tau/tau - 2*zeta*v/tau + K*U/tau/tau\n",
    "        return[ydot,vdot]\n",
    "\n",
    "    # simulation  \n",
    "    t = np.linspace(0,20*tau,1000)\n",
    "    y = odeint(deriv, [yref,0], t)[:,0]\n",
    "    \n",
    "    # plot steady state line and bounds\n",
    "    plt.figure(figsize=(12,6))\n",
    "\n",
    "    \n",
    "    # plot solution\n",
    "    plt.plot(t,y,lw=3)\n",
    "    plt.title('Step Response of a Second Order System')\n",
    "    plt.xlabel('Time')\n",
    "    plt.ylabel('y')\n",
    "    \n",
    "    # plot limits\n",
    "    plt.ylim(plt.ylim()[0],1.1*plt.ylim()[1])\n",
    "    plt.xlim(t[0],t[-1])\n",
    "    dy = np.diff(plt.ylim())\n",
    "    \n",
    "    # arrow props\n",
    "    ap1 = dict(arrowstyle=\"->\")\n",
    "    ap2 = dict(arrowstyle=\"<->\")\n",
    "\n",
    "    if zeta < 1:\n",
    "        #overshoot\n",
    "        os = np.exp(-np.pi*zeta/np.sqrt(1-zeta**2))\n",
    "        \n",
    "        # time to first peak\n",
    "        tp = np.pi*tau/np.sqrt(1-zeta**2)\n",
    "        yp = (1+os)*K*U + yref\n",
    "          \n",
    "        plt.text(tp,yp+0.02*dy,\"Overshoot\\n b/a = {0:0.2f}\".format(os), ha='center')\n",
    "        plt.annotate('',xy=(tp,K*U+yref),xytext=(tp,yp),arrowprops=ap2)\n",
    "        plt.text(tp,(K*U+yref+yp)/2,' b')\n",
    "        plt.annotate('',xy=(tp,yref),xytext=(tp,K*U+yref),arrowprops=ap2)\n",
    "        plt.text(tp,K*U/2+yref,' a')\n",
    "        plt.annotate(\"Time to first\\n peak = {0:.2f}\".format(tp),\n",
    "                    xy=(tp,yref), xytext=(1.2*tp,0.2*K*U+yref),arrowprops=ap1)\n",
    "\n",
    "        # rise time\n",
    "        tr = t[np.where(np.diff(np.sign(y-yref-K*U))*np.sign(K*U)>0)[0][0]]\n",
    "        if tr < plt.xlim()[1]:\n",
    "            plt.plot([tr,tr],[0.3*K*U+yref,K*U+yref],'r:')\n",
    "            plt.annotate('',xy=(plt.xlim()[0],0.4*K*U+yref),xytext=(tr,0.4*K*U+yref),\n",
    "                         arrowprops=ap2)\n",
    "            plt.text(plt.xlim()[0]+tr/2,0.42*K*U+yref+0.02*dy,\n",
    "                    'Rise Time\\n = {0:.2f}'.format(tr),ha='center')\n",
    "        \n",
    "        # period\n",
    "        P = 2*np.pi*tau/np.sqrt(1-zeta**2)\n",
    "        if tr + P < plt.xlim()[1]:\n",
    "            plt.plot([tr,tr],[0.3*K*U+yref,K*U+yref],'r:')\n",
    "            plt.plot([tr+P,tr+P],[0.3*K*U+yref,K*U+yref],'r:')\n",
    "            plt.annotate('',xy=(tr,0.4*K*U+yref),xytext=(tr+P,0.4*K*U+yref),arrowprops=ap2)\n",
    "            plt.text(tr+P/2,0.42*K*U+yref+0.02*dy,'Period = {0:.2f}'.format(P), ha='center')\n",
    "        \n",
    "        # second peak\n",
    "        if tp + P < plt.xlim()[1]:\n",
    "            plt.annotate('',xy=(tp+P,K*U+yref),xytext=(tp+P,K*U*(1+os**3)+yref),\n",
    "                        arrowprops=ap2)\n",
    "            plt.text(tp+P,K*U*(1+os**3/2)+yref,' c')\n",
    "            plt.text(tp+P,K*U*(1+os**3)+yref+0.02*dy,\n",
    "                    'Decay Ratio\\n c/b = {0:.2f}'.format(os**2),va='bottom',ha='center')\n",
    "        \n",
    "        # settling time\n",
    "        ts = -np.log(0.05)*np.sqrt(1-zeta**2)*tau/zeta\n",
    "        if ts < plt.xlim()[1]:\n",
    "            plt.fill_between(t[t>ts],0.95*K*U+yref,1.05*K*U+yref,alpha=0.4,color='y')\n",
    "            plt.text(ts,1.05*K*U+yref+0.02*dy,\n",
    "                     'Settling Time\\n = {0:.2f}'.format(ts),ha='center')\n",
    "\n",
    "            \n",
    "    plt.plot(plt.xlim(),[yref,yref],'k--')\n",
    "    plt.plot(plt.xlim(),[K*U+yref,K*U+yref],'k--')\n",
    "    \n",
    "interact(simulation, yref = (-10,10,0.1), U=(0.01,5,0.01), \n",
    "         K = (-5,5,0.01), zeta=(0.01,3,0.01), tau = (0.1,5.0,0.01));"
   ]
  },
  {
   "cell_type": "markdown",
   "metadata": {
    "nbpages": {
     "level": 2,
     "link": "[3.6.3 Performance Indicators for Underdamped Systems ](https://jckantor.github.io/cbe30338-2021/03.06-Second-Order-Models.html#3.6.3-Performance-Indicators-for-Underdamped-Systems)",
     "section": "3.6.3 Performance Indicators for Underdamped Systems "
    }
   },
   "source": [
    "## 3.6.3 Performance Indicators for Underdamped Systems \n",
    "\n",
    "For an underdamped second order system, the desired performance metrics are given by the following by formulas in the following table.\n",
    "\n",
    "| Quantity           | Symbol | Expression/Value                                       |\n",
    "| :----------------: | :----: | :----------------------------------------------------: |\n",
    "| Rise Time          | $t_r$  | Time to first SS crossing                              |\n",
    "| Time to first peak | $t_p$  | $\\frac{\\pi\\tau}{\\sqrt{1-\\zeta^2}}$                     |\n",
    "| Overshoot          | OS     | $\\exp\\left(-\\frac{\\pi\\zeta}{\\sqrt{1-\\zeta^2}}\\right)$  |\n",
    "| Decay Ratio        | DR     | $\\exp\\left(-\\frac{2\\pi\\zeta}{\\sqrt{1-\\zeta^2}}\\right)$ |\n",
    "| Period             |        | $\\frac{2\\pi\\tau}{\\sqrt{1-\\zeta^2}}$                    |\n",
    "| Setting Time       | $t_s$  | Time to +/- 5% of SS                                   |"
   ]
  },
  {
   "cell_type": "markdown",
   "metadata": {
    "nbpages": {
     "level": 2,
     "link": "[3.6.4 Estimating Parameters for an Underdamped System](https://jckantor.github.io/cbe30338-2021/03.06-Second-Order-Models.html#3.6.4-Estimating-Parameters-for-an-Underdamped-System)",
     "section": "3.6.4 Estimating Parameters for an Underdamped System"
    }
   },
   "source": [
    "## 3.6.4 Estimating Parameters for an Underdamped System"
   ]
  },
  {
   "cell_type": "markdown",
   "metadata": {
    "nbpages": {
     "level": 3,
     "link": "[3.6.4.1 Starting with a Physical Model](https://jckantor.github.io/cbe30338-2021/03.06-Second-Order-Models.html#3.6.4.1-Starting-with-a-Physical-Model)",
     "section": "3.6.4.1 Starting with a Physical Model"
    }
   },
   "source": [
    "### 3.6.4.1 Starting with a Physical Model\n",
    "\n",
    "A dynamical model for a u-tube manometer is given by\n",
    "\n",
    "$$\\frac{d^2h'}{dt^2} + \\frac{6\\mu}{R^2\\rho}\\frac{dh'}{dt} + \\frac{3}{2}\\frac{g}{L} h' = \\frac{3}{4\\rho L} p'(t)$$\n",
    "\n",
    "where $h'$ is the liquid level displacement from an equilibrium position due to a pressure difference $p'(t)$.\n",
    "\n",
    "| Parameter | Symbol |\n",
    "| :-: | :-: |\n",
    "| radius | $R$ |\n",
    "| liquid length | $L$ |\n",
    "| gravity | $g$ |\n",
    "| density | $\\rho$ |\n",
    "| viscosity | $\\mu$ |\n",
    "\n",
    "What is the gain $K$? Time constant $\\tau$?  Damping factor $\\zeta$? How would choose the radius for the fastest response without overshoot?"
   ]
  },
  {
   "cell_type": "markdown",
   "metadata": {
    "nbpages": {
     "level": 3,
     "link": "[3.6.4.2 Starting with a Step Response](https://jckantor.github.io/cbe30338-2021/03.06-Second-Order-Models.html#3.6.4.2-Starting-with-a-Step-Response)",
     "section": "3.6.4.2 Starting with a Step Response"
    }
   },
   "source": [
    "### 3.6.4.2 Starting with a Step Response\n",
    "\n",
    "Underdamped systems have clearly identifiable and measureable characteristics that can be used to identify parameters $K$, $\\tau$, and $\\zeta$. One procedure, for example, is to execute a step response experiment. Then,\n",
    "\n",
    "1. Measure overshoot, then estimate damping factor $\\zeta$ using a chart of of this equation (or by directly solving the equation for $\\zeta$):\n",
    "$$OS = \\frac{a}{b} = \\exp\\left(\\frac{-\\pi\\zeta}{\\sqrt{1-\\zeta^2}}\\right)$$\n",
    "2. Measure time-to-first-peak $t_p$. Given $t_p$ and $\\zeta$, solve for\n",
    "$$\\tau = \\frac{t_p}{\\pi}\\sqrt{1 - \\zeta^2}$$\n",
    "Alternatively, given period $P$,\n",
    "$$\\tau = \\frac{P}{2\\pi}\\sqrt{1 - \\zeta^2}$$\n"
   ]
  },
  {
   "cell_type": "markdown",
   "metadata": {
    "nbpages": {
     "level": 3,
     "link": "[3.6.4.2 Starting with a Step Response](https://jckantor.github.io/cbe30338-2021/03.06-Second-Order-Models.html#3.6.4.2-Starting-with-a-Step-Response)",
     "section": "3.6.4.2 Starting with a Step Response"
    }
   },
   "source": [
    "![](2ndOrder.png)"
   ]
  },
  {
   "cell_type": "code",
   "execution_count": 139,
   "metadata": {
    "nbpages": {
     "level": 3,
     "link": "[3.6.4.2 Starting with a Step Response](https://jckantor.github.io/cbe30338-2021/03.06-Second-Order-Models.html#3.6.4.2-Starting-with-a-Step-Response)",
     "section": "3.6.4.2 Starting with a Step Response"
    }
   },
   "outputs": [
    {
     "data": {
      "image/png": "[encoded data removed]",
      "text/plain": [
       "<matplotlib.figure.Figure at 0x11b26bdd8>"
      ]
     },
     "metadata": {},
     "output_type": "display_data"
    }
   ],
   "source": [
    "%matplotlib inline\n",
    "import numpy as np\n",
    "import matplotlib.pyplot as plt\n",
    "from scipy.integrate import odeint\n",
    "\n",
    "zeta = np.linspace(0,0.999,100)\n",
    "os = np.exp(-np.pi*zeta/np.sqrt(1-zeta**2))\n",
    "dr = np.exp(-2*np.pi*zeta/np.sqrt(1-zeta**2))\n",
    "pd = np.sqrt(1-zeta**2)\n",
    "\n",
    "plt.figure(figsize=(8,8))\n",
    "plt.plot(zeta, os, lw=3)\n",
    "plt.plot(zeta, dr, lw=3)\n",
    "plt.plot(zeta, pd, lw=3)\n",
    "plt.axis('square')\n",
    "plt.xlim(0, 1)\n",
    "plt.ylim(0, 1)\n",
    "plt.title('Performance Characteristics of Underdamped Second Order Systems')\n",
    "plt.xlabel('$\\zeta$')\n",
    "plt.ylabel('Performance Characteristic')\n",
    "plt.text(0.35, 0.4, 'Overshoot')\n",
    "plt.text(0.05, 0.2, 'Decay Ratio')\n",
    "plt.text(0.70, 0.8, 'Natural Period / Period')\n",
    "plt.gca().set_xticks(np.arange(0,1,0.1), minor=True)\n",
    "plt.gca().set_yticks(np.arange(0,1,0.1), minor=True)\n",
    "plt.grid(b=True, which='major')\n",
    "plt.grid(b=True, which='minor')\n"
   ]
  },
  {
   "cell_type": "code",
   "execution_count": null,
   "metadata": {
    "nbpages": {
     "level": 3,
     "link": "[3.6.4.2 Starting with a Step Response](https://jckantor.github.io/cbe30338-2021/03.06-Second-Order-Models.html#3.6.4.2-Starting-with-a-Step-Response)",
     "section": "3.6.4.2 Starting with a Step Response"
    }
   },
   "outputs": [],
   "source": []
  },
  {
   "cell_type": "code",
   "execution_count": null,
   "metadata": {
    "nbpages": {
     "level": 3,
     "link": "[3.6.4.2 Starting with a Step Response](https://jckantor.github.io/cbe30338-2021/03.06-Second-Order-Models.html#3.6.4.2-Starting-with-a-Step-Response)",
     "section": "3.6.4.2 Starting with a Step Response"
    }
   },
   "outputs": [],
   "source": []
  },
  {
   "cell_type": "markdown",
   "metadata": {
    "nbpages": {
     "level": 3,
     "link": "[3.6.4.2 Starting with a Step Response](https://jckantor.github.io/cbe30338-2021/03.06-Second-Order-Models.html#3.6.4.2-Starting-with-a-Step-Response)",
     "section": "3.6.4.2 Starting with a Step Response"
    }
   },
   "source": [
    "<!--NAVIGATION-->\n",
    "< [3.5 One Compartment Pharmacokinetics](https://jckantor.github.io/cbe30338-2021/03.05-One-Compartment-Pharmacokinetics.html) | [Contents](toc.html) | [Tag Index](tag_index.html) | [3.7 Interacting Tanks](https://jckantor.github.io/cbe30338-2021/03.07-Interacting-Tanks.html) ><p><a href=\"https://colab.research.google.com/github/jckantor/cbe30338-2021/blob/master/docs/03.06-Second-Order-Models.ipynb\"> <img align=\"left\" src=\"https://colab.research.google.com/assets/colab-badge.svg\" alt=\"Open in Colab\" title=\"Open in Google Colaboratory\"></a><p><a href=\"https://jckantor.github.io/cbe30338-2021/03.06-Second-Order-Models.ipynb\"> <img align=\"left\" src=\"https://img.shields.io/badge/Github-Download-blue.svg\" alt=\"Download\" title=\"Download Notebook\"></a>"
   ]
  }
 ],
 "metadata": {
  "kernelspec": {
   "display_name": "Python 3",
   "language": "python",
   "name": "python3"
  },
  "language_info": {
   "codemirror_mode": {
    "name": "ipython",
    "version": 3
   },
   "file_extension": ".py",
   "mimetype": "text/x-python",
   "name": "python",
   "nbconvert_exporter": "python",
   "pygments_lexer": "ipython3",
   "version": "3.8.5"
  }
 },
 "nbformat": 4,
 "nbformat_minor": 4
}
