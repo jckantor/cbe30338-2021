{
 "cells": [
  {
   "cell_type": "markdown",
   "metadata": {},
   "source": [
    "<!--NOTEBOOK_HEADER-->\n",
    "*This notebook contains material from [cbe30338-2021](https://jckantor.github.io/cbe30338-2021);\n",
    "content is available [on Github](https://github.com/jckantor/cbe30338-2021.git).*\n"
   ]
  },
  {
   "cell_type": "markdown",
   "metadata": {},
   "source": [
    "<!--NAVIGATION-->\n",
    "| [Contents](toc.html) |<p><a href=\"https://colab.research.google.com/github/jckantor/cbe30338-2021/blob/master/../cbe30338-2021/docs/01.00-Course-Organization.ipynb\"> <img align=\"left\" src=\"https://colab.research.google.com/assets/colab-badge.svg\" alt=\"Open in Colab\" title=\"Open in Google Colaboratory\"></a><p><a href=\"https://jckantor.github.io/cbe30338-2021/01.00-Course-Organization.ipynb\"> <img align=\"left\" src=\"https://img.shields.io/badge/Github-Download-blue.svg\" alt=\"Download\" title=\"Download Notebook\"></a>"
   ]
  },
  {
   "cell_type": "markdown",
   "metadata": {
    "nbpages": {
     "level": 1,
     "link": "[1.0 Course Organization](https://jckantor.github.io/cbe30338-2021/01.00-Course-Organization.html#1.0-Course-Organization)",
     "section": "1.0 Course Organization"
    }
   },
   "source": [
    "# 1.0 Course Organization"
   ]
  },
  {
   "cell_type": "markdown",
   "metadata": {
    "nbpages": {
     "level": 2,
     "link": "[1.0.1 Week 1. (Feb 2 - 5) Introduction to Process Control](https://jckantor.github.io/cbe30338-2021/01.00-Course-Organization.html#1.0.1-Week-1.-(Feb-2---5)-Introduction-to-Process-Control)",
     "section": "1.0.1 Week 1. (Feb 2 - 5) Introduction to Process Control"
    }
   },
   "source": [
    "## 1.0.1 Week 1. (Feb 2 - 5) Introduction to Process Control\n",
    "\n",
    "There are no class meetings this week. Please use this week to prepare for the on-line continuation to commence on March 23. Pay attention to the following the following details:\n",
    "\n",
    "* We will be making extensive use of Zoom for office hours, on-classes, and laboratory sessions. Please verify that you can access Zoom by joining the test meeting **with video** at [https://zoom.us/test](https://zoom.us/test). \n",
    "\n",
    "* Please confirm that you have a working installation of the Anaconda distribution of Python. If in doubt, reinstall a fresh download available from [Anaconda.com](https://www.anaconda.com/).\n",
    "\n",
    "**Please let me know immediately if you don't have access to a laptop or you don't have adequate internet connectivity. The University has resources available to assist with these situations.**"
   ]
  },
  {
   "cell_type": "markdown",
   "metadata": {
    "nbpages": {
     "level": 2,
     "link": "[1.0.2 Week 2. (Feb 8 - 12) Linear Optimization](https://jckantor.github.io/cbe30338-2021/01.00-Course-Organization.html#1.0.2-Week-2.-(Feb-8---12)-Linear-Optimization)",
     "section": "1.0.2 Week 2. (Feb 8 - 12) Linear Optimization"
    }
   },
   "source": [
    "## 1.0.2 Week 2. (Feb 8 - 12) Linear Optimization\n",
    "\n",
    "Class meetings begin on week 1. Each of the sessions scheduled below will be done as a Zoom meeting. To protect privacy, the specific Zoom meeting links are available through the course management system. Attendance will be taken for each session marked as required.\n",
    "\n",
    "| Date | Time (EDT) | Activity | Topic | Attendance Req'd? |\n",
    "| :--  | :--  | :------  | :--- | :---: |\n",
    "| 3/23(M) | 1:30-4pm | Office hours | | \n",
    "| 3/24(T) | 11-12:15pm | Class Meeting | Case Study: Thermal Cycling for PCR [[notebook](https://colab.research.google.com/drive/13jKfeyvHW8unSBQWTN_Fp6n0DTJEn1Q4)] [[slides](https://docs.google.com/presentation/d/1NLf1kCBUSg0uxEjTUSPpqtXvUJdSzgWupt7clZVAk0k/edit?usp=sharing)] | :heavy_check_mark: |\n",
    "| 3/26(Th) | 11-12:15pm | Class Meeting | Linear Optimization [[notebook](https://github.com/jckantor/CBE30338/blob/master/notebooks/06.02-Linear-Production-Model.ipynb)] [[slides](https://docs.google.com/presentation/d/1EaDfchk8Qhjl-NovE8CLofdHOu7Qou7pRzFxHs4iAUc/edit?usp=sharing)] | :heavy_check_mark: |\n",
    "| 3/27(F) | 11:30-2pm | Lab Session | Update TCLab Firmware [[instructions](https://github.com/jckantor/CBE30338-Sp2020/blob/master/notebooks/Update-TCLab-Firmware.md)] [[testing](https://github.com/jckantor/CBE30338-Sp2020/blob/master/notebooks/02.00-Testing-your-TCLab.ipynb)] |"
   ]
  },
  {
   "cell_type": "markdown",
   "metadata": {
    "nbpages": {
     "level": 2,
     "link": "[1.0.3 Week 3. (Feb 15 - 19) Static Controllability and Discrete Time Models](https://jckantor.github.io/cbe30338-2021/01.00-Course-Organization.html#1.0.3-Week-3.-(Feb-15---19)-Static-Controllability-and-Discrete-Time-Models)",
     "section": "1.0.3 Week 3. (Feb 15 - 19) Static Controllability and Discrete Time Models"
    }
   },
   "source": [
    "## 1.0.3 Week 3. (Feb 15 - 19) Static Controllability and Discrete Time Models\n",
    "\n",
    "[[how to download notebooks from github](https://notredame.hosted.panopto.com/Panopto/Pages/Viewer.aspx?id=9b74ad8d-4dcc-43f6-85ff-ab8f014b338b)]\n",
    "\n",
    "| Date | Time (EDT) | Activity | Topic | Attendance Req'd? |\n",
    "| :--  | :--  | :------  | :--- | :---: |\n",
    "| 3/30(M) | 1:30-4pm | Office hours | | \n",
    "| 3/31(T) | 11-12:15pm | Class Meeting | Linear Programming [[slides](https://docs.google.com/presentation/d/1iBKhN-svpNa--ToTKeZRBmCsQKT3gL8FH2kKrmN1yzI/edit?usp=sharing)] [[linprog example](https://colab.research.google.com/drive/12wZ9691OY8jN5H5FM-hWTMPuCmxw7xDm)] | :heavy_check_mark:|\n",
    "| 4/2(Th) | 11-12:15pm | Class Meeting | Static Control and Operating Envelope [[slides](https://docs.google.com/presentation/d/1OJHFq7SEySG4bHJs43eIf8F7za99ofEiiRVdpOAyZWk/edit?usp=sharing)] [[notebook](https://colab.research.google.com/drive/1BLeoUjkyVwEXNG-W1hGEu5CAyidu6QSY)]| :heavy_check_mark: |\n",
    "| 4/3(F) | 11:30-2pm | Lab Session | Static Controllability [[identification](https://github.com/jckantor/CBE30338-Sp2020/blob/master/notebooks/04.00-Model-Identification.ipynb)] |"
   ]
  },
  {
   "cell_type": "markdown",
   "metadata": {
    "nbpages": {
     "level": 2,
     "link": "[1.0.4 Week 4. (Feb 22 - Feb 26) Writing Optimization Models](https://jckantor.github.io/cbe30338-2021/01.00-Course-Organization.html#1.0.4-Week-4.-(Feb-22---Feb-26)-Writing-Optimization-Models)",
     "section": "1.0.4 Week 4. (Feb 22 - Feb 26) Writing Optimization Models"
    }
   },
   "source": [
    "## 1.0.4 Week 4. (Feb 22 - Feb 26) Writing Optimization Models\n",
    "\n",
    "| Date | Time (EDT) | Activity | Topic | Attendance Req'd? |\n",
    "| :--  | :--  | :------  | :--- | :---: |\n",
    "| 4/6(M) | 1:30-4pm | Office hours | | \n",
    "| 4/7(T) | 11-12:15pm | Class Meeting | Open-loop optimization [[slides](https://docs.google.com/presentation/d/1EL_0QSxPVOH_qSkYqLZLV-kZPiUCyXrP-Zw8uDj8IeM/edit?usp=sharing)] [[notebook](https://colab.research.google.com/drive/1GlQtjUaTiMmIdTwuZ5HvfdyL2o_hKrk5)] | :heavy_check_mark:|\n",
    "| 4/9(Th) | 11-12:15pm | Class Meeting | Feedforward Control Prototype [[slides](https://docs.google.com/presentation/d/1YRfomRa8RkKag8GIVD0WFM0MZ4sYFrJdVkUU-onUQXE/edit?usp=sharing)] | :heavy_check_mark: |\n",
    "| 4/10(F) | 11:30-2pm | Lab Session | No meeting (Good Friday) |"
   ]
  },
  {
   "cell_type": "markdown",
   "metadata": {
    "nbpages": {
     "level": 2,
     "link": "[1.0.5 Week 5. (Mar 1 - Mar 5) Trajectory Optimization](https://jckantor.github.io/cbe30338-2021/01.00-Course-Organization.html#1.0.5-Week-5.-(Mar-1---Mar-5)-Trajectory-Optimization)",
     "section": "1.0.5 Week 5. (Mar 1 - Mar 5) Trajectory Optimization"
    }
   },
   "source": [
    "## 1.0.5 Week 5. (Mar 1 - Mar 5) Trajectory Optimization\n",
    "\n",
    "| Date | Time (EDT) | Activity | Topic | Attendance Req'd? |\n",
    "| :--  | :--  | :------  | :--- | :---: |\n",
    "| 4/13(M) | 1:30-4pm | Office hours | | \n",
    "| 4/14(T) | 11-12:15pm | Class Meeting | Integrating Feedforward and Feedback Control [[slides](https://docs.google.com/presentation/d/14ZtjUxRk7U5jBrvEFLSgWcveC0R_6wdPjvHTFoIgDC8/edit?usp=sharing)] [[notebook 1](https://github.com/jckantor/CBE30338-Sp2020/blob/master/notebooks/06.02-TCLab-Threaded-Interface-Version-1.ipynb)] [[notebook 2](https://github.com/jckantor/CBE30338-Sp2020/blob/master/notebooks/06.03-TCLab%20PCR%20UI%20Development.ipynb)] | :heavy_check_mark:|\n",
    "| 4/16(Th) | 11-12:15pm | Class Meeting | Trajectory Tracking [[notebook](https://colab.research.google.com/drive/1C5yDotTadCEZRqo8C6ttdFMhJne-7cu8)] | :heavy_check_mark: |\n",
    "| 4/17(F) | 11:30-2pm | Lab Session | Optimal Control |"
   ]
  },
  {
   "cell_type": "markdown",
   "metadata": {
    "nbpages": {
     "level": 2,
     "link": "[1.0.6 Week 6. (Mar 8 - 12) Model Predictive Control](https://jckantor.github.io/cbe30338-2021/01.00-Course-Organization.html#1.0.6-Week-6.-(Mar-8---12)-Model-Predictive-Control)",
     "section": "1.0.6 Week 6. (Mar 8 - 12) Model Predictive Control"
    }
   },
   "source": [
    "## 1.0.6 Week 6. (Mar 8 - 12) Model Predictive Control\n",
    "\n",
    "| Date | Time (EDT) | Activity | Topic | Attendance Req'd? |\n",
    "| :--  | :--  | :------  | :--- | :---: |\n",
    "| 4/20(M) | 1:30-4pm | Office hours | | \n",
    "| 4/21(T) | 11-12:15pm | Class Meeting | Model Predictive Control [[notebook](https://colab.research.google.com/drive/1Hlv2vJ7l7MuPlkJCVrEXGkVCCpqBD-Ed)] | :heavy_check_mark:|\n",
    "| 4/23(Th) | 11-12:15pm | Class Meeting | Introduction to the Final Project [[instructions](https://github.com/jckantor/CBE30338-Sp2020/blob/master/notebooks/final-project-instructions.md)] | :heavy_check_mark: |\n",
    "| 4/24(F) | 11:30-2pm | Lab Session | Model Predictive Control |"
   ]
  },
  {
   "cell_type": "markdown",
   "metadata": {
    "nbpages": {
     "level": 2,
     "link": "[1.0.7 Week 7. (Mar 15 - 19)](https://jckantor.github.io/cbe30338-2021/01.00-Course-Organization.html#1.0.7-Week-7.-(Mar-15---19))",
     "section": "1.0.7 Week 7. (Mar 15 - 19)"
    }
   },
   "source": [
    "## 1.0.7 Week 7. (Mar 15 - 19)\n",
    "\n",
    "| Date | Time (EDT) | Activity | Topic | Attendance Req'd? |\n",
    "| :--  | :--  | :------  | :--- | :---: |\n",
    "| 5/4(M) | 1:30-4pm | Drop-in office hours | |\n",
    "| -- | --- | Office hours by appointment |\n",
    "| 5/11(T) | 11-12:15pm | Class Meeting | :heavy_check_mark: |\n",
    "| 5/11(Th) | 11-12:15pm | Class Meeting | :heavy_check_mark: |\n",
    "| 5/7(F) | 11:40am-12:30pm | Lab Session 1 | |\n",
    "| 5/7(F) | 1:00-1:50pm | Lab Session 2 | |"
   ]
  },
  {
   "cell_type": "markdown",
   "metadata": {
    "nbpages": {
     "level": 2,
     "link": "[1.0.8 Week 8. (Mar 22 - 26)](https://jckantor.github.io/cbe30338-2021/01.00-Course-Organization.html#1.0.8-Week-8.-(Mar-22---26))",
     "section": "1.0.8 Week 8. (Mar 22 - 26)"
    }
   },
   "source": [
    "## 1.0.8 Week 8. (Mar 22 - 26)\n",
    "\n",
    "| Date | Time (EDT) | Activity | Topic | Attendance Req'd? |\n",
    "| :--  | :--  | :------  | :--- | :---: |\n",
    "| 5/4(M) | 1:30-4pm | Drop-in office hours | |\n",
    "| -- | --- | Office hours by appointment |\n",
    "| 5/11(T) | 11-12:15pm | Class Meeting | |\n",
    "| 5/11(Th) | 11-12:15pm | Class Meeting | |\n",
    "| 5/7(F) | 11:40am-12:30pm | Lab Session 1 | |\n",
    "| 5/7(F) | 1:00-1:50pm | Lab Session 2 | |"
   ]
  },
  {
   "cell_type": "markdown",
   "metadata": {
    "nbpages": {
     "level": 2,
     "link": "[1.0.9 Week 9. (Mar 29 - Apr 1)](https://jckantor.github.io/cbe30338-2021/01.00-Course-Organization.html#1.0.9-Week-9.-(Mar-29---Apr-1))",
     "section": "1.0.9 Week 9. (Mar 29 - Apr 1)"
    }
   },
   "source": [
    "## 1.0.9 Week 9. (Mar 29 - Apr 1)\n",
    "\n",
    "| Date | Time (EDT) | Activity | Topic | Attendance Req'd? |\n",
    "| :--  | :--  | :------  | :--- | :---: |\n",
    "| 5/4(M) | 1:30-4pm | Drop-in office hours | |\n",
    "| -- | --- | Office hours by appointment |\n",
    "| 5/11(T) | 11-12:15pm | Class Meeting | |\n",
    "| 5/11(Th) | 11-12:15pm | Class Meeting | |\n",
    "| 5/7(F) | 11:40am-12:30pm | Lab Session 1 | |\n",
    "| 5/7(F) | 1:00-1:50pm | Lab Session 2 | |"
   ]
  },
  {
   "cell_type": "markdown",
   "metadata": {
    "nbpages": {
     "level": 2,
     "link": "[1.0.10 Week 10. (Apr 5 - 9)](https://jckantor.github.io/cbe30338-2021/01.00-Course-Organization.html#1.0.10-Week-10.-(Apr-5---9))",
     "section": "1.0.10 Week 10. (Apr 5 - 9)"
    }
   },
   "source": [
    "## 1.0.10 Week 10. (Apr 5 - 9)\n",
    "\n",
    "| Date | Time (EDT) | Activity | Topic | Attendance Req'd? |\n",
    "| :--  | :--  | :------  | :--- | :---: |\n",
    "| 5/4(M) | 1:30-4pm | Drop-in office hours | |\n",
    "| -- | --- | Office hours by appointment |\n",
    "| 5/11(T) | 11-12:15pm | Class Meeting | |\n",
    "| 5/11(Th) | 11-12:15pm | Class Meeting | |\n",
    "| 5/7(F) | 11:40am-12:30pm | Lab Session 1 | |\n",
    "| 5/7(F) | 1:00-1:50pm | Lab Session 2 | |"
   ]
  },
  {
   "cell_type": "markdown",
   "metadata": {
    "nbpages": {
     "level": 2,
     "link": "[1.0.11 Week 11. (Apr 12 - 16 )](https://jckantor.github.io/cbe30338-2021/01.00-Course-Organization.html#1.0.11-Week-11.-(Apr-12---16-))",
     "section": "1.0.11 Week 11. (Apr 12 - 16 )"
    }
   },
   "source": [
    "## 1.0.11 Week 11. (Apr 12 - 16 )\n",
    "\n",
    "| Date | Time (EDT) | Activity | Topic | Attendance Req'd? |\n",
    "| :--  | :--  | :------  | :--- | :---: |\n",
    "| 5/4(M) | 1:30-4pm | Drop-in office hours | |\n",
    "| -- | --- | Office hours by appointment |\n",
    "| 5/11(T) | 11-12:15pm | Class Meeting | |\n",
    "| 5/11(Th) | 11-12:15pm | Class Meeting | |\n",
    "| 5/7(F) | 11:40am-12:30pm | Lab Session 1 | |\n",
    "| 5/7(F) | 1:00-1:50pm | Lab Session 2 | |"
   ]
  },
  {
   "cell_type": "markdown",
   "metadata": {
    "nbpages": {
     "level": 2,
     "link": "[1.0.12 Week 12. (Apr 19 - 23)](https://jckantor.github.io/cbe30338-2021/01.00-Course-Organization.html#1.0.12-Week-12.-(Apr-19---23))",
     "section": "1.0.12 Week 12. (Apr 19 - 23)"
    }
   },
   "source": [
    "## 1.0.12 Week 12. (Apr 19 - 23)\n",
    "\n",
    "| Date | Time (EDT) | Activity | Topic | Attendance Req'd? |\n",
    "| :--  | :--  | :------  | :--- | :---: |\n",
    "| 5/4(M) | 1:30-4pm | Drop-in office hours | |\n",
    "| -- | --- | Office hours by appointment |\n",
    "| 5/11(T) | 11-12:15pm | Class Meeting | |\n",
    "| 5/11(Th) | 11-12:15pm | Class Meeting | |\n",
    "| 5/7(F) | 11:40am-12:30pm | Lab Session 1 | |\n",
    "| 5/7(F) | 1:00-1:50pm | Lab Session 2 | |"
   ]
  },
  {
   "cell_type": "markdown",
   "metadata": {
    "nbpages": {
     "level": 2,
     "link": "[1.0.13 Week 13. (Apr 26 - 30)](https://jckantor.github.io/cbe30338-2021/01.00-Course-Organization.html#1.0.13-Week-13.-(Apr-26---30))",
     "section": "1.0.13 Week 13. (Apr 26 - 30)"
    }
   },
   "source": [
    "## 1.0.13 Week 13. (Apr 26 - 30)\n",
    "\n",
    "| Date | Time (EDT) | Activity | Topic | Attendance Req'd? |\n",
    "| :--  | :--  | :------  | :--- | :---: |\n",
    "| 5/4(M) | 1:30-4pm | Drop-in office hours | |\n",
    "| -- | --- | Office hours by appointment |\n",
    "| 5/11(T) | 11-12:15pm | Class Meeting | |\n",
    "| 5/11(Th) | 11-12:15pm | Class Meeting | |\n",
    "| 5/7(F) | 11:40am-12:30pm | Lab Session 1 | |\n",
    "| 5/7(F) | 1:00-1:50pm | Lab Session 2 | |"
   ]
  },
  {
   "cell_type": "markdown",
   "metadata": {
    "nbpages": {
     "level": 2,
     "link": "[1.0.14 Week 14. (May 3 - 7) ](https://jckantor.github.io/cbe30338-2021/01.00-Course-Organization.html#1.0.14-Week-14.-(May-3---7))",
     "section": "1.0.14 Week 14. (May 3 - 7) "
    }
   },
   "source": [
    "## 1.0.14 Week 14. (May 3 - 7) \n",
    "\n",
    "| Date | Time (EDT) | Activity | Topic | Attendance Req'd? |\n",
    "| :--  | :--  | :------  | :--- | :---: |\n",
    "| 5/4(M) | 1:30-4pm | Drop-in office hours | |\n",
    "| -- | --- | Office hours by appointment |\n",
    "| 5/11(T) | 11-12:15pm | Class Meeting | |\n",
    "| 5/11(Th) | 11-12:15pm | Class Meeting | |\n",
    "| 5/7(F) | 11:40am-12:30pm | Lab Session 1 | |\n",
    "| 5/7(F) | 1:00-1:50pm | Lab Session 2 | |"
   ]
  },
  {
   "cell_type": "markdown",
   "metadata": {
    "nbpages": {
     "level": 2,
     "link": "[1.0.15 Week 15. (May 10 - 14) Finals Week](https://jckantor.github.io/cbe30338-2021/01.00-Course-Organization.html#1.0.15-Week-15.-(May-10---14)-Finals-Week)",
     "section": "1.0.15 Week 15. (May 10 - 14) Finals Week"
    }
   },
   "source": [
    "## 1.0.15 Week 15. (May 10 - 14) Finals Week\n",
    "\n",
    "| Date | Time (EDT) | Activity | Topic | Attendance Req'd? |\n",
    "| :--  | :--  | :------  | :--- | :---: |\n",
    "| 5/11(M) | 1:30-4pm | Office hours | |\n",
    "| 5/11(T) | 11-12:15pm | Class Meeting | :heavy_check_mark: |\n",
    "| -- | --- | Office hours by appointment |\n",
    "| 5/14(F) | 10:30am - 12:30pm | Scheduled Final Exam | :heavy_check_mark: |"
   ]
  },
  {
   "cell_type": "code",
   "execution_count": null,
   "metadata": {
    "nbpages": {
     "level": 2,
     "link": "[1.0.15 Week 15. (May 10 - 14) Finals Week](https://jckantor.github.io/cbe30338-2021/01.00-Course-Organization.html#1.0.15-Week-15.-(May-10---14)-Finals-Week)",
     "section": "1.0.15 Week 15. (May 10 - 14) Finals Week"
    }
   },
   "outputs": [],
   "source": []
  },
  {
   "cell_type": "markdown",
   "metadata": {},
   "source": [
    "<!--NAVIGATION-->\n",
    "| [Contents](toc.html) |<p><a href=\"https://colab.research.google.com/github/jckantor/cbe30338-2021/blob/master/../cbe30338-2021/docs/01.00-Course-Organization.ipynb\"> <img align=\"left\" src=\"https://colab.research.google.com/assets/colab-badge.svg\" alt=\"Open in Colab\" title=\"Open in Google Colaboratory\"></a><p><a href=\"https://jckantor.github.io/cbe30338-2021/01.00-Course-Organization.ipynb\"> <img align=\"left\" src=\"https://img.shields.io/badge/Github-Download-blue.svg\" alt=\"Download\" title=\"Download Notebook\"></a>"
   ]
  }
 ],
 "metadata": {
  "kernelspec": {
   "display_name": "Python 3",
   "language": "python",
   "name": "python3"
  },
  "language_info": {
   "codemirror_mode": {
    "name": "ipython",
    "version": 3
   },
   "file_extension": ".py",
   "mimetype": "text/x-python",
   "name": "python",
   "nbconvert_exporter": "python",
   "pygments_lexer": "ipython3",
   "version": "3.8.5"
  }
 },
 "nbformat": 4,
 "nbformat_minor": 4
}
