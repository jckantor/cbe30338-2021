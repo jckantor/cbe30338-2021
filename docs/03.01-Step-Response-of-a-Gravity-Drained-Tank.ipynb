{
 "cells": [
  {
   "cell_type": "markdown",
   "metadata": {
    "nbpages": {
     "level": 0,
     "link": "[](https://jckantor.github.io/cbe30338-2021/03.01-Step-Response-of-a-Gravity-Drained-Tank.html)",
     "section": ""
    }
   },
   "source": [
    "<!--NOTEBOOK_HEADER-->\n",
    "*This notebook contains material from [cbe30338-2021](https://jckantor.github.io/cbe30338-2021);\n",
    "content is available [on Github](https://github.com/jckantor/cbe30338-2021.git).*\n"
   ]
  },
  {
   "cell_type": "markdown",
   "metadata": {
    "nbpages": {
     "level": 0,
     "link": "[](https://jckantor.github.io/cbe30338-2021/03.01-Step-Response-of-a-Gravity-Drained-Tank.html)",
     "section": ""
    }
   },
   "source": [
    "<!--NAVIGATION-->\n",
    "< [3.0 Linearization](https://jckantor.github.io/cbe30338-2021/03.00-Linearization.html) | [Contents](toc.html) | [Tag Index](tag_index.html) | [3.2 Linear Approximation of a Process Model](https://jckantor.github.io/cbe30338-2021/03.02-Linear-Approximation-of-a-Process-Model.html) ><p><a href=\"https://colab.research.google.com/github/jckantor/cbe30338-2021/blob/master/docs/03.01-Step-Response-of-a-Gravity-Drained-Tank.ipynb\"> <img align=\"left\" src=\"https://colab.research.google.com/assets/colab-badge.svg\" alt=\"Open in Colab\" title=\"Open in Google Colaboratory\"></a><p><a href=\"https://jckantor.github.io/cbe30338-2021/03.01-Step-Response-of-a-Gravity-Drained-Tank.ipynb\"> <img align=\"left\" src=\"https://img.shields.io/badge/Github-Download-blue.svg\" alt=\"Download\" title=\"Download Notebook\"></a>"
   ]
  },
  {
   "cell_type": "markdown",
   "metadata": {
    "nbpages": {
     "level": 1,
     "link": "[3.1 Step Response of a Gravity Drained Tank](https://jckantor.github.io/cbe30338-2021/03.01-Step-Response-of-a-Gravity-Drained-Tank.html#3.1-Step-Response-of-a-Gravity-Drained-Tank)",
     "section": "3.1 Step Response of a Gravity Drained Tank"
    },
    "slideshow": {
     "slide_type": "slide"
    }
   },
   "source": [
    "# 3.1 Step Response of a Gravity Drained Tank\n",
    "\n",
    "by Jeffrey Kantor  (jeff at nd.edu). The latest version of this notebook is available at [https://github.com/jckantor/CBE30338](https://github.com/jckantor/CBE30338). "
   ]
  },
  {
   "cell_type": "markdown",
   "metadata": {
    "nbpages": {
     "level": 2,
     "link": "[3.1.1 Summary](https://jckantor.github.io/cbe30338-2021/03.01-Step-Response-of-a-Gravity-Drained-Tank.html#3.1.1-Summary)",
     "section": "3.1.1 Summary"
    },
    "slideshow": {
     "slide_type": "slide"
    }
   },
   "source": [
    "## 3.1.1 Summary\n",
    "\n",
    "In the example we show how to fit the step response of a nonlinear system, a gravity drained tank, to a first order linear system."
   ]
  },
  {
   "cell_type": "markdown",
   "metadata": {
    "nbpages": {
     "level": 2,
     "link": "[3.1.2 Mass Balance for Tank with Constant Cross-Sectional Area](https://jckantor.github.io/cbe30338-2021/03.01-Step-Response-of-a-Gravity-Drained-Tank.html#3.1.2-Mass-Balance-for-Tank-with-Constant-Cross-Sectional-Area)",
     "section": "3.1.2 Mass Balance for Tank with Constant Cross-Sectional Area"
    },
    "slideshow": {
     "slide_type": "slide"
    }
   },
   "source": [
    "## 3.1.2 Mass Balance for Tank with Constant Cross-Sectional Area\n",
    "\n",
    "For a tank with constant cross-sectional area, such as a cylindrical or rectangular tank, the liquid height is described by a differential equation\n",
    "\n",
    "$$A\\frac{dh}{dt} = q_{in}(t) - q_{out}(t)$$\n",
    "\n",
    "where $q_{out}$ is a function of liquid height. Torricelli's law tells the outlet flow from the tank is proportional to square root of the liquid height\n",
    "\n",
    "$$ q_{out}(h) = C_v\\sqrt{h} $$"
   ]
  },
  {
   "cell_type": "markdown",
   "metadata": {
    "nbpages": {
     "level": 2,
     "link": "[3.1.2 Mass Balance for Tank with Constant Cross-Sectional Area](https://jckantor.github.io/cbe30338-2021/03.01-Step-Response-of-a-Gravity-Drained-Tank.html#3.1.2-Mass-Balance-for-Tank-with-Constant-Cross-Sectional-Area)",
     "section": "3.1.2 Mass Balance for Tank with Constant Cross-Sectional Area"
    },
    "slideshow": {
     "slide_type": "slide"
    }
   },
   "source": [
    "Dividing by area we obtain a nonlinear ordinary differential equation \n",
    "\n",
    "$$ \\frac{dh}{dt} = - \\frac{C_V}{A}\\sqrt{h} + \\frac{1}{A}q_{in}(t) $$\n",
    "\n",
    "in our standard form where the LHS derivative appears with a constant coefficient of 1."
   ]
  },
  {
   "cell_type": "markdown",
   "metadata": {
    "nbpages": {
     "level": 2,
     "link": "[3.1.3 Nonlinear Step Response](https://jckantor.github.io/cbe30338-2021/03.01-Step-Response-of-a-Gravity-Drained-Tank.html#3.1.3-Nonlinear-Step-Response)",
     "section": "3.1.3 Nonlinear Step Response"
    },
    "slideshow": {
     "slide_type": "slide"
    }
   },
   "source": [
    "## 3.1.3 Nonlinear Step Response"
   ]
  },
  {
   "cell_type": "code",
   "execution_count": 1,
   "metadata": {
    "nbpages": {
     "level": 2,
     "link": "[3.1.3 Nonlinear Step Response](https://jckantor.github.io/cbe30338-2021/03.01-Step-Response-of-a-Gravity-Drained-Tank.html#3.1.3-Nonlinear-Step-Response)",
     "section": "3.1.3 Nonlinear Step Response"
    }
   },
   "outputs": [
    {
     "data": {
      "image/png": "[encoded data removed]",
      "text/plain": [
       "<matplotlib.figure.Figure at 0x106a6c710>"
      ]
     },
     "metadata": {},
     "output_type": "display_data"
    }
   ],
   "source": [
    "%matplotlib inline\n",
    "import matplotlib.pyplot as plt\n",
    "import numpy as np\n",
    "from scipy.integrate import odeint\n",
    "\n",
    "Cv  = 0.1     # Outlet valve constant [cubic meters/min/meter^1/2]\n",
    "A   = 1.0     # Tank area [meter^2]\n",
    "\n",
    "# inlet flow rate in cubic meters/min\n",
    "def qin(t):\n",
    "    return 0.15\n",
    "\n",
    "def deriv(h,t):\n",
    "    return qin(t)/A - Cv*np.sqrt(h)/A\n",
    "\n",
    "IC = [0.0]\n",
    "t = np.linspace(0,200,101)\n",
    "h = odeint(deriv,IC,t)\n",
    "\n",
    "plt.plot(t,h)\n",
    "\n",
    "plt.xlabel('Time [min]')\n",
    "plt.ylabel('Level [m]')\n",
    "plt.grid();"
   ]
  },
  {
   "cell_type": "markdown",
   "metadata": {
    "nbpages": {
     "level": 2,
     "link": "[3.1.4 Linear Approximation of the Step Response](https://jckantor.github.io/cbe30338-2021/03.01-Step-Response-of-a-Gravity-Drained-Tank.html#3.1.4-Linear-Approximation-of-the-Step-Response)",
     "section": "3.1.4 Linear Approximation of the Step Response"
    },
    "slideshow": {
     "slide_type": "slide"
    }
   },
   "source": [
    "## 3.1.4 Linear Approximation of the Step Response\n",
    "\n",
    "The step response of the gravity drained to a change in flowrate looks similar to the step response of a firat order linear system. Let's try a linear approximation\n",
    "\n",
    "$$\\tau\\frac{dx}{dt} + x = Ku$$\n",
    "\n",
    "which has a step response solution that can be written\n",
    "\n",
    "$$x(t) = x_{ss} + (x_0 - x_{ss})\\exp(-t/\\tau)$$\n",
    "\n",
    "where $x_{ss} = Ku_{ss}$. There are two parameters, $K$ and $\\tau$, which we need to estimate in order to fit the linear approximation to the nonlinear simulation results computed above."
   ]
  },
  {
   "cell_type": "markdown",
   "metadata": {
    "nbpages": {
     "level": 3,
     "link": "[3.1.4.1 Fit for $K$](https://jckantor.github.io/cbe30338-2021/03.01-Step-Response-of-a-Gravity-Drained-Tank.html#3.1.4.1-Fit-for-$K$)",
     "section": "3.1.4.1 Fit for $K$"
    },
    "slideshow": {
     "slide_type": "slide"
    }
   },
   "source": [
    "### 3.1.4.1 Fit for $K$\n",
    "\n",
    "The steady state gain $K$ of the linear system is given by\n",
    "\n",
    "$$ K = \\frac{x_{ss} - x(0)}{u_{ss} - u_0}$$\n",
    "\n",
    "where $u_0$ is the initial input, $u_{ss}$ is the steady-state input, and $x_0$ and $x_{ss}$ are corresponding values of the state variable. In the case of liquid level, $h\\sim x$ and $q_{in}\\sim u$, therefore an estimate of $K$ is \n",
    "\n",
    "$$ K = \\frac{h_{ss} - h_0}{q_{in,ss} - q_{in,0}}$$"
   ]
  },
  {
   "cell_type": "code",
   "execution_count": 2,
   "metadata": {
    "nbpages": {
     "level": 3,
     "link": "[3.1.4.1 Fit for $K$](https://jckantor.github.io/cbe30338-2021/03.01-Step-Response-of-a-Gravity-Drained-Tank.html#3.1.4.1-Fit-for-$K$)",
     "section": "3.1.4.1 Fit for $K$"
    },
    "slideshow": {
     "slide_type": "slide"
    }
   },
   "outputs": [
    {
     "name": "stdout",
     "output_type": "stream",
     "text": [
      "Steady-State Gain is approximately =  [ 14.98595148]\n"
     ]
    }
   ],
   "source": [
    "q0,h0 = 0,0            # initial conditions\n",
    "qss = qin(t[-1])       # final input\n",
    "hss = h[-1]            # python way to get the last element in a list\n",
    "\n",
    "K = (hss-h0)/(qss-q0)  # step change in output divided by step change in input\n",
    "print('Steady-State Gain is approximately = ', K)"
   ]
  },
  {
   "cell_type": "markdown",
   "metadata": {
    "nbpages": {
     "level": 3,
     "link": "[3.1.4.2 Fit for $\\tau$](https://jckantor.github.io/cbe30338-2021/03.01-Step-Response-of-a-Gravity-Drained-Tank.html#3.1.4.2-Fit-for-$\\tau$)",
     "section": "3.1.4.2 Fit for $\\tau$"
    },
    "slideshow": {
     "slide_type": "slide"
    }
   },
   "source": [
    "### 3.1.4.2 Fit for $\\tau$\n",
    "\n",
    "From the formula for the solution of a first-order linear equation with constant input,\n",
    "\n",
    "$$\\frac{x_{ss} - x(t)}{x_{ss} - x_0} = \\exp(-t/\\tau) \\qquad \\implies \\qquad \\tau = \\frac{-t}{\\ln\\frac{x_{ss} - x(t)}{x_{ss} - x_0}}$$\n",
    "\n",
    "We pick one point representative of the transient portion of the nonlinear response. In this case the response at $t = 25$ minutes accounts for $\\approx$60% of the ultimate response, so we choose point as a representative point."
   ]
  },
  {
   "cell_type": "code",
   "execution_count": 3,
   "metadata": {
    "nbpages": {
     "level": 3,
     "link": "[3.1.4.2 Fit for $\\tau$](https://jckantor.github.io/cbe30338-2021/03.01-Step-Response-of-a-Gravity-Drained-Tank.html#3.1.4.2-Fit-for-$\\tau$)",
     "section": "3.1.4.2 Fit for $\\tau$"
    },
    "slideshow": {
     "slide_type": "slide"
    }
   },
   "outputs": [
    {
     "name": "stdout",
     "output_type": "stream",
     "text": [
      "Estimated time constant is  [ 23.92271579]\n"
     ]
    }
   ],
   "source": [
    "k = sum(t<25)        # find index in t corresponding to 25 minutes\n",
    "tk = t[k]\n",
    "hk = h[k]\n",
    "\n",
    "tau = -tk/np.log((hss-hk)/(hss-h0))\n",
    "print('Estimated time constant is ', tau)"
   ]
  },
  {
   "cell_type": "markdown",
   "metadata": {
    "nbpages": {
     "level": 3,
     "link": "[3.1.4.3 Comparing the linear approximation to the nonlinear simulation](https://jckantor.github.io/cbe30338-2021/03.01-Step-Response-of-a-Gravity-Drained-Tank.html#3.1.4.3-Comparing-the-linear-approximation-to-the-nonlinear-simulation)",
     "section": "3.1.4.3 Comparing the linear approximation to the nonlinear simulation"
    },
    "slideshow": {
     "slide_type": "slide"
    }
   },
   "source": [
    "### 3.1.4.3 Comparing the linear approximation to the nonlinear simulation"
   ]
  },
  {
   "cell_type": "code",
   "execution_count": 4,
   "metadata": {
    "nbpages": {
     "level": 3,
     "link": "[3.1.4.3 Comparing the linear approximation to the nonlinear simulation](https://jckantor.github.io/cbe30338-2021/03.01-Step-Response-of-a-Gravity-Drained-Tank.html#3.1.4.3-Comparing-the-linear-approximation-to-the-nonlinear-simulation)",
     "section": "3.1.4.3 Comparing the linear approximation to the nonlinear simulation"
    }
   },
   "outputs": [
    {
     "data": {
      "image/png": "[encoded data removed]",
      "text/plain": [
       "<matplotlib.figure.Figure at 0x106a6ccf8>"
      ]
     },
     "metadata": {},
     "output_type": "display_data"
    }
   ],
   "source": [
    "u0 = q0\n",
    "uss = qss\n",
    "\n",
    "xss = K*(uss - u0)\n",
    "xpred = xss - xss*np.exp(-t/tau)\n",
    "\n",
    "plt.plot(t,h)\n",
    "plt.plot(t,xpred)\n",
    "plt.legend(['Nonlinear Simulation','Linear Approximation'])\n",
    "plt.xlabel('Time [min]')\n",
    "plt.ylabel('Level [m]')\n",
    "plt.title('Nonlinear Simulation vs. Linear Approximation');"
   ]
  },
  {
   "cell_type": "code",
   "execution_count": null,
   "metadata": {
    "collapsed": true,
    "nbpages": {
     "level": 3,
     "link": "[3.1.4.3 Comparing the linear approximation to the nonlinear simulation](https://jckantor.github.io/cbe30338-2021/03.01-Step-Response-of-a-Gravity-Drained-Tank.html#3.1.4.3-Comparing-the-linear-approximation-to-the-nonlinear-simulation)",
     "section": "3.1.4.3 Comparing the linear approximation to the nonlinear simulation"
    }
   },
   "outputs": [],
   "source": []
  },
  {
   "cell_type": "markdown",
   "metadata": {
    "nbpages": {
     "level": 3,
     "link": "[3.1.4.3 Comparing the linear approximation to the nonlinear simulation](https://jckantor.github.io/cbe30338-2021/03.01-Step-Response-of-a-Gravity-Drained-Tank.html#3.1.4.3-Comparing-the-linear-approximation-to-the-nonlinear-simulation)",
     "section": "3.1.4.3 Comparing the linear approximation to the nonlinear simulation"
    }
   },
   "source": [
    "<!--NAVIGATION-->\n",
    "< [3.0 Linearization](https://jckantor.github.io/cbe30338-2021/03.00-Linearization.html) | [Contents](toc.html) | [Tag Index](tag_index.html) | [3.2 Linear Approximation of a Process Model](https://jckantor.github.io/cbe30338-2021/03.02-Linear-Approximation-of-a-Process-Model.html) ><p><a href=\"https://colab.research.google.com/github/jckantor/cbe30338-2021/blob/master/docs/03.01-Step-Response-of-a-Gravity-Drained-Tank.ipynb\"> <img align=\"left\" src=\"https://colab.research.google.com/assets/colab-badge.svg\" alt=\"Open in Colab\" title=\"Open in Google Colaboratory\"></a><p><a href=\"https://jckantor.github.io/cbe30338-2021/03.01-Step-Response-of-a-Gravity-Drained-Tank.ipynb\"> <img align=\"left\" src=\"https://img.shields.io/badge/Github-Download-blue.svg\" alt=\"Download\" title=\"Download Notebook\"></a>"
   ]
  }
 ],
 "metadata": {
  "anaconda-cloud": {},
  "kernelspec": {
   "display_name": "Python 3",
   "language": "python",
   "name": "python3"
  },
  "language_info": {
   "codemirror_mode": {
    "name": "ipython",
    "version": 3
   },
   "file_extension": ".py",
   "mimetype": "text/x-python",
   "name": "python",
   "nbconvert_exporter": "python",
   "pygments_lexer": "ipython3",
   "version": "3.7.4"
  }
 },
 "nbformat": 4,
 "nbformat_minor": 2
}
