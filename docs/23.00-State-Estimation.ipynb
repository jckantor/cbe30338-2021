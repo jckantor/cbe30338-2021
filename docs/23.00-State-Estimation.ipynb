{
 "cells": [
  {
   "cell_type": "markdown",
   "metadata": {
    "id": "INAvK85C-_7W",
    "nbpages": {
     "level": 0,
     "link": "[](https://jckantor.github.io/cbe30338-2021/23.00-State-Estimation.html)",
     "section": ""
    }
   },
   "source": [
    "<!--NOTEBOOK_HEADER-->\n",
    "*This notebook contains material from [cbe30338-2021](https://jckantor.github.io/cbe30338-2021);\n",
    "content is available [on Github](https://github.com/jckantor/cbe30338-2021.git).*\n"
   ]
  },
  {
   "cell_type": "markdown",
   "metadata": {
    "id": "QJokFR-P-_7X",
    "nbpages": {
     "level": 0,
     "link": "[](https://jckantor.github.io/cbe30338-2021/23.00-State-Estimation.html)",
     "section": ""
    }
   },
   "source": [
    "<!--NAVIGATION-->\n",
    "< [22.10 TCLab Lab 2: Model Identification](https://jckantor.github.io/cbe30338-2021/22.10-TCLab-Lab-2-Model-Indentification-Solutions.html) | [Contents](toc.html) | [Tag Index](tag_index.html) | [23.1 Open and Closed Loop Estimation](https://jckantor.github.io/cbe30338-2021/23.01-Open-and-Closed-Loop-Estimation.html) ><p><a href=\"https://colab.research.google.com/github/jckantor/cbe30338-2021/blob/master/docs/23.00-State-Estimation.ipynb\"> <img align=\"left\" src=\"https://colab.research.google.com/assets/colab-badge.svg\" alt=\"Open in Colab\" title=\"Open in Google Colaboratory\"></a><p><a href=\"https://jckantor.github.io/cbe30338-2021/23.00-State-Estimation.ipynb\"> <img align=\"left\" src=\"https://img.shields.io/badge/Github-Download-blue.svg\" alt=\"Download\" title=\"Download Notebook\"></a>"
   ]
  },
  {
   "cell_type": "markdown",
   "metadata": {
    "id": "iXWCukfc-_7X",
    "nbpages": {
     "level": 1,
     "link": "[23.0 State Estimation](https://jckantor.github.io/cbe30338-2021/23.00-State-Estimation.html#23.0-State-Estimation)",
     "section": "23.0 State Estimation"
    }
   },
   "source": [
    "# 23.0 State Estimation\n",
    "\n",
    "\n",
    "## Reference materials\n",
    "\n",
    "* Wang, Shuo. \"Kalman Filter in a Nutshell.\" *Towards Data Science*, https://towardsdatascience.com/kalman-filter-in-a-nutshell-e66154a06862. Accessed 6 December 2020."
   ]
  },
  {
   "cell_type": "markdown",
   "metadata": {
    "id": "KhEh0wIx-_7X",
    "nbpages": {
     "level": 1,
     "link": "[23.0 State Estimation](https://jckantor.github.io/cbe30338-2021/23.00-State-Estimation.html#23.0-State-Estimation)",
     "section": "23.0 State Estimation"
    }
   },
   "source": [
    "<!--NAVIGATION-->\n",
    "< [22.10 TCLab Lab 2: Model Identification](https://jckantor.github.io/cbe30338-2021/22.10-TCLab-Lab-2-Model-Indentification-Solutions.html) | [Contents](toc.html) | [Tag Index](tag_index.html) | [23.1 Open and Closed Loop Estimation](https://jckantor.github.io/cbe30338-2021/23.01-Open-and-Closed-Loop-Estimation.html) ><p><a href=\"https://colab.research.google.com/github/jckantor/cbe30338-2021/blob/master/docs/23.00-State-Estimation.ipynb\"> <img align=\"left\" src=\"https://colab.research.google.com/assets/colab-badge.svg\" alt=\"Open in Colab\" title=\"Open in Google Colaboratory\"></a><p><a href=\"https://jckantor.github.io/cbe30338-2021/23.00-State-Estimation.ipynb\"> <img align=\"left\" src=\"https://img.shields.io/badge/Github-Download-blue.svg\" alt=\"Download\" title=\"Download Notebook\"></a>"
   ]
  }
 ],
 "metadata": {
  "colab": {
   "collapsed_sections": [],
   "name": "03.00-State-Estimation.ipynb",
   "provenance": []
  },
  "kernelspec": {
   "display_name": "Python 3",
   "language": "python",
   "name": "python3"
  },
  "language_info": {
   "codemirror_mode": {
    "name": "ipython",
    "version": 3
   },
   "file_extension": ".py",
   "mimetype": "text/x-python",
   "name": "python",
   "nbconvert_exporter": "python",
   "pygments_lexer": "ipython3",
   "version": "3.7.4"
  }
 },
 "nbformat": 4,
 "nbformat_minor": 0
}
