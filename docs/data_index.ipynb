{
 "cells": [
  {
   "cell_type": "markdown",
   "metadata": {},
   "source": [
    "# [cbe30338-2021](https://jckantor.github.io/cbe30338-2021)\n",
    "\n",
    "## Index of Data files in this Repository\n",
    "\n",
    "### Model_Data.csv\n",
    "![Model_Data.csv](data/Model_Data.csv)\n",
    "* [2.3.2.5 Estimating $\\alpha$](https://jckantor.github.io/cbe30338-2021/02.03-First-Order-Model-for-a-Single-Heater.html#2.3.2.5-Estimating-$\\alpha$)\n",
    "* [2.3.3 Matching the Model to Experimental Data](https://jckantor.github.io/cbe30338-2021/02.03-First-Order-Model-for-a-Single-Heater.html#2.3.3-Matching-the-Model-to-Experimental-Data)\n",
    "\n",
    "### step-test-data.csv\n",
    "![step-test-data.csv](data/step-test-data.csv)\n",
    "* [22.2.1 Read the Data File](https://jckantor.github.io/cbe30338-2021/22.02-Fitting-Step-Test-Data-to-Empirical-Models.html#22.2.1-Read-the-Data-File)\n",
    "* [22.2.3 First Order plus Dead Time](https://jckantor.github.io/cbe30338-2021/22.02-Fitting-Step-Test-Data-to-Empirical-Models.html#22.2.3-First-Order-plus-Dead-Time)\n",
    "* [22.2.4 Second Order](https://jckantor.github.io/cbe30338-2021/22.02-Fitting-Step-Test-Data-to-Empirical-Models.html#22.2.4-Second-Order)\n",
    "\n",
    "### Step_Test_Data.csv\n",
    "![Step_Test_Data.csv](data/Step_Test_Data.csv)\n",
    "* [22.1.1.4 Save DataFrame as a .csv file](https://jckantor.github.io/cbe30338-2021/22.01-Step-Testing.html#22.1.1.4-Save-DataFrame-as-a-.csv-file)\n",
    "* [22.1.1.5 Verify the Data File](https://jckantor.github.io/cbe30338-2021/22.01-Step-Testing.html#22.1.1.5-Verify-the-Data-File)\n",
    "* [22.4.4 Estimating $U_a$ and $U_b$](https://jckantor.github.io/cbe30338-2021/22.04-Two-Input-Two-Output-Model.html#22.4.4-Estimating-$U_a$-and-$U_b$)\n",
    "* [22.4.6 Fitting the Model to Measured Step Response Data](https://jckantor.github.io/cbe30338-2021/22.04-Two-Input-Two-Output-Model.html#22.4.6-Fitting-the-Model-to-Measured-Step-Response-Data)\n",
    "* [22.5.2 Model in deviation variables](https://jckantor.github.io/cbe30338-2021/22.05-Two-State-Model-for-a-Single-Heater.html#22.5.2-Model-in-deviation-variables)\n",
    "* [22.6.3 State space](https://jckantor.github.io/cbe30338-2021/22.06-Four-State-Model.html#22.6.3-State-space)\n",
    "\n",
    "### tclab-data.csv\n",
    "![tclab-data.csv](data/tclab-data.csv)\n",
    "* [22.10.5 Exercise 4. Verify and save data to a .csv file](https://jckantor.github.io/cbe30338-2021/22.10-TCLab-Lab-2-Model-Indentification-Solutions.html#22.10.5-Exercise-4.-Verify-and-save-data-to-a-.csv-file)\n",
    "* [22.10.5 Exercise 4. Verify and save data to a .csv file](https://jckantor.github.io/cbe30338-2021/22.10-TCLab-Lab-2-Model-Indentification.html#22.10.5-Exercise-4.-Verify-and-save-data-to-a-.csv-file)\n",
    "* [22.11.1.1 Reading data](https://jckantor.github.io/cbe30338-2021/22.11-TCLab-Lab-2-Fitting.html#22.11.1.1-Reading-data)"
   ]
  }
 ],
 "metadata": {},
 "nbformat": 4,
 "nbformat_minor": 4
}
