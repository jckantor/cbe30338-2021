{
 "cells": [
  {
   "cell_type": "markdown",
   "metadata": {},
   "source": [
    "<!--NOTEBOOK_HEADER-->\n",
    "*This notebook contains material from [cbe30338-2021](https://jckantor.github.io/cbe30338-2021);\n",
    "content is available [on Github](https://github.com/jckantor/cbe30338-2021.git).*\n"
   ]
  },
  {
   "cell_type": "markdown",
   "metadata": {},
   "source": [
    "<!--NAVIGATION-->\n",
    "< [7.3 Chemotaxis](https://jckantor.github.io/cbe30338-2021/07.03-Chemotaxis.html) | [Contents](toc.html) | [Tag Index](tag_index.html) | [7.5 Simulating Queuing Systems](https://jckantor.github.io/cbe30338-2021/07.05-Queuing-Systems-and-Poisson-Processes.html) ><p><a href=\"https://colab.research.google.com/github/jckantor/cbe30338-2021/blob/master/docs/07.04-Project-Batch-Chemical-Process.ipynb\"> <img align=\"left\" src=\"https://colab.research.google.com/assets/colab-badge.svg\" alt=\"Open in Colab\" title=\"Open in Google Colaboratory\"></a><p><a href=\"https://jckantor.github.io/cbe30338-2021/07.04-Project-Batch-Chemical-Process.ipynb\"> <img align=\"left\" src=\"https://img.shields.io/badge/Github-Download-blue.svg\" alt=\"Download\" title=\"Download Notebook\"></a>"
   ]
  },
  {
   "cell_type": "markdown",
   "metadata": {
    "nbpages": {
     "level": 1,
     "link": "[7.4 Batch Chemical Process](https://jckantor.github.io/cbe30338-2021/07.04-Project-Batch-Chemical-Process.html#7.4-Batch-Chemical-Process)",
     "section": "7.4 Batch Chemical Process"
    }
   },
   "source": [
    "# 7.4 Batch Chemical Process\n"
   ]
  },
  {
   "cell_type": "markdown",
   "metadata": {
    "nbpages": {
     "level": 2,
     "link": "[7.4.1 Problem Statement](https://jckantor.github.io/cbe30338-2021/07.04-Project-Batch-Chemical-Process.html#7.4.1-Problem-Statement)",
     "section": "7.4.1 Problem Statement"
    }
   },
   "source": [
    "## 7.4.1 Problem Statement\n",
    "\n",
    "Schultheisz, Daniel, and Jude T. Sommerfeld. \"Discrete-Event Simulation in Chemical Engineering.\" Chemical Engineering Education 22.2 (1988): 98-102.\n",
    "\n",
    "![Batch Process](figures/BatchProcess.png)\n",
    "\n",
    "    \"... a small, single-product batch chemical plant has three identical reactors in parallel, followed by a single storage tank and a batch still. Customer orders (batches) to be filled (which begin with processing in the reactor) occur every 115 ± 30 minutes, uniformly distributed. The reaction time in a given reactor is 335 ± 60 minutes, and the distillation time in the still is 110 ± 25 minutes, both times uniformly distributed. The holding capacity of the storage tank is exactly one batch. Hence, the storage tank must be empty for a given reactor to discharge its batch; if not, the reactor cannot begin processing a new batch until the storage tank becomes empty. The simulation is to be run for 100 batches. The model should have the capability to collect waiting line statistics for the queue immediately upstream of the reactor.\"\"\n",
    "    \n",
    "    \n",
    "You have been hired by the client as a consulting engineer. Prepare a SimPy simulation of this process to deliver to the client. The delivery should include functions to report the key performance indicators, visualize the results of the simulation, and to conduct 'what-if' studies to determine ways to improve process performance."
   ]
  },
  {
   "cell_type": "markdown",
   "metadata": {
    "nbpages": {
     "level": 2,
     "link": "[7.4.2 Analysis](https://jckantor.github.io/cbe30338-2021/07.04-Project-Batch-Chemical-Process.html#7.4.2-Analysis)",
     "section": "7.4.2 Analysis"
    }
   },
   "source": [
    "## 7.4.2 Analysis\n",
    "\n",
    "1. What is the purpose of the simulation? What question needs to be answered? In thinking about this, carefully consider what has been requested, what other questions are relevant to improving system performance.\n",
    "\n",
    "2. What are the key performance indicators?  What data needs to be collected?\n",
    "\n",
    "3. What simulation objects should be created for this application?\n",
    "\n",
    "4. What classes of shared resources will be used in this model?"
   ]
  },
  {
   "cell_type": "markdown",
   "metadata": {
    "nbpages": {
     "level": 2,
     "link": "[7.4.3 Simpy Shared Resources](https://jckantor.github.io/cbe30338-2021/07.04-Project-Batch-Chemical-Process.html#7.4.3-Simpy-Shared-Resources)",
     "section": "7.4.3 Simpy Shared Resources"
    }
   },
   "source": [
    "## 7.4.3 Simpy Shared Resources\n",
    "\n",
    "* **[Resources](https://simpy.readthedocs.io/en/latest/api_reference/simpy.resources.html#module-simpy.resources.resource):** Models resources that are shared among mulitple processes. There is no distinction among items. You request use of a resource and then wait on availability. When the resource becomes available, you continue your process. As some point you can release the resource for use by other processes. You can specify the number of resources available, monitor the number in use, and there are provisions to assign prioriity for processes and to preempt lower priority processes. Useful if you don't need to distinguish which item is in use.\n",
    "\n",
    "* **[Containers](https://simpy.readthedocs.io/en/latest/api_reference/simpy.resources.html#module-simpy.resources.container):** Like Resources, but for bulk homogeneous goods. Great for modeling use or production of materials.\n",
    "\n",
    "* **[Stores](https://simpy.readthedocs.io/en/latest/api_reference/simpy.resources.html#module-simpy.resources.store):** Models the production and consumption of objects. The objects don't have to be the same, and can be represented by arbitrary Python objects.  Good for queues where objects must be treated as individual items. You can specify capacity, and used `.put()` and `.get()` to access items. You can get a list of items in the queue with `.items()`. By default, queues operate on a first-in first-out (FIFO) protocol, but other protocols can be implemented using `FilterStore` or `PriorityStore`.\n",
    "\n",
    "We will use `Stores` to model the various order and equipment queues in this process.\n"
   ]
  },
  {
   "cell_type": "markdown",
   "metadata": {
    "nbpages": {
     "level": 2,
     "link": "[7.4.4 Customer Orders](https://jckantor.github.io/cbe30338-2021/07.04-Project-Batch-Chemical-Process.html#7.4.4-Customer-Orders)",
     "section": "7.4.4 Customer Orders"
    }
   },
   "source": [
    "## 7.4.4 Customer Orders\n",
    "\n",
    ">... a small, single-product batch chemical plant has three identical reactors in parallel, followed by a single storage tank and a batch still. **Customer orders (batches) to be filled (which begin with processing in the reactor) occur every 115 $\\pm$ 30 minutes, uniformly distributed.** The reaction time in a given reactor iis 335 $\\pm$ 60 minutes, and the distillation time in the still is 110 $\\pm$ 25 minutes, both times uniformly distributed. The holding capacity of the storage tank is exactly one batch. Hence, the storage tank must be empty for a given reactor to discharge its batch; if not, the reactor cannot begin processing a new batch until the storage tank becomes empty. **The simulation is to be run for 100 batches. The model should have the capability to collect waiting line statistics for the queue immediately upstream of the reactor.**\n",
    "\n",
    "We'll begin with modeling the customer order queue. Each order has a unique identifier, the order ID. The problem statement says nothing about queue management; we will keep it simple using the default FIFO model."
   ]
  },
  {
   "cell_type": "code",
   "execution_count": 84,
   "metadata": {
    "nbpages": {
     "level": 2,
     "link": "[7.4.4 Customer Orders](https://jckantor.github.io/cbe30338-2021/07.04-Project-Batch-Chemical-Process.html#7.4.4-Customer-Orders)",
     "section": "7.4.4 Customer Orders"
    }
   },
   "outputs": [],
   "source": [
    "import random\n",
    "import simpy\n",
    "\n",
    "orders = {}\n",
    "\n",
    "env = simpy.Environment()\n",
    "queue = simpy.Store(env)\n",
    "\n",
    "env.process(order_generator())\n",
    "env.run()\n",
    "\n",
    "orders"
   ]
  },
  {
   "cell_type": "code",
   "execution_count": 35,
   "metadata": {
    "nbpages": {
     "level": 2,
     "link": "[7.4.4 Customer Orders](https://jckantor.github.io/cbe30338-2021/07.04-Project-Batch-Chemical-Process.html#7.4.4-Customer-Orders)",
     "section": "7.4.4 Customer Orders"
    }
   },
   "outputs": [
    {
     "data": {
      "text/plain": [
       "[1, 2, 3, 4, 5, 6, 7, 8, 9, 10]"
      ]
     },
     "execution_count": 35,
     "metadata": {},
     "output_type": "execute_result"
    }
   ],
   "source": [
    "queue.items"
   ]
  },
  {
   "cell_type": "markdown",
   "metadata": {
    "nbpages": {
     "level": 2,
     "link": "[7.4.5 Batch Reactor Model](https://jckantor.github.io/cbe30338-2021/07.04-Project-Batch-Chemical-Process.html#7.4.5-Batch-Reactor-Model)",
     "section": "7.4.5 Batch Reactor Model"
    }
   },
   "source": [
    "## 7.4.5 Batch Reactor Model\n",
    "\n",
    ">... a small, single-product batch chemical plant has three identical reactors in parallel, followed by a single storage tank and a batch still. Customer orders (batches) to be filled (which begin with processing in the reactor) occur every 115 $\\pm$ 30 minutes, uniformly distributed. **The reaction time in a given reactor iis 335 $\\pm$ 60 minutes,** and the distillation time in the still is 110 $\\pm$ 25 minutes, both times uniformly distributed. **The holding capacity of the storage tank is exactly one batch. Hence, the storage tank must be empty for a given reactor to discharge its batch; if not, the reactor cannot begin processing a new batch until the storage tank becomes empty.** The simulation is to be run for 100 batches. The model should have the capability to collect waiting line statistics for the queue immediately upstream of the reactor."
   ]
  },
  {
   "cell_type": "code",
   "execution_count": null,
   "metadata": {
    "nbpages": {
     "level": 2,
     "link": "[7.4.5 Batch Reactor Model](https://jckantor.github.io/cbe30338-2021/07.04-Project-Batch-Chemical-Process.html#7.4.5-Batch-Reactor-Model)",
     "section": "7.4.5 Batch Reactor Model"
    }
   },
   "outputs": [],
   "source": [
    "import random\n",
    "import simpy"
   ]
  },
  {
   "cell_type": "markdown",
   "metadata": {
    "nbpages": {
     "level": 2,
     "link": "[7.4.6 Completed Model](https://jckantor.github.io/cbe30338-2021/07.04-Project-Batch-Chemical-Process.html#7.4.6-Completed-Model)",
     "section": "7.4.6 Completed Model"
    }
   },
   "source": [
    "## 7.4.6 Completed Model"
   ]
  },
  {
   "cell_type": "code",
   "execution_count": 82,
   "metadata": {
    "nbpages": {
     "level": 2,
     "link": "[7.4.6 Completed Model](https://jckantor.github.io/cbe30338-2021/07.04-Project-Batch-Chemical-Process.html#7.4.6-Completed-Model)",
     "section": "7.4.6 Completed Model"
    }
   },
   "outputs": [
    {
     "data": {
      "text/plain": [
       "<AxesSubplot:>"
      ]
     },
     "execution_count": 82,
     "metadata": {},
     "output_type": "execute_result"
    },
    {
     "data": {
      "image/png": "[encoded data removed]",
      "text/plain": [
       "<Figure size 432x288 with 1 Axes>"
      ]
     },
     "metadata": {
      "needs_background": "light"
     },
     "output_type": "display_data"
    }
   ],
   "source": [
    "import random\n",
    "import simpy\n",
    "import pandas as pd\n",
    "\n",
    "orders = {}\n",
    "\n",
    "def order_generator():\n",
    "    order_id = 1\n",
    "    while order_id <= 100:\n",
    "        yield env.timeout(random.uniform(115-30, 115+30))\n",
    "        queue.put(order_id)\n",
    "        orders[order_id] = {\"time recv\": env.now}\n",
    "        order_id += 1\n",
    "        \n",
    "def process_order():\n",
    "    while True:\n",
    "        # get a reactor\n",
    "        reactor = yield reactors.get()\n",
    "        \n",
    "        # get storage tank\n",
    "        tank = yield storage_tanks.get()\n",
    "  \n",
    "        # get next available order\n",
    "        order_id = yield queue.get()\n",
    "        \n",
    "        orders[order_id][\"reactor\"] = reactor\n",
    "        orders[order_id][\"tank\"] = tank\n",
    "        orders[order_id][\"reaction started\"] = env.now\n",
    "        \n",
    "        # batch reaction\n",
    "        yield env.timeout(random.uniform(335-60, 335+60))\n",
    "        \n",
    "        orders[order_id][\"reaction finished\"] = env.now\n",
    "        \n",
    "        # release reactor\n",
    "        reactors.put(reactor)\n",
    "        \n",
    "        # get still\n",
    "        still = yield stills.get()\n",
    "        \n",
    "        # do distillation\n",
    "        yield env.timeout(random.uniform(110-25, 110+25))\n",
    "        \n",
    "        orders[order_id][\"finished\"] = env.now\n",
    "        \n",
    "        # release equipment\n",
    "        storage_tanks.put(tank)\n",
    "        reactors.put(reactor)\n",
    "        stills.put(still)\n",
    "        \n",
    "    \n",
    "env = simpy.Environment()\n",
    "queue = simpy.Store(env)\n",
    "storage_tanks = simpy.Store(env)\n",
    "storage_tanks.items = [\"Tank A\", \"Tank B\", \"Tank C\", \"Tank D\"]\n",
    "\n",
    "reactors = simpy.Store(env)\n",
    "reactors.items = [\"A\", \"B\", \"C\",\"D\"]\n",
    "\n",
    "stills = simpy.Store(env)\n",
    "stills.items = [\"Still A\", \"Still B\"]\n",
    "\n",
    "env.process(order_generator())\n",
    "env.process(process_order())\n",
    "env.process(process_order())\n",
    "env.process(process_order())\n",
    "env.process(process_order())\n",
    "env.process(process_order())\n",
    "env.process(process_order())\n",
    "env.process(process_order())\n",
    "env.process(process_order())\n",
    "env.run(until = 20000)\n",
    "\n",
    "df = pd.DataFrame(orders).T\n",
    "df[\"elapsed\"] = df[\"finished\"] - df[\"time recv\"]\n",
    "df[\"elapsed\"].plot()"
   ]
  },
  {
   "cell_type": "code",
   "execution_count": null,
   "metadata": {
    "nbpages": {
     "level": 2,
     "link": "[7.4.6 Completed Model](https://jckantor.github.io/cbe30338-2021/07.04-Project-Batch-Chemical-Process.html#7.4.6-Completed-Model)",
     "section": "7.4.6 Completed Model"
    }
   },
   "outputs": [],
   "source": []
  },
  {
   "cell_type": "markdown",
   "metadata": {},
   "source": [
    "<!--NAVIGATION-->\n",
    "< [7.3 Chemotaxis](https://jckantor.github.io/cbe30338-2021/07.03-Chemotaxis.html) | [Contents](toc.html) | [Tag Index](tag_index.html) | [7.5 Simulating Queuing Systems](https://jckantor.github.io/cbe30338-2021/07.05-Queuing-Systems-and-Poisson-Processes.html) ><p><a href=\"https://colab.research.google.com/github/jckantor/cbe30338-2021/blob/master/docs/07.04-Project-Batch-Chemical-Process.ipynb\"> <img align=\"left\" src=\"https://colab.research.google.com/assets/colab-badge.svg\" alt=\"Open in Colab\" title=\"Open in Google Colaboratory\"></a><p><a href=\"https://jckantor.github.io/cbe30338-2021/07.04-Project-Batch-Chemical-Process.ipynb\"> <img align=\"left\" src=\"https://img.shields.io/badge/Github-Download-blue.svg\" alt=\"Download\" title=\"Download Notebook\"></a>"
   ]
  }
 ],
 "metadata": {
  "kernelspec": {
   "display_name": "Python 3",
   "language": "python",
   "name": "python3"
  },
  "language_info": {
   "codemirror_mode": {
    "name": "ipython",
    "version": 3
   },
   "file_extension": ".py",
   "mimetype": "text/x-python",
   "name": "python",
   "nbconvert_exporter": "python",
   "pygments_lexer": "ipython3",
   "version": "3.8.5"
  }
 },
 "nbformat": 4,
 "nbformat_minor": 4
}
