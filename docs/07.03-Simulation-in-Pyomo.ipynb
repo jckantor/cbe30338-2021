{
 "cells": [
  {
   "cell_type": "markdown",
   "metadata": {
    "nbpages": {
     "level": 0,
     "link": "[](https://jckantor.github.io/cbe30338-2021/07.03-Simulation-in-Pyomo.html)",
     "section": ""
    }
   },
   "source": [
    "<!--NOTEBOOK_HEADER-->\n",
    "*This notebook contains material from [cbe30338-2021](https://jckantor.github.io/cbe30338-2021);\n",
    "content is available [on Github](https://github.com/jckantor/cbe30338-2021.git).*\n"
   ]
  },
  {
   "cell_type": "markdown",
   "metadata": {
    "nbpages": {
     "level": 0,
     "link": "[](https://jckantor.github.io/cbe30338-2021/07.03-Simulation-in-Pyomo.html)",
     "section": ""
    }
   },
   "source": [
    "<!--NAVIGATION-->\n",
    "< [7.2 Soft Landing a Rocket](https://jckantor.github.io/cbe30338-2021/07.02-Soft-Landing-a-Rocket.html) | [Contents](toc.html) | [Tag Index](tag_index.html) | [7.4 Simulation of an Exothermic CSTR](https://jckantor.github.io/cbe30338-2021/07.04-Simulation-of-an-Exothermic-CSTR.html) ><p><a href=\"https://colab.research.google.com/github/jckantor/cbe30338-2021/blob/master/docs/07.03-Simulation-in-Pyomo.ipynb\"> <img align=\"left\" src=\"https://colab.research.google.com/assets/colab-badge.svg\" alt=\"Open in Colab\" title=\"Open in Google Colaboratory\"></a><p><a href=\"https://jckantor.github.io/cbe30338-2021/07.03-Simulation-in-Pyomo.ipynb\"> <img align=\"left\" src=\"https://img.shields.io/badge/Github-Download-blue.svg\" alt=\"Download\" title=\"Download Notebook\"></a>"
   ]
  },
  {
   "cell_type": "markdown",
   "metadata": {
    "nbpages": {
     "level": 1,
     "link": "[7.3 Simulation in Pyomo](https://jckantor.github.io/cbe30338-2021/07.03-Simulation-in-Pyomo.html#7.3-Simulation-in-Pyomo)",
     "section": "7.3 Simulation in Pyomo"
    }
   },
   "source": [
    "# 7.3 Simulation in Pyomo"
   ]
  },
  {
   "cell_type": "code",
   "execution_count": 8,
   "metadata": {
    "nbpages": {
     "level": 1,
     "link": "[7.3 Simulation in Pyomo](https://jckantor.github.io/cbe30338-2021/07.03-Simulation-in-Pyomo.html#7.3-Simulation-in-Pyomo)",
     "section": "7.3 Simulation in Pyomo"
    }
   },
   "outputs": [],
   "source": [
    "from pyomo.environ import *\n",
    "from pyomo.dae import *\n",
    "from pyomo.dae.simulator import Simulator\n",
    "\n",
    "\n",
    "def create_model():\n",
    "    m = ConcreteModel()\n",
    "\n",
    "    m.t = ContinuousSet(bounds=(0.0, 10.0))\n",
    "\n",
    "    m.b = Param(initialize=0.25)\n",
    "    m.c = Param(initialize=5.0)\n",
    "\n",
    "    m.omega = Var(m.t)\n",
    "    m.theta = Var(m.t)\n",
    "\n",
    "    m.domegadt = DerivativeVar(m.omega, wrt=m.t)\n",
    "    m.dthetadt = DerivativeVar(m.theta, wrt=m.t)\n",
    "\n",
    "    # Setting the initial conditions\n",
    "    m.omega[0] = 0.0\n",
    "    m.theta[0] = 3.14 - 0.1\n",
    "\n",
    "    def _diffeq1(m, t):\n",
    "        return m.domegadt[t] == -m.b * m.omega[t] - m.c * sin(m.theta[t])\n",
    "    m.diffeq1 = Constraint(m.t, rule=_diffeq1)\n",
    "\n",
    "    def _diffeq2(m, t):\n",
    "        return m.dthetadt[t] == m.omega[t]\n",
    "    m.diffeq2 = Constraint(m.t, rule=_diffeq2)\n",
    "\n",
    "    return m\n",
    "\n",
    "\n",
    "def simulate_model(m):\n",
    "    if False:\n",
    "        # Simulate the model using casadi\n",
    "        sim = Simulator(m, package='casadi')\n",
    "        tsim, profiles = sim.simulate(numpoints=100, integrator='cvodes')\n",
    "    else:\n",
    "        # Simulate the model using scipy\n",
    "        sim = Simulator(m, package='scipy')\n",
    "        tsim, profiles = sim.simulate(numpoints=100, integrator='vode')\n",
    "\n",
    "    # Discretize model using Orthogonal Collocation\n",
    "    discretizer = TransformationFactory('dae.collocation')\n",
    "    discretizer.apply_to(m, nfe=8, ncp=5)\n",
    "\n",
    "    # Initialize the discretized model using the simulator profiles\n",
    "    sim.initialize_model()\n",
    "\n",
    "    return sim, tsim, profiles\n",
    "\n",
    "\n",
    "def plot_result(m, sim, tsim, profiles):\n",
    "    import matplotlib.pyplot as plt\n",
    "\n",
    "    time = list(m.t)\n",
    "    omega = [value(m.omega[t]) for t in m.t]\n",
    "    theta = [value(m.theta[t]) for t in m.t]\n",
    "\n",
    "    varorder = sim.get_variable_order()\n",
    "\n",
    "    for idx, v in enumerate(varorder):\n",
    "        plt.plot(tsim, profiles[:, idx], label=v)\n",
    "    plt.plot(time, omega, 'o', label='omega interp')\n",
    "    plt.plot(time, theta, 'o', label='theta interp')\n",
    "    plt.xlabel('t')\n",
    "    plt.legend(loc='best')\n",
    "    plt.show()"
   ]
  },
  {
   "cell_type": "code",
   "execution_count": 9,
   "metadata": {
    "nbpages": {
     "level": 1,
     "link": "[7.3 Simulation in Pyomo](https://jckantor.github.io/cbe30338-2021/07.03-Simulation-in-Pyomo.html#7.3-Simulation-in-Pyomo)",
     "section": "7.3 Simulation in Pyomo"
    }
   },
   "outputs": [
    {
     "data": {
      "image/png": "[encoded data removed]",
      "text/plain": [
       "<matplotlib.figure.Figure at 0x12120bef0>"
      ]
     },
     "metadata": {},
     "output_type": "display_data"
    }
   ],
   "source": [
    "%matplotlib inline\n",
    "\n",
    "model = create_model()\n",
    "sim, tsim, profiles = simulate_model(model)\n",
    "plot_result(model, sim, tsim, profiles)"
   ]
  },
  {
   "cell_type": "code",
   "execution_count": null,
   "metadata": {
    "nbpages": {
     "level": 1,
     "link": "[7.3 Simulation in Pyomo](https://jckantor.github.io/cbe30338-2021/07.03-Simulation-in-Pyomo.html#7.3-Simulation-in-Pyomo)",
     "section": "7.3 Simulation in Pyomo"
    }
   },
   "outputs": [],
   "source": []
  },
  {
   "cell_type": "markdown",
   "metadata": {
    "nbpages": {
     "level": 1,
     "link": "[7.3 Simulation in Pyomo](https://jckantor.github.io/cbe30338-2021/07.03-Simulation-in-Pyomo.html#7.3-Simulation-in-Pyomo)",
     "section": "7.3 Simulation in Pyomo"
    }
   },
   "source": [
    "<!--NAVIGATION-->\n",
    "< [7.2 Soft Landing a Rocket](https://jckantor.github.io/cbe30338-2021/07.02-Soft-Landing-a-Rocket.html) | [Contents](toc.html) | [Tag Index](tag_index.html) | [7.4 Simulation of an Exothermic CSTR](https://jckantor.github.io/cbe30338-2021/07.04-Simulation-of-an-Exothermic-CSTR.html) ><p><a href=\"https://colab.research.google.com/github/jckantor/cbe30338-2021/blob/master/docs/07.03-Simulation-in-Pyomo.ipynb\"> <img align=\"left\" src=\"https://colab.research.google.com/assets/colab-badge.svg\" alt=\"Open in Colab\" title=\"Open in Google Colaboratory\"></a><p><a href=\"https://jckantor.github.io/cbe30338-2021/07.03-Simulation-in-Pyomo.ipynb\"> <img align=\"left\" src=\"https://img.shields.io/badge/Github-Download-blue.svg\" alt=\"Download\" title=\"Download Notebook\"></a>"
   ]
  }
 ],
 "metadata": {
  "kernelspec": {
   "display_name": "Python 3",
   "language": "python",
   "name": "python3"
  },
  "language_info": {
   "codemirror_mode": {
    "name": "ipython",
    "version": 3
   },
   "file_extension": ".py",
   "mimetype": "text/x-python",
   "name": "python",
   "nbconvert_exporter": "python",
   "pygments_lexer": "ipython3",
   "version": "3.6.8"
  }
 },
 "nbformat": 4,
 "nbformat_minor": 2
}
