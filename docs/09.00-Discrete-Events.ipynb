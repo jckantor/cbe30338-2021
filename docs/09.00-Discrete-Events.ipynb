{
 "cells": [
  {
   "cell_type": "markdown",
   "metadata": {
    "nbpages": {
     "level": 0,
     "link": "[](https://jckantor.github.io/cbe30338-2021/09.00-Discrete-Events.html)",
     "section": ""
    }
   },
   "source": [
    "<!--NOTEBOOK_HEADER-->\n",
    "*This notebook contains material from [cbe30338-2021](https://jckantor.github.io/cbe30338-2021);\n",
    "content is available [on Github](https://github.com/jckantor/cbe30338-2021.git).*\n"
   ]
  },
  {
   "cell_type": "markdown",
   "metadata": {
    "nbpages": {
     "level": 0,
     "link": "[](https://jckantor.github.io/cbe30338-2021/09.00-Discrete-Events.html)",
     "section": ""
    }
   },
   "source": [
    "<!--NAVIGATION-->\n",
    "< [8.1 Zero-Order Hold and Interpolation](https://jckantor.github.io/cbe30338-2021/08.01-Zero-Order-Hold-and-Interpolation.html) | [Contents](toc.html) | [Tag Index](tag_index.html) | [9.1 Scheduling State-Task Networks](https://jckantor.github.io/cbe30338-2021/09.01-Scheduling-Multipurpose-Batch-Processes-using-State--Task-Networks.html) ><p><a href=\"https://colab.research.google.com/github/jckantor/cbe30338-2021/blob/master/docs/09.00-Discrete-Events.ipynb\"> <img align=\"left\" src=\"https://colab.research.google.com/assets/colab-badge.svg\" alt=\"Open in Colab\" title=\"Open in Google Colaboratory\"></a><p><a href=\"https://jckantor.github.io/cbe30338-2021/09.00-Discrete-Events.ipynb\"> <img align=\"left\" src=\"https://img.shields.io/badge/Github-Download-blue.svg\" alt=\"Download\" title=\"Download Notebook\"></a>"
   ]
  },
  {
   "cell_type": "markdown",
   "metadata": {
    "nbpages": {
     "level": 1,
     "link": "[9.0 Discrete Events](https://jckantor.github.io/cbe30338-2021/09.00-Discrete-Events.html#9.0-Discrete-Events)",
     "section": "9.0 Discrete Events"
    }
   },
   "source": [
    "# 9.0 Discrete Events"
   ]
  },
  {
   "cell_type": "markdown",
   "metadata": {
    "nbpages": {
     "level": 1,
     "link": "[9.0 Discrete Events](https://jckantor.github.io/cbe30338-2021/09.00-Discrete-Events.html#9.0-Discrete-Events)",
     "section": "9.0 Discrete Events"
    }
   },
   "source": [
    "<!--NAVIGATION-->\n",
    "< [8.1 Zero-Order Hold and Interpolation](https://jckantor.github.io/cbe30338-2021/08.01-Zero-Order-Hold-and-Interpolation.html) | [Contents](toc.html) | [Tag Index](tag_index.html) | [9.1 Scheduling State-Task Networks](https://jckantor.github.io/cbe30338-2021/09.01-Scheduling-Multipurpose-Batch-Processes-using-State--Task-Networks.html) ><p><a href=\"https://colab.research.google.com/github/jckantor/cbe30338-2021/blob/master/docs/09.00-Discrete-Events.ipynb\"> <img align=\"left\" src=\"https://colab.research.google.com/assets/colab-badge.svg\" alt=\"Open in Colab\" title=\"Open in Google Colaboratory\"></a><p><a href=\"https://jckantor.github.io/cbe30338-2021/09.00-Discrete-Events.ipynb\"> <img align=\"left\" src=\"https://img.shields.io/badge/Github-Download-blue.svg\" alt=\"Download\" title=\"Download Notebook\"></a>"
   ]
  }
 ],
 "metadata": {
  "kernelspec": {
   "display_name": "Python 3",
   "language": "python",
   "name": "python3"
  },
  "language_info": {
   "codemirror_mode": {
    "name": "ipython",
    "version": 3
   },
   "file_extension": ".py",
   "mimetype": "text/x-python",
   "name": "python",
   "nbconvert_exporter": "python",
   "pygments_lexer": "ipython3",
   "version": "3.6.8"
  }
 },
 "nbformat": 4,
 "nbformat_minor": 2
}
