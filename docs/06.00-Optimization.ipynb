{
 "cells": [
  {
   "cell_type": "markdown",
   "metadata": {
    "nbpages": {
     "level": 0,
     "link": "[](https://jckantor.github.io/cbe30338-2021/06.00-Optimization.html)",
     "section": ""
    }
   },
   "source": [
    "<!--NOTEBOOK_HEADER-->\n",
    "*This notebook contains material from [cbe30338-2021](https://jckantor.github.io/cbe30338-2021);\n",
    "content is available [on Github](https://github.com/jckantor/cbe30338-2021.git).*\n"
   ]
  },
  {
   "cell_type": "markdown",
   "metadata": {
    "nbpages": {
     "level": 0,
     "link": "[](https://jckantor.github.io/cbe30338-2021/06.00-Optimization.html)",
     "section": ""
    }
   },
   "source": [
    "<!--NAVIGATION-->\n",
    "< [5.5 Baroreflex as a Linear Control System](https://jckantor.github.io/cbe30338-2021/05.05-Baroreflex-as-a-Linear-Control-System.html) | [Contents](toc.html) | [Tag Index](tag_index.html) | [6.1 Unconstrained Scalar Optimization](https://jckantor.github.io/cbe30338-2021/06.01-Unconstrained-Scalar-Optimization.html) ><p><a href=\"https://colab.research.google.com/github/jckantor/cbe30338-2021/blob/master/../cbe30338-2021/docs/06.00-Optimization.ipynb\"> <img align=\"left\" src=\"https://colab.research.google.com/assets/colab-badge.svg\" alt=\"Open in Colab\" title=\"Open in Google Colaboratory\"></a><p><a href=\"https://jckantor.github.io/cbe30338-2021/06.00-Optimization.ipynb\"> <img align=\"left\" src=\"https://img.shields.io/badge/Github-Download-blue.svg\" alt=\"Download\" title=\"Download Notebook\"></a>"
   ]
  },
  {
   "cell_type": "markdown",
   "metadata": {
    "nbpages": {
     "level": 1,
     "link": "[6.0 Optimization](https://jckantor.github.io/cbe30338-2021/06.00-Optimization.html#6.0-Optimization)",
     "section": "6.0 Optimization"
    }
   },
   "source": [
    "# 6.0 Optimization"
   ]
  },
  {
   "cell_type": "markdown",
   "metadata": {
    "nbpages": {
     "level": 1,
     "link": "[6.0 Optimization](https://jckantor.github.io/cbe30338-2021/06.00-Optimization.html#6.0-Optimization)",
     "section": "6.0 Optimization"
    }
   },
   "source": [
    "<!--NAVIGATION-->\n",
    "< [5.5 Baroreflex as a Linear Control System](https://jckantor.github.io/cbe30338-2021/05.05-Baroreflex-as-a-Linear-Control-System.html) | [Contents](toc.html) | [Tag Index](tag_index.html) | [6.1 Unconstrained Scalar Optimization](https://jckantor.github.io/cbe30338-2021/06.01-Unconstrained-Scalar-Optimization.html) ><p><a href=\"https://colab.research.google.com/github/jckantor/cbe30338-2021/blob/master/../cbe30338-2021/docs/06.00-Optimization.ipynb\"> <img align=\"left\" src=\"https://colab.research.google.com/assets/colab-badge.svg\" alt=\"Open in Colab\" title=\"Open in Google Colaboratory\"></a><p><a href=\"https://jckantor.github.io/cbe30338-2021/06.00-Optimization.ipynb\"> <img align=\"left\" src=\"https://img.shields.io/badge/Github-Download-blue.svg\" alt=\"Download\" title=\"Download Notebook\"></a>"
   ]
  }
 ],
 "metadata": {
  "kernelspec": {
   "display_name": "Python 3",
   "language": "python",
   "name": "python3"
  },
  "language_info": {
   "codemirror_mode": {
    "name": "ipython",
    "version": 3
   },
   "file_extension": ".py",
   "mimetype": "text/x-python",
   "name": "python",
   "nbconvert_exporter": "python",
   "pygments_lexer": "ipython3",
   "version": "3.6.8"
  }
 },
 "nbformat": 4,
 "nbformat_minor": 2
}
