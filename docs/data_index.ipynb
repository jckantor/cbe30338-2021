{
 "cells": [
  {
   "cell_type": "markdown",
   "metadata": {},
   "source": [
    "# [cbe30338-2021](https://jckantor.github.io/cbe30338-2021)\n",
    "\n",
    "## Index of Data files in this Repository\n",
    "\n",
    "### Model_Data.csv\n",
    "![Model_Data.csv](data/Model_Data.csv)\n",
    "* [2.3.2.5 Estimating $\\alpha$](https://jckantor.github.io/cbe30338-2021/02.03-First-Order-Model-for-a-Single-Heater.html#2.3.2.5-Estimating-$\\alpha$)\n",
    "* [2.3.3 Matching the Model to Experimental Data](https://jckantor.github.io/cbe30338-2021/02.03-First-Order-Model-for-a-Single-Heater.html#2.3.3-Matching-the-Model-to-Experimental-Data)\n",
    "* [2.4.1 Read experimental data from a file](https://jckantor.github.io/cbe30338-2021/02.04-Model-Fitting.html#2.4.1-Read-experimental-data-from-a-file)\n",
    "\n",
    "### step-test-data.csv\n",
    "![step-test-data.csv](data/step-test-data.csv)\n",
    "* [22.2.1 Read the Data File](https://jckantor.github.io/cbe30338-2021/22.02-Fitting-Step-Test-Data-to-Empirical-Models.html#22.2.1-Read-the-Data-File)\n",
    "* [22.2.3 First Order plus Dead Time](https://jckantor.github.io/cbe30338-2021/22.02-Fitting-Step-Test-Data-to-Empirical-Models.html#22.2.3-First-Order-plus-Dead-Time)\n",
    "* [22.2.4 Second Order](https://jckantor.github.io/cbe30338-2021/22.02-Fitting-Step-Test-Data-to-Empirical-Models.html#22.2.4-Second-Order)\n",
    "\n",
    "### Step_Test_Data.csv\n",
    "![Step_Test_Data.csv](data/Step_Test_Data.csv)\n",
    "* [2.5.2 Model in deviation variables](https://jckantor.github.io/cbe30338-2021/02.05-Two-State-Model-for-a-Single-Heater.html#2.5.2-Model-in-deviation-variables)\n",
    "* [2.6.3 State space](https://jckantor.github.io/cbe30338-2021/02.06-Four-State-Model.html#2.6.3-State-space)\n",
    "* [22.1.1.4 Save DataFrame as a .csv file](https://jckantor.github.io/cbe30338-2021/22.01-Step-Testing.html#22.1.1.4-Save-DataFrame-as-a-.csv-file)\n",
    "* [22.1.1.5 Verify the Data File](https://jckantor.github.io/cbe30338-2021/22.01-Step-Testing.html#22.1.1.5-Verify-the-Data-File)\n",
    "* [22.4.4 Estimating $U_a$ and $U_b$](https://jckantor.github.io/cbe30338-2021/22.04-Two-Input-Two-Output-Model.html#22.4.4-Estimating-$U_a$-and-$U_b$)\n",
    "* [22.4.6 Fitting the Model to Measured Step Response Data](https://jckantor.github.io/cbe30338-2021/22.04-Two-Input-Two-Output-Model.html#22.4.6-Fitting-the-Model-to-Measured-Step-Response-Data)\n",
    "\n",
    "### tclab-data.csv\n",
    "![tclab-data.csv](data/tclab-data.csv)\n",
    "* [2.7.1.1 Reading data](https://jckantor.github.io/cbe30338-2021/02.07-TCLab-Lab-2-Fitting.html#2.7.1.1-Reading-data)\n",
    "* [2.8.5 Exercise 4. Verify and save data to a .csv file](https://jckantor.github.io/cbe30338-2021/02.08-Lab-Assignment-2-Model-Indentification.html#2.8.5-Exercise-4.-Verify-and-save-data-to-a-.csv-file)\n",
    "* [22.10.5 Exercise 4. Verify and save data to a .csv file](https://jckantor.github.io/cbe30338-2021/22.10-TCLab-Lab-2-Model-Indentification-Solutions.html#22.10.5-Exercise-4.-Verify-and-save-data-to-a-.csv-file)"
   ]
  }
 ],
 "metadata": {},
 "nbformat": 4,
 "nbformat_minor": 4
}
