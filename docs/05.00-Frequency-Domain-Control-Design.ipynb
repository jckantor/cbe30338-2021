{
 "cells": [
  {
   "cell_type": "markdown",
   "metadata": {
    "nbpages": {
     "level": 0,
     "link": "[](https://jckantor.github.io/cbe30338-2021/05.00-Frequency-Domain-Control-Design.html)",
     "section": ""
    }
   },
   "source": [
    "<!--NOTEBOOK_HEADER-->\n",
    "*This notebook contains material from [cbe30338-2021](https://jckantor.github.io/cbe30338-2021);\n",
    "content is available [on Github](https://github.com/jckantor/cbe30338-2021.git).*\n"
   ]
  },
  {
   "cell_type": "markdown",
   "metadata": {
    "nbpages": {
     "level": 0,
     "link": "[](https://jckantor.github.io/cbe30338-2021/05.00-Frequency-Domain-Control-Design.html)",
     "section": ""
    }
   },
   "source": [
    "<!--NAVIGATION-->\n",
    "< [4.12 Interactive PID Control Tuning with  Ziegler-Nichols](https://jckantor.github.io/cbe30338-2021/04.12-Interactive-PID-Control-Tuning-with-Ziegler--Nichols.html) | [Contents](toc.html) | [Tag Index](tag_index.html) | [5.1 Getting Started with Transfer Functions](https://jckantor.github.io/cbe30338-2021/05.01-Getting-Started-with-Transfer-Functions.html) ><p><a href=\"https://colab.research.google.com/github/jckantor/cbe30338-2021/blob/master/docs/05.00-Frequency-Domain-Control-Design.ipynb\"> <img align=\"left\" src=\"https://colab.research.google.com/assets/colab-badge.svg\" alt=\"Open in Colab\" title=\"Open in Google Colaboratory\"></a><p><a href=\"https://jckantor.github.io/cbe30338-2021/05.00-Frequency-Domain-Control-Design.ipynb\"> <img align=\"left\" src=\"https://img.shields.io/badge/Github-Download-blue.svg\" alt=\"Download\" title=\"Download Notebook\"></a>"
   ]
  },
  {
   "cell_type": "markdown",
   "metadata": {
    "nbpages": {
     "level": 1,
     "link": "[5.0 Frequency Domain Control Design](https://jckantor.github.io/cbe30338-2021/05.00-Frequency-Domain-Control-Design.html#5.0-Frequency-Domain-Control-Design)",
     "section": "5.0 Frequency Domain Control Design"
    }
   },
   "source": [
    "# 5.0 Frequency Domain Control Design"
   ]
  },
  {
   "cell_type": "markdown",
   "metadata": {
    "nbpages": {
     "level": 1,
     "link": "[5.0 Frequency Domain Control Design](https://jckantor.github.io/cbe30338-2021/05.00-Frequency-Domain-Control-Design.html#5.0-Frequency-Domain-Control-Design)",
     "section": "5.0 Frequency Domain Control Design"
    }
   },
   "source": [
    "<!--NAVIGATION-->\n",
    "< [4.12 Interactive PID Control Tuning with  Ziegler-Nichols](https://jckantor.github.io/cbe30338-2021/04.12-Interactive-PID-Control-Tuning-with-Ziegler--Nichols.html) | [Contents](toc.html) | [Tag Index](tag_index.html) | [5.1 Getting Started with Transfer Functions](https://jckantor.github.io/cbe30338-2021/05.01-Getting-Started-with-Transfer-Functions.html) ><p><a href=\"https://colab.research.google.com/github/jckantor/cbe30338-2021/blob/master/docs/05.00-Frequency-Domain-Control-Design.ipynb\"> <img align=\"left\" src=\"https://colab.research.google.com/assets/colab-badge.svg\" alt=\"Open in Colab\" title=\"Open in Google Colaboratory\"></a><p><a href=\"https://jckantor.github.io/cbe30338-2021/05.00-Frequency-Domain-Control-Design.ipynb\"> <img align=\"left\" src=\"https://img.shields.io/badge/Github-Download-blue.svg\" alt=\"Download\" title=\"Download Notebook\"></a>"
   ]
  }
 ],
 "metadata": {
  "kernelspec": {
   "display_name": "Python 3",
   "language": "python",
   "name": "python3"
  },
  "language_info": {
   "codemirror_mode": {
    "name": "ipython",
    "version": 3
   },
   "file_extension": ".py",
   "mimetype": "text/x-python",
   "name": "python",
   "nbconvert_exporter": "python",
   "pygments_lexer": "ipython3",
   "version": "3.6.8"
  }
 },
 "nbformat": 4,
 "nbformat_minor": 2
}
