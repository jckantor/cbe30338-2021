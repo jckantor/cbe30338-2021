{
 "cells": [
  {
   "cell_type": "markdown",
   "metadata": {},
   "source": [
    "# [cbe30338-2021](https://jckantor.github.io/cbe30338-2021)\n",
    "\n",
    "## Index of Data files in this Repository\n",
    "\n",
    "### Model_Data.csv\n",
    "![Model_Data.csv](data/Model_Data.csv)\n",
    "* [2.3.2.5 Estimating $\\alpha$](https://jckantor.github.io/cbe30338-2021/02.03-First-Order-Model-for-a-Single-Heater.html#2.3.2.5-Estimating-$\\alpha$)\n",
    "* [2.3.3 Matching the Model to Experimental Data](https://jckantor.github.io/cbe30338-2021/02.03-First-Order-Model-for-a-Single-Heater.html#2.3.3-Matching-the-Model-to-Experimental-Data)\n",
    "* [2.4.1.1 Read data into a Pandas DataFrame](https://jckantor.github.io/cbe30338-2021/02.04-Model-Identification.html#2.4.1.1-Read-data-into-a-Pandas-DataFrame)"
   ]
  }
 ],
 "metadata": {},
 "nbformat": 4,
 "nbformat_minor": 4
}
