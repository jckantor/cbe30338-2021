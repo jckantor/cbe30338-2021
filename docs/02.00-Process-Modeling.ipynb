{
 "cells": [
  {
   "cell_type": "markdown",
   "metadata": {
    "nbpages": {
     "level": 0,
     "link": "[](https://jckantor.github.io/cbe30338-2021/02.00-Process-Modeling.html)",
     "section": ""
    }
   },
   "source": [
    "<!--NOTEBOOK_HEADER-->\n",
    "*This notebook contains material from [cbe30338-2021](https://jckantor.github.io/cbe30338-2021);\n",
    "content is available [on Github](https://github.com/jckantor/cbe30338-2021.git).*\n"
   ]
  },
  {
   "cell_type": "markdown",
   "metadata": {
    "nbpages": {
     "level": 0,
     "link": "[](https://jckantor.github.io/cbe30338-2021/02.00-Process-Modeling.html)",
     "section": ""
    }
   },
   "source": [
    "<!--NAVIGATION-->\n",
    "< [1.5 Assignment 1](https://jckantor.github.io/cbe30338-2021/01.05-Assignment-1.html) | [Contents](toc.html) | [Tag Index](tag_index.html) | [2.1 Gravity Drained Tank](https://jckantor.github.io/cbe30338-2021/02.01-Gravity-Drained-Tank.html) ><p><a href=\"https://colab.research.google.com/github/jckantor/cbe30338-2021/blob/master/docs/02.00-Process-Modeling.ipynb\"> <img align=\"left\" src=\"https://colab.research.google.com/assets/colab-badge.svg\" alt=\"Open in Colab\" title=\"Open in Google Colaboratory\"></a><p><a href=\"https://jckantor.github.io/cbe30338-2021/02.00-Process-Modeling.ipynb\"> <img align=\"left\" src=\"https://img.shields.io/badge/Github-Download-blue.svg\" alt=\"Download\" title=\"Download Notebook\"></a>"
   ]
  },
  {
   "cell_type": "markdown",
   "metadata": {
    "nbpages": {
     "level": 1,
     "link": "[2.0 Process Modeling](https://jckantor.github.io/cbe30338-2021/02.00-Process-Modeling.html#2.0-Process-Modeling)",
     "section": "2.0 Process Modeling"
    }
   },
   "source": [
    "# 2.0 Process Modeling"
   ]
  },
  {
   "cell_type": "markdown",
   "metadata": {
    "nbpages": {
     "level": 1,
     "link": "[2.0 Process Modeling](https://jckantor.github.io/cbe30338-2021/02.00-Process-Modeling.html#2.0-Process-Modeling)",
     "section": "2.0 Process Modeling"
    }
   },
   "source": [
    "<!--NAVIGATION-->\n",
    "< [1.5 Assignment 1](https://jckantor.github.io/cbe30338-2021/01.05-Assignment-1.html) | [Contents](toc.html) | [Tag Index](tag_index.html) | [2.1 Gravity Drained Tank](https://jckantor.github.io/cbe30338-2021/02.01-Gravity-Drained-Tank.html) ><p><a href=\"https://colab.research.google.com/github/jckantor/cbe30338-2021/blob/master/docs/02.00-Process-Modeling.ipynb\"> <img align=\"left\" src=\"https://colab.research.google.com/assets/colab-badge.svg\" alt=\"Open in Colab\" title=\"Open in Google Colaboratory\"></a><p><a href=\"https://jckantor.github.io/cbe30338-2021/02.00-Process-Modeling.ipynb\"> <img align=\"left\" src=\"https://img.shields.io/badge/Github-Download-blue.svg\" alt=\"Download\" title=\"Download Notebook\"></a>"
   ]
  }
 ],
 "metadata": {
  "kernelspec": {
   "display_name": "Python 3",
   "language": "python",
   "name": "python3"
  },
  "language_info": {
   "codemirror_mode": {
    "name": "ipython",
    "version": 3
   },
   "file_extension": ".py",
   "mimetype": "text/x-python",
   "name": "python",
   "nbconvert_exporter": "python",
   "pygments_lexer": "ipython3",
   "version": "3.8.5"
  }
 },
 "nbformat": 4,
 "nbformat_minor": 4
}
