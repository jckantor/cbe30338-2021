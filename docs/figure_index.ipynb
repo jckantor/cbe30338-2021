{
 "cells": [
  {
   "cell_type": "markdown",
   "metadata": {},
   "source": [
    "# [cbe30338-2021](https://jckantor.github.io/cbe30338-2021)\n",
    "\n",
    "## Index of Figures in this Repository\n",
    "\n",
    "### B.00-arduino_lab_kit.png\n",
    "![B.00-arduino_lab_kit.png](figures/B.00-arduino_lab_kit.png)\n",
    "* [1.1.1 Hardware](https://jckantor.github.io/cbe30338-2021/01.01-TCLab.html#1.1.1-Hardware)\n",
    "\n",
    "### B.00-TCLabOverview.png\n",
    "![B.00-TCLabOverview.png](figures/B.00-TCLabOverview.png)\n",
    "* [1.2 The TCLab Python Package](https://jckantor.github.io/cbe30338-2021/01.02-The-TCLab-Python-Package.html#1.2-The-TCLab-Python-Package)"
   ]
  }
 ],
 "metadata": {},
 "nbformat": 4,
 "nbformat_minor": 4
}
