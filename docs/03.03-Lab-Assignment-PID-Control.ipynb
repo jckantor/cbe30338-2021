{
 "cells": [
  {
   "cell_type": "markdown",
   "metadata": {
    "nbpages": {
     "level": 0,
     "link": "[](https://jckantor.github.io/cbe30338-2021/03.03-Lab-Assignment-PID-Control.html)",
     "section": ""
    }
   },
   "source": [
    "<!--NOTEBOOK_HEADER-->\n",
    "*This notebook contains material from [cbe30338-2021](https://jckantor.github.io/cbe30338-2021);\n",
    "content is available [on Github](https://github.com/jckantor/cbe30338-2021.git).*\n"
   ]
  },
  {
   "cell_type": "markdown",
   "metadata": {
    "nbpages": {
     "level": 0,
     "link": "[](https://jckantor.github.io/cbe30338-2021/03.03-Lab-Assignment-PID-Control.html)",
     "section": ""
    }
   },
   "source": [
    "<!--NAVIGATION-->\n",
    "< [3.2 Relay Control](https://jckantor.github.io/cbe30338-2021/03.02-Relay-Control.html) | [Contents](toc.html) | [4.0 Process Analytics](https://jckantor.github.io/cbe30338-2021/04.00-Process-Analytics.html) ><p><a href=\"https://colab.research.google.com/github/jckantor/cbe30338-2021/blob/master/docs/03.03-Lab-Assignment-PID-Control.ipynb\"> <img align=\"left\" src=\"https://colab.research.google.com/assets/colab-badge.svg\" alt=\"Open in Colab\" title=\"Open in Google Colaboratory\"></a><p><a href=\"https://jckantor.github.io/cbe30338-2021/03.03-Lab-Assignment-PID-Control.ipynb\"> <img align=\"left\" src=\"https://img.shields.io/badge/Github-Download-blue.svg\" alt=\"Download\" title=\"Download Notebook\"></a>"
   ]
  },
  {
   "cell_type": "markdown",
   "metadata": {
    "nbpages": {
     "level": 1,
     "link": "[3.3 Lab Assignment 3: Relay and PI Control](https://jckantor.github.io/cbe30338-2021/03.03-Lab-Assignment-PID-Control.html#3.3-Lab-Assignment-3:-Relay-and-PI-Control)",
     "section": "3.3 Lab Assignment 3: Relay and PI Control"
    }
   },
   "source": [
    "# 3.3 Lab Assignment 3: Relay and PI Control\n",
    "\n",
    "This lab assignment introduces the use of relay, proportional (P), and proportional-integral (PI) control for the Temperature Control Laboratory. In this assignment you will \n",
    "\n",
    "1. implement and test a relay control for the dual heater/sensor system\n",
    "2. implement and test a proportional-integral (PI) control algorithm for a single heater/sensor"
   ]
  },
  {
   "cell_type": "markdown",
   "metadata": {
    "nbpages": {
     "level": 2,
     "link": "[3.3.1 Part 1. Relay (or On-Off) control](https://jckantor.github.io/cbe30338-2021/03.03-Lab-Assignment-PID-Control.html#3.3.1-Part-1.-Relay-(or-On-Off)-control)",
     "section": "3.3.1 Part 1. Relay (or On-Off) control"
    }
   },
   "source": [
    "## 3.3.1 Part 1. Relay (or On-Off) control\n"
   ]
  },
  {
   "cell_type": "markdown",
   "metadata": {
    "nbpages": {
     "level": 3,
     "link": "[3.3.1.1 Simple relay control](https://jckantor.github.io/cbe30338-2021/03.03-Lab-Assignment-PID-Control.html#3.3.1.1-Simple-relay-control)",
     "section": "3.3.1.1 Simple relay control"
    }
   },
   "source": [
    "### 3.3.1.1 Simple relay control\n",
    "\n",
    "The basic form relay control is described by an algorithm that sets the manipulated variable (MV) based on current values of the process variable (PV) and setpoint (SP)\n",
    "\n",
    "\\begin{align}\n",
    "MV(t) & = \\begin{cases} \n",
    "    MV^{max} & \\text{if $PV \\leq SP$}\\\\\n",
    "    MV^{min} & \\text{if $PV \\geq SP$}\n",
    "    \\end{cases}\n",
    "\\end{align}\n",
    "\n",
    "This form of relay control assumes a positive relationship between a change in MV and a corrsponding reponse in teh process variable PV. If that relationship is negative, then the logic of the controller should be inverted.\n",
    "\n",
    "This is simple to implement and can be done with just a few lines of Python code."
   ]
  },
  {
   "cell_type": "markdown",
   "metadata": {
    "nbpages": {
     "level": 3,
     "link": "[3.3.1.2 Relay control with deadband (hysteresis)](https://jckantor.github.io/cbe30338-2021/03.03-Lab-Assignment-PID-Control.html#3.3.1.2-Relay-control-with-deadband-(hysteresis))",
     "section": "3.3.1.2 Relay control with deadband (hysteresis)"
    }
   },
   "source": [
    "### 3.3.1.2 Relay control with deadband (hysteresis)\n",
    "\n",
    "One of the issues with simple relay control is the potential for 'chattering', which are situations where the manipulated variable leads to rapid on-and-off switching of the manipulated variable. This can be caused by systems that are highly response to control inputs, or where the sensor measurements carry significant noise.\n",
    "\n",
    "The typical home thermostat used for furnace control incorporates a simple but highly effective solution to the chattering period. The idea is to not switch the manipulated variable off until the process variable has exceeded the setpoint by some margin, and to not switch the manipulated variable on until the process variable has fallen below the setpoint by some margin. Between these values there is no change in the manipulated variable.\n",
    "\n",
    "Given a value $MV_k$, the next value of the manipulated variable is determined by\n",
    "\n",
    "\\begin{align}\n",
    "MV(t) & = \\begin{cases} \n",
    "    MV^{max} & \\text{if $PV \\leq SP - d$}\\\\\n",
    "    MV^{min} & \\text{if $PV \\geq SP + d$}\\\\\n",
    "    MV_k & \\text{ otherwise}\n",
    "    \\end{cases}\n",
    "\\end{align}\n",
    "\n",
    "where $d$ is the *tolerance* or *hysteresis*. \n",
    "\n",
    "For home heating systems a typical value is in the range of 0.5 to 1 degree F. This image shows how hystersis was adjusted on a typical home thermostat in common usage in the late 20th century.\n",
    "\n",
    "<a title=\"By Vincent de Groot - http://www.videgro.net (Own work) [GFDL (http://www.gnu.org/copyleft/fdl.html), CC-BY-SA-3.0 (http://creativecommons.org/licenses/by-sa/3.0/) or CC BY 2.5 (http://creativecommons.org/licenses/by/2.5)], via Wikimedia Commons\" href=\"https://commons.wikimedia.org/wiki/File%3AHoneywell_thermostat_open.jpg\"><img width=\"512\" alt=\"Honeywell thermostat open\" src=\"https://upload.wikimedia.org/wikipedia/commons/thumb/1/1e/Honeywell_thermostat_open.jpg/512px-Honeywell_thermostat_open.jpg\"/></a>"
   ]
  },
  {
   "cell_type": "markdown",
   "metadata": {
    "nbpages": {
     "level": 3,
     "link": "[3.3.1.3 Exercise 1](https://jckantor.github.io/cbe30338-2021/03.03-Lab-Assignment-PID-Control.html#3.3.1.3-Exercise-1)",
     "section": "3.3.1.3 Exercise 1"
    }
   },
   "source": [
    "### 3.3.1.3 Exercise 1\n",
    "\n",
    "Create a notebook to implement a relay control for the Temperature Control Lab subject the following requirements:\n",
    "\n",
    "* Simultaneous control of sensor temperatures T1 and T2.\n",
    "* Use a tolerance value $d$ of 0.5 deg C.\n",
    "* Set the minimum and maximum values of the heater to 0 and 100%, respectively. lab.P1 and lab.P2 should be left at their default values.\n",
    "* Show the results of an experiment in which the setpoints are adjusted as follows:\n",
    "    * SP1 is initially ambient temperature. SP1 increases to 35 deg at time t=20 and remains constant.\n",
    "    * SP2 is initially ambient temperature. SP2 increases linearly to 45 deg C beginning at t=120 with the transition complete at time t=220.\n",
    "    * Run the experiment until you reach a steady oscillation about the final operating point, and for no shorter than  600 sec.\n",
    "    \n",
    "    \n",
    "Questions:\n",
    "\n",
    "   1. After the system has settled to a steady oscillation about the final operating point, what is the maximum deviation from the setpoints?\n",
    "   2. What is the approximate switching frequency of the manipulated variables?"
   ]
  },
  {
   "cell_type": "code",
   "execution_count": 5,
   "metadata": {
    "nbpages": {
     "level": 3,
     "link": "[3.3.1.3 Exercise 1](https://jckantor.github.io/cbe30338-2021/03.03-Lab-Assignment-PID-Control.html#3.3.1.3-Exercise-1)",
     "section": "3.3.1.3 Exercise 1"
    }
   },
   "outputs": [],
   "source": [
    "%matplotlib inline\n",
    "from tclab import TCLab, clock, Historian, Plotter\n",
    "\n",
    "# insert code below"
   ]
  },
  {
   "cell_type": "markdown",
   "metadata": {
    "nbpages": {
     "level": 2,
     "link": "[3.3.2 Part 2. Implementing a PID Controller](https://jckantor.github.io/cbe30338-2021/03.03-Lab-Assignment-PID-Control.html#3.3.2-Part-2.-Implementing-a-PID-Controller)",
     "section": "3.3.2 Part 2. Implementing a PID Controller"
    }
   },
   "source": [
    "## 3.3.2 Part 2. Implementing a PID Controller\n"
   ]
  },
  {
   "cell_type": "markdown",
   "metadata": {
    "nbpages": {
     "level": 2,
     "link": "[3.3.3 PI Control](https://jckantor.github.io/cbe30338-2021/03.03-Lab-Assignment-PID-Control.html#3.3.3-PI-Control)",
     "section": "3.3.3 PI Control"
    }
   },
   "source": [
    "## 3.3.3 PI Control\n",
    "\n",
    "Given a process variable $PV$ and setpoint $SP$, proportional-integral control determines the value of a manipulated variable MV by the rule\n",
    "\n",
    "\\begin{align}\n",
    "MV_k & = \\bar{MV} + K_p(SP_k  - PV_k) + K_i\\sum_{k'=0}^{k'=k-1} (SP_{k'} -  PV_{k'})\n",
    "\\end{align}\n",
    "\n",
    "where $K_p$ and $K_i$, and $K_d$ are the proportional and integral gains, respectively."
   ]
  },
  {
   "cell_type": "markdown",
   "metadata": {
    "nbpages": {
     "level": 3,
     "link": "[3.3.3.1 Implementation of a simple PI controller](https://jckantor.github.io/cbe30338-2021/03.03-Lab-Assignment-PID-Control.html#3.3.3.1-Implementation-of-a-simple-PI-controller)",
     "section": "3.3.3.1 Implementation of a simple PI controller"
    }
   },
   "source": [
    "### 3.3.3.1 Implementation of a simple PI controller\n",
    "\n",
    "The actual implementation of PI control is normally done by computing how much the $MV$ should change at each time step. Defining the error at time $k$ as\n",
    "\n",
    "\\begin{align}\n",
    "e_k & = SP_k - PV_k\n",
    "\\end{align}\n",
    "\n",
    "then consecutive values of $MV$ are given by \n",
    "\n",
    "\\begin{align}\n",
    "MV_{k-1} & = \\bar{MV} + k_p e_{k-1} + k_i \\sum_{j=0}^{k-1} e_{j} \\\\\n",
    "MV_{k} & = \\bar{MV} + k_p e_{k} + k_i \\sum_{j=0}^{k} e_{j}\n",
    "\\end{align}\n",
    "\n",
    "Taking differences gives a practical formula for updating the value of $MV$ in response to measurements\n",
    "\n",
    "\\begin{align}\n",
    "MV_{k} & = MV_{k-1} + k_p(e_{k} - e_{k-1}) + k_i e_{k}\n",
    "\\end{align}"
   ]
  },
  {
   "cell_type": "markdown",
   "metadata": {
    "nbpages": {
     "level": 3,
     "link": "[3.3.3.2 Exercise 2.](https://jckantor.github.io/cbe30338-2021/03.03-Lab-Assignment-PID-Control.html#3.3.3.2-Exercise-2.)",
     "section": "3.3.3.2 Exercise 2."
    }
   },
   "source": [
    "### 3.3.3.2 Exercise 2.\n",
    "\n",
    "Create a notebook to implement PI for the Temperature Control Lab.\n",
    "\n",
    "* Using the simulation mode, create an implementaton of PI control and find values for Kp and Ki.\n",
    "\n",
    "* Show the results of an experiment in which the setpoints are adjusted as follows:\n",
    "    * SP1 is initially ambient temperature. S12 increases linearly to 45 deg C beginning at t=120 with the transition complete at time t=220.\n",
    "    * Run the experiment until you reach a steady oscillation about the final operating point, and for no shorter than  600 sec.\n",
    "    \n",
    "    \n",
    "Questions:\n",
    "\n",
    "   1. After the system has settled to a steady oscillation about the final operating point, what is the maximum deviation from the setpoints?\n"
   ]
  },
  {
   "cell_type": "markdown",
   "metadata": {
    "nbpages": {
     "level": 3,
     "link": "[3.3.3.2 Exercise 2.](https://jckantor.github.io/cbe30338-2021/03.03-Lab-Assignment-PID-Control.html#3.3.3.2-Exercise-2.)",
     "section": "3.3.3.2 Exercise 2."
    }
   },
   "source": [
    "The following cell provides an initial implementation of PID control for heater T1.  Modify this code to add a second controller, `pid2`, for heater T2. Test using the off-line simulator.  When happy with the results, apply the control to the actual heater."
   ]
  },
  {
   "cell_type": "code",
   "execution_count": 1,
   "metadata": {
    "nbpages": {
     "level": 3,
     "link": "[3.3.3.2 Exercise 2.](https://jckantor.github.io/cbe30338-2021/03.03-Lab-Assignment-PID-Control.html#3.3.3.2-Exercise-2.)",
     "section": "3.3.3.2 Exercise 2."
    }
   },
   "outputs": [
    {
     "ename": "NameError",
     "evalue": "name 'PI' is not defined",
     "output_type": "error",
     "traceback": [
      "\u001b[0;31m---------------------------------------------------------------------------\u001b[0m",
      "\u001b[0;31mNameError\u001b[0m                                 Traceback (most recent call last)",
      "\u001b[0;32m<ipython-input-1-39b1d401c4f7>\u001b[0m in \u001b[0;36m<module>\u001b[0;34m\u001b[0m\n\u001b[1;32m      3\u001b[0m \u001b[0mTCLab\u001b[0m \u001b[0;34m=\u001b[0m \u001b[0msetup\u001b[0m\u001b[0;34m(\u001b[0m\u001b[0mconnected\u001b[0m\u001b[0;34m=\u001b[0m\u001b[0;32mFalse\u001b[0m\u001b[0;34m,\u001b[0m \u001b[0mspeedup\u001b[0m \u001b[0;34m=\u001b[0m \u001b[0;36m20\u001b[0m\u001b[0;34m)\u001b[0m\u001b[0;34m\u001b[0m\u001b[0;34m\u001b[0m\u001b[0m\n\u001b[1;32m      4\u001b[0m \u001b[0;34m\u001b[0m\u001b[0m\n\u001b[0;32m----> 5\u001b[0;31m \u001b[0mpid1\u001b[0m \u001b[0;34m=\u001b[0m \u001b[0mPI\u001b[0m\u001b[0;34m(\u001b[0m\u001b[0;34m)\u001b[0m\u001b[0;34m\u001b[0m\u001b[0;34m\u001b[0m\u001b[0m\n\u001b[0m\u001b[1;32m      6\u001b[0m \u001b[0mpid1\u001b[0m\u001b[0;34m.\u001b[0m\u001b[0mKp\u001b[0m \u001b[0;34m=\u001b[0m \u001b[0;36m2\u001b[0m\u001b[0;34m\u001b[0m\u001b[0;34m\u001b[0m\u001b[0m\n\u001b[1;32m      7\u001b[0m \u001b[0mpid1\u001b[0m\u001b[0;34m.\u001b[0m\u001b[0mKi\u001b[0m \u001b[0;34m=\u001b[0m \u001b[0;36m.1\u001b[0m\u001b[0;34m\u001b[0m\u001b[0;34m\u001b[0m\u001b[0m\n",
      "\u001b[0;31mNameError\u001b[0m: name 'PI' is not defined"
     ]
    }
   ],
   "source": [
    "from tclab import setup, clock, Historian, Plotter\n",
    "\n",
    "TCLab = setup(connected=False, speedup = 20)\n",
    "\n",
    "pid1 = PI()\n",
    "pid1.Kp = 2\n",
    "pid1.Ki = .1\n",
    "\n",
    "with TCLab() as lab:\n",
    "    h = Historian(lab.sources)\n",
    "    p = Plotter(h, 800)\n",
    "    for t in clock(800):\n",
    "        lab.U1 = pi.update(50, lab.T1)\n",
    "        p.update(t)\n",
    "        "
   ]
  },
  {
   "cell_type": "code",
   "execution_count": null,
   "metadata": {
    "nbpages": {
     "level": 3,
     "link": "[3.3.3.2 Exercise 2.](https://jckantor.github.io/cbe30338-2021/03.03-Lab-Assignment-PID-Control.html#3.3.3.2-Exercise-2.)",
     "section": "3.3.3.2 Exercise 2."
    }
   },
   "outputs": [],
   "source": []
  },
  {
   "cell_type": "markdown",
   "metadata": {
    "nbpages": {
     "level": 3,
     "link": "[3.3.3.2 Exercise 2.](https://jckantor.github.io/cbe30338-2021/03.03-Lab-Assignment-PID-Control.html#3.3.3.2-Exercise-2.)",
     "section": "3.3.3.2 Exercise 2."
    }
   },
   "source": [
    "<!--NAVIGATION-->\n",
    "< [3.2 Relay Control](https://jckantor.github.io/cbe30338-2021/03.02-Relay-Control.html) | [Contents](toc.html) | [4.0 Process Analytics](https://jckantor.github.io/cbe30338-2021/04.00-Process-Analytics.html) ><p><a href=\"https://colab.research.google.com/github/jckantor/cbe30338-2021/blob/master/docs/03.03-Lab-Assignment-PID-Control.ipynb\"> <img align=\"left\" src=\"https://colab.research.google.com/assets/colab-badge.svg\" alt=\"Open in Colab\" title=\"Open in Google Colaboratory\"></a><p><a href=\"https://jckantor.github.io/cbe30338-2021/03.03-Lab-Assignment-PID-Control.ipynb\"> <img align=\"left\" src=\"https://img.shields.io/badge/Github-Download-blue.svg\" alt=\"Download\" title=\"Download Notebook\"></a>"
   ]
  }
 ],
 "metadata": {
  "kernelspec": {
   "display_name": "Python 3",
   "language": "python",
   "name": "python3"
  },
  "language_info": {
   "codemirror_mode": {
    "name": "ipython",
    "version": 3
   },
   "file_extension": ".py",
   "mimetype": "text/x-python",
   "name": "python",
   "nbconvert_exporter": "python",
   "pygments_lexer": "ipython3",
   "version": "3.8.5"
  }
 },
 "nbformat": 4,
 "nbformat_minor": 4
}
