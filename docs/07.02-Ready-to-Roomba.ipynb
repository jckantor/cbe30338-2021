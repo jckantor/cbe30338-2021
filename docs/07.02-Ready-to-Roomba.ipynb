{
 "cells": [
  {
   "cell_type": "markdown",
   "metadata": {},
   "source": [
    "<!--NOTEBOOK_HEADER-->\n",
    "*This notebook contains material from [cbe30338-2021](https://jckantor.github.io/cbe30338-2021);\n",
    "content is available [on Github](https://github.com/jckantor/cbe30338-2021.git).*\n"
   ]
  },
  {
   "cell_type": "markdown",
   "metadata": {},
   "source": [
    "<!--NAVIGATION-->\n",
    "< [7.1 Introduction to Simpy](https://jckantor.github.io/cbe30338-2021/07.01-Introduction-to-Simpy.html) | [Contents](toc.html) | [Tag Index](tag_index.html) | [7.3 Chemotaxis](https://jckantor.github.io/cbe30338-2021/07.03-Chemotaxis.html) ><p><a href=\"https://colab.research.google.com/github/jckantor/cbe30338-2021/blob/master/docs/07.02-Ready-to-Roomba.ipynb\"> <img align=\"left\" src=\"https://colab.research.google.com/assets/colab-badge.svg\" alt=\"Open in Colab\" title=\"Open in Google Colaboratory\"></a><p><a href=\"https://jckantor.github.io/cbe30338-2021/07.02-Ready-to-Roomba.ipynb\"> <img align=\"left\" src=\"https://img.shields.io/badge/Github-Download-blue.svg\" alt=\"Download\" title=\"Download Notebook\"></a>"
   ]
  },
  {
   "cell_type": "markdown",
   "metadata": {
    "nbpages": {
     "level": 1,
     "link": "[7.2 Ready to Roomba](https://jckantor.github.io/cbe30338-2021/07.02-Ready-to-Roomba.html#7.2-Ready-to-Roomba)",
     "section": "7.2 Ready to Roomba"
    }
   },
   "source": [
    "# 7.2 Ready to Roomba"
   ]
  },
  {
   "cell_type": "code",
   "execution_count": 79,
   "metadata": {
    "nbpages": {
     "level": 1,
     "link": "[7.2 Ready to Roomba](https://jckantor.github.io/cbe30338-2021/07.02-Ready-to-Roomba.html#7.2-Ready-to-Roomba)",
     "section": "7.2 Ready to Roomba"
    }
   },
   "outputs": [
    {
     "name": "stdout",
     "output_type": "stream",
     "text": [
      "  0: A starts cleaning.\n",
      " 20: A battery dies.\n"
     ]
    }
   ],
   "source": [
    "import simpy\n",
    "\n",
    "def roomba(name):\n",
    "    print(f\"{env.now:3d}: {name} starts cleaning.\")\n",
    "    yield env.timeout(20)\n",
    "    print(f\"{env.now:3d}: {name} battery dies.\")\n",
    "        \n",
    "env = simpy.Environment()\n",
    "env.process(roomba(\"A\"))\n",
    "env.run()"
   ]
  },
  {
   "cell_type": "code",
   "execution_count": 102,
   "metadata": {
    "nbpages": {
     "level": 1,
     "link": "[7.2 Ready to Roomba](https://jckantor.github.io/cbe30338-2021/07.02-Ready-to-Roomba.html#7.2-Ready-to-Roomba)",
     "section": "7.2 Ready to Roomba"
    }
   },
   "outputs": [
    {
     "name": "stdout",
     "output_type": "stream",
     "text": [
      " 35: 0 start charging.\n",
      " 40: 0 finished charging.\n",
      " 40: 1 start charging.\n",
      " 45: 1 finished charging.\n",
      " 45: 2 start charging.\n",
      " 50: 2 finished charging.\n",
      " 50: 3 start charging.\n",
      " 55: 3 finished charging.\n",
      " 55: 4 start charging.\n",
      " 60: 4 finished charging.\n",
      " 60: 5 start charging.\n",
      " 65: 5 finished charging.\n",
      " 65: 6 start charging.\n",
      " 70: 6 finished charging.\n",
      " 70: 7 start charging.\n",
      " 75: 7 finished charging.\n",
      " 75: 8 start charging.\n",
      " 80: 8 finished charging.\n",
      " 80: 9 start charging.\n",
      " 85: 9 finished charging.\n",
      " 85: 10 start charging.\n",
      " 90: 10 finished charging.\n",
      " 90: 11 start charging.\n",
      " 95: 11 finished charging.\n",
      " 95: 12 start charging.\n",
      "100: 12 finished charging.\n",
      "100: 13 start charging.\n",
      "105: 13 finished charging.\n",
      "105: 14 start charging.\n",
      "110: 14 finished charging.\n",
      "110: 15 start charging.\n",
      "115: 15 finished charging.\n",
      "115: 16 start charging.\n",
      "120: 16 finished charging.\n",
      "120: 17 start charging.\n",
      "125: 17 finished charging.\n",
      "125: 18 start charging.\n",
      "130: 18 finished charging.\n",
      "130: 19 start charging.\n",
      "135: 19 finished charging.\n",
      "135: 20 start charging.\n",
      "140: 20 finished charging.\n",
      "140: 21 start charging.\n",
      "145: 21 finished charging.\n",
      "145: 22 start charging.\n",
      "150: 22 finished charging.\n",
      "150: 23 start charging.\n",
      "155: 23 finished charging.\n",
      "155: 24 start charging.\n",
      "160: 24 finished charging.\n",
      "160: 25 start charging.\n",
      "165: 25 finished charging.\n",
      "165: 26 start charging.\n",
      "170: 26 finished charging.\n",
      "170: 27 start charging.\n",
      "175: 27 finished charging.\n",
      "175: 28 start charging.\n",
      "180: 28 finished charging.\n",
      "180: 29 start charging.\n",
      "185: 29 finished charging.\n",
      "185: 30 start charging.\n",
      "190: 30 finished charging.\n",
      "190: 31 start charging.\n",
      "195: 31 finished charging.\n",
      "195: 32 start charging.\n",
      "200: 32 finished charging.\n",
      "200: 33 start charging.\n",
      "205: 33 finished charging.\n",
      "205: 34 start charging.\n",
      "210: 34 finished charging.\n",
      "210: 35 start charging.\n",
      "215: 35 finished charging.\n",
      "215: 36 start charging.\n",
      "220: 36 finished charging.\n",
      "220: 37 start charging.\n",
      "225: 37 finished charging.\n",
      "225: 38 start charging.\n",
      "230: 38 finished charging.\n",
      "230: 39 start charging.\n",
      "235: 39 finished charging.\n",
      "235: 40 start charging.\n",
      "240: 40 finished charging.\n",
      "240: 41 start charging.\n",
      "245: 41 finished charging.\n",
      "245: 42 start charging.\n",
      "250: 42 finished charging.\n",
      "250: 43 start charging.\n",
      "255: 43 finished charging.\n",
      "255: 44 start charging.\n",
      "260: 44 finished charging.\n",
      "260: 45 start charging.\n",
      "265: 45 finished charging.\n",
      "265: 46 start charging.\n",
      "270: 46 finished charging.\n",
      "270: 47 start charging.\n",
      "275: 47 finished charging.\n",
      "275: 48 start charging.\n",
      "280: 48 finished charging.\n",
      "280: 49 start charging.\n",
      "285: 49 finished charging.\n",
      "285: 50 start charging.\n",
      "290: 50 finished charging.\n",
      "290: 51 start charging.\n",
      "295: 51 finished charging.\n",
      "295: 52 start charging.\n",
      "{35: 7000, 75: 7035, 80: 7070, 85: 7105, 90: 7140, 95: 7175, 100: 7210, 105: 7245, 110: 7280, 115: 7315, 120: 7350, 125: 7385, 130: 7420, 135: 7455, 140: 7490, 145: 7525, 150: 7560, 155: 7595, 160: 7630, 165: 7665, 170: 7700, 175: 7735, 180: 7770, 185: 7805, 190: 7840, 195: 7875, 200: 7910, 205: 7945, 210: 7980, 215: 8015, 220: 8050, 225: 8085, 230: 8120, 235: 8155, 240: 8190, 245: 8225, 250: 8260, 255: 8295, 260: 8330, 265: 8365, 270: 8400, 275: 8435, 280: 8470, 285: 8505, 290: 8540, 295: 8575}\n"
     ]
    },
    {
     "data": {
      "text/plain": [
       "[<matplotlib.lines.Line2D at 0x7fabc605dee0>]"
      ]
     },
     "execution_count": 102,
     "metadata": {},
     "output_type": "execute_result"
    },
    {
     "data": {
      "image/png": "[encoded data removed]",
      "text/plain": [
       "<Figure size 432x288 with 1 Axes>"
      ]
     },
     "metadata": {
      "needs_background": "light"
     },
     "output_type": "display_data"
    }
   ],
   "source": [
    "import simpy\n",
    "import matplotlib.pyplot as plt\n",
    "\n",
    "total_cleaning_time =  0\n",
    "cleaning = {}\n",
    "\n",
    "def roomba(name, battery):\n",
    "    global cleaning, total_cleaning_time\n",
    "    while True:\n",
    "        start = env.now\n",
    "        #print(f\"{start:3d}: {name} starts cleaning.\")\n",
    "        yield env.timeout(battery)\n",
    "        \n",
    "        stop = env.now\n",
    "        #print(f\"{stop:3d}: {name} stops cleaning.\")\n",
    "        total_cleaning_time = total_cleaning_time + stop - start\n",
    "        cleaning[env.now] = total_cleaning_time\n",
    "        \n",
    "        request = charger.request()\n",
    "        yield request\n",
    "        \n",
    "        print(f\"{env.now:3d}: {name} start charging.\")\n",
    "        yield env.timeout(5)\n",
    "        print(f\"{env.now:3d}: {name} finished charging.\")\n",
    "        \n",
    "        charger.release(request)\n",
    "        \n",
    "env = simpy.Environment()\n",
    "charger = simpy.Resource(env, capacity=1)\n",
    "for n in range(200):\n",
    "    env.process(roomba(n, 35))\n",
    "env.run(until=300)\n",
    "\n",
    "print(cleaning)\n",
    "plt.plot(cleaning.keys(), cleaning.values())"
   ]
  },
  {
   "cell_type": "code",
   "execution_count": null,
   "metadata": {
    "nbpages": {
     "level": 1,
     "link": "[7.2 Ready to Roomba](https://jckantor.github.io/cbe30338-2021/07.02-Ready-to-Roomba.html#7.2-Ready-to-Roomba)",
     "section": "7.2 Ready to Roomba"
    }
   },
   "outputs": [],
   "source": []
  },
  {
   "cell_type": "markdown",
   "metadata": {},
   "source": [
    "<!--NAVIGATION-->\n",
    "< [7.1 Introduction to Simpy](https://jckantor.github.io/cbe30338-2021/07.01-Introduction-to-Simpy.html) | [Contents](toc.html) | [Tag Index](tag_index.html) | [7.3 Chemotaxis](https://jckantor.github.io/cbe30338-2021/07.03-Chemotaxis.html) ><p><a href=\"https://colab.research.google.com/github/jckantor/cbe30338-2021/blob/master/docs/07.02-Ready-to-Roomba.ipynb\"> <img align=\"left\" src=\"https://colab.research.google.com/assets/colab-badge.svg\" alt=\"Open in Colab\" title=\"Open in Google Colaboratory\"></a><p><a href=\"https://jckantor.github.io/cbe30338-2021/07.02-Ready-to-Roomba.ipynb\"> <img align=\"left\" src=\"https://img.shields.io/badge/Github-Download-blue.svg\" alt=\"Download\" title=\"Download Notebook\"></a>"
   ]
  }
 ],
 "metadata": {
  "kernelspec": {
   "display_name": "Python 3",
   "language": "python",
   "name": "python3"
  },
  "language_info": {
   "codemirror_mode": {
    "name": "ipython",
    "version": 3
   },
   "file_extension": ".py",
   "mimetype": "text/x-python",
   "name": "python",
   "nbconvert_exporter": "python",
   "pygments_lexer": "ipython3",
   "version": "3.8.5"
  }
 },
 "nbformat": 4,
 "nbformat_minor": 4
}
