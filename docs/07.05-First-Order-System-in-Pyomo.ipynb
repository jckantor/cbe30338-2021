{
 "cells": [
  {
   "cell_type": "markdown",
   "metadata": {
    "nbpages": {
     "level": 0,
     "link": "[](https://jckantor.github.io/cbe30338-2021/07.05-First-Order-System-in-Pyomo.html)",
     "section": ""
    }
   },
   "source": [
    "<!--NOTEBOOK_HEADER-->\n",
    "*This notebook contains material from [cbe30338-2021](https://jckantor.github.io/cbe30338-2021);\n",
    "content is available [on Github](https://github.com/jckantor/cbe30338-2021.git).*\n"
   ]
  },
  {
   "cell_type": "markdown",
   "metadata": {
    "nbpages": {
     "level": 0,
     "link": "[](https://jckantor.github.io/cbe30338-2021/07.05-First-Order-System-in-Pyomo.html)",
     "section": ""
    }
   },
   "source": [
    "<!--NAVIGATION-->\n",
    "< [7.4 Simulation of an Exothermic CSTR](https://jckantor.github.io/cbe30338-2021/07.04-Simulation-of-an-Exothermic-CSTR.html) | [Contents](toc.html) | [Tag Index](tag_index.html) | [7.6 Path Planning for a Simple Car](https://jckantor.github.io/cbe30338-2021/07.06-Path-Planning-for-a-Simple-Car.html) ><p><a href=\"https://colab.research.google.com/github/jckantor/cbe30338-2021/blob/master/../cbe30338-2021/docs/07.05-First-Order-System-in-Pyomo.ipynb\"> <img align=\"left\" src=\"https://colab.research.google.com/assets/colab-badge.svg\" alt=\"Open in Colab\" title=\"Open in Google Colaboratory\"></a><p><a href=\"https://jckantor.github.io/cbe30338-2021/07.05-First-Order-System-in-Pyomo.ipynb\"> <img align=\"left\" src=\"https://img.shields.io/badge/Github-Download-blue.svg\" alt=\"Download\" title=\"Download Notebook\"></a>"
   ]
  },
  {
   "cell_type": "markdown",
   "metadata": {
    "nbpages": {
     "level": 1,
     "link": "[7.5 First Order System in Pyomo](https://jckantor.github.io/cbe30338-2021/07.05-First-Order-System-in-Pyomo.html#7.5-First-Order-System-in-Pyomo)",
     "section": "7.5 First Order System in Pyomo"
    }
   },
   "source": [
    "# 7.5 First Order System in Pyomo"
   ]
  },
  {
   "cell_type": "markdown",
   "metadata": {
    "nbpages": {
     "level": 2,
     "link": "[7.5.1 First-Order Differential Equation with Initial Condition](https://jckantor.github.io/cbe30338-2021/07.05-First-Order-System-in-Pyomo.html#7.5.1-First-Order-Differential-Equation-with-Initial-Condition)",
     "section": "7.5.1 First-Order Differential Equation with Initial Condition"
    }
   },
   "source": [
    "## 7.5.1 First-Order Differential Equation with Initial Condition\n",
    "\n",
    "The following cell implements a solution to a first-order linear model in the form\n",
    "\n",
    "\\begin{align}\n",
    "\\tau\\frac{dy}{dt} + y & = K u(t) \\\\\n",
    "\\end{align}\n",
    "\n",
    "where $\\tau$ and $K$ are model parameters, and $u(t)$ is an external process input."
   ]
  },
  {
   "cell_type": "code",
   "execution_count": 5,
   "metadata": {
    "nbpages": {
     "level": 2,
     "link": "[7.5.1 First-Order Differential Equation with Initial Condition](https://jckantor.github.io/cbe30338-2021/07.05-First-Order-System-in-Pyomo.html#7.5.1-First-Order-Differential-Equation-with-Initial-Condition)",
     "section": "7.5.1 First-Order Differential Equation with Initial Condition"
    }
   },
   "outputs": [
    {
     "name": "stdout",
     "output_type": "stream",
     "text": [
      "# ==========================================================\n",
      "# = Solver Results                                         =\n",
      "# ==========================================================\n",
      "# ----------------------------------------------------------\n",
      "#   Problem Information\n",
      "# ----------------------------------------------------------\n",
      "Problem: \n",
      "- Lower bound: -inf\n",
      "  Upper bound: inf\n",
      "  Number of objectives: 1\n",
      "  Number of constraints: 101\n",
      "  Number of variables: 101\n",
      "  Sense: unknown\n",
      "# ----------------------------------------------------------\n",
      "#   Solver Information\n",
      "# ----------------------------------------------------------\n",
      "Solver: \n",
      "- Status: ok\n",
      "  Message: Ipopt 3.12.8\\x3a Optimal Solution Found\n",
      "  Termination condition: optimal\n",
      "  Id: 0\n",
      "  Error rc: 0\n",
      "  Time: 0.024537086486816406\n",
      "# ----------------------------------------------------------\n",
      "#   Solution Information\n",
      "# ----------------------------------------------------------\n",
      "Solution: \n",
      "- number of solutions: 0\n",
      "  number of solutions displayed: 0\n"
     ]
    },
    {
     "data": {
      "text/plain": [
       "Text(0.5,1,'Response of a linear first-order ODE')"
      ]
     },
     "execution_count": 5,
     "metadata": {},
     "output_type": "execute_result"
    },
    {
     "data": {
      "image/png": "[encoded data removed]",
      "text/plain": [
       "<matplotlib.figure.Figure at 0x1189bc240>"
      ]
     },
     "metadata": {},
     "output_type": "display_data"
    }
   ],
   "source": [
    "% matplotlib inline\n",
    "from pyomo.environ import *\n",
    "from pyomo.dae import *\n",
    "import matplotlib.pyplot as plt\n",
    "\n",
    "tf = 10\n",
    "tau = 1\n",
    "K = 5\n",
    "\n",
    "# define u(t)\n",
    "u = lambda t: 0 if t < 5 else 1\n",
    "\n",
    "# create a model object\n",
    "model = ConcreteModel()\n",
    "\n",
    "# define the independent variable\n",
    "model.t = ContinuousSet(bounds=(0, tf))\n",
    "\n",
    "# define the dependent variables\n",
    "model.y = Var(model.t)\n",
    "model.dydt = DerivativeVar(model.y)\n",
    "\n",
    "# fix the initial value of y\n",
    "model.y[0].fix(0)\n",
    "\n",
    "# define the differential equation as a constraint\n",
    "model.ode = Constraint(model.t, \n",
    "    rule=lambda model, t: tau*model.dydt[t] + model.y[t] == K*u(t))\n",
    "\n",
    "# transform dae model to discrete optimization problem\n",
    "TransformationFactory('dae.finite_difference').apply_to(model, nfe=50, method='BACKWARD')\n",
    "\n",
    "# solve the model\n",
    "SolverFactory('ipopt').solve(model).write()\n",
    "\n",
    "# access elements of a ContinuousSet object\n",
    "t = [t for t in model.t]\n",
    "\n",
    "# access elements of a Var object\n",
    "y = [model.y[t]() for t in model.y]\n",
    "\n",
    "plt.plot(t,y)\n",
    "plt.xlabel('time / sec')\n",
    "plt.ylabel('response')\n",
    "plt.title('Response of a linear first-order ODE')"
   ]
  },
  {
   "cell_type": "code",
   "execution_count": null,
   "metadata": {
    "nbpages": {
     "level": 2,
     "link": "[7.5.1 First-Order Differential Equation with Initial Condition](https://jckantor.github.io/cbe30338-2021/07.05-First-Order-System-in-Pyomo.html#7.5.1-First-Order-Differential-Equation-with-Initial-Condition)",
     "section": "7.5.1 First-Order Differential Equation with Initial Condition"
    }
   },
   "outputs": [],
   "source": []
  },
  {
   "cell_type": "markdown",
   "metadata": {
    "nbpages": {
     "level": 2,
     "link": "[7.5.1 First-Order Differential Equation with Initial Condition](https://jckantor.github.io/cbe30338-2021/07.05-First-Order-System-in-Pyomo.html#7.5.1-First-Order-Differential-Equation-with-Initial-Condition)",
     "section": "7.5.1 First-Order Differential Equation with Initial Condition"
    }
   },
   "source": [
    "<!--NAVIGATION-->\n",
    "< [7.4 Simulation of an Exothermic CSTR](https://jckantor.github.io/cbe30338-2021/07.04-Simulation-of-an-Exothermic-CSTR.html) | [Contents](toc.html) | [Tag Index](tag_index.html) | [7.6 Path Planning for a Simple Car](https://jckantor.github.io/cbe30338-2021/07.06-Path-Planning-for-a-Simple-Car.html) ><p><a href=\"https://colab.research.google.com/github/jckantor/cbe30338-2021/blob/master/../cbe30338-2021/docs/07.05-First-Order-System-in-Pyomo.ipynb\"> <img align=\"left\" src=\"https://colab.research.google.com/assets/colab-badge.svg\" alt=\"Open in Colab\" title=\"Open in Google Colaboratory\"></a><p><a href=\"https://jckantor.github.io/cbe30338-2021/07.05-First-Order-System-in-Pyomo.ipynb\"> <img align=\"left\" src=\"https://img.shields.io/badge/Github-Download-blue.svg\" alt=\"Download\" title=\"Download Notebook\"></a>"
   ]
  }
 ],
 "metadata": {
  "kernelspec": {
   "display_name": "Python 3",
   "language": "python",
   "name": "python3"
  },
  "language_info": {
   "codemirror_mode": {
    "name": "ipython",
    "version": 3
   },
   "file_extension": ".py",
   "mimetype": "text/x-python",
   "name": "python",
   "nbconvert_exporter": "python",
   "pygments_lexer": "ipython3",
   "version": "3.6.8"
  }
 },
 "nbformat": 4,
 "nbformat_minor": 2
}
