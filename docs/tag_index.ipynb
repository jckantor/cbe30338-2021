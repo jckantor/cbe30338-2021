{
 "cells": [
  {
   "cell_type": "markdown",
   "metadata": {},
   "source": [
    "# [cbe30338-2021](https://jckantor.github.io/cbe30338-2021)\n",
    "\n",
    "## Tag Index\n",
    "* <a name=exercise></a>exercise\n",
    "    - [5.4.5 Exercise 1.](https://jckantor.github.io/cbe30338-2021/05.04-Gasoline-Blending.html#5.4.5-Exercise-1.)\n",
    "    - [5.4.6 Exercise 2.](https://jckantor.github.io/cbe30338-2021/05.04-Gasoline-Blending.html#5.4.6-Exercise-2.)\n",
    "    - [5.4.7 Exercise 3.](https://jckantor.github.io/cbe30338-2021/05.04-Gasoline-Blending.html#5.4.7-Exercise-3.)"
   ]
  }
 ],
 "metadata": {},
 "nbformat": 4,
 "nbformat_minor": 4
}
