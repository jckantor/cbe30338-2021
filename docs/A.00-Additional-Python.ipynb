{
 "cells": [
  {
   "cell_type": "markdown",
   "metadata": {
    "nbpages": {
     "level": 0,
     "link": "[](https://jckantor.github.io/cbe30338-2021/A.00-Additional-Python.html)",
     "section": ""
    }
   },
   "source": [
    "<!--NOTEBOOK_HEADER-->\n",
    "*This notebook contains material from [cbe30338-2021](https://jckantor.github.io/cbe30338-2021);\n",
    "content is available [on Github](https://github.com/jckantor/cbe30338-2021.git).*\n"
   ]
  },
  {
   "cell_type": "markdown",
   "metadata": {
    "nbpages": {
     "level": 0,
     "link": "[](https://jckantor.github.io/cbe30338-2021/A.00-Additional-Python.html)",
     "section": ""
    }
   },
   "source": [
    "<!--NAVIGATION-->\n",
    "< [25.2 Simulation, Control, and Estimation using Pyomo](https://jckantor.github.io/cbe30338-2021/25.02-Optimization-Control-and-Estimation-using-Pyomo-With-Windows-ipopt.html) | [Contents](toc.html) | [Tag Index](tag_index.html) | [A.1 Getting Started with Python and Jupyter Notebooks](https://jckantor.github.io/cbe30338-2021/A.01-Getting-Started-with-Python-and-Jupyter-Notebooks.html) ><p><a href=\"https://colab.research.google.com/github/jckantor/cbe30338-2021/blob/master/../cbe30338-2021/docs/A.00-Additional-Python.ipynb\"> <img align=\"left\" src=\"https://colab.research.google.com/assets/colab-badge.svg\" alt=\"Open in Colab\" title=\"Open in Google Colaboratory\"></a><p><a href=\"https://jckantor.github.io/cbe30338-2021/A.00-Additional-Python.ipynb\"> <img align=\"left\" src=\"https://img.shields.io/badge/Github-Download-blue.svg\" alt=\"Download\" title=\"Download Notebook\"></a>"
   ]
  },
  {
   "cell_type": "markdown",
   "metadata": {
    "nbpages": {
     "level": 1,
     "link": "[A.0 Additional Python](https://jckantor.github.io/cbe30338-2021/A.00-Additional-Python.html#A.0-Additional-Python)",
     "section": "A.0 Additional Python"
    }
   },
   "source": [
    "# A.0 Additional Python"
   ]
  },
  {
   "cell_type": "markdown",
   "metadata": {
    "nbpages": {
     "level": 1,
     "link": "[A.0 Additional Python](https://jckantor.github.io/cbe30338-2021/A.00-Additional-Python.html#A.0-Additional-Python)",
     "section": "A.0 Additional Python"
    }
   },
   "source": [
    "<!--NAVIGATION-->\n",
    "< [25.2 Simulation, Control, and Estimation using Pyomo](https://jckantor.github.io/cbe30338-2021/25.02-Optimization-Control-and-Estimation-using-Pyomo-With-Windows-ipopt.html) | [Contents](toc.html) | [Tag Index](tag_index.html) | [A.1 Getting Started with Python and Jupyter Notebooks](https://jckantor.github.io/cbe30338-2021/A.01-Getting-Started-with-Python-and-Jupyter-Notebooks.html) ><p><a href=\"https://colab.research.google.com/github/jckantor/cbe30338-2021/blob/master/../cbe30338-2021/docs/A.00-Additional-Python.ipynb\"> <img align=\"left\" src=\"https://colab.research.google.com/assets/colab-badge.svg\" alt=\"Open in Colab\" title=\"Open in Google Colaboratory\"></a><p><a href=\"https://jckantor.github.io/cbe30338-2021/A.00-Additional-Python.ipynb\"> <img align=\"left\" src=\"https://img.shields.io/badge/Github-Download-blue.svg\" alt=\"Download\" title=\"Download Notebook\"></a>"
   ]
  }
 ],
 "metadata": {
  "kernelspec": {
   "display_name": "Python 3",
   "language": "python",
   "name": "python3"
  },
  "language_info": {
   "codemirror_mode": {
    "name": "ipython",
    "version": 3
   },
   "file_extension": ".py",
   "mimetype": "text/x-python",
   "name": "python",
   "nbconvert_exporter": "python",
   "pygments_lexer": "ipython3",
   "version": "3.8.5"
  }
 },
 "nbformat": 4,
 "nbformat_minor": 4
}
