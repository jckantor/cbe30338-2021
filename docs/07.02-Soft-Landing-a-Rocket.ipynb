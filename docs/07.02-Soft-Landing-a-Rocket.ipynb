{
 "cells": [
  {
   "cell_type": "markdown",
   "metadata": {
    "colab_type": "text",
    "id": "LzDhuJ4aSfhl",
    "nbpages": {
     "level": 0,
     "link": "[](https://jckantor.github.io/cbe30338-2021/07.02-Soft-Landing-a-Rocket.html)",
     "section": ""
    }
   },
   "source": [
    "<!--NOTEBOOK_HEADER-->\n",
    "*This notebook contains material from [cbe30338-2021](https://jckantor.github.io/cbe30338-2021);\n",
    "content is available [on Github](https://github.com/jckantor/cbe30338-2021.git).*\n"
   ]
  },
  {
   "cell_type": "markdown",
   "metadata": {
    "colab_type": "text",
    "id": "5j3CdtFbSfhn",
    "nbpages": {
     "level": 0,
     "link": "[](https://jckantor.github.io/cbe30338-2021/07.02-Soft-Landing-a-Rocket.html)",
     "section": ""
    }
   },
   "source": [
    "<!--NAVIGATION-->\n",
    "< [7.1 Simulation and Optimal Control in Pharmacokinetics](https://jckantor.github.io/cbe30338-2021/07.01-Simulation-and-Optimal-Control-in-Pharmacokinetics.html) | [Contents](toc.html) | [Tag Index](tag_index.html) | [7.3 Simulation in Pyomo](https://jckantor.github.io/cbe30338-2021/07.03-Simulation-in-Pyomo.html) ><p><a href=\"https://colab.research.google.com/github/jckantor/cbe30338-2021/blob/master/docs/07.02-Soft-Landing-a-Rocket.ipynb\"> <img align=\"left\" src=\"https://colab.research.google.com/assets/colab-badge.svg\" alt=\"Open in Colab\" title=\"Open in Google Colaboratory\"></a><p><a href=\"https://jckantor.github.io/cbe30338-2021/07.02-Soft-Landing-a-Rocket.ipynb\"> <img align=\"left\" src=\"https://img.shields.io/badge/Github-Download-blue.svg\" alt=\"Download\" title=\"Download Notebook\"></a>"
   ]
  },
  {
   "cell_type": "markdown",
   "metadata": {
    "colab_type": "text",
    "id": "8C_vr6C0Jf8I",
    "nbpages": {
     "level": 1,
     "link": "[7.2 Soft Landing a Rocket](https://jckantor.github.io/cbe30338-2021/07.02-Soft-Landing-a-Rocket.html#7.2-Soft-Landing-a-Rocket)",
     "section": "7.2 Soft Landing a Rocket"
    }
   },
   "source": [
    "# 7.2 Soft Landing a Rocket"
   ]
  },
  {
   "cell_type": "markdown",
   "metadata": {
    "colab_type": "text",
    "id": "IJIPVYupiSrk",
    "nbpages": {
     "level": 1,
     "link": "[7.2 Soft Landing a Rocket](https://jckantor.github.io/cbe30338-2021/07.02-Soft-Landing-a-Rocket.html#7.2-Soft-Landing-a-Rocket)",
     "section": "7.2 Soft Landing a Rocket"
    }
   },
   "source": [
    "Landing a rocket on the surface of a planet was once a staple of science fiction, and then realized in the 1960's through multiple manned and unmanned landings on the moon. It's hard to overestimate the degree to which these missions inspired a new generation \n",
    " \n",
    "![Eagle In Lunar Orbit - GPN-2000-001210](https://upload.wikimedia.org/wikipedia/commons/thumb/c/cf/Eagle_In_Lunar_Orbit_-_GPN-2000-001210.jpg/256px-Eagle_In_Lunar_Orbit_-_GPN-2000-001210.jpg)\n",
    "\n",
    "[NASA Michael Collins [Public domain] via Wikimedia Commons](https://commons.wikimedia.org/wiki/File:Eagle_In_Lunar_Orbit_-_GPN-2000-001210.jpg)\n",
    "\n",
    "**Rocket Landing Videos** (these never get old):\n",
    "\n",
    "* [Apollo 11 Landing on the Moon, July 20, 1969](https://youtu.be/k_OD2V6fMLQ)\n",
    "* [SpaceX Falcon Heavy Side Boosters Landing at Kennedy Space Center, February 6, 2018 ](https://youtu.be/u0-pfzKbh2k)\n",
    "* [Blue Origin, November 24, 2014](https://youtu.be/9pillaOxGCo?t=103)\n",
    "\n",
    "Inspired by these examples, this notebook uses Pyomo and a simple model of a rocket to compute a control policy for a soft landing. The parameters used correspond to the descent of the Apollo 11 Lunar Module to the moon on July 20, 1969."
   ]
  },
  {
   "cell_type": "markdown",
   "metadata": {
    "colab_type": "text",
    "id": "r1DkXPM5wif0",
    "nbpages": {
     "level": 2,
     "link": "[7.2.1 Required Installations](https://jckantor.github.io/cbe30338-2021/07.02-Soft-Landing-a-Rocket.html#7.2.1-Required-Installations)",
     "section": "7.2.1 Required Installations"
    }
   },
   "source": [
    "## 7.2.1 Required Installations\n",
    "\n"
   ]
  },
  {
   "cell_type": "markdown",
   "metadata": {
    "colab_type": "text",
    "id": "WEEvIuiuqYXd",
    "nbpages": {
     "level": 3,
     "link": "[7.2.1.1 Google Colab](https://jckantor.github.io/cbe30338-2021/07.02-Soft-Landing-a-Rocket.html#7.2.1.1-Google-Colab)",
     "section": "7.2.1.1 Google Colab"
    }
   },
   "source": [
    "### 7.2.1.1 Google Colab\n",
    "\n",
    "The following cell installs the necessary packages and solvers on Google Colab. This installation must be done for each Google Colab session."
   ]
  },
  {
   "cell_type": "code",
   "execution_count": 0,
   "metadata": {
    "colab": {},
    "colab_type": "code",
    "id": "p00rSCoTwTd5",
    "nbpages": {
     "level": 3,
     "link": "[7.2.1.1 Google Colab](https://jckantor.github.io/cbe30338-2021/07.02-Soft-Landing-a-Rocket.html#7.2.1.1-Google-Colab)",
     "section": "7.2.1.1 Google Colab"
    }
   },
   "outputs": [],
   "source": [
    "!pip install -q pyomo==5.6.1\n",
    "!wget -N -q \"https://ampl.com/dl/open/ipopt/ipopt-linux64.zip\"\n",
    "!unzip -o -q ipopt-linux64\n",
    "ipopt_executable = '/content/ipopt'"
   ]
  },
  {
   "cell_type": "markdown",
   "metadata": {
    "colab_type": "text",
    "id": "-o3F-AGzL8Xi",
    "nbpages": {
     "level": 3,
     "link": "[7.2.1.1 Google Colab](https://jckantor.github.io/cbe30338-2021/07.02-Soft-Landing-a-Rocket.html#7.2.1.1-Google-Colab)",
     "section": "7.2.1.1 Google Colab"
    }
   },
   "source": [
    "  ### MacOS\n",
    "  \n",
    "  On MacOS, replace the above cell with the following text to perform a one-time installation.\n",
    "    \n",
    "    !pip install -q pyomo\n",
    "    !curl https://ampl.com/dl/open/ipopt/ipopt-osx.zip --output ipopt-osx.zip --silent\n",
    "    !unzip -o -q ipopt-osx\n",
    "    ipopt_executable = './ipopt'"
   ]
  },
  {
   "cell_type": "markdown",
   "metadata": {
    "colab_type": "text",
    "id": "2r-wdJM9qszE",
    "nbpages": {
     "level": 3,
     "link": "[7.2.1.2 Windows PC](https://jckantor.github.io/cbe30338-2021/07.02-Soft-Landing-a-Rocket.html#7.2.1.2-Windows-PC)",
     "section": "7.2.1.2 Windows PC"
    }
   },
   "source": [
    "### 7.2.1.2 Windows PC\n",
    "\n",
    "Pyomo can be installed by executing\n",
    "\n",
    "    !pip install -q pyomo\n",
    "    \n",
    "into a Jupyter notebook cell. An ipopt binary executable is available from [ampl.com](https://ampl.com/products/solvers/open-source/).  More specific instructions for a one-tme installation on Windows PC will be forthcoming.  "
   ]
  },
  {
   "cell_type": "markdown",
   "metadata": {
    "colab_type": "text",
    "id": "se0qY6Xfrlv5",
    "nbpages": {
     "level": 2,
     "link": "[7.2.2 Python Initializations](https://jckantor.github.io/cbe30338-2021/07.02-Soft-Landing-a-Rocket.html#7.2.2-Python-Initializations)",
     "section": "7.2.2 Python Initializations"
    }
   },
   "source": [
    "## 7.2.2 Python Initializations"
   ]
  },
  {
   "cell_type": "code",
   "execution_count": 0,
   "metadata": {
    "colab": {},
    "colab_type": "code",
    "id": "ISnPZ93d5Zvr",
    "nbpages": {
     "level": 2,
     "link": "[7.2.2 Python Initializations](https://jckantor.github.io/cbe30338-2021/07.02-Soft-Landing-a-Rocket.html#7.2.2-Python-Initializations)",
     "section": "7.2.2 Python Initializations"
    }
   },
   "outputs": [],
   "source": [
    "import matplotlib.pyplot as plt\n",
    "from pyomo.environ import *\n",
    "from pyomo.dae import *\n",
    "import numpy as np"
   ]
  },
  {
   "cell_type": "markdown",
   "metadata": {
    "colab_type": "text",
    "id": "6VFVBpH9pt0M",
    "nbpages": {
     "level": 2,
     "link": "[7.2.3 Version 1: Vertical Dynamics of a Rocket with Constant Mass](https://jckantor.github.io/cbe30338-2021/07.02-Soft-Landing-a-Rocket.html#7.2.3-Version-1:-Vertical-Dynamics-of-a-Rocket-with-Constant-Mass)",
     "section": "7.2.3 Version 1: Vertical Dynamics of a Rocket with Constant Mass"
    }
   },
   "source": [
    "## 7.2.3 Version 1: Vertical Dynamics of a Rocket with Constant Mass\n",
    "\n",
    "For a rocket with a mass $m$ in vertical flight at altitude $h$, a momentum balance yields the model\n",
    "\n",
    "\\begin{align*}\n",
    "m\\frac{d^2h}{dt^2} & = - m g + v_eu \\\\\n",
    "\\end{align*}\n",
    "\n",
    "where $u$ is the mass flow of propellant and $v_e$ is the velocity of the exhaust relative to the rocket. In this first attempt at modeling and control we will neglect the change in rocket mass due to fuel burn.\n",
    "\n",
    "![LM illustration 02-IT](https://upload.wikimedia.org/wikipedia/commons/thumb/1/13/LM_illustration_02-IT.png/256px-LM_illustration_02-IT.png)\n",
    "\n",
    "[NASA Marshall Space Flight Center (NASA-MSFC)derivative work: Adert [Public domain]](https://commons.wikimedia.org/wiki/File:LM_illustration_02-IT.png)\n",
    "\n",
    "The complete Apollo lunar module was composed of descent and ascent stages, each containing a rocket engine and associated fuel tanks. The descent stage carried the entire assembly to the lunar surface.  The total mass $m$ in the above model therefore consists of the dry and fuel masses of both stages. For the purpose of analyzing the descent of the lunar module to the lunar surface, the 'dry' mass consists of the total mass of the ascent stage plus the dry mass of the descent stage. \n",
    "\n",
    "The following data is for the [Apollo 11 Lunar Module](https://nssdc.gsfc.nasa.gov/nmc/spacecraft/display.action?id=1969-059C)."
   ]
  },
  {
   "cell_type": "code",
   "execution_count": 0,
   "metadata": {
    "colab": {},
    "colab_type": "code",
    "id": "r-GXDIYS4bao",
    "nbpages": {
     "level": 2,
     "link": "[7.2.3 Version 1: Vertical Dynamics of a Rocket with Constant Mass](https://jckantor.github.io/cbe30338-2021/07.02-Soft-Landing-a-Rocket.html#7.2.3-Version-1:-Vertical-Dynamics-of-a-Rocket-with-Constant-Mass)",
     "section": "7.2.3 Version 1: Vertical Dynamics of a Rocket with Constant Mass"
    }
   },
   "outputs": [],
   "source": [
    "# lunar module\n",
    "m_ascent_dry = 2445.0          # kg mass of ascent stage without fuel\n",
    "m_ascent_fuel = 2376.0         # kg mass of ascent stage fuel\n",
    "m_descent_dry = 2034.0         # kg mass of descent stage without fuel\n",
    "m_descent_fuel = 8248.0        # kg mass of descent stage fuel\n",
    "\n",
    "m_fuel = m_descent_fuel\n",
    "m_dry = m_ascent_dry + m_ascent_fuel + m_descent_dry\n",
    "m_total = m_dry + m_fuel\n",
    "\n",
    "# descent engine characteristics\n",
    "v_exhaust = 3050.0             # m/s\n",
    "u_max = 45050.0/v_exhaust      # 45050 newtons / exhaust velocity\n",
    "\n",
    "# landing mission specifications\n",
    "h_initial = 100000.0           # meters\n",
    "v_initial = 1520               # orbital velocity m/s\n",
    "g = 1.62                       # m/s**2"
   ]
  },
  {
   "cell_type": "markdown",
   "metadata": {
    "colab_type": "text",
    "id": "xCL3kAIJ0hDU",
    "nbpages": {
     "level": 3,
     "link": "[7.2.3.1 First attempt at a solution](https://jckantor.github.io/cbe30338-2021/07.02-Soft-Landing-a-Rocket.html#7.2.3.1-First-attempt-at-a-solution)",
     "section": "7.2.3.1 First attempt at a solution"
    }
   },
   "source": [
    "### 7.2.3.1 First attempt at a solution\n",
    "\n",
    "For this first attempt at a solution, we will choose an arbitrary value for the length of the landing mission. The integration will start with the initial conditions, and we'll see what happens."
   ]
  },
  {
   "cell_type": "code",
   "execution_count": 4,
   "metadata": {
    "colab": {
     "base_uri": "https://localhost:8080/",
     "height": 226
    },
    "colab_type": "code",
    "executionInfo": {
     "elapsed": 6600,
     "status": "ok",
     "timestamp": 1556833347770,
     "user": {
      "displayName": "Jeffrey Kantor",
      "photoUrl": "https://lh5.googleusercontent.com/-8zK5aAW5RMQ/AAAAAAAAAAI/AAAAAAAAKB0/kssUQyz8DTQ/s64/photo.jpg",
      "userId": "09038942003589296665"
     },
     "user_tz": 240
    },
    "id": "O10AnUPfr9GY",
    "nbpages": {
     "level": 3,
     "link": "[7.2.3.1 First attempt at a solution](https://jckantor.github.io/cbe30338-2021/07.02-Soft-Landing-a-Rocket.html#7.2.3.1-First-attempt-at-a-solution)",
     "section": "7.2.3.1 First attempt at a solution"
    },
    "outputId": "254fa7a5-87b7-45d7-b60c-f74d21d30888"
   },
   "outputs": [
    {
     "data": {
      "image/png": "[encoded data removed]",
      "text/plain": [
       "<Figure size 432x288 with 2 Axes>"
      ]
     },
     "metadata": {
      "tags": []
     },
     "output_type": "display_data"
    }
   ],
   "source": [
    "t_f = 100\n",
    "\n",
    "m = ConcreteModel()\n",
    "m.t = ContinuousSet(bounds=(0, t_f))\n",
    "m.h = Var(m.t)\n",
    "m.u = Var(m.t, domain=NonNegativeReals)\n",
    "\n",
    "m.v = DerivativeVar(m.h, wrt=m.t)\n",
    "m.a = DerivativeVar(m.v, wrt=m.t)\n",
    "\n",
    "m.ode1 = Constraint(m.t, rule = lambda m, t: m_total*m.a[t] == -m_total*g + v_exhaust*m.u[t])\n",
    "\n",
    "m.h[0].fix(h_initial)\n",
    "m.v[0].fix(-v_initial)\n",
    "\n",
    "def solve(m):\n",
    "  \n",
    "    TransformationFactory('dae.finite_difference').apply_to(m, nfe=50, method='forward')\n",
    "    SolverFactory('ipopt', executable=ipopt_executable).solve(m)\n",
    "    \n",
    "    tsim = [t for t in m.t]\n",
    "    hsim = [m.h[t]() for t in m.t]\n",
    "    usim = [m.u[t]() for t in m.t]\n",
    "\n",
    "    plt.subplot(3,1,1)\n",
    "    plt.plot(tsim, hsim)\n",
    "    plt.title('altitude')\n",
    "    plt.xlabel('time / seconds')\n",
    "    plt.ylabel('meters')\n",
    "\n",
    "    plt.subplot(3,1,2)\n",
    "    plt.plot(tsim, usim)\n",
    "    plt.title('engine mass flow')\n",
    "    plt.xlabel('time / seconds')\n",
    "    plt.ylabel('kg/sec')\n",
    "\n",
    "    plt.tight_layout()\n",
    "\n",
    "solve(m)"
   ]
  },
  {
   "cell_type": "markdown",
   "metadata": {
    "colab_type": "text",
    "id": "oKNqzok9f6U8",
    "nbpages": {
     "level": 3,
     "link": "[7.2.3.1 First attempt at a solution](https://jckantor.github.io/cbe30338-2021/07.02-Soft-Landing-a-Rocket.html#7.2.3.1-First-attempt-at-a-solution)",
     "section": "7.2.3.1 First attempt at a solution"
    }
   },
   "source": [
    "This first attempt at a solution included no specification related to landing on the lunar surface. The solver reported a solution where the engine doesn't fire, and the lunar module crashes into the lunar surface at full speed about 66 seconds after the start of the descent mission."
   ]
  },
  {
   "cell_type": "markdown",
   "metadata": {
    "colab_type": "text",
    "id": "rRPLHyG16Qfo",
    "nbpages": {
     "level": 3,
     "link": "[7.2.3.2 Land on the surface, not above or below the surface.](https://jckantor.github.io/cbe30338-2021/07.02-Soft-Landing-a-Rocket.html#7.2.3.2-Land-on-the-surface,-not-above-or-below-the-surface.)",
     "section": "7.2.3.2 Land on the surface, not above or below the surface."
    }
   },
   "source": [
    "### 7.2.3.2 Land on the surface, not above or below the surface."
   ]
  },
  {
   "cell_type": "markdown",
   "metadata": {
    "colab_type": "text",
    "id": "1LlcohOc1IqZ",
    "nbpages": {
     "level": 3,
     "link": "[7.2.3.2 Land on the surface, not above or below the surface.](https://jckantor.github.io/cbe30338-2021/07.02-Soft-Landing-a-Rocket.html#7.2.3.2-Land-on-the-surface,-not-above-or-below-the-surface.)",
     "section": "7.2.3.2 Land on the surface, not above or below the surface."
    }
   },
   "source": [
    "The mission crashed!  It's clear now that we haven't fully specified the desired outcome of the mission.  Let's start by specifying the final condition as being on the surface\n",
    "\n",
    "$$h(t_f) = 0$$\n",
    "\n",
    "This condition is implemented in Pyomo by fixing the terminal value of $h$."
   ]
  },
  {
   "cell_type": "code",
   "execution_count": 5,
   "metadata": {
    "colab": {
     "base_uri": "https://localhost:8080/",
     "height": 226
    },
    "colab_type": "code",
    "executionInfo": {
     "elapsed": 6955,
     "status": "ok",
     "timestamp": 1556833348134,
     "user": {
      "displayName": "Jeffrey Kantor",
      "photoUrl": "https://lh5.googleusercontent.com/-8zK5aAW5RMQ/AAAAAAAAAAI/AAAAAAAAKB0/kssUQyz8DTQ/s64/photo.jpg",
      "userId": "09038942003589296665"
     },
     "user_tz": 240
    },
    "id": "WJzcGDHm1H2p",
    "nbpages": {
     "level": 3,
     "link": "[7.2.3.2 Land on the surface, not above or below the surface.](https://jckantor.github.io/cbe30338-2021/07.02-Soft-Landing-a-Rocket.html#7.2.3.2-Land-on-the-surface,-not-above-or-below-the-surface.)",
     "section": "7.2.3.2 Land on the surface, not above or below the surface."
    },
    "outputId": "c1bb489e-026e-4d69-e7e9-7cfc26c00558"
   },
   "outputs": [
    {
     "data": {
      "image/png": "[encoded data removed]",
      "text/plain": [
       "<Figure size 432x288 with 2 Axes>"
      ]
     },
     "metadata": {
      "tags": []
     },
     "output_type": "display_data"
    }
   ],
   "source": [
    "t_f = 100\n",
    "\n",
    "m = ConcreteModel()\n",
    "m.t = ContinuousSet(bounds=(0, t_f))\n",
    "m.h = Var(m.t)\n",
    "m.u = Var(m.t, domain=NonNegativeReals)\n",
    "\n",
    "m.v = DerivativeVar(m.h, wrt=m.t)\n",
    "m.a = DerivativeVar(m.v, wrt=m.t)\n",
    "\n",
    "m.ode1 = Constraint(m.t, rule = lambda m, t: m_total*m.a[t] == -m_total*g + v_exhaust*m.u[t])\n",
    "\n",
    "m.h[0].fix(h_initial)\n",
    "m.v[0].fix(-v_initial)\n",
    "\n",
    "m.h[t_f].fix(0)    # land on surface\n",
    "\n",
    "solve(m)"
   ]
  },
  {
   "cell_type": "markdown",
   "metadata": {
    "colab_type": "text",
    "id": "PoYrTis6hdhF",
    "nbpages": {
     "level": 3,
     "link": "[7.2.3.2 Land on the surface, not above or below the surface.](https://jckantor.github.io/cbe30338-2021/07.02-Soft-Landing-a-Rocket.html#7.2.3.2-Land-on-the-surface,-not-above-or-below-the-surface.)",
     "section": "7.2.3.2 Land on the surface, not above or below the surface."
    }
   },
   "source": [
    "The descent mission now finishes the descent at the lunar surface, but unfortunately arrives with sufficient velocity to still be considered a crash."
   ]
  },
  {
   "cell_type": "markdown",
   "metadata": {
    "colab_type": "text",
    "id": "3S3MHmIt6ZTD",
    "nbpages": {
     "level": 3,
     "link": "[7.2.3.3 Make that a soft landing.](https://jckantor.github.io/cbe30338-2021/07.02-Soft-Landing-a-Rocket.html#7.2.3.3-Make-that-a-soft-landing.)",
     "section": "7.2.3.3 Make that a soft landing."
    }
   },
   "source": [
    "### 7.2.3.3 Make that a soft landing.\n",
    "\n",
    "To ensure a soft landing, we also need to specify a terminal velocity.  The terminal conditions are now\n",
    "\n",
    "\\begin{align*}\n",
    "h(t_f) & = 0 \\\\\n",
    "v(t_f) & = 0\n",
    "\\end{align*}\n",
    "\n",
    "These conditions are implement by fixing terminal values of the associated Pyomo variables."
   ]
  },
  {
   "cell_type": "code",
   "execution_count": 6,
   "metadata": {
    "colab": {
     "base_uri": "https://localhost:8080/",
     "height": 226
    },
    "colab_type": "code",
    "executionInfo": {
     "elapsed": 7403,
     "status": "ok",
     "timestamp": 1556833348588,
     "user": {
      "displayName": "Jeffrey Kantor",
      "photoUrl": "https://lh5.googleusercontent.com/-8zK5aAW5RMQ/AAAAAAAAAAI/AAAAAAAAKB0/kssUQyz8DTQ/s64/photo.jpg",
      "userId": "09038942003589296665"
     },
     "user_tz": 240
    },
    "id": "aukLNi483BJp",
    "nbpages": {
     "level": 3,
     "link": "[7.2.3.3 Make that a soft landing.](https://jckantor.github.io/cbe30338-2021/07.02-Soft-Landing-a-Rocket.html#7.2.3.3-Make-that-a-soft-landing.)",
     "section": "7.2.3.3 Make that a soft landing."
    },
    "outputId": "774b14b7-3464-4f6d-e52e-0dd2d4578846"
   },
   "outputs": [
    {
     "data": {
      "image/png": "[encoded data removed]",
      "text/plain": [
       "<Figure size 432x288 with 2 Axes>"
      ]
     },
     "metadata": {
      "tags": []
     },
     "output_type": "display_data"
    }
   ],
   "source": [
    "t_f = 100\n",
    "\n",
    "m = ConcreteModel()\n",
    "m.t = ContinuousSet(bounds=(0, t_f))\n",
    "m.h = Var(m.t)\n",
    "m.u = Var(m.t, domain=NonNegativeReals)\n",
    "\n",
    "m.v = DerivativeVar(m.h, wrt=m.t)\n",
    "m.a = DerivativeVar(m.v, wrt=m.t)\n",
    "\n",
    "m.ode1 = Constraint(m.t, rule = lambda m, t: m_total*m.a[t] == -m_total*g + v_exhaust*m.u[t])\n",
    "\n",
    "m.h[0].fix(h_initial)\n",
    "m.v[0].fix(-v_initial)\n",
    "\n",
    "m.h[t_f].fix(0)    # land on surface\n",
    "m.v[t_f].fix(0)    # soft landing\n",
    "\n",
    "solve(m)"
   ]
  },
  {
   "cell_type": "markdown",
   "metadata": {
    "colab_type": "text",
    "id": "_HGVey32iyk0",
    "nbpages": {
     "level": 3,
     "link": "[7.2.3.3 Make that a soft landing.](https://jckantor.github.io/cbe30338-2021/07.02-Soft-Landing-a-Rocket.html#7.2.3.3-Make-that-a-soft-landing.)",
     "section": "7.2.3.3 Make that a soft landing."
    }
   },
   "source": [
    "The lunar module now is now successfully landing on the lunar surface, but the fuel flow requirement exceeds the maximum capacity of the descent engine."
   ]
  },
  {
   "cell_type": "markdown",
   "metadata": {
    "colab_type": "text",
    "id": "Yto7Dr_M78yh",
    "nbpages": {
     "level": 3,
     "link": "[7.2.3.4 Restrict fuel flow to engine capacity.](https://jckantor.github.io/cbe30338-2021/07.02-Soft-Landing-a-Rocket.html#7.2.3.4-Restrict-fuel-flow-to-engine-capacity.)",
     "section": "7.2.3.4 Restrict fuel flow to engine capacity."
    }
   },
   "source": [
    "### 7.2.3.4 Restrict fuel flow to engine capacity.\n",
    "\n",
    "The next step is establish constraints on the control action by limiting fuel flow to the mass flow limits of the descent engine.\n",
    "\n",
    "$$ 0 \\leq u(t) \\leq u_{max}$$\n",
    "\n",
    "Since less thrust is available, we may need to extend the length of the landing mission to find a feasible solution to the optimization problem."
   ]
  },
  {
   "cell_type": "code",
   "execution_count": 7,
   "metadata": {
    "colab": {
     "base_uri": "https://localhost:8080/",
     "height": 226
    },
    "colab_type": "code",
    "executionInfo": {
     "elapsed": 7825,
     "status": "ok",
     "timestamp": 1556833349021,
     "user": {
      "displayName": "Jeffrey Kantor",
      "photoUrl": "https://lh5.googleusercontent.com/-8zK5aAW5RMQ/AAAAAAAAAAI/AAAAAAAAKB0/kssUQyz8DTQ/s64/photo.jpg",
      "userId": "09038942003589296665"
     },
     "user_tz": 240
    },
    "id": "8tKc70HL68e5",
    "nbpages": {
     "level": 3,
     "link": "[7.2.3.4 Restrict fuel flow to engine capacity.](https://jckantor.github.io/cbe30338-2021/07.02-Soft-Landing-a-Rocket.html#7.2.3.4-Restrict-fuel-flow-to-engine-capacity.)",
     "section": "7.2.3.4 Restrict fuel flow to engine capacity."
    },
    "outputId": "a8e881d4-f8d7-4b57-a277-bd8a187ac745"
   },
   "outputs": [
    {
     "data": {
      "image/png": "[encoded data removed]",
      "text/plain": [
       "<Figure size 432x288 with 2 Axes>"
      ]
     },
     "metadata": {
      "tags": []
     },
     "output_type": "display_data"
    }
   ],
   "source": [
    "t_f = 3000\n",
    "\n",
    "m = ConcreteModel()\n",
    "m.t = ContinuousSet(bounds=(0, t_f))\n",
    "m.h = Var(m.t)\n",
    "m.u = Var(m.t, bounds=(0, u_max))\n",
    "\n",
    "m.v = DerivativeVar(m.h, wrt=m.t)\n",
    "m.a = DerivativeVar(m.v, wrt=m.t)\n",
    "\n",
    "m.ode1 = Constraint(m.t, rule = lambda m, t: m_total*m.a[t] == -m_total*g + v_exhaust*m.u[t])\n",
    "\n",
    "m.h[0].fix(h_initial)\n",
    "m.v[0].fix(-v_initial)\n",
    "\n",
    "m.h[t_f].fix(0)    # land on surface\n",
    "m.v[t_f].fix(0)    # soft landing\n",
    "\n",
    "solve(m)"
   ]
  },
  {
   "cell_type": "markdown",
   "metadata": {
    "colab_type": "text",
    "id": "rLx0_brhUzl9",
    "nbpages": {
     "level": 2,
     "link": "[7.2.4 Version 2: Rescaled Model](https://jckantor.github.io/cbe30338-2021/07.02-Soft-Landing-a-Rocket.html#7.2.4-Version-2:-Rescaled-Model)",
     "section": "7.2.4 Version 2: Rescaled Model"
    }
   },
   "source": [
    "## 7.2.4 Version 2: Rescaled Model\n",
    "\n",
    "At this point, it's now clear the first version of this model has run into some serious problems:\n",
    "\n",
    "* The calculated trajectory takes us through a crash landing and trip through the interior of the moon. \n",
    "* The engine thrust never goes to zero, even when the lander is at zero velocity and on the surface. The reason is that the model doesn't account for the reaction force of the surface on the lander. So the lander is really just hoovering rather than landing.\n",
    "* There is no obvious means of estimating the time required for the mission. \n",
    "\n",
    "Let's begin with the last issue. We will introduce an additional decision variable $T$ denoting the length of the mission. Time is then rescaled as\n",
    "\n",
    "$$\\tau = \\frac{t}{T}\\quad\\implies\\quad t =\\tau T$$\n",
    "\n",
    "The differential equation model then becomes\n",
    "\n",
    "\\begin{align*}\n",
    "\\frac{m}{T^2}\\frac{d^2h}{d\\tau^2} & = - m g + v_eu \\\\\n",
    "\\end{align*}\n",
    "\n",
    "The net result is that an additional variable, $T$, denoting the duration of the descent mission has been introduced into the optimization problem."
   ]
  },
  {
   "cell_type": "code",
   "execution_count": 8,
   "metadata": {
    "colab": {
     "base_uri": "https://localhost:8080/",
     "height": 297
    },
    "colab_type": "code",
    "executionInfo": {
     "elapsed": 8524,
     "status": "ok",
     "timestamp": 1556833349726,
     "user": {
      "displayName": "Jeffrey Kantor",
      "photoUrl": "https://lh5.googleusercontent.com/-8zK5aAW5RMQ/AAAAAAAAAAI/AAAAAAAAKB0/kssUQyz8DTQ/s64/photo.jpg",
      "userId": "09038942003589296665"
     },
     "user_tz": 240
    },
    "id": "6KLIZeb8UzKG",
    "nbpages": {
     "level": 2,
     "link": "[7.2.4 Version 2: Rescaled Model](https://jckantor.github.io/cbe30338-2021/07.02-Soft-Landing-a-Rocket.html#7.2.4-Version-2:-Rescaled-Model)",
     "section": "7.2.4 Version 2: Rescaled Model"
    },
    "outputId": "f381c6ee-d373-4d97-9c39-9794c3e1eee9"
   },
   "outputs": [
    {
     "data": {
      "image/png": "[encoded data removed]",
      "text/plain": [
       "<Figure size 432x288 with 2 Axes>"
      ]
     },
     "metadata": {
      "tags": []
     },
     "output_type": "display_data"
    }
   ],
   "source": [
    "m = ConcreteModel()\n",
    "m.t = ContinuousSet(bounds=(0, 1))\n",
    "m.h = Var(m.t)\n",
    "m.u = Var(m.t, bounds=(0, u_max))\n",
    "m.T = Var(domain=NonNegativeReals)\n",
    "\n",
    "m.v = DerivativeVar(m.h, wrt=m.t)\n",
    "m.a = DerivativeVar(m.v, wrt=m.t)\n",
    "\n",
    "m.ode1 = Constraint(m.t, rule = lambda m, t: \n",
    "    m_total*m.a[t]/m.T**2 == -m_total*g + v_exhaust*m.u[t])\n",
    "\n",
    "m.h[0].fix(h_initial)\n",
    "m.v[0].fix(-v_initial)\n",
    "\n",
    "m.h[1].fix(0)    # land on surface\n",
    "m.v[1].fix(0)    # soft landing\n",
    "\n",
    "def solve(m):\n",
    "  \n",
    "    TransformationFactory('dae.finite_difference').apply_to(m, nfe=50, method='forward')\n",
    "    SolverFactory('ipopt', executable=ipopt_executable).solve(m)\n",
    "    \n",
    "    tsim = [t*m.T() for t in m.t]\n",
    "    hsim = [m.h[t]() for t in m.t]\n",
    "    usim = [m.u[t]() for t in m.t]\n",
    "\n",
    "    plt.subplot(2,1,1)\n",
    "    plt.plot(tsim, hsim)\n",
    "    plt.title('altitude')\n",
    "    plt.xlabel('time / seconds')\n",
    "    plt.ylabel('meters')\n",
    "    plt.legend(['mission length =' + str(round(m.T(),1)) + ' seconds'])\n",
    "\n",
    "    plt.subplot(2,1,2)\n",
    "    plt.plot(tsim, usim)\n",
    "    plt.title('engine mass flow')\n",
    "    plt.xlabel('time / seconds')\n",
    "    plt.ylabel('kg/sec')\n",
    "\n",
    "    plt.tight_layout()\n",
    "\n",
    "solve(m)"
   ]
  },
  {
   "cell_type": "markdown",
   "metadata": {
    "colab_type": "text",
    "id": "UA9lSKK8dgch",
    "nbpages": {
     "level": 3,
     "link": "[7.2.4.1 How much fuel is burned?](https://jckantor.github.io/cbe30338-2021/07.02-Soft-Landing-a-Rocket.html#7.2.4.1-How-much-fuel-is-burned?)",
     "section": "7.2.4.1 How much fuel is burned?"
    }
   },
   "source": [
    "### 7.2.4.1 How much fuel is burned?\n",
    "\n",
    "Fuel consumption can be calculated as\n",
    "\n",
    "\\begin{align*}\n",
    "\\mbox{fuel consumed} & = \\int_0^T u(t)\\,dt  = T \\int_0^1u(\\tau)\\,d\\tau\n",
    "\\end{align*}"
   ]
  },
  {
   "cell_type": "code",
   "execution_count": 9,
   "metadata": {
    "colab": {
     "base_uri": "https://localhost:8080/",
     "height": 297
    },
    "colab_type": "code",
    "executionInfo": {
     "elapsed": 9295,
     "status": "ok",
     "timestamp": 1556833350502,
     "user": {
      "displayName": "Jeffrey Kantor",
      "photoUrl": "https://lh5.googleusercontent.com/-8zK5aAW5RMQ/AAAAAAAAAAI/AAAAAAAAKB0/kssUQyz8DTQ/s64/photo.jpg",
      "userId": "09038942003589296665"
     },
     "user_tz": 240
    },
    "id": "3-y5SLyWdkyJ",
    "nbpages": {
     "level": 3,
     "link": "[7.2.4.1 How much fuel is burned?](https://jckantor.github.io/cbe30338-2021/07.02-Soft-Landing-a-Rocket.html#7.2.4.1-How-much-fuel-is-burned?)",
     "section": "7.2.4.1 How much fuel is burned?"
    },
    "outputId": "b9580a5f-96d8-4ed9-f03c-21a2be281f73"
   },
   "outputs": [
    {
     "data": {
      "image/png": "[encoded data removed]",
      "text/plain": [
       "<Figure size 432x288 with 2 Axes>"
      ]
     },
     "metadata": {
      "tags": []
     },
     "output_type": "display_data"
    }
   ],
   "source": [
    "m = ConcreteModel()\n",
    "m.t = ContinuousSet(bounds=(0, 1))\n",
    "m.h = Var(m.t)\n",
    "m.u = Var(m.t, bounds=(0, u_max))\n",
    "m.T = Var(domain=NonNegativeReals)\n",
    "\n",
    "m.v = DerivativeVar(m.h, wrt=m.t)\n",
    "m.a = DerivativeVar(m.v, wrt=m.t)\n",
    "\n",
    "m.fuel = Integral(m.t, wrt=m.t, rule = lambda m, t: m.u[t]*m.T)\n",
    "\n",
    "m.ode1 = Constraint(m.t, rule = lambda m, t: \n",
    "    m_total*m.a[t]/m.T**2 == -m_total*g + v_exhaust*m.u[t])\n",
    "\n",
    "m.h[0].fix(h_initial)\n",
    "m.v[0].fix(-v_initial)\n",
    "\n",
    "m.h[1].fix(0)    # land on surface\n",
    "m.v[1].fix(0)    # soft landing\n",
    "\n",
    "def solve(m):\n",
    "    TransformationFactory('dae.finite_difference').apply_to(m, nfe=50, method='forward')\n",
    "    SolverFactory('ipopt', executable=ipopt_executable).solve(m)\n",
    "    \n",
    "    tsim = [t*m.T() for t in m.t]\n",
    "    hsim = [m.h[t]() for t in m.t]\n",
    "    usim = [m.u[t]() for t in m.t]\n",
    "\n",
    "    plt.subplot(2,1,1)\n",
    "    plt.plot(tsim, hsim)\n",
    "    plt.title('altitude')\n",
    "    plt.ylabel('meters')\n",
    "    plt.legend(['mission length = ' + str(round(m.T(),1)) + ' seconds'])\n",
    "\n",
    "    plt.subplot(2,1,2)\n",
    "    plt.plot(tsim, usim)\n",
    "    plt.title('engine mass flow')\n",
    "    plt.xlabel('time / seconds')\n",
    "    plt.ylabel('kg/sec')\n",
    "    plt.legend(['fuel burned = ' + str(round(m.fuel(),1)) + ' kg'])\n",
    "\n",
    "    plt.tight_layout()\n",
    "\n",
    "solve(m)"
   ]
  },
  {
   "cell_type": "markdown",
   "metadata": {
    "colab_type": "text",
    "id": "S7sI82VUcSii",
    "nbpages": {
     "level": 3,
     "link": "[7.2.4.2 Minimize fuel consumption.](https://jckantor.github.io/cbe30338-2021/07.02-Soft-Landing-a-Rocket.html#7.2.4.2-Minimize-fuel-consumption.)",
     "section": "7.2.4.2 Minimize fuel consumption."
    }
   },
   "source": [
    "### 7.2.4.2 Minimize fuel consumption.\n",
    "\n",
    "$$\\min_{u(\\tau), T} T\\int_0^1 u(\\tau)\\, d\\tau$$"
   ]
  },
  {
   "cell_type": "code",
   "execution_count": 10,
   "metadata": {
    "colab": {
     "base_uri": "https://localhost:8080/",
     "height": 297
    },
    "colab_type": "code",
    "executionInfo": {
     "elapsed": 10032,
     "status": "ok",
     "timestamp": 1556833351245,
     "user": {
      "displayName": "Jeffrey Kantor",
      "photoUrl": "https://lh5.googleusercontent.com/-8zK5aAW5RMQ/AAAAAAAAAAI/AAAAAAAAKB0/kssUQyz8DTQ/s64/photo.jpg",
      "userId": "09038942003589296665"
     },
     "user_tz": 240
    },
    "id": "Aefhp6mubQ5e",
    "nbpages": {
     "level": 3,
     "link": "[7.2.4.2 Minimize fuel consumption.](https://jckantor.github.io/cbe30338-2021/07.02-Soft-Landing-a-Rocket.html#7.2.4.2-Minimize-fuel-consumption.)",
     "section": "7.2.4.2 Minimize fuel consumption."
    },
    "outputId": "b80c2550-3eaa-4022-fd05-2d7a65f9f32c"
   },
   "outputs": [
    {
     "data": {
      "image/png": "[encoded data removed]",
      "text/plain": [
       "<Figure size 432x288 with 2 Axes>"
      ]
     },
     "metadata": {
      "tags": []
     },
     "output_type": "display_data"
    }
   ],
   "source": [
    "m = ConcreteModel()\n",
    "m.t = ContinuousSet(bounds=(0, 1))\n",
    "m.h = Var(m.t)\n",
    "m.u = Var(m.t, bounds=(0, u_max))\n",
    "m.T = Var(domain=NonNegativeReals)\n",
    "\n",
    "m.v = DerivativeVar(m.h, wrt=m.t)\n",
    "m.a = DerivativeVar(m.v, wrt=m.t)\n",
    "\n",
    "m.fuel = Integral(m.t, wrt=m.t, rule = lambda m, t: m.u[t]*m.T)\n",
    "m.obj = Objective(expr=m.fuel, sense=minimize)\n",
    "\n",
    "m.ode1 = Constraint(m.t, rule = lambda m, t: m_total*m.a[t]/m.T**2 == -m_total*g + v_exhaust*m.u[t])\n",
    "\n",
    "m.h[0].fix(h_initial)\n",
    "m.v[0].fix(-v_initial)\n",
    "\n",
    "m.h[1].fix(0)    # land on surface\n",
    "m.v[1].fix(0)    # soft landing\n",
    "\n",
    "solve(m)"
   ]
  },
  {
   "cell_type": "markdown",
   "metadata": {
    "colab_type": "text",
    "id": "GsfF_3Do-oHb",
    "nbpages": {
     "level": 2,
     "link": "[7.2.5 Version 3: Rocket Model](https://jckantor.github.io/cbe30338-2021/07.02-Soft-Landing-a-Rocket.html#7.2.5-Version-3:-Rocket-Model)",
     "section": "7.2.5 Version 3: Rocket Model"
    }
   },
   "source": [
    "## 7.2.5 Version 3: Rocket Model\n",
    "\n",
    "The first version of the rocket model has run into a serious problem because it appears not to provide enough mass flow to the engine to prevent a crash landing. But that may be an artifact of the assumption of constant mass. For Apollo 11 Lunar Module, for example, the fuel in the descent engine comprises more than 50% of the total mass of the lander.\n",
    "\n",
    "For the second version of the rocket model, we augment the model with a mass balance for fuel. This yields \n",
    "\n",
    "\\begin{align*}\n",
    "\\frac{m(t)}{T^2}\\frac{d^2h}{d\\tau^2} & = - m(t)g + v_eu \\\\\n",
    "\\\\\n",
    "\\frac{1}{T}\\frac{dm}{d\\tau} & = -u\n",
    "\\end{align*}"
   ]
  },
  {
   "cell_type": "markdown",
   "metadata": {
    "colab_type": "text",
    "id": "U-3yVHHsJJO4",
    "nbpages": {
     "level": 2,
     "link": "[7.2.5 Version 3: Rocket Model](https://jckantor.github.io/cbe30338-2021/07.02-Soft-Landing-a-Rocket.html#7.2.5-Version-3:-Rocket-Model)",
     "section": "7.2.5 Version 3: Rocket Model"
    }
   },
   "source": [
    "At this point we need to worry about nonsensical answers to the optimization for minimum fuel. For this purpose we add upper and lower bounds on $T$ that should restrict the solver to meaningful solutions."
   ]
  },
  {
   "cell_type": "code",
   "execution_count": 11,
   "metadata": {
    "colab": {
     "base_uri": "https://localhost:8080/",
     "height": 297
    },
    "colab_type": "code",
    "executionInfo": {
     "elapsed": 11017,
     "status": "ok",
     "timestamp": 1556833352237,
     "user": {
      "displayName": "Jeffrey Kantor",
      "photoUrl": "https://lh5.googleusercontent.com/-8zK5aAW5RMQ/AAAAAAAAAAI/AAAAAAAAKB0/kssUQyz8DTQ/s64/photo.jpg",
      "userId": "09038942003589296665"
     },
     "user_tz": 240
    },
    "id": "rE5Az9d-DWn9",
    "nbpages": {
     "level": 2,
     "link": "[7.2.5 Version 3: Rocket Model](https://jckantor.github.io/cbe30338-2021/07.02-Soft-Landing-a-Rocket.html#7.2.5-Version-3:-Rocket-Model)",
     "section": "7.2.5 Version 3: Rocket Model"
    },
    "outputId": "e7cde1a1-74f2-4917-e3a6-cf436e0cae28"
   },
   "outputs": [
    {
     "data": {
      "image/png": "[encoded data removed]",
      "text/plain": [
       "<Figure size 432x288 with 3 Axes>"
      ]
     },
     "metadata": {
      "tags": []
     },
     "output_type": "display_data"
    }
   ],
   "source": [
    "m = ConcreteModel()\n",
    "m.t = ContinuousSet(bounds=(0, 1))\n",
    "m.h = Var(m.t, domain=NonNegativeReals)\n",
    "m.m = Var(m.t)\n",
    "m.u = Var(m.t, bounds=(0, u_max))\n",
    "m.T = Var(bounds=(50,3000))\n",
    "\n",
    "m.v = DerivativeVar(m.h, wrt=m.t)\n",
    "m.a = DerivativeVar(m.v, wrt=m.t)\n",
    "m.mdot = DerivativeVar(m.m, wrt=m.t)\n",
    "\n",
    "m.fuel = Integral(m.t, wrt=m.t, rule = lambda m, t: m.u[t]*m.T)\n",
    "m.obj = Objective(expr=m.fuel, sense=minimize)\n",
    "\n",
    "m.ode1 = Constraint(m.t, rule = lambda m, t: m.m[t]*m.a[t]/m.T**2 == -m.m[t]*g + v_exhaust*m.u[t])\n",
    "m.ode2 = Constraint(m.t, rule = lambda m, t: m.mdot[t]/m.T == -m.u[t])\n",
    "\n",
    "m.h[0].fix(h_initial)\n",
    "m.v[0].fix(-v_initial)\n",
    "m.m[0].fix(m_total)\n",
    "\n",
    "m.h[1].fix(0)    # land on surface\n",
    "m.v[1].fix(0)    # soft landing\n",
    "\n",
    "def solve(m):\n",
    "    TransformationFactory('dae.finite_difference').apply_to(m, nfe=50, method='forward')\n",
    "    SolverFactory('ipopt', executable=ipopt_executable).solve(m)\n",
    "    \n",
    "    m_nonfuel = m_ascent_dry + m_ascent_fuel + m_descent_dry\n",
    "    \n",
    "    tsim = [t*m.T() for t in m.t]\n",
    "    hsim = [m.h[t]() for t in m.t]\n",
    "    usim = [m.u[t]() for t in m.t]\n",
    "    fsim = [m.m[t]() - m_nonfuel for t in m.t]\n",
    "\n",
    "    plt.subplot(3,1,1)\n",
    "    plt.plot(tsim, hsim)\n",
    "    plt.title('altitude')\n",
    "    plt.ylabel('meters')\n",
    "    plt.legend(['mission length = ' + str(round(m.T(),1)) + ' seconds'])\n",
    "\n",
    "    plt.subplot(3,1,2)\n",
    "    plt.plot(tsim, usim)\n",
    "    plt.title('engine mass flow')\n",
    "    plt.ylabel('kg/sec')\n",
    "    plt.legend(['fuel burned = ' + str(round(m.fuel(),1)) + ' kg'])\n",
    "\n",
    "    plt.subplot(3,1,3)\n",
    "    plt.plot(tsim, fsim)\n",
    "    plt.title('fuel remaining')\n",
    "    plt.xlabel('time / seconds')\n",
    "    plt.ylabel('kg')\n",
    "    plt.legend(['fuel remaining = ' + str(round(fsim[-1],2)) + ' kg'])\n",
    "\n",
    "    plt.tight_layout()\n",
    "\n",
    "solve(m)"
   ]
  },
  {
   "cell_type": "code",
   "execution_count": 0,
   "metadata": {
    "colab": {},
    "colab_type": "code",
    "id": "dT6TAUd0PJCV",
    "nbpages": {
     "level": 2,
     "link": "[7.2.5 Version 3: Rocket Model](https://jckantor.github.io/cbe30338-2021/07.02-Soft-Landing-a-Rocket.html#7.2.5-Version-3:-Rocket-Model)",
     "section": "7.2.5 Version 3: Rocket Model"
    }
   },
   "outputs": [],
   "source": []
  },
  {
   "cell_type": "markdown",
   "metadata": {
    "colab_type": "text",
    "id": "NFg82boWSfig",
    "nbpages": {
     "level": 2,
     "link": "[7.2.5 Version 3: Rocket Model](https://jckantor.github.io/cbe30338-2021/07.02-Soft-Landing-a-Rocket.html#7.2.5-Version-3:-Rocket-Model)",
     "section": "7.2.5 Version 3: Rocket Model"
    }
   },
   "source": [
    "<!--NAVIGATION-->\n",
    "< [7.1 Simulation and Optimal Control in Pharmacokinetics](https://jckantor.github.io/cbe30338-2021/07.01-Simulation-and-Optimal-Control-in-Pharmacokinetics.html) | [Contents](toc.html) | [Tag Index](tag_index.html) | [7.3 Simulation in Pyomo](https://jckantor.github.io/cbe30338-2021/07.03-Simulation-in-Pyomo.html) ><p><a href=\"https://colab.research.google.com/github/jckantor/cbe30338-2021/blob/master/docs/07.02-Soft-Landing-a-Rocket.ipynb\"> <img align=\"left\" src=\"https://colab.research.google.com/assets/colab-badge.svg\" alt=\"Open in Colab\" title=\"Open in Google Colaboratory\"></a><p><a href=\"https://jckantor.github.io/cbe30338-2021/07.02-Soft-Landing-a-Rocket.ipynb\"> <img align=\"left\" src=\"https://img.shields.io/badge/Github-Download-blue.svg\" alt=\"Download\" title=\"Download Notebook\"></a>"
   ]
  }
 ],
 "metadata": {
  "colab": {
   "collapsed_sections": [],
   "name": "07.02-Soft-Landing-a-Rocket.ipynb",
   "provenance": [
    {
     "file_id": "1dZEqItjD20N1qGb0kQbEFA4Ylc1k0QWq",
     "timestamp": 1554216470815
    }
   ],
   "toc_visible": true,
   "version": "0.3.2"
  },
  "kernelspec": {
   "display_name": "Python 3",
   "language": "python",
   "name": "python3"
  },
  "language_info": {
   "codemirror_mode": {
    "name": "ipython",
    "version": 3
   },
   "file_extension": ".py",
   "mimetype": "text/x-python",
   "name": "python",
   "nbconvert_exporter": "python",
   "pygments_lexer": "ipython3",
   "version": "3.7.4"
  }
 },
 "nbformat": 4,
 "nbformat_minor": 1
}
