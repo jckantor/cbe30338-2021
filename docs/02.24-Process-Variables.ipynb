{
 "cells": [
  {
   "cell_type": "markdown",
   "metadata": {
    "nbpages": {
     "level": 0,
     "link": "[](https://jckantor.github.io/cbe30338-2021/02.24-Process-Variables.html)",
     "section": ""
    }
   },
   "source": [
    "<!--NOTEBOOK_HEADER-->\n",
    "*This notebook contains material from [cbe30338-2021](https://jckantor.github.io/cbe30338-2021);\n",
    "content is available [on Github](https://github.com/jckantor/cbe30338-2021.git).*\n"
   ]
  },
  {
   "cell_type": "markdown",
   "metadata": {
    "nbpages": {
     "level": 0,
     "link": "[](https://jckantor.github.io/cbe30338-2021/02.24-Process-Variables.html)",
     "section": ""
    }
   },
   "source": [
    "<!--NAVIGATION-->\n",
    "< [2.23 Model Library](https://jckantor.github.io/cbe30338-2021/02.23-Model-Library.html) | [Contents](toc.html) | [Tag Index](tag_index.html) | [3.0 Linearization](https://jckantor.github.io/cbe30338-2021/03.00-Linearization.html) ><p><a href=\"https://colab.research.google.com/github/jckantor/cbe30338-2021/blob/master/docs/02.24-Process-Variables.ipynb\"> <img align=\"left\" src=\"https://colab.research.google.com/assets/colab-badge.svg\" alt=\"Open in Colab\" title=\"Open in Google Colaboratory\"></a><p><a href=\"https://jckantor.github.io/cbe30338-2021/02.24-Process-Variables.ipynb\"> <img align=\"left\" src=\"https://img.shields.io/badge/Github-Download-blue.svg\" alt=\"Download\" title=\"Download Notebook\"></a>"
   ]
  },
  {
   "cell_type": "markdown",
   "metadata": {
    "nbpages": {
     "level": 1,
     "link": "[2.24 Process Variables](https://jckantor.github.io/cbe30338-2021/02.24-Process-Variables.html#2.24-Process-Variables)",
     "section": "2.24 Process Variables"
    }
   },
   "source": [
    "# 2.24 Process Variables\n",
    "\n",
    "Of the many ways to characterize chemical processes, thermodynamics offers unique insights that are invaluable in the synthesis of effective control systems."
   ]
  },
  {
   "cell_type": "markdown",
   "metadata": {
    "nbpages": {
     "level": 2,
     "link": "[2.24.1 Intensive and Entensive Variables](https://jckantor.github.io/cbe30338-2021/02.24-Process-Variables.html#2.24.1-Intensive-and-Entensive-Variables)",
     "section": "2.24.1 Intensive and Entensive Variables"
    }
   },
   "source": [
    "## 2.24.1 Intensive and Entensive Variables\n",
    "\n",
    "One of the first distinctions to describe in the difference between extensive and intenstive process variables. \n",
    "\n",
    "**Intensive variables** are those that do not depend on system size, such as concentration, temperature, or pressure. Examples of intensive variables: temperature ($T$), pressure ($P$), concentration ($C$), mole fraction, mass fraction, specific heat capacity, color, density, chemical potential.\n",
    "\n",
    "**Extensive variables** are variables that scale proportionally system size such as total volume or mass. Examples of extensive variables include mass ($m$), moles ($n$), internal energy ($U$), enthalpy ($H$), entropy ($S$), Gibb's energy ($G$), heat capacity ($C_p$).\n",
    "\n",
    "Roughly speaking, intensive variables tell us something about the state of the material making up the system of interest, while extensive variables describe the size of the system in various dimensions. The same distinction extends to process flows where extensive variables are given as rates rather than in static dimensions.\n",
    "\n",
    "One test that you can use to classify a process variable as extensive or intensive is to ask what is the value of the variable when combining two identical subsystems. For example, given indentical subsystems $A$ and $B$ with masses $m_A$ and $m_B$, the mass of the combined system $m_{A+B}$ is\n",
    "\n",
    "$$m_{A+B} = m_A + m_B$$\n",
    "\n",
    "which demonstrates that mass is an extensive variable. The temperature of the combined systems is\n",
    "\n",
    "$$T_{A+B} = T_A  = T_B$$\n",
    "\n",
    "which is the case for any intensive variable."
   ]
  },
  {
   "cell_type": "markdown",
   "metadata": {
    "nbpages": {
     "level": 3,
     "link": "[2.24.1.1 Exercises](https://jckantor.github.io/cbe30338-2021/02.24-Process-Variables.html#2.24.1.1-Exercises)",
     "section": "2.24.1.1 Exercises"
    }
   },
   "source": [
    "### 2.24.1.1 Exercises\n",
    "\n",
    "1. Why is heat capacity an extensive variable, whereas specific heat capacity is an intensive variable?\n",
    "\n",
    "1. A common version of the ideal gas law reads $$P V = n R T$$ Which variables are intensive? Which variables are extensive? How could you rewrite the ideal gas law in terms using only intensive variables? When would you prefer one version over the other?\n",
    "\n",
    "1. The kinetic energy of a mass $m$ moving at velocity $v$ is $$E. = \\frac{1}{2}m v^2$$ Rewrite this equation using only intensive variables.\n",
    "\n",
    "1. The fuel efficiency of vehicles is often reported in liters of fuel consumed per 100 km traveled. Is this a satsifactory intensive variable for comparing vehicles of different sizes?  Why or why not?  Another measure is the [brake specific fuel consumption (BSFC)](). What are the typical units?\n",
    "\n",
    "1. Consider a system comprised of batteries. The subsystems are combined by connecting the batteries in series. Is system voltage an intensive or extensive variable? What about the system current? How does this change if subsystems are combined by connecting the batteries in parallel? "
   ]
  },
  {
   "cell_type": "markdown",
   "metadata": {
    "nbpages": {
     "level": 2,
     "link": "[2.24.2 Thermodynamic State](https://jckantor.github.io/cbe30338-2021/02.24-Process-Variables.html#2.24.2-Thermodynamic-State)",
     "section": "2.24.2 Thermodynamic State"
    }
   },
   "source": [
    "## 2.24.2 Thermodynamic State\n",
    "\n",
    "A fundamental postulate of thermodynamics is that a system consisting of a single phase is completely specified by the internal energy $U$, the volume $V$, and the amount (in moles) of each chemical species $n_1$, $n_2$, $\\ldots$, $n_K$. This is a system of $K+2$ extensive variables for a system composed of $K$ chemical species.\n",
    "\n",
    "The second law of thermodynamics specifies that every state also has another well-formulated extensive variable called entropy, $S$. Collectively $U$, $S$, $V$, and $n_1$, $n_2$, $\\ldots$, $n_K$ form a redundant set of extensive variables where we can write one variable as a function of the others.\n",
    "\n",
    "Suppose we write $U$ as a function of $S$, $V$, and $n_1$, $n_2$, $\\ldots$, $n_K$. Then\n",
    "\n",
    "$$U = U(S, V, n_1, n_2, \\ldots, n_K)$$\n",
    "\n",
    "The fact that $U$, $S$, $V$, and $n_1$, $n_2$, $\\ldots$, $n_K$ are extensive variables has profound consequences. "
   ]
  },
  {
   "cell_type": "markdown",
   "metadata": {
    "nbpages": {
     "level": 3,
     "link": "[2.24.2.1 Conjugate Variables](https://jckantor.github.io/cbe30338-2021/02.24-Process-Variables.html#2.24.2.1-Conjugate-Variables)",
     "section": "2.24.2.1 Conjugate Variables"
    }
   },
   "source": [
    "### 2.24.2.1 Conjugate Variables\n",
    "\n",
    "The total derivative of internal energy is constructed by taking the partial derivatives with respect to each of the independent extensive variables on which it depends.\n",
    "\n",
    "$$dU = \n",
    "\\left(\\frac{\\partial U}{\\partial S}\\right)_{V,\\bf n} dS + \n",
    "\\left(\\frac{\\partial U}{\\partial V}\\right)_{S,\\bf n} dV + \n",
    "\\sum_{k=1}^{K} \\left(\\frac{\\partial U}{\\partial n_k}\\right)_{S,V,n_{j\\ne k}} dn_k$$\n",
    "\n",
    "Each of the terms is an extensive quantity contributing to a change in the internal energy."
   ]
  },
  {
   "cell_type": "markdown",
   "metadata": {
    "nbpages": {
     "level": 4,
     "link": "[2.24.2.1.1 Pressure/Volume](https://jckantor.github.io/cbe30338-2021/02.24-Process-Variables.html#2.24.2.1.1-Pressure/Volume)",
     "section": "2.24.2.1.1 Pressure/Volume"
    }
   },
   "source": [
    "#### 2.24.2.1.1 Pressure/Volume\n",
    "\n",
    "The second term in the total derivative $dU$\n",
    "\n",
    "$$\\left(\\frac{\\partial U}{\\partial V}\\right)_{S,\\bf n} dV$$\n",
    "\n",
    "describes the change in internal energy due to a change in system volume. If the system is expanding, it is experiencing a loss of internal energy by doing mechanical work dW on the surroundings. The amount of work is the product of system pressure times the change in volume, therefore \n",
    "\n",
    "$$\\left(\\frac{\\partial U}{\\partial V}\\right)_{S,\\bf n} dV = -P dV$$\n",
    "\n",
    "where pressure must correspond to term\n",
    "\n",
    "$$ P = \\left(\\frac{\\partial U}{\\partial V}\\right)_{S,\\bf n} $$\n",
    "\n",
    "What we see here is that pressure $P$ is an intensive conjugate variable corresponding to the extensive volume $V$. "
   ]
  },
  {
   "cell_type": "markdown",
   "metadata": {
    "nbpages": {
     "level": 4,
     "link": "[2.24.2.1.2 Temperature/Entropy](https://jckantor.github.io/cbe30338-2021/02.24-Process-Variables.html#2.24.2.1.2-Temperature/Entropy)",
     "section": "2.24.2.1.2 Temperature/Entropy"
    }
   },
   "source": [
    "#### 2.24.2.1.2 Temperature/Entropy\n",
    "\n",
    "The term \n",
    "\n",
    "$$\\left(\\frac{\\partial U}{\\partial S}\\right)_{V,\\bf n} dS$$\n",
    "\n",
    "describes the change in internal energy due to thermal energy from the surroundings. In the case the \"displacement\" is the change in system entropy. The corresponding conjugate \"force\" is temperature.\n",
    "\n",
    "$$ T = \\left(\\frac{\\partial U}{\\partial S}\\right)_{V,\\bf n} $$\n",
    "\n",
    "This formula actually serves as a thermodynamic definition of temperature."
   ]
  },
  {
   "cell_type": "markdown",
   "metadata": {
    "nbpages": {
     "level": 4,
     "link": "[2.24.2.1.3 Chemical Potential/Molar Amount](https://jckantor.github.io/cbe30338-2021/02.24-Process-Variables.html#2.24.2.1.3-Chemical-Potential/Molar-Amount)",
     "section": "2.24.2.1.3 Chemical Potential/Molar Amount"
    }
   },
   "source": [
    "#### 2.24.2.1.3 Chemical Potential/Molar Amount\n",
    "\n",
    "The terms in $dU$ come from an increase in the amount of species $k$ in the system. The change may be due to exchange of material with the surroundings or to chemical reaction. The corresponding conjugate variable is chemical potential defined as\n",
    "\n",
    "$$ \\mu_k = \\left(\\frac{\\partial U}{\\partial n_k}\\right)_{S,V,n_{j\\ne k}}$$"
   ]
  },
  {
   "cell_type": "markdown",
   "metadata": {
    "nbpages": {
     "level": 4,
     "link": "[2.24.2.1.4 Conjugate Variables](https://jckantor.github.io/cbe30338-2021/02.24-Process-Variables.html#2.24.2.1.4-Conjugate-Variables)",
     "section": "2.24.2.1.4 Conjugate Variables"
    }
   },
   "source": [
    "#### 2.24.2.1.4 Conjugate Variables\n",
    "\n",
    "The pairing of an extensive \"displacement\" variable with an intensive \"force\" variable appears throughout thermodynamics and chemical processes. Variables which share this relationship are called **conjugate variables**. In this case, the total derivative of internal energy can be expressed as\n",
    "\n",
    "$$dU = \n",
    "\\underbrace{\\left(\\frac{\\partial U}{\\partial S}\\right)_{V,\\bf n}}_{T} dS +\n",
    "\\underbrace{\\left(\\frac{\\partial U}{\\partial V}\\right)_{S,\\bf n}}_{-P} dV +\n",
    "\\sum_{k=1}^{K} \\underbrace{\\left(\\frac{\\partial U}{\\partial n_k}\\right)_{S,V,n_{j\\ne k}}}_{\\mu_k} dn_k\n",
    "$$\n",
    "\n",
    "or \n",
    "\n",
    "$$dU = T dS - P dV + \\sum_{k=1}^{K} \\mu_k dn_k$$ \n",
    "\n",
    "which is comprised of contributions due to the exchange of mechanical work and thermal energy with the surroundings, and with a change in amount of each species."
   ]
  },
  {
   "cell_type": "markdown",
   "metadata": {
    "nbpages": {
     "level": 2,
     "link": "[2.24.3 Homogeneous Equations](https://jckantor.github.io/cbe30338-2021/02.24-Process-Variables.html#2.24.3-Homogeneous-Equations)",
     "section": "2.24.3 Homogeneous Equations"
    }
   },
   "source": [
    "## 2.24.3 Homogeneous Equations\n",
    "\n",
    "Computing the total derivative of internal energy $U$ using partial derivatives revealed the existence of intensive/extensive conjugate variable pairs. We can gain additional insights by more carefully investigating the behavior of extensive variables.\n",
    "\n",
    "We start with a given system with specified values for all of the extensive variable. Then we look at a system where the only difference is that it is factor $\\lambda$ times larger. By definition, each of the extensive variables will also a positive factor $\\lambda$ times larger. \n",
    "\n",
    "$$U, S, V, n_1, n_2, \\ldots, n_K \\stackrel{\\lambda}{\\longrightarrow} \\lambda U, \\lambda S, \\lambda V, \\lambda n_1, \\lambda n_2, \\ldots, \\lambda n_K$$\n",
    "\n",
    "Because $U$ is a function of the other variables, we can write a relationship between the two systems that is a function of the positive scaling parameter $\\lambda$.\n",
    "\n",
    "$$ U(\\lambda S, \\lambda V, \\lambda n_1, \\lambda n_2, \\ldots, \\lambda n_K) = \\lambda U(S, V, n_1, n_2, \\ldots, n_K)$$\n",
    "\n",
    "Taking the partial derivative of both sides of this equation with respect to $\\lambda$,\n",
    "\n",
    "$$U(S, V, n_1, n_2, \\ldots, n_K) =\n",
    "\\left(\\frac{\\partial U}{\\partial \\lambda S}\\right)_{\\lambda V, \\lambda \\bf n} \\frac{\\partial \\lambda S}{\\partial \\lambda} + \n",
    "\\left(\\frac{\\partial U}{\\partial \\lambda V}\\right)_{\\lambda S, \\lambda \\bf n} \\frac{\\partial \\lambda V}{\\partial \\lambda} + \n",
    "\\sum_{k=1}^{K} \\left(\\frac{\\partial U}{\\partial \\lambda n_k}\\right)_{\\lambda S,\\lambda V, \\lambda n_{j\\ne k}} \\frac{\\partial \\lambda n_k}{\\partial \\lambda}\n",
    "$$\n",
    "\n",
    "From the chain rule we get\n",
    "\n",
    "$$U(S, V, n_1, n_2, \\ldots, n_K) =\n",
    "\\left(\\frac{\\partial U}{\\partial \\lambda S}\\right)_{\\lambda V, \\lambda \\bf n} S + \n",
    "\\left(\\frac{\\partial U}{\\partial \\lambda V}\\right)_{\\lambda S, \\lambda \\bf n} V + \n",
    "\\sum_{k=1}^{K} \\left(\\frac{\\partial U}{\\partial \\lambda n_k}\\right)_{\\lambda S,\\lambda V, \\lambda n_{j\\ne k}} n_k\n",
    "$$\n",
    "\n",
    "Since this has to hold for any value of the parameter $\\lambda$, we choose to set $\\lambda = 1$\n",
    "\n",
    "$$U(S, V, n_1, n_2, \\ldots, n_K) =\n",
    "\\left(\\frac{\\partial U}{\\partial S}\\right)_{V,\\bf n} S + \n",
    "\\left(\\frac{\\partial U}{\\partial V}\\right)_{S,\\bf n} V + \n",
    "\\sum_{k=1}^{K} \\left(\\frac{\\partial U}{\\partial n_k}\\right)_{S,V,n_{j\\ne k}} n_k\n",
    "$$\n",
    "\n",
    "Finally, we set the partial derivatives equal to the intensive variables identified above\n",
    "\n",
    "$$U = T S - P V + \\sum_{k=1}^{K} \\mu_k n_k $$\n",
    "\n",
    "This shows "
   ]
  },
  {
   "cell_type": "code",
   "execution_count": null,
   "metadata": {
    "nbpages": {
     "level": 2,
     "link": "[2.24.3 Homogeneous Equations](https://jckantor.github.io/cbe30338-2021/02.24-Process-Variables.html#2.24.3-Homogeneous-Equations)",
     "section": "2.24.3 Homogeneous Equations"
    }
   },
   "outputs": [],
   "source": []
  },
  {
   "cell_type": "markdown",
   "metadata": {
    "nbpages": {
     "level": 2,
     "link": "[2.24.3 Homogeneous Equations](https://jckantor.github.io/cbe30338-2021/02.24-Process-Variables.html#2.24.3-Homogeneous-Equations)",
     "section": "2.24.3 Homogeneous Equations"
    }
   },
   "source": [
    "<!--NAVIGATION-->\n",
    "< [2.23 Model Library](https://jckantor.github.io/cbe30338-2021/02.23-Model-Library.html) | [Contents](toc.html) | [Tag Index](tag_index.html) | [3.0 Linearization](https://jckantor.github.io/cbe30338-2021/03.00-Linearization.html) ><p><a href=\"https://colab.research.google.com/github/jckantor/cbe30338-2021/blob/master/docs/02.24-Process-Variables.ipynb\"> <img align=\"left\" src=\"https://colab.research.google.com/assets/colab-badge.svg\" alt=\"Open in Colab\" title=\"Open in Google Colaboratory\"></a><p><a href=\"https://jckantor.github.io/cbe30338-2021/02.24-Process-Variables.ipynb\"> <img align=\"left\" src=\"https://img.shields.io/badge/Github-Download-blue.svg\" alt=\"Download\" title=\"Download Notebook\"></a>"
   ]
  }
 ],
 "metadata": {
  "kernelspec": {
   "display_name": "Python 3",
   "language": "python",
   "name": "python3"
  },
  "language_info": {
   "codemirror_mode": {
    "name": "ipython",
    "version": 3
   },
   "file_extension": ".py",
   "mimetype": "text/x-python",
   "name": "python",
   "nbconvert_exporter": "python",
   "pygments_lexer": "ipython3",
   "version": "3.8.5"
  }
 },
 "nbformat": 4,
 "nbformat_minor": 4
}
