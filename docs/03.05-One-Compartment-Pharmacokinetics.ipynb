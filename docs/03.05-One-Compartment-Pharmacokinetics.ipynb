{
 "cells": [
  {
   "cell_type": "markdown",
   "metadata": {
    "nbpages": {
     "level": 0,
     "link": "[](https://jckantor.github.io/cbe30338-2021/03.05-One-Compartment-Pharmacokinetics.html)",
     "section": ""
    }
   },
   "source": [
    "<!--NOTEBOOK_HEADER-->\n",
    "*This notebook contains material from [cbe30338-2021](https://jckantor.github.io/cbe30338-2021);\n",
    "content is available [on Github](https://github.com/jckantor/cbe30338-2021.git).*\n"
   ]
  },
  {
   "cell_type": "markdown",
   "metadata": {
    "nbpages": {
     "level": 0,
     "link": "[](https://jckantor.github.io/cbe30338-2021/03.05-One-Compartment-Pharmacokinetics.html)",
     "section": ""
    }
   },
   "source": [
    "<!--NAVIGATION-->\n",
    "< [3.4 Fitting First Order plus Time Delay to Step Response](https://jckantor.github.io/cbe30338-2021/03.04-Fitting-First-Order-plus-Time-Delay-to-Step-Response.html) | [Contents](toc.html) | [Tag Index](tag_index.html) | [3.6 Second Order Models](https://jckantor.github.io/cbe30338-2021/03.06-Second-Order-Models.html) ><p><a href=\"https://colab.research.google.com/github/jckantor/cbe30338-2021/blob/master/docs/03.05-One-Compartment-Pharmacokinetics.ipynb\"> <img align=\"left\" src=\"https://colab.research.google.com/assets/colab-badge.svg\" alt=\"Open in Colab\" title=\"Open in Google Colaboratory\"></a><p><a href=\"https://jckantor.github.io/cbe30338-2021/03.05-One-Compartment-Pharmacokinetics.ipynb\"> <img align=\"left\" src=\"https://img.shields.io/badge/Github-Download-blue.svg\" alt=\"Download\" title=\"Download Notebook\"></a>"
   ]
  },
  {
   "cell_type": "markdown",
   "metadata": {
    "nbpages": {
     "level": 1,
     "link": "[3.5 One Compartment Pharmacokinetics](https://jckantor.github.io/cbe30338-2021/03.05-One-Compartment-Pharmacokinetics.html#3.5-One-Compartment-Pharmacokinetics)",
     "section": "3.5 One Compartment Pharmacokinetics"
    },
    "slideshow": {
     "slide_type": "-"
    }
   },
   "source": [
    "# 3.5 One Compartment Pharmacokinetics"
   ]
  },
  {
   "cell_type": "markdown",
   "metadata": {
    "nbpages": {
     "level": 2,
     "link": "[3.5.1 Summary](https://jckantor.github.io/cbe30338-2021/03.05-One-Compartment-Pharmacokinetics.html#3.5.1-Summary)",
     "section": "3.5.1 Summary"
    },
    "slideshow": {
     "slide_type": "-"
    }
   },
   "source": [
    "## 3.5.1 Summary\n",
    "\n",
    "Pharmacokinetics is a branch of pharmacology that studies the fate of chemical species in living organisms. The diverse range of applications includes the administration of drugs and anesthesia in humans. This notebook introduces a one compartment model for pharmacokinetics, and shows how it can be used to determine strategies for the intravenous administration of an antibiotic.\n",
    "\n",
    "The notebook demonstrates the simulation and analysis of systems modeled by a single first-order linear differential equation."
   ]
  },
  {
   "cell_type": "markdown",
   "metadata": {
    "nbpages": {
     "level": 2,
     "link": "[3.5.2 Antibiotics](https://jckantor.github.io/cbe30338-2021/03.05-One-Compartment-Pharmacokinetics.html#3.5.2-Antibiotics)",
     "section": "3.5.2 Antibiotics"
    },
    "slideshow": {
     "slide_type": "-"
    }
   },
   "source": [
    "## 3.5.2 Antibiotics\n",
    "\n",
    "Let's consider the administration of an antibiotic to a patient. Concentration $C$ refers to the concentration of the antibiotic in blood plasma with units [mg/liter]. \n",
    "\n",
    "**Minimum Inhibitory Concentration (MIC)** The minimum concentration of the antibiotic that prevents growth of a particular bacterium.\n",
    "\n",
    "**Minimum Bactricidal Concentration (MBC)** The lowest concentration of the antibiotic that kills a particular bacterium.\n",
    "\n",
    "Extended exposure to an antibiotic at levels below MBC leads to [antibiotic resistance](https://www.ncbi.nlm.nih.gov/pmc/articles/PMC4378521/)."
   ]
  },
  {
   "cell_type": "markdown",
   "metadata": {
    "nbpages": {
     "level": 2,
     "link": "[3.5.3 Model Description](https://jckantor.github.io/cbe30338-2021/03.05-One-Compartment-Pharmacokinetics.html#3.5.3-Model-Description)",
     "section": "3.5.3 Model Description"
    },
    "slideshow": {
     "slide_type": "-"
    }
   },
   "source": [
    "## 3.5.3 Model Description\n",
    "\n",
    "A simple pharmacokinetic model has the same form as a model for the dilution of a chemical species in a constant volume stirred-tank mixer.  For a stirred-tank reactor with constant volume $V$, volumetric outlet flowrate $Q$, and inlet mass flow $u(t)$,\n",
    "\n",
    "$$V \\frac{dC}{dt} = u(t) - Q C(t)$$\n",
    "\n",
    "where $C$ is concentration in units of mass per unit volume. In this pharacokinetics application, $V$ refers to blood plasma volume, and $Q$ to the clearance rate."
   ]
  },
  {
   "cell_type": "markdown",
   "metadata": {
    "nbpages": {
     "level": 2,
     "link": "[3.5.4 Problem Statement 1](https://jckantor.github.io/cbe30338-2021/03.05-One-Compartment-Pharmacokinetics.html#3.5.4-Problem-Statement-1)",
     "section": "3.5.4 Problem Statement 1"
    },
    "slideshow": {
     "slide_type": "-"
    }
   },
   "source": [
    "## 3.5.4 Problem Statement 1\n",
    "\n",
    "The minimum inhibitory concentration (MIC) of a particular organism to a particular antibiotic is 5 mg/liter, the minimum bactricidal concentration (MBC) is 8 mg/liter. Assume the plasma volume $V$ is 4 liters with a clearance rate $Q$ of 0.5 liters/hour. \n",
    "\n",
    "An initial intravenous antibiotic dose of 64 mg results in an initial plasma concentration $C_{initial}$ of 64mg/4 liters = 16 mg/liter.  How long will the concentration stay above MBC?  Above MIC?"
   ]
  },
  {
   "cell_type": "markdown",
   "metadata": {
    "nbpages": {
     "level": 2,
     "link": "[3.5.5 Solution Strategy 1: Simulation from a Known Initial Condition](https://jckantor.github.io/cbe30338-2021/03.05-One-Compartment-Pharmacokinetics.html#3.5.5-Solution-Strategy-1:-Simulation-from-a-Known-Initial-Condition)",
     "section": "3.5.5 Solution Strategy 1: Simulation from a Known Initial Condition"
    },
    "slideshow": {
     "slide_type": "-"
    }
   },
   "source": [
    "## 3.5.5 Solution Strategy 1: Simulation from a Known Initial Condition\n",
    "\n",
    "For this first simulation we compute the response of the one compartment model due starting with an initial condition $C_{initial}$, and assuming input $u(t) = 0$.  "
   ]
  },
  {
   "cell_type": "markdown",
   "metadata": {
    "nbpages": {
     "level": 3,
     "link": "[3.5.5.1 Step 1. Initialization](https://jckantor.github.io/cbe30338-2021/03.05-One-Compartment-Pharmacokinetics.html#3.5.5.1-Step-1.-Initialization)",
     "section": "3.5.5.1 Step 1. Initialization"
    },
    "slideshow": {
     "slide_type": "-"
    }
   },
   "source": [
    "### 3.5.5.1 Step 1. Initialization\n",
    "\n",
    "Generally the first steps in any Jupyter notebook are to \n",
    "\n",
    "1. Initialize the plotting system.\n",
    "2. Import the `numpy` library for basic mathematical functions.\n",
    "3. Import the `matplotlib.pyplot` library for plotting.\n",
    "\n",
    "In addition, for this application we also import `odeint` function for solving differential equations from the `scipy.integrate` library."
   ]
  },
  {
   "cell_type": "code",
   "execution_count": 16,
   "metadata": {
    "nbpages": {
     "level": 3,
     "link": "[3.5.5.1 Step 1. Initialization](https://jckantor.github.io/cbe30338-2021/03.05-One-Compartment-Pharmacokinetics.html#3.5.5.1-Step-1.-Initialization)",
     "section": "3.5.5.1 Step 1. Initialization"
    },
    "slideshow": {
     "slide_type": "-"
    }
   },
   "outputs": [],
   "source": [
    "%matplotlib inline\n",
    "import numpy as np\n",
    "import matplotlib.pyplot as plt\n",
    "from scipy.integrate import odeint"
   ]
  },
  {
   "cell_type": "markdown",
   "metadata": {
    "nbpages": {
     "level": 3,
     "link": "[3.5.5.2 Step 2. Enter Parameter Values](https://jckantor.github.io/cbe30338-2021/03.05-One-Compartment-Pharmacokinetics.html#3.5.5.2-Step-2.-Enter-Parameter-Values)",
     "section": "3.5.5.2 Step 2. Enter Parameter Values"
    },
    "slideshow": {
     "slide_type": "-"
    }
   },
   "source": [
    "### 3.5.5.2 Step 2. Enter Parameter Values"
   ]
  },
  {
   "cell_type": "code",
   "execution_count": 17,
   "metadata": {
    "nbpages": {
     "level": 3,
     "link": "[3.5.5.2 Step 2. Enter Parameter Values](https://jckantor.github.io/cbe30338-2021/03.05-One-Compartment-Pharmacokinetics.html#3.5.5.2-Step-2.-Enter-Parameter-Values)",
     "section": "3.5.5.2 Step 2. Enter Parameter Values"
    }
   },
   "outputs": [],
   "source": [
    "V = 4          # liters\n",
    "Q = 0.5        # liters/hour\n",
    "MIC = 5        # mg/liter\n",
    "MBC = 8        # mg/liter\n",
    "\n",
    "Cinitial = 16  # mg/liter"
   ]
  },
  {
   "cell_type": "markdown",
   "metadata": {
    "nbpages": {
     "level": 3,
     "link": "[3.5.5.3 Step 3. A Function the RHS of the Differential equation](https://jckantor.github.io/cbe30338-2021/03.05-One-Compartment-Pharmacokinetics.html#3.5.5.3-Step-3.-A-Function-the-RHS-of-the-Differential-equation)",
     "section": "3.5.5.3 Step 3. A Function the RHS of the Differential equation"
    },
    "slideshow": {
     "slide_type": "-"
    }
   },
   "source": [
    "### 3.5.5.3 Step 3. A Function the RHS of the Differential equation\n",
    "\n",
    "$$\\frac{dC}{dt} = \\frac{1}{V}u(t) - \\frac{Q}{V}C$$\n",
    "\n",
    "where $u(t) = 0$."
   ]
  },
  {
   "cell_type": "code",
   "execution_count": 18,
   "metadata": {
    "nbpages": {
     "level": 3,
     "link": "[3.5.5.3 Step 3. A Function the RHS of the Differential equation](https://jckantor.github.io/cbe30338-2021/03.05-One-Compartment-Pharmacokinetics.html#3.5.5.3-Step-3.-A-Function-the-RHS-of-the-Differential-equation)",
     "section": "3.5.5.3 Step 3. A Function the RHS of the Differential equation"
    }
   },
   "outputs": [],
   "source": [
    "def u(t):\n",
    "    return 0\n",
    "\n",
    "def deriv(C,t):\n",
    "    return u(t)/V - (Q/V)*C"
   ]
  },
  {
   "cell_type": "markdown",
   "metadata": {
    "nbpages": {
     "level": 3,
     "link": "[3.5.5.4 Step 4. Solution and Visualization](https://jckantor.github.io/cbe30338-2021/03.05-One-Compartment-Pharmacokinetics.html#3.5.5.4-Step-4.-Solution-and-Visualization)",
     "section": "3.5.5.4 Step 4. Solution and Visualization"
    },
    "slideshow": {
     "slide_type": "-"
    }
   },
   "source": [
    "### 3.5.5.4 Step 4. Solution and Visualization"
   ]
  },
  {
   "cell_type": "code",
   "execution_count": 20,
   "metadata": {
    "nbpages": {
     "level": 3,
     "link": "[3.5.5.4 Step 4. Solution and Visualization](https://jckantor.github.io/cbe30338-2021/03.05-One-Compartment-Pharmacokinetics.html#3.5.5.4-Step-4.-Solution-and-Visualization)",
     "section": "3.5.5.4 Step 4. Solution and Visualization"
    }
   },
   "outputs": [
    {
     "data": {
      "image/png": "[encoded data removed]",
      "text/plain": [
       "<Figure size 432x288 with 1 Axes>"
      ]
     },
     "metadata": {
      "needs_background": "light"
     },
     "output_type": "display_data"
    }
   ],
   "source": [
    "t = np.linspace(0,24,1000)\n",
    "C = odeint(deriv, Cinitial, t)\n",
    "\n",
    "def plotConcentration(t,C):\n",
    "    plt.plot(t,C)\n",
    "    plt.xlim(0,max(t))\n",
    "    plt.plot(plt.xlim(),[MIC,MIC],'g--',plt.xlim(),[MBC,MBC],'r--')\n",
    "    plt.legend(['Antibiotic Concentration','MIC','MBC'])\n",
    "    plt.xlabel('Time [hrs]')\n",
    "    plt.ylabel('Concentration [mg/liter]')\n",
    "    plt.title('One Compartment Model with Known Initial Condition');\n",
    "    \n",
    "plotConcentration(t,C)\n",
    "plt.savefig('./figures/Pharmaockinetics1.png')"
   ]
  },
  {
   "cell_type": "markdown",
   "metadata": {
    "nbpages": {
     "level": 3,
     "link": "[3.5.5.5 Step 5. Analysis of the Results](https://jckantor.github.io/cbe30338-2021/03.05-One-Compartment-Pharmacokinetics.html#3.5.5.5-Step-5.-Analysis-of-the-Results)",
     "section": "3.5.5.5 Step 5. Analysis of the Results"
    },
    "slideshow": {
     "slide_type": "-"
    }
   },
   "source": [
    "### 3.5.5.5 Step 5. Analysis of the Results\n",
    "\n",
    "Let's compare our results to a typical experimental result. \n",
    "\n",
    "| | |\n",
    "| :-: | :-: |\n",
    "|![](./figures/Pharmaockinetics1.png)|![](figures/nihms-475924-f0001.jpg)|\n",
    "\n",
    "We see that that the assumption of a fixed initial condition is questionable. Can we fix this?\n",
    "\n",
    "[Levison, Matthew E., and Julie H. Levison. “Pharmacokinetics and Pharmacodynamics of Antibacterial Agents.” Infectious disease clinics of North America 23.4 (2009): 791–vii. PMC. Web. 8 May 2017.](https://www.ncbi.nlm.nih.gov/pmc/articles/PMC3675903/)"
   ]
  },
  {
   "cell_type": "markdown",
   "metadata": {
    "nbpages": {
     "level": 2,
     "link": "[3.5.6 Solution Strategy 2: Time-Dependent Input](https://jckantor.github.io/cbe30338-2021/03.05-One-Compartment-Pharmacokinetics.html#3.5.6-Solution-Strategy-2:-Time-Dependent-Input)",
     "section": "3.5.6 Solution Strategy 2: Time-Dependent Input"
    },
    "slideshow": {
     "slide_type": "-"
    }
   },
   "source": [
    "## 3.5.6 Solution Strategy 2: Time-Dependent Input\n",
    "\n",
    "For the next simulation we will assume the dosing takes place over a short period of time $\\delta t$. To obtain a total dose $U_{dose}$ in a time period $\\delta t$, the mass flow rate rate must be\n",
    "\n",
    "$$u(t) = \n",
    "\\begin{cases}\n",
    "U/ \\delta t \\qquad \\mbox{for } 0 \\leq t \\leq \\delta t \\\\\n",
    "0 \\qquad \\mbox{for } t \\geq \\delta t\n",
    "\\end{cases}\n",
    "$$\n",
    "\n",
    "Before doing a simulation, we will write a Python function for $u(t)$. "
   ]
  },
  {
   "cell_type": "code",
   "execution_count": 5,
   "metadata": {
    "nbpages": {
     "level": 2,
     "link": "[3.5.6 Solution Strategy 2: Time-Dependent Input](https://jckantor.github.io/cbe30338-2021/03.05-One-Compartment-Pharmacokinetics.html#3.5.6-Solution-Strategy-2:-Time-Dependent-Input)",
     "section": "3.5.6 Solution Strategy 2: Time-Dependent Input"
    },
    "slideshow": {
     "slide_type": "-"
    }
   },
   "outputs": [],
   "source": [
    "# parameter values\n",
    "dt = 1.5         # length hours\n",
    "Udose = 64       # mg\n",
    "\n",
    "# function defintion\n",
    "def u(t):\n",
    "    if t <= dt:\n",
    "        return Udose/dt\n",
    "    else:\n",
    "        return 0"
   ]
  },
  {
   "cell_type": "markdown",
   "metadata": {
    "nbpages": {
     "level": 2,
     "link": "[3.5.6 Solution Strategy 2: Time-Dependent Input](https://jckantor.github.io/cbe30338-2021/03.05-One-Compartment-Pharmacokinetics.html#3.5.6-Solution-Strategy-2:-Time-Dependent-Input)",
     "section": "3.5.6 Solution Strategy 2: Time-Dependent Input"
    },
    "slideshow": {
     "slide_type": "-"
    }
   },
   "source": [
    "This code cell demonstrates the use of a list comprehension to apply a function to each value in a list."
   ]
  },
  {
   "cell_type": "code",
   "execution_count": 6,
   "metadata": {
    "nbpages": {
     "level": 2,
     "link": "[3.5.6 Solution Strategy 2: Time-Dependent Input](https://jckantor.github.io/cbe30338-2021/03.05-One-Compartment-Pharmacokinetics.html#3.5.6-Solution-Strategy-2:-Time-Dependent-Input)",
     "section": "3.5.6 Solution Strategy 2: Time-Dependent Input"
    }
   },
   "outputs": [
    {
     "data": {
      "text/plain": [
       "Text(0.5,1,'Dosing function u(t) for of total dose 64 mg')"
      ]
     },
     "execution_count": 6,
     "metadata": {},
     "output_type": "execute_result"
    },
    {
     "data": {
      "image/png": "[encoded data removed]",
      "text/plain": [
       "<Figure size 432x288 with 1 Axes>"
      ]
     },
     "metadata": {
      "needs_background": "light"
     },
     "output_type": "display_data"
    }
   ],
   "source": [
    "# visualization\n",
    "t = np.linspace(0,24,1000)    # create a list of time steps\n",
    "y = [u(tau) for tau in t]         # list comprehension\n",
    "plt.plot(t,y)\n",
    "plt.xlabel('Time [hrs]')\n",
    "plt.ylabel('Administration Rate [mg/hr]')\n",
    "plt.title('Dosing function u(t) for of total dose {0} mg'.format(Udose))"
   ]
  },
  {
   "cell_type": "markdown",
   "metadata": {
    "nbpages": {
     "level": 2,
     "link": "[3.5.6 Solution Strategy 2: Time-Dependent Input](https://jckantor.github.io/cbe30338-2021/03.05-One-Compartment-Pharmacokinetics.html#3.5.6-Solution-Strategy-2:-Time-Dependent-Input)",
     "section": "3.5.6 Solution Strategy 2: Time-Dependent Input"
    },
    "slideshow": {
     "slide_type": "-"
    }
   },
   "source": [
    "Simulation"
   ]
  },
  {
   "cell_type": "code",
   "execution_count": 21,
   "metadata": {
    "nbpages": {
     "level": 2,
     "link": "[3.5.6 Solution Strategy 2: Time-Dependent Input](https://jckantor.github.io/cbe30338-2021/03.05-One-Compartment-Pharmacokinetics.html#3.5.6-Solution-Strategy-2:-Time-Dependent-Input)",
     "section": "3.5.6 Solution Strategy 2: Time-Dependent Input"
    }
   },
   "outputs": [
    {
     "data": {
      "image/png": "[encoded data removed]",
      "text/plain": [
       "<Figure size 432x288 with 1 Axes>"
      ]
     },
     "metadata": {
      "needs_background": "light"
     },
     "output_type": "display_data"
    }
   ],
   "source": [
    "Cinitial = 0\n",
    "t = np.linspace(0,24,1000)\n",
    "C = odeint(deriv, Cinitial, t)\n",
    "\n",
    "plotConcentration(t,C)\n",
    "plt.savefig('./figures/Pharmaockinetics2.png')"
   ]
  },
  {
   "cell_type": "markdown",
   "metadata": {
    "nbpages": {
     "level": 3,
     "link": "[3.5.6.1 Analysis of the Results](https://jckantor.github.io/cbe30338-2021/03.05-One-Compartment-Pharmacokinetics.html#3.5.6.1-Analysis-of-the-Results)",
     "section": "3.5.6.1 Analysis of the Results"
    },
    "slideshow": {
     "slide_type": "-"
    }
   },
   "source": [
    "### 3.5.6.1 Analysis of the Results\n",
    "\n",
    "Let's compare our results to a typical experimental result. \n",
    "\n",
    "| | |\n",
    "| :-: | :-: |\n",
    "|![](./figures/Pharmaockinetics2.png)|![](./figures/nihms-475924-f0001.jpg)|\n",
    "\n",
    "While it isn't perfect, this is a closer facsimile of actual physiological response.\n",
    "\n",
    "[Levison, Matthew E., and Julie H. Levison. “Pharmacokinetics and Pharmacodynamics of Antibacterial Agents.” Infectious disease clinics of North America 23.4 (2009): 791–vii. PMC. Web. 8 May 2017.](https://www.ncbi.nlm.nih.gov/pmc/articles/PMC3675903/)"
   ]
  },
  {
   "cell_type": "markdown",
   "metadata": {
    "nbpages": {
     "level": 2,
     "link": "[3.5.7 Problem Statement 2](https://jckantor.github.io/cbe30338-2021/03.05-One-Compartment-Pharmacokinetics.html#3.5.7-Problem-Statement-2)",
     "section": "3.5.7 Problem Statement 2"
    },
    "slideshow": {
     "slide_type": "-"
    }
   },
   "source": [
    "## 3.5.7 Problem Statement 2\n",
    "\n",
    "The minimum inhibitory concentration (MIC) of a particular organism to a particular antibiotic is 5 mg/liter, the minimum bactricidal concentration (MBC) is 8 mg/liter. Assume the plasma volume $V$ is 4 liters with a clearance rate $Q$ of 0.5 liters/hour. \n",
    "\n",
    "Design an antibiotic therapy to keep the plasma concentration above the MIC level for a period of 96 hours. "
   ]
  },
  {
   "cell_type": "markdown",
   "metadata": {
    "nbpages": {
     "level": 2,
     "link": "[3.5.8 Solution Strategy 3: Periodic Dosing](https://jckantor.github.io/cbe30338-2021/03.05-One-Compartment-Pharmacokinetics.html#3.5.8-Solution-Strategy-3:-Periodic-Dosing)",
     "section": "3.5.8 Solution Strategy 3: Periodic Dosing"
    },
    "slideshow": {
     "slide_type": "-"
    }
   },
   "source": [
    "## 3.5.8 Solution Strategy 3: Periodic Dosing\n",
    "\n",
    "Finally, we'll consider the case of repetitive dosing where a new dose is administered every $t_{dose}$ hours. The trick to this calculation is the Python `%` operator which returns the remainder following division. This is a very useful tool for creating complex repetitive functions."
   ]
  },
  {
   "cell_type": "code",
   "execution_count": 8,
   "metadata": {
    "nbpages": {
     "level": 2,
     "link": "[3.5.8 Solution Strategy 3: Periodic Dosing](https://jckantor.github.io/cbe30338-2021/03.05-One-Compartment-Pharmacokinetics.html#3.5.8-Solution-Strategy-3:-Periodic-Dosing)",
     "section": "3.5.8 Solution Strategy 3: Periodic Dosing"
    },
    "slideshow": {
     "slide_type": "-"
    }
   },
   "outputs": [],
   "source": [
    "# parameter values\n",
    "td = 2           # length of administration for a single dose\n",
    "tdose = 8        # time between doses\n",
    "Udose = 42       # mg\n",
    "\n",
    "# function defintion\n",
    "def u(t):\n",
    "    if t % tdose <= dt:\n",
    "        return Udose/td\n",
    "    else:\n",
    "        return 0"
   ]
  },
  {
   "cell_type": "code",
   "execution_count": 9,
   "metadata": {
    "nbpages": {
     "level": 2,
     "link": "[3.5.8 Solution Strategy 3: Periodic Dosing](https://jckantor.github.io/cbe30338-2021/03.05-One-Compartment-Pharmacokinetics.html#3.5.8-Solution-Strategy-3:-Periodic-Dosing)",
     "section": "3.5.8 Solution Strategy 3: Periodic Dosing"
    },
    "slideshow": {
     "slide_type": "-"
    }
   },
   "outputs": [
    {
     "data": {
      "image/png": "[encoded data removed]",
      "text/plain": [
       "<Figure size 432x288 with 1 Axes>"
      ]
     },
     "metadata": {
      "needs_background": "light"
     },
     "output_type": "display_data"
    }
   ],
   "source": [
    "# visualization\n",
    "t = np.linspace(0,96,1000)    # create a list of time steps\n",
    "y = [u(t) for t in t]         # list comprehension\n",
    "\n",
    "plt.plot(t,y)\n",
    "plt.xlabel('Time [hrs]')\n",
    "plt.ylabel('Administration Rate [mg/hr]')\n",
    "plt.grid()"
   ]
  },
  {
   "cell_type": "markdown",
   "metadata": {
    "nbpages": {
     "level": 2,
     "link": "[3.5.8 Solution Strategy 3: Periodic Dosing](https://jckantor.github.io/cbe30338-2021/03.05-One-Compartment-Pharmacokinetics.html#3.5.8-Solution-Strategy-3:-Periodic-Dosing)",
     "section": "3.5.8 Solution Strategy 3: Periodic Dosing"
    },
    "slideshow": {
     "slide_type": "-"
    }
   },
   "source": [
    "The dosing function $u(t)$ is now applied to the simulation of drug concentration in the blood plasma. A fourth argument is added to `odeint(deriv, Cinitial, t, tcrit=t)` indicating that special care must be used for every time step. This is needed in order to get a high fidelity simulation that accounts for the rapidly varying values of $u(t)$."
   ]
  },
  {
   "cell_type": "code",
   "execution_count": 10,
   "metadata": {
    "nbpages": {
     "level": 2,
     "link": "[3.5.8 Solution Strategy 3: Periodic Dosing](https://jckantor.github.io/cbe30338-2021/03.05-One-Compartment-Pharmacokinetics.html#3.5.8-Solution-Strategy-3:-Periodic-Dosing)",
     "section": "3.5.8 Solution Strategy 3: Periodic Dosing"
    }
   },
   "outputs": [
    {
     "data": {
      "image/png": "[encoded data removed]",
      "text/plain": [
       "<Figure size 432x288 with 1 Axes>"
      ]
     },
     "metadata": {
      "needs_background": "light"
     },
     "output_type": "display_data"
    }
   ],
   "source": [
    "Cinitial = 0\n",
    "t = np.linspace(0,96,1000)\n",
    "C = odeint(deriv, Cinitial, t, tcrit=t)\n",
    "plotConcentration(t,C)"
   ]
  },
  {
   "cell_type": "markdown",
   "metadata": {
    "nbpages": {
     "level": 1,
     "link": "[3.5 Exercise 1](https://jckantor.github.io/cbe30338-2021/03.05-One-Compartment-Pharmacokinetics.html#3.5-Exercise-1)",
     "section": "3.5 Exercise 1"
    },
    "slideshow": {
     "slide_type": "-"
    }
   },
   "source": [
    "# 3.5 Exercise 1\n",
    "\n",
    "The purpose of the dosing regime is to maintain the plasma concentration above the MIC level for at least 96 hours. Assuming that each dose is 64 mg, modify the simulation and find a value of $t_{dose}$ that results satisfies the MIC objective for a 96 hour period.  Show a plot concentration versus time, and include Python code to compute the total amount of antibiotic administered for the whole treatment."
   ]
  },
  {
   "cell_type": "code",
   "execution_count": null,
   "metadata": {
    "collapsed": true,
    "nbpages": {
     "level": 1,
     "link": "[3.5 Exercise 1](https://jckantor.github.io/cbe30338-2021/03.05-One-Compartment-Pharmacokinetics.html#3.5-Exercise-1)",
     "section": "3.5 Exercise 1"
    }
   },
   "outputs": [],
   "source": []
  },
  {
   "cell_type": "markdown",
   "metadata": {
    "nbpages": {
     "level": 1,
     "link": "[3.5 Exercise 2](https://jckantor.github.io/cbe30338-2021/03.05-One-Compartment-Pharmacokinetics.html#3.5-Exercise-2)",
     "section": "3.5 Exercise 2"
    },
    "slideshow": {
     "slide_type": "-"
    }
   },
   "source": [
    "# 3.5 Exercise 2\n",
    "\n",
    "Consider a continous antibiotic injection at a constant rate designed to maintain the plasma concentration at minimum bactricidal level. Your solution should proceed in three steps:\n",
    "\n",
    "1. First, by hand, set up and solve the steady state equation to find the desired constant dosage rate. \n",
    "2. Modify the Python function for $u(t)$ to simulate the desired flowrate.\n",
    "3. Verify your result by repeating the above simulation using your function for $u(t)$. "
   ]
  },
  {
   "cell_type": "code",
   "execution_count": null,
   "metadata": {
    "collapsed": true,
    "nbpages": {
     "level": 1,
     "link": "[3.5 Exercise 2](https://jckantor.github.io/cbe30338-2021/03.05-One-Compartment-Pharmacokinetics.html#3.5-Exercise-2)",
     "section": "3.5 Exercise 2"
    }
   },
   "outputs": [],
   "source": []
  },
  {
   "cell_type": "markdown",
   "metadata": {
    "nbpages": {
     "level": 1,
     "link": "[3.5 Exercise 2](https://jckantor.github.io/cbe30338-2021/03.05-One-Compartment-Pharmacokinetics.html#3.5-Exercise-2)",
     "section": "3.5 Exercise 2"
    }
   },
   "source": [
    "<!--NAVIGATION-->\n",
    "< [3.4 Fitting First Order plus Time Delay to Step Response](https://jckantor.github.io/cbe30338-2021/03.04-Fitting-First-Order-plus-Time-Delay-to-Step-Response.html) | [Contents](toc.html) | [Tag Index](tag_index.html) | [3.6 Second Order Models](https://jckantor.github.io/cbe30338-2021/03.06-Second-Order-Models.html) ><p><a href=\"https://colab.research.google.com/github/jckantor/cbe30338-2021/blob/master/docs/03.05-One-Compartment-Pharmacokinetics.ipynb\"> <img align=\"left\" src=\"https://colab.research.google.com/assets/colab-badge.svg\" alt=\"Open in Colab\" title=\"Open in Google Colaboratory\"></a><p><a href=\"https://jckantor.github.io/cbe30338-2021/03.05-One-Compartment-Pharmacokinetics.ipynb\"> <img align=\"left\" src=\"https://img.shields.io/badge/Github-Download-blue.svg\" alt=\"Download\" title=\"Download Notebook\"></a>"
   ]
  }
 ],
 "metadata": {
  "anaconda-cloud": {},
  "kernelspec": {
   "display_name": "Python 3",
   "language": "python",
   "name": "python3"
  },
  "language_info": {
   "codemirror_mode": {
    "name": "ipython",
    "version": 3
   },
   "file_extension": ".py",
   "mimetype": "text/x-python",
   "name": "python",
   "nbconvert_exporter": "python",
   "pygments_lexer": "ipython3",
   "version": "3.7.4"
  }
 },
 "nbformat": 4,
 "nbformat_minor": 2
}
