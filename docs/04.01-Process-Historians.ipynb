{
 "cells": [
  {
   "cell_type": "markdown",
   "metadata": {},
   "source": [
    "<!--NOTEBOOK_HEADER-->\n",
    "*This notebook contains material from [cbe30338-2021](https://jckantor.github.io/cbe30338-2021);\n",
    "content is available [on Github](https://github.com/jckantor/cbe30338-2021.git).*\n"
   ]
  },
  {
   "cell_type": "markdown",
   "metadata": {},
   "source": [
    "<!--NAVIGATION-->\n",
    "< [4.0 Process Analytics](https://jckantor.github.io/cbe30338-2021/04.00-Process-Analytics.html) | [Contents](toc.html) | [4.2 State Estimation](https://jckantor.github.io/cbe30338-2021/04.02-State-Estimation.html) ><p><a href=\"https://colab.research.google.com/github/jckantor/cbe30338-2021/blob/master/docs/04.01-Process-Historians.ipynb\"> <img align=\"left\" src=\"https://colab.research.google.com/assets/colab-badge.svg\" alt=\"Open in Colab\" title=\"Open in Google Colaboratory\"></a><p><a href=\"https://jckantor.github.io/cbe30338-2021/04.01-Process-Historians.ipynb\"> <img align=\"left\" src=\"https://img.shields.io/badge/Github-Download-blue.svg\" alt=\"Download\" title=\"Download Notebook\"></a>"
   ]
  },
  {
   "cell_type": "markdown",
   "metadata": {
    "nbpages": {
     "level": 1,
     "link": "[4.1 Data/Process/Operational Historian](https://jckantor.github.io/cbe30338-2021/04.01-Process-Historians.html#4.1-Data/Process/Operational-Historian)",
     "section": "4.1 Data/Process/Operational Historian"
    }
   },
   "source": [
    "# 4.1 Data/Process/Operational Historian"
   ]
  },
  {
   "cell_type": "markdown",
   "metadata": {
    "nbpages": {
     "level": 2,
     "link": "[4.1.1 Introduction](https://jckantor.github.io/cbe30338-2021/04.01-Process-Historians.html#4.1.1-Introduction)",
     "section": "4.1.1 Introduction"
    }
   },
   "source": [
    "## 4.1.1 Introduction"
   ]
  },
  {
   "cell_type": "markdown",
   "metadata": {
    "nbpages": {
     "level": 3,
     "link": "[4.1.1.1 Terminology](https://jckantor.github.io/cbe30338-2021/04.01-Process-Historians.html#4.1.1.1-Terminology)",
     "section": "4.1.1.1 Terminology"
    }
   },
   "source": [
    "### 4.1.1.1 Terminology\n",
    "\n",
    "* **DCS**: Distributed Control System\n",
    "\n",
    "* **Database**: An organized collection of data that is stored and accessed electronically. Databases are a major industry and one of the most significant technologies underpinning the modern global economy.\n",
    "\n",
    "    * **Ralational database**: Data organized as linked collections of tables comprised of rows and columns. Structured Query Language (SQL) is a specialized language for writing and querying relational databases. \n",
    "    * **NoSQL database**: Typically organized as key-value pairs, NoSQL databases encompass a broad range of technologies used in modern web applications and extremely large scale databases.\n",
    "    * **Time-series database**: Data organized in time series consisting of time-value pairs, often organized as traces, curves, or trends. Typically used in industrial applications.\n",
    "    \n",
    "    \n",
    "* **[Data | Operational | Process] Historian**: A time-series database used to store and access operational process data. "
   ]
  },
  {
   "cell_type": "markdown",
   "metadata": {
    "nbpages": {
     "level": 3,
     "link": "[4.1.1.2 Major Vendors of Data Historians](https://jckantor.github.io/cbe30338-2021/04.01-Process-Historians.html#4.1.1.2-Major-Vendors-of-Data-Historians)",
     "section": "4.1.1.2 Major Vendors of Data Historians"
    }
   },
   "source": [
    "### 4.1.1.2 Major Vendors of Data Historians\n",
    "\n",
    "Data historians is about a $1B/year market globally, poised to grow much larger with the emerging **Industrial Internet of Things (IIoT)** market.\n",
    "\n",
    "* GE, IBM, Hitachi-ABB, Rockwell Automation, Emerson, Honeywell, Siemens, AVEVA, OSIsoft, ICONICS, Yokogawa, PTC, Inductive Automation, Canary Labs, Open Automation Software, InfluxData, Progea, Kx Systems, SORBA, Savigent Software, Automsoft, LiveData Utilities, Industrial Video & Control, Aspen Technology, and COPA-DATA"
   ]
  },
  {
   "cell_type": "markdown",
   "metadata": {
    "nbpages": {
     "level": 3,
     "link": "[4.1.1.3 Example: OSIsoft PI System](https://jckantor.github.io/cbe30338-2021/04.01-Process-Historians.html#4.1.1.3-Example:-OSIsoft-PI-System)",
     "section": "4.1.1.3 Example: OSIsoft PI System"
    }
   },
   "source": [
    "### 4.1.1.3 Example: OSIsoft PI System\n",
    "\n",
    "* One of the market leaders is OSIsoft which markets their proprietary PI system. Founded in 1980, OSIsoft now has 1,400 employees and recently announced sale of the company for $5B to AVENA.\n",
    "\n",
    "* The PI system is integrated suite of tools supporting the storage and retreival of process data in a time-series data base.\n",
    "\n",
    "![](http://www.automatedresults.com/images/arpidiagram.png)\n",
    "\n"
   ]
  },
  {
   "cell_type": "markdown",
   "metadata": {
    "nbpages": {
     "level": 3,
     "link": "[4.1.1.4 Process Analytics](https://jckantor.github.io/cbe30338-2021/04.01-Process-Historians.html#4.1.1.4-Process-Analytics)",
     "section": "4.1.1.4 Process Analytics"
    }
   },
   "source": [
    "### 4.1.1.4 Process Analytics\n",
    "\n",
    "Process analytics refers to analytical tools that use the data historian to provide usable information about the underlying processes. "
   ]
  },
  {
   "cell_type": "markdown",
   "metadata": {
    "nbpages": {
     "level": 2,
     "link": "[4.1.2 The tclab Data Historian](https://jckantor.github.io/cbe30338-2021/04.01-Process-Historians.html#4.1.2-The-tclab-Data-Historian)",
     "section": "4.1.2 The tclab Data Historian"
    }
   },
   "source": [
    "## 4.1.2 The tclab Data Historian\n",
    "\n",
    "The tclab Python library support the Temperature Control Lab includes a very basic and no-frills implementation of a time-series data base. The purposes of the data historian are to \n",
    "\n",
    "* enable the collection and display of data durinig the course of developing control strategies, and\n",
    "* enable post-experiment analysis using standard Python libraries such as Pandas.\n",
    "\n",
    "Documentatiion is available for the tclab [Historian](https://tclab.readthedocs.io/en/latest/notebooks/05_TCLab_Historian.html) and associated [Plotter](https://tclab.readthedocs.io/en/latest/notebooks/06_TCLab_Plotter.html) modules.\n",
    "\n",
    "Historian is implemented using [SQLite](https://www.sqlite.org/index.html), a small, self-contained SQL data system in the public domain. SQLite was originally developed in 2000 by D. Richard Hipp who was designing software for a damage-control systems used in the U.S. Navy aboard gui}ded missile destroyers. Since then it has become widely used in embedded systems including most laptops, smartphones, and browsers. If you used Apple photos, messaging on your smartphone, GPS units in your car, then you've used SQLite. It estimated there are over 1 trillion SQLite databases in active use. Much of the success is to due to the licensing terms (free!) and an extraordinarily level of automated code testing assuring a high level of reliability.\n",
    "\n",
    "Below we will introduce useful capabilities of the Historian that will prove useful as we explore more sophisticated control algorithms and strategies.\n",
    "\n",
    "* Data logging\n",
    "* Acessing data"
   ]
  },
  {
   "cell_type": "markdown",
   "metadata": {
    "nbpages": {
     "level": 3,
     "link": "[4.1.2.1 Data Logging](https://jckantor.github.io/cbe30338-2021/04.01-Process-Historians.html#4.1.2.1-Data-Logging)",
     "section": "4.1.2.1 Data Logging"
    }
   },
   "source": [
    "### 4.1.2.1 Data Logging"
   ]
  },
  {
   "cell_type": "markdown",
   "metadata": {
    "nbpages": {
     "level": 4,
     "link": "[4.1.2.1.1 Creating a log](https://jckantor.github.io/cbe30338-2021/04.01-Process-Historians.html#4.1.2.1.1-Creating-a-log)",
     "section": "4.1.2.1.1 Creating a log"
    }
   },
   "source": [
    "#### 4.1.2.1.1 Creating a log"
   ]
  },
  {
   "cell_type": "code",
   "execution_count": 4,
   "metadata": {
    "nbpages": {
     "level": 4,
     "link": "[4.1.2.1.1 Creating a log](https://jckantor.github.io/cbe30338-2021/04.01-Process-Historians.html#4.1.2.1.1-Creating-a-log)",
     "section": "4.1.2.1.1 Creating a log"
    }
   },
   "outputs": [
    {
     "name": "stdout",
     "output_type": "stream",
     "text": [
      "TCLab version 0.4.9\n",
      "Simulated TCLab\n",
      "TCLab Model disconnected successfully.\n"
     ]
    }
   ],
   "source": [
    "from tclab import setup, clock, Historian\n",
    "\n",
    "TCLab = setup(connected=False, speedup=60)\n",
    "\n",
    "with TCLab() as lab:\n",
    "    h = Historian(lab.sources)\n",
    "    lab.Q1(100)\n",
    "    for t in clock(600):\n",
    "        h.update(t)"
   ]
  },
  {
   "cell_type": "markdown",
   "metadata": {
    "nbpages": {
     "level": 4,
     "link": "[4.1.2.1.2 Accessing Data using `.columns` and `.fields`](https://jckantor.github.io/cbe30338-2021/04.01-Process-Historians.html#4.1.2.1.2-Accessing-Data-using-`.columns`-and-`.fields`)",
     "section": "4.1.2.1.2 Accessing Data using `.columns` and `.fields`"
    }
   },
   "source": [
    "#### 4.1.2.1.2 Accessing Data using `.columns` and `.fields`"
   ]
  },
  {
   "cell_type": "code",
   "execution_count": 5,
   "metadata": {
    "nbpages": {
     "level": 4,
     "link": "[4.1.2.1.2 Accessing Data using `.columns` and `.fields`](https://jckantor.github.io/cbe30338-2021/04.01-Process-Historians.html#4.1.2.1.2-Accessing-Data-using-`.columns`-and-`.fields`)",
     "section": "4.1.2.1.2 Accessing Data using `.columns` and `.fields`"
    }
   },
   "outputs": [
    {
     "data": {
      "text/plain": [
       "['Time', 'T1', 'T2', 'Q1', 'Q2']"
      ]
     },
     "execution_count": 5,
     "metadata": {},
     "output_type": "execute_result"
    }
   ],
   "source": [
    "# columns property consists of all data being logged\n",
    "h.columns"
   ]
  },
  {
   "cell_type": "code",
   "execution_count": 6,
   "metadata": {
    "nbpages": {
     "level": 4,
     "link": "[4.1.2.1.2 Accessing Data using `.columns` and `.fields`](https://jckantor.github.io/cbe30338-2021/04.01-Process-Historians.html#4.1.2.1.2-Accessing-Data-using-`.columns`-and-`.fields`)",
     "section": "4.1.2.1.2 Accessing Data using `.columns` and `.fields`"
    }
   },
   "outputs": [],
   "source": [
    "# access data using fields\n",
    "t, T1, T2, Q1, Q1 = h.fields"
   ]
  },
  {
   "cell_type": "code",
   "execution_count": 7,
   "metadata": {
    "nbpages": {
     "level": 4,
     "link": "[4.1.2.1.2 Accessing Data using `.columns` and `.fields`](https://jckantor.github.io/cbe30338-2021/04.01-Process-Historians.html#4.1.2.1.2-Accessing-Data-using-`.columns`-and-`.fields`)",
     "section": "4.1.2.1.2 Accessing Data using `.columns` and `.fields`"
    }
   },
   "outputs": [
    {
     "data": {
      "text/plain": [
       "[<matplotlib.lines.Line2D at 0x7fd045b6e550>]"
      ]
     },
     "execution_count": 7,
     "metadata": {},
     "output_type": "execute_result"
    },
    {
     "data": {
      "image/png": "[encoded data removed]",
      "text/plain": [
       "<Figure size 432x288 with 1 Axes>"
      ]
     },
     "metadata": {
      "needs_background": "light"
     },
     "output_type": "display_data"
    }
   ],
   "source": [
    "%matplotlib inline\n",
    "import matplotlib.pyplot as plt\n",
    "\n",
    "plt.plot(t, T1)"
   ]
  },
  {
   "cell_type": "markdown",
   "metadata": {
    "nbpages": {
     "level": 4,
     "link": "[4.1.2.1.3 Accessing Data by Name `logdict`](https://jckantor.github.io/cbe30338-2021/04.01-Process-Historians.html#4.1.2.1.3-Accessing-Data-by-Name-`logdict`)",
     "section": "4.1.2.1.3 Accessing Data by Name `logdict`"
    }
   },
   "source": [
    "#### 4.1.2.1.3 Accessing Data by Name `logdict`\n",
    "\n",
    "Sometimes you only need specific fields. You can access them directly by name using `.logdict[]` which is short for 'log dictionary'."
   ]
  },
  {
   "cell_type": "code",
   "execution_count": 8,
   "metadata": {
    "nbpages": {
     "level": 4,
     "link": "[4.1.2.1.3 Accessing Data by Name `logdict`](https://jckantor.github.io/cbe30338-2021/04.01-Process-Historians.html#4.1.2.1.3-Accessing-Data-by-Name-`logdict`)",
     "section": "4.1.2.1.3 Accessing Data by Name `logdict`"
    }
   },
   "outputs": [
    {
     "data": {
      "text/plain": [
       "[<matplotlib.lines.Line2D at 0x7fd045d6c5b0>]"
      ]
     },
     "execution_count": 8,
     "metadata": {},
     "output_type": "execute_result"
    },
    {
     "data": {
      "image/png": "[encoded data removed]",
      "text/plain": [
       "<Figure size 432x288 with 1 Axes>"
      ]
     },
     "metadata": {
      "needs_background": "light"
     },
     "output_type": "display_data"
    }
   ],
   "source": [
    "plt.plot(h.logdict[\"Time\"], h.logdict[\"T2\"])"
   ]
  },
  {
   "cell_type": "markdown",
   "metadata": {
    "nbpages": {
     "level": 4,
     "link": "[4.1.2.1.4 Accessing Data using `pandas`](https://jckantor.github.io/cbe30338-2021/04.01-Process-Historians.html#4.1.2.1.4-Accessing-Data-using-`pandas`)",
     "section": "4.1.2.1.4 Accessing Data using `pandas`"
    }
   },
   "source": [
    "#### 4.1.2.1.4 Accessing Data using `pandas`\n",
    "\n",
    "The Python `pandas` library provides an enormous range of tools for data analysis. To access the historian data using pandas"
   ]
  },
  {
   "cell_type": "code",
   "execution_count": 9,
   "metadata": {
    "nbpages": {
     "level": 4,
     "link": "[4.1.2.1.4 Accessing Data using `pandas`](https://jckantor.github.io/cbe30338-2021/04.01-Process-Historians.html#4.1.2.1.4-Accessing-Data-using-`pandas`)",
     "section": "4.1.2.1.4 Accessing Data using `pandas`"
    }
   },
   "outputs": [
    {
     "data": {
      "text/plain": [
       "<AxesSubplot:xlabel='Time'>"
      ]
     },
     "execution_count": 9,
     "metadata": {},
     "output_type": "execute_result"
    },
    {
     "data": {
      "image/png": "[encoded data removed]",
      "text/plain": [
       "<Figure size 432x288 with 1 Axes>"
      ]
     },
     "metadata": {
      "needs_background": "light"
     },
     "output_type": "display_data"
    }
   ],
   "source": [
    "import pandas as pd\n",
    "df = pd.DataFrame.from_records(h.log, columns=h.columns, index='Time')\n",
    "\n",
    "df.plot()"
   ]
  },
  {
   "cell_type": "markdown",
   "metadata": {
    "nbpages": {
     "level": 4,
     "link": "[4.1.2.1.5 Saving to a file](https://jckantor.github.io/cbe30338-2021/04.01-Process-Historians.html#4.1.2.1.5-Saving-to-a-file)",
     "section": "4.1.2.1.5 Saving to a file"
    }
   },
   "source": [
    "#### 4.1.2.1.5 Saving to a file"
   ]
  },
  {
   "cell_type": "code",
   "execution_count": 10,
   "metadata": {
    "nbpages": {
     "level": 4,
     "link": "[4.1.2.1.5 Saving to a file](https://jckantor.github.io/cbe30338-2021/04.01-Process-Historians.html#4.1.2.1.5-Saving-to-a-file)",
     "section": "4.1.2.1.5 Saving to a file"
    }
   },
   "outputs": [],
   "source": [
    "h.to_csv(\"saved_data.csv\")"
   ]
  },
  {
   "cell_type": "markdown",
   "metadata": {
    "nbpages": {
     "level": 3,
     "link": "[4.1.2.2 Specifying sources](https://jckantor.github.io/cbe30338-2021/04.01-Process-Historians.html#4.1.2.2-Specifying-sources)",
     "section": "4.1.2.2 Specifying sources"
    }
   },
   "source": [
    "### 4.1.2.2 Specifying sources\n",
    "\n",
    "As we develop increasingly complex control algorthms, we will wish to record additional data during the course of an experiment. This is done by specifying data sources. Each source is defined by a `(tag, fcn)` pair where `tag` is string label for data, and `fcn` is a function with no arguments that returns a current value. An example is \n",
    "\n",
    "    ('Q1', lab.Q1)\n",
    "    \n",
    "where `Q1` is the tag, and `lab.Q1()` returns the current value of heater power reported by the hardware.\n",
    "    "
   ]
  },
  {
   "cell_type": "code",
   "execution_count": 13,
   "metadata": {
    "nbpages": {
     "level": 3,
     "link": "[4.1.2.2 Specifying sources](https://jckantor.github.io/cbe30338-2021/04.01-Process-Historians.html#4.1.2.2-Specifying-sources)",
     "section": "4.1.2.2 Specifying sources"
    }
   },
   "outputs": [
    {
     "name": "stdout",
     "output_type": "stream",
     "text": [
      "TCLab version 0.4.9\n",
      "Simulated TCLab\n",
      "TCLab Model disconnected successfully.\n"
     ]
    }
   ],
   "source": [
    "from tclab import setup, clock, Historian\n",
    "\n",
    "# proportional control gain\n",
    "Kp = 4.0\n",
    "\n",
    "# setpoint function\n",
    "def SP1(t):\n",
    "    return 20.0 if t <= 100 else 50.0\n",
    "\n",
    "TCLab = setup(connected=False, speedup=60)\n",
    "\n",
    "with TCLab() as lab:\n",
    "    # add setpoint to default sources\n",
    "    sources = lab.sources\n",
    "    sources.append(('SP1', lambda: SP1(t)))\n",
    "    h = Historian(sources)\n",
    "    for t in clock(600):\n",
    "        U1 = Kp*(SP1(t) - lab.T1)\n",
    "        lab.Q1(U1)\n",
    "        h.update(t)"
   ]
  },
  {
   "cell_type": "code",
   "execution_count": 14,
   "metadata": {
    "nbpages": {
     "level": 3,
     "link": "[4.1.2.2 Specifying sources](https://jckantor.github.io/cbe30338-2021/04.01-Process-Historians.html#4.1.2.2-Specifying-sources)",
     "section": "4.1.2.2 Specifying sources"
    }
   },
   "outputs": [
    {
     "data": {
      "text/plain": [
       "['Time', 'T1', 'T2', 'Q1', 'Q2', 'SP1']"
      ]
     },
     "execution_count": 14,
     "metadata": {},
     "output_type": "execute_result"
    }
   ],
   "source": [
    "h.columns"
   ]
  },
  {
   "cell_type": "code",
   "execution_count": 15,
   "metadata": {
    "nbpages": {
     "level": 3,
     "link": "[4.1.2.2 Specifying sources](https://jckantor.github.io/cbe30338-2021/04.01-Process-Historians.html#4.1.2.2-Specifying-sources)",
     "section": "4.1.2.2 Specifying sources"
    }
   },
   "outputs": [
    {
     "data": {
      "text/plain": [
       "[<matplotlib.lines.Line2D at 0x7fd046b00fd0>,\n",
       " <matplotlib.lines.Line2D at 0x7fd046b0b040>]"
      ]
     },
     "execution_count": 15,
     "metadata": {},
     "output_type": "execute_result"
    },
    {
     "data": {
      "image/png": "[encoded data removed]",
      "text/plain": [
       "<Figure size 432x288 with 1 Axes>"
      ]
     },
     "metadata": {
      "needs_background": "light"
     },
     "output_type": "display_data"
    }
   ],
   "source": [
    "t, T1, T2, Q1, Q2, SP1 = h.fields\n",
    "plt.plot(t, T1, t, SP1)"
   ]
  },
  {
   "cell_type": "code",
   "execution_count": 17,
   "metadata": {
    "nbpages": {
     "level": 3,
     "link": "[4.1.2.2 Specifying sources](https://jckantor.github.io/cbe30338-2021/04.01-Process-Historians.html#4.1.2.2-Specifying-sources)",
     "section": "4.1.2.2 Specifying sources"
    }
   },
   "outputs": [
    {
     "name": "stdout",
     "output_type": "stream",
     "text": [
      "TCLab version 0.4.9\n",
      "Simulated TCLab\n",
      "TCLab Model disconnected successfully.\n"
     ]
    }
   ],
   "source": [
    "from tclab import setup, clock, Historian\n",
    "\n",
    "# proportional control gain\n",
    "Kp = 4.0\n",
    "\n",
    "# setpoint function\n",
    "def SP1(t):\n",
    "    return 20.0 if t <= 100 else 50.0\n",
    "\n",
    "# setpoint function\n",
    "SP2 = 30.0\n",
    "\n",
    "TCLab = setup(connected=False, speedup=60)\n",
    "\n",
    "with TCLab() as lab:\n",
    "    # add setpoint to default sources\n",
    "    sources = lab.sources\n",
    "    sources.append(('SP1', lambda: SP1(t)))\n",
    "    sources.append(('SP2', lambda: SP2))\n",
    "    h = Historian(sources)\n",
    "    for t in clock(600):\n",
    "        U1 = Kp*(SP1(t) - lab.T1)\n",
    "        U2 = 100 if lab.T2 < SP2 else 0\n",
    "        lab.Q1(U1)\n",
    "        lab.Q2(U2)\n",
    "        h.update(t)"
   ]
  },
  {
   "cell_type": "code",
   "execution_count": 18,
   "metadata": {
    "nbpages": {
     "level": 3,
     "link": "[4.1.2.2 Specifying sources](https://jckantor.github.io/cbe30338-2021/04.01-Process-Historians.html#4.1.2.2-Specifying-sources)",
     "section": "4.1.2.2 Specifying sources"
    }
   },
   "outputs": [
    {
     "data": {
      "text/plain": [
       "['Time', 'T1', 'T2', 'Q1', 'Q2', 'SP1', 'SP2']"
      ]
     },
     "execution_count": 18,
     "metadata": {},
     "output_type": "execute_result"
    }
   ],
   "source": [
    "h.columns"
   ]
  },
  {
   "cell_type": "code",
   "execution_count": 19,
   "metadata": {
    "nbpages": {
     "level": 3,
     "link": "[4.1.2.2 Specifying sources](https://jckantor.github.io/cbe30338-2021/04.01-Process-Historians.html#4.1.2.2-Specifying-sources)",
     "section": "4.1.2.2 Specifying sources"
    }
   },
   "outputs": [
    {
     "data": {
      "text/plain": [
       "[<matplotlib.lines.Line2D at 0x7fd046c3eca0>,\n",
       " <matplotlib.lines.Line2D at 0x7fd046c3ecd0>]"
      ]
     },
     "execution_count": 19,
     "metadata": {},
     "output_type": "execute_result"
    },
    {
     "data": {
      "image/png": "[encoded data removed]",
      "text/plain": [
       "<Figure size 432x288 with 2 Axes>"
      ]
     },
     "metadata": {
      "needs_background": "light"
     },
     "output_type": "display_data"
    }
   ],
   "source": [
    "fig, ax = plt.subplots(2, 1)\n",
    "\n",
    "ax[0].plot(h.logdict[\"Time\"], h.logdict[\"T1\"], h.logdict[\"Time\"], h.logdict[\"SP1\"])\n",
    "ax[1].plot(h.logdict[\"Time\"], h.logdict[\"T2\"], h.logdict[\"Time\"], h.logdict[\"SP2\"])\n"
   ]
  },
  {
   "cell_type": "markdown",
   "metadata": {
    "nbpages": {
     "level": 3,
     "link": "[4.1.2.3 Persistence](https://jckantor.github.io/cbe30338-2021/04.01-Process-Historians.html#4.1.2.3-Persistence)",
     "section": "4.1.2.3 Persistence"
    }
   },
   "source": [
    "### 4.1.2.3 Persistence"
   ]
  },
  {
   "cell_type": "code",
   "execution_count": 20,
   "metadata": {
    "nbpages": {
     "level": 3,
     "link": "[4.1.2.3 Persistence](https://jckantor.github.io/cbe30338-2021/04.01-Process-Historians.html#4.1.2.3-Persistence)",
     "section": "4.1.2.3 Persistence"
    }
   },
   "outputs": [
    {
     "name": "stdout",
     "output_type": "stream",
     "text": [
      "TCLab version 0.4.9\n",
      "Simulated TCLab\n",
      "TCLab Model disconnected successfully.\n"
     ]
    }
   ],
   "source": [
    "from tclab import setup, clock, Historian\n",
    "\n",
    "# proportional control gain\n",
    "Kp = 4.0\n",
    "\n",
    "# setpoint function\n",
    "def SP1(t):\n",
    "    return 20.0 if t <= 100 else 50.0\n",
    "\n",
    "# setpoint function\n",
    "SP2 = 40.0\n",
    "\n",
    "TCLab = setup(connected=False, speedup=60)\n",
    "\n",
    "with TCLab() as lab:\n",
    "    # add setpoint to default sources\n",
    "    sources = lab.sources\n",
    "    sources.append(('SP1', lambda: SP1(t)))\n",
    "    sources.append(('SP2', lambda: SP2))\n",
    "    h = Historian(sources, dbfile=\"lab4.db\")\n",
    "    for t in clock(600):\n",
    "        U1 = Kp*(SP1(t) - lab.T1)\n",
    "        U2 = 100 if lab.T2 < SP2 else 0\n",
    "        lab.Q1(U1)\n",
    "        lab.Q2(U2)\n",
    "        h.update(t)"
   ]
  },
  {
   "cell_type": "code",
   "execution_count": 41,
   "metadata": {
    "nbpages": {
     "level": 3,
     "link": "[4.1.2.3 Persistence](https://jckantor.github.io/cbe30338-2021/04.01-Process-Historians.html#4.1.2.3-Persistence)",
     "section": "4.1.2.3 Persistence"
    }
   },
   "outputs": [
    {
     "data": {
      "text/plain": [
       "[(1, '2021-03-16 13:49:57', 600), (2, '2021-03-16 13:51:04', 597)]"
      ]
     },
     "execution_count": 41,
     "metadata": {},
     "output_type": "execute_result"
    }
   ],
   "source": [
    "h.get_sessions()"
   ]
  },
  {
   "cell_type": "code",
   "execution_count": 45,
   "metadata": {
    "nbpages": {
     "level": 3,
     "link": "[4.1.2.3 Persistence](https://jckantor.github.io/cbe30338-2021/04.01-Process-Historians.html#4.1.2.3-Persistence)",
     "section": "4.1.2.3 Persistence"
    }
   },
   "outputs": [
    {
     "data": {
      "text/plain": [
       "[<matplotlib.lines.Line2D at 0x7fd237b848e0>,\n",
       " <matplotlib.lines.Line2D at 0x7fd237b84910>]"
      ]
     },
     "execution_count": 45,
     "metadata": {},
     "output_type": "execute_result"
    },
    {
     "data": {
      "image/png": "[encoded data removed]",
      "text/plain": [
       "<Figure size 432x288 with 2 Axes>"
      ]
     },
     "metadata": {
      "needs_background": "light"
     },
     "output_type": "display_data"
    }
   ],
   "source": [
    "h.load_session(1)\n",
    "fig, ax = plt.subplots(2, 1)\n",
    "\n",
    "ax[0].plot(h.logdict[\"Time\"], h.logdict[\"T1\"], h.logdict[\"Time\"], h.logdict[\"SP1\"])\n",
    "ax[1].plot(h.logdict[\"Time\"], h.logdict[\"T2\"], h.logdict[\"Time\"], h.logdict[\"SP2\"])"
   ]
  },
  {
   "cell_type": "code",
   "execution_count": 49,
   "metadata": {
    "nbpages": {
     "level": 3,
     "link": "[4.1.2.3 Persistence](https://jckantor.github.io/cbe30338-2021/04.01-Process-Historians.html#4.1.2.3-Persistence)",
     "section": "4.1.2.3 Persistence"
    }
   },
   "outputs": [
    {
     "data": {
      "text/plain": [
       "[(1, '2021-03-16 13:53:36', 599), (2, '2021-03-16 13:53:53', 0)]"
      ]
     },
     "execution_count": 49,
     "metadata": {},
     "output_type": "execute_result"
    }
   ],
   "source": [
    "g = Historian([], dbfile=\"lab4.db\")\n",
    "g.get_sessions()"
   ]
  },
  {
   "cell_type": "markdown",
   "metadata": {
    "nbpages": {
     "level": 2,
     "link": "[4.1.3 Plotter](https://jckantor.github.io/cbe30338-2021/04.01-Process-Historians.html#4.1.3-Plotter)",
     "section": "4.1.3 Plotter"
    }
   },
   "source": [
    "## 4.1.3 Plotter\n",
    "\n",
    "The `Plotter` class provides a real-time graphical interface to an historian. It provides some simple facilities for "
   ]
  },
  {
   "cell_type": "code",
   "execution_count": 24,
   "metadata": {
    "nbpages": {
     "level": 2,
     "link": "[4.1.3 Plotter](https://jckantor.github.io/cbe30338-2021/04.01-Process-Historians.html#4.1.3-Plotter)",
     "section": "4.1.3 Plotter"
    }
   },
   "outputs": [
    {
     "data": {
      "image/png": "[encoded data removed]",
      "text/plain": [
       "<Figure size 640x360 with 3 Axes>"
      ]
     },
     "metadata": {},
     "output_type": "display_data"
    },
    {
     "name": "stdout",
     "output_type": "stream",
     "text": [
      "TCLab Model disconnected successfully.\n"
     ]
    },
    {
     "data": {
      "image/png": "[encoded data removed]",
      "text/plain": [
       "<Figure size 640x360 with 3 Axes>"
      ]
     },
     "metadata": {
      "needs_background": "light"
     },
     "output_type": "display_data"
    }
   ],
   "source": [
    "from tclab import setup, clock, Historian, Plotter\n",
    "\n",
    "# proportional control gain\n",
    "Kp = 4.0\n",
    "\n",
    "# setpoint function\n",
    "def SP1(t):\n",
    "    return 20.0 if t <= 100 else 50.0\n",
    "\n",
    "# setpoint function\n",
    "SP2 = 40.0\n",
    "\n",
    "TCLab = setup(connected=False, speedup=60)\n",
    "\n",
    "with TCLab() as lab:\n",
    "    # add setpoint to default sources\n",
    "    sources = lab.sources\n",
    "    sources.append(['SP1', lambda: SP1(t)])\n",
    "    sources.append(['SP2', lambda: SP2])\n",
    "    h = Historian(sources, dbfile=\"lab4.db\")\n",
    "    \n",
    "    layout = [[\"T1\", \"SP1\"], [\"T2\", \"SP2\"], [\"Q1\", \"Q2\"]]\n",
    "    p = Plotter(h, 400, layout)\n",
    "    for t in clock(400):\n",
    "        U1 = Kp*(SP1(t) - lab.T1)\n",
    "        U2 = 100 if lab.T2 < SP2 else 0\n",
    "        lab.Q1(U1)\n",
    "        lab.Q2(U2)\n",
    "        p.update(t)"
   ]
  },
  {
   "cell_type": "code",
   "execution_count": 25,
   "metadata": {
    "nbpages": {
     "level": 2,
     "link": "[4.1.3 Plotter](https://jckantor.github.io/cbe30338-2021/04.01-Process-Historians.html#4.1.3-Plotter)",
     "section": "4.1.3 Plotter"
    }
   },
   "outputs": [
    {
     "data": {
      "text/plain": [
       "[(1, '2021-03-16 13:53:36', 599),\n",
       " (2, '2021-03-16 13:53:53', 0),\n",
       " (3, '2021-03-16 13:56:20', 597),\n",
       " (4, '2021-03-16 13:56:50', 0),\n",
       " (5, '2021-03-16 13:56:57', 599),\n",
       " (6, '2021-03-16 13:57:08', 459),\n",
       " (7, '2021-03-16 14:47:56', 84),\n",
       " (8, '2021-03-16 14:48:24', 296),\n",
       " (9, '2021-03-16 14:50:42', 12),\n",
       " (10, '2021-03-16 14:51:05', 8),\n",
       " (11, '2021-03-16 14:52:10', 39),\n",
       " (12, '2021-03-16 14:52:23', 66),\n",
       " (13, '2021-03-16 14:52:47', 0),\n",
       " (14, '2021-03-16 14:52:59', 0),\n",
       " (15, '2021-03-16 14:56:40', 594),\n",
       " (16, '2021-03-16 14:59:18', 0),\n",
       " (17, '2021-03-16 15:02:16', 95),\n",
       " (18, '2021-03-16 15:03:02', 295)]"
      ]
     },
     "execution_count": 25,
     "metadata": {},
     "output_type": "execute_result"
    }
   ],
   "source": [
    "h.get_sessions()"
   ]
  },
  {
   "cell_type": "code",
   "execution_count": 26,
   "metadata": {
    "nbpages": {
     "level": 2,
     "link": "[4.1.3 Plotter](https://jckantor.github.io/cbe30338-2021/04.01-Process-Historians.html#4.1.3-Plotter)",
     "section": "4.1.3 Plotter"
    }
   },
   "outputs": [
    {
     "data": {
      "text/plain": [
       "[<matplotlib.lines.Line2D at 0x7fd04773e160>,\n",
       " <matplotlib.lines.Line2D at 0x7fd04773e190>]"
      ]
     },
     "execution_count": 26,
     "metadata": {},
     "output_type": "execute_result"
    },
    {
     "data": {
      "image/png": "[encoded data removed]",
      "text/plain": [
       "<Figure size 432x288 with 2 Axes>"
      ]
     },
     "metadata": {
      "needs_background": "light"
     },
     "output_type": "display_data"
    }
   ],
   "source": [
    "\n",
    "fig, ax = plt.subplots(2, 1)\n",
    "\n",
    "ax[0].plot(h.logdict[\"Time\"], h.logdict[\"T1\"], h.logdict[\"Time\"], h.logdict[\"SP1\"])\n",
    "ax[1].plot(h.logdict[\"Time\"], h.logdict[\"T2\"], h.logdict[\"Time\"], h.logdict[\"SP2\"])"
   ]
  },
  {
   "cell_type": "code",
   "execution_count": null,
   "metadata": {
    "nbpages": {
     "level": 2,
     "link": "[4.1.3 Plotter](https://jckantor.github.io/cbe30338-2021/04.01-Process-Historians.html#4.1.3-Plotter)",
     "section": "4.1.3 Plotter"
    }
   },
   "outputs": [],
   "source": []
  },
  {
   "cell_type": "markdown",
   "metadata": {},
   "source": [
    "<!--NAVIGATION-->\n",
    "< [4.0 Process Analytics](https://jckantor.github.io/cbe30338-2021/04.00-Process-Analytics.html) | [Contents](toc.html) | [4.2 State Estimation](https://jckantor.github.io/cbe30338-2021/04.02-State-Estimation.html) ><p><a href=\"https://colab.research.google.com/github/jckantor/cbe30338-2021/blob/master/docs/04.01-Process-Historians.ipynb\"> <img align=\"left\" src=\"https://colab.research.google.com/assets/colab-badge.svg\" alt=\"Open in Colab\" title=\"Open in Google Colaboratory\"></a><p><a href=\"https://jckantor.github.io/cbe30338-2021/04.01-Process-Historians.ipynb\"> <img align=\"left\" src=\"https://img.shields.io/badge/Github-Download-blue.svg\" alt=\"Download\" title=\"Download Notebook\"></a>"
   ]
  }
 ],
 "metadata": {
  "kernelspec": {
   "display_name": "Python 3",
   "language": "python",
   "name": "python3"
  },
  "language_info": {
   "codemirror_mode": {
    "name": "ipython",
    "version": 3
   },
   "file_extension": ".py",
   "mimetype": "text/x-python",
   "name": "python",
   "nbconvert_exporter": "python",
   "pygments_lexer": "ipython3",
   "version": "3.8.5"
  }
 },
 "nbformat": 4,
 "nbformat_minor": 4
}
