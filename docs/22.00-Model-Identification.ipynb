{
 "cells": [
  {
   "cell_type": "markdown",
   "metadata": {
    "id": "ddadDOURBgMx",
    "nbpages": {
     "level": 0,
     "link": "[](https://jckantor.github.io/cbe30338-2021/22.00-Model-Identification.html)",
     "section": ""
    }
   },
   "source": [
    "<!--NOTEBOOK_HEADER-->\n",
    "*This notebook contains material from [cbe30338-2021](https://jckantor.github.io/cbe30338-2021);\n",
    "content is available [on Github](https://github.com/jckantor/cbe30338-2021.git).*\n"
   ]
  },
  {
   "cell_type": "markdown",
   "metadata": {
    "id": "ydDTjssiBgMy",
    "nbpages": {
     "level": 0,
     "link": "[](https://jckantor.github.io/cbe30338-2021/22.00-Model-Identification.html)",
     "section": ""
    }
   },
   "source": [
    "<!--NAVIGATION-->\n",
    "< [21.11 TCLab Lab 1: Coding a relay controller](https://jckantor.github.io/cbe30338-2021/21.11-TCLab-Lab-1-Coding-a-relay-controller.html) | [Contents](toc.html) | [Tag Index](tag_index.html) | [22.1 Step Testing](https://jckantor.github.io/cbe30338-2021/22.01-Step-Testing.html) ><p><a href=\"https://colab.research.google.com/github/jckantor/cbe30338-2021/blob/master/docs/22.00-Model-Identification.ipynb\"> <img align=\"left\" src=\"https://colab.research.google.com/assets/colab-badge.svg\" alt=\"Open in Colab\" title=\"Open in Google Colaboratory\"></a><p><a href=\"https://jckantor.github.io/cbe30338-2021/22.00-Model-Identification.ipynb\"> <img align=\"left\" src=\"https://img.shields.io/badge/Github-Download-blue.svg\" alt=\"Download\" title=\"Download Notebook\"></a>"
   ]
  },
  {
   "cell_type": "markdown",
   "metadata": {
    "id": "DeYF2Kn5BgMy",
    "nbpages": {
     "level": 1,
     "link": "[22.0 Model Identification](https://jckantor.github.io/cbe30338-2021/22.00-Model-Identification.html#22.0-Model-Identification)",
     "section": "22.0 Model Identification"
    }
   },
   "source": [
    "# 22.0 Model Identification\n",
    "\n",
    "## Reference materials\n",
    "\n",
    "* Alizadeh, Esmaeil. \"A Guide to Non-Minimum Phase Systems.\" *Towards Data Science.* https://towardsdatascience.com/a-guide-to-non-minimum-phase-systems-1403350917a0. Accessed 6 Decewmber 2020."
   ]
  },
  {
   "cell_type": "markdown",
   "metadata": {
    "id": "w6hFdmbYBgMy",
    "nbpages": {
     "level": 1,
     "link": "[22.0 Model Identification](https://jckantor.github.io/cbe30338-2021/22.00-Model-Identification.html#22.0-Model-Identification)",
     "section": "22.0 Model Identification"
    }
   },
   "source": [
    "<!--NAVIGATION-->\n",
    "< [21.11 TCLab Lab 1: Coding a relay controller](https://jckantor.github.io/cbe30338-2021/21.11-TCLab-Lab-1-Coding-a-relay-controller.html) | [Contents](toc.html) | [Tag Index](tag_index.html) | [22.1 Step Testing](https://jckantor.github.io/cbe30338-2021/22.01-Step-Testing.html) ><p><a href=\"https://colab.research.google.com/github/jckantor/cbe30338-2021/blob/master/docs/22.00-Model-Identification.ipynb\"> <img align=\"left\" src=\"https://colab.research.google.com/assets/colab-badge.svg\" alt=\"Open in Colab\" title=\"Open in Google Colaboratory\"></a><p><a href=\"https://jckantor.github.io/cbe30338-2021/22.00-Model-Identification.ipynb\"> <img align=\"left\" src=\"https://img.shields.io/badge/Github-Download-blue.svg\" alt=\"Download\" title=\"Download Notebook\"></a>"
   ]
  }
 ],
 "metadata": {
  "colab": {
   "collapsed_sections": [],
   "name": "02.00-Model-Identification.ipynb",
   "provenance": []
  },
  "kernelspec": {
   "display_name": "Python 3",
   "language": "python",
   "name": "python3"
  },
  "language_info": {
   "codemirror_mode": {
    "name": "ipython",
    "version": 3
   },
   "file_extension": ".py",
   "mimetype": "text/x-python",
   "name": "python",
   "nbconvert_exporter": "python",
   "pygments_lexer": "ipython3",
   "version": "3.8.5"
  }
 },
 "nbformat": 4,
 "nbformat_minor": 4
}
