{
 "cells": [
  {
   "cell_type": "markdown",
   "metadata": {
    "nbpages": {
     "level": 0,
     "link": "[](https://jckantor.github.io/cbe30338-2021/09.02-State--Task-Networks.html)",
     "section": ""
    }
   },
   "source": [
    "<!--NOTEBOOK_HEADER-->\n",
    "*This notebook contains material from [cbe30338-2021](https://jckantor.github.io/cbe30338-2021);\n",
    "content is available [on Github](https://github.com/jckantor/cbe30338-2021.git).*\n"
   ]
  },
  {
   "cell_type": "markdown",
   "metadata": {
    "nbpages": {
     "level": 0,
     "link": "[](https://jckantor.github.io/cbe30338-2021/09.02-State--Task-Networks.html)",
     "section": ""
    }
   },
   "source": [
    "<!--NAVIGATION-->\n",
    "< [9.1 Scheduling State-Task Networks](https://jckantor.github.io/cbe30338-2021/09.01-Scheduling-Multipurpose-Batch-Processes-using-State--Task-Networks.html) | [Contents](toc.html) | [Tag Index](tag_index.html) | [9.3 Machine Bottleneck](https://jckantor.github.io/cbe30338-2021/09.03-Machine-Bottleneck.html) ><p><a href=\"https://colab.research.google.com/github/jckantor/cbe30338-2021/blob/master/../cbe30338-2021/docs/09.02-State--Task-Networks.ipynb\"> <img align=\"left\" src=\"https://colab.research.google.com/assets/colab-badge.svg\" alt=\"Open in Colab\" title=\"Open in Google Colaboratory\"></a><p><a href=\"https://jckantor.github.io/cbe30338-2021/09.02-State--Task-Networks.ipynb\"> <img align=\"left\" src=\"https://img.shields.io/badge/Github-Download-blue.svg\" alt=\"Download\" title=\"Download Notebook\"></a>"
   ]
  },
  {
   "cell_type": "markdown",
   "metadata": {
    "nbpages": {
     "level": 1,
     "link": "[9.2 State-Task Networks](https://jckantor.github.io/cbe30338-2021/09.02-State--Task-Networks.html#9.2-State-Task-Networks)",
     "section": "9.2 State-Task Networks"
    }
   },
   "source": [
    "# 9.2 State-Task Networks"
   ]
  },
  {
   "cell_type": "markdown",
   "metadata": {
    "nbpages": {
     "level": 2,
     "link": "[9.2.1 Description](https://jckantor.github.io/cbe30338-2021/09.02-State--Task-Networks.html#9.2.1-Description)",
     "section": "9.2.1 Description"
    }
   },
   "source": [
    "## 9.2.1 Description\n",
    "\n",
    "The State-Task Network (STN) is an approach to modeling multipurpose batch process for the purpose of short term scheduling first developed by Kondili, et al., in 1993, and subsequently extended by others.  A state-task network is a graphical depiction of the activities in a multiproduct batch process. The representation includes the minimum details needed for short term scheduling of batch operations.\n",
    "\n",
    "A well-studied example due to Kondili (1993) is shown below. Other examples are available in the references.\n",
    "\n",
    "![figures/Konsili_1993.png](figures/Kondili_1993.png)\n",
    "\n",
    "Each circular node in the diagram designates material in a particular state.  The materials are generally held in suitable vessels with a known capacity. The relevant information for each state is the initial inventory, storage capacity, and the unit price of the material in each state. The price of materials in intermediate states may be assigned penalities in order to minimize the amount of work in progress.\n",
    "\n",
    "The rectangular nodes denote process tasks. When scheduled for execution, each task is assigned an appropriate piece of equipment, and assigned a batch of material according to the incoming arcs. Each incoming arc begins at a state where the associated label indicates the mass fraction of the batch coming from that particular state. Outgoing arcs indicate the disposition of the batch to product states. The outgoing are labels indicate the fraction of the batch assigned to each product state, and the time necessary to produce that product. \n",
    "\n",
    "Not shown in the diagram is the process equipment used to execute the tasks. A separate list of process units is available, each characterized by a capacity and list of tasks which can be performed in that unit."
   ]
  },
  {
   "cell_type": "markdown",
   "metadata": {
    "nbpages": {
     "level": 2,
     "link": "[9.2.2 Exercise](https://jckantor.github.io/cbe30338-2021/09.02-State--Task-Networks.html#9.2.2-Exercise)",
     "section": "9.2.2 Exercise"
    }
   },
   "source": [
    "## 9.2.2 Exercise\n",
    "\n",
    "Read this reciped for Hollandaise Sauce: http://www.foodnetwork.com/recipes/tyler-florence/hollandaise-sauce-recipe-1910043. Assume the available equipment consists of one sauce pan and a double-boiler on a stove. Draw a state-task network outlining the basic steps in the recipe."
   ]
  },
  {
   "cell_type": "markdown",
   "metadata": {
    "nbpages": {
     "level": 2,
     "link": "[9.2.3 References](https://jckantor.github.io/cbe30338-2021/09.02-State--Task-Networks.html#9.2.3-References)",
     "section": "9.2.3 References"
    }
   },
   "source": [
    "## 9.2.3 References\n",
    "\n",
    "Floudas, C. A., & Lin, X. (2005). Mixed integer linear programming in process scheduling: Modeling, algorithms, and applications. Annals of Operations Research, 139(1), 131-162.\n",
    "\n",
    "Harjunkoski, I., Maravelias, C. T., Bongers, P., Castro, P. M., Engell, S., Grossmann, I. E., ... & Wassick, J. (2014). Scope for industrial applications of production scheduling models and solution methods. Computers & Chemical Engineering, 62, 161-193.\n",
    "\n",
    "Kondili, E., Pantelides, C. C., & Sargent, R. W. H. (1993). A general algorithm for short-term scheduling of batch operations—I. MILP formulation. Computers & Chemical Engineering, 17(2), 211-227.\n",
    "\n",
    "Méndez, C. A., Cerdá, J., Grossmann, I. E., Harjunkoski, I., & Fahl, M. (2006). State-of-the-art review of optimization methods for short-term scheduling of batch processes. Computers & Chemical Engineering, 30(6), 913-946.\n",
    "\n",
    "Shah, N., Pantelides, C. C., & Sargent, R. W. H. (1993). A general algorithm for short-term scheduling of batch operations—II. Computational issues. Computers & Chemical Engineering, 17(2), 229-244.\n",
    "\n",
    "Wassick, J. M., & Ferrio, J. (2011). Extending the resource task network for industrial applications. Computers & chemical engineering, 35(10), 2124-2140."
   ]
  },
  {
   "cell_type": "code",
   "execution_count": null,
   "metadata": {
    "nbpages": {
     "level": 2,
     "link": "[9.2.3 References](https://jckantor.github.io/cbe30338-2021/09.02-State--Task-Networks.html#9.2.3-References)",
     "section": "9.2.3 References"
    }
   },
   "outputs": [],
   "source": []
  },
  {
   "cell_type": "markdown",
   "metadata": {
    "nbpages": {
     "level": 2,
     "link": "[9.2.3 References](https://jckantor.github.io/cbe30338-2021/09.02-State--Task-Networks.html#9.2.3-References)",
     "section": "9.2.3 References"
    }
   },
   "source": [
    "<!--NAVIGATION-->\n",
    "< [9.1 Scheduling State-Task Networks](https://jckantor.github.io/cbe30338-2021/09.01-Scheduling-Multipurpose-Batch-Processes-using-State--Task-Networks.html) | [Contents](toc.html) | [Tag Index](tag_index.html) | [9.3 Machine Bottleneck](https://jckantor.github.io/cbe30338-2021/09.03-Machine-Bottleneck.html) ><p><a href=\"https://colab.research.google.com/github/jckantor/cbe30338-2021/blob/master/../cbe30338-2021/docs/09.02-State--Task-Networks.ipynb\"> <img align=\"left\" src=\"https://colab.research.google.com/assets/colab-badge.svg\" alt=\"Open in Colab\" title=\"Open in Google Colaboratory\"></a><p><a href=\"https://jckantor.github.io/cbe30338-2021/09.02-State--Task-Networks.ipynb\"> <img align=\"left\" src=\"https://img.shields.io/badge/Github-Download-blue.svg\" alt=\"Download\" title=\"Download Notebook\"></a>"
   ]
  }
 ],
 "metadata": {
  "kernelspec": {
   "display_name": "Python 3",
   "language": "python",
   "name": "python3"
  },
  "language_info": {
   "codemirror_mode": {
    "name": "ipython",
    "version": 3
   },
   "file_extension": ".py",
   "mimetype": "text/x-python",
   "name": "python",
   "nbconvert_exporter": "python",
   "pygments_lexer": "ipython3",
   "version": "3.7.4"
  }
 },
 "nbformat": 4,
 "nbformat_minor": 2
}
