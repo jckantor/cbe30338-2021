{
 "cells": [
  {
   "cell_type": "markdown",
   "metadata": {},
   "source": [
    "# [cbe30338-2021](https://jckantor.github.io/cbe30338-2021)\n",
    "\n",
    "## Index of Data files in this Repository\n",
    "\n",
    "### step-test-data.csv\n",
    "![step-test-data.csv](data/step-test-data.csv)\n",
    "* [22.2.1 Read the Data File](https://jckantor.github.io/cbe30338-2021/22.02-Fitting-Step-Test-Data-to-Empirical-Models.html#22.2.1-Read-the-Data-File)\n",
    "* [22.2.3 First Order plus Dead Time](https://jckantor.github.io/cbe30338-2021/22.02-Fitting-Step-Test-Data-to-Empirical-Models.html#22.2.3-First-Order-plus-Dead-Time)\n",
    "* [22.2.4 Second Order](https://jckantor.github.io/cbe30338-2021/22.02-Fitting-Step-Test-Data-to-Empirical-Models.html#22.2.4-Second-Order)\n",
    "\n",
    "### tclab-data.csv\n",
    "![tclab-data.csv](data/tclab-data.csv)\n",
    "* [22.10.5 Exercise 4. Verify and save data to a .csv file](https://jckantor.github.io/cbe30338-2021/22.10-TCLab-Lab-2-Model-Indentification-Solutions.html#22.10.5-Exercise-4.-Verify-and-save-data-to-a-.csv-file)\n",
    "* [22.10.5 Exercise 4. Verify and save data to a .csv file](https://jckantor.github.io/cbe30338-2021/22.10-TCLab-Lab-2-Model-Indentification.html#22.10.5-Exercise-4.-Verify-and-save-data-to-a-.csv-file)\n",
    "* [22.11.1.1 Reading data](https://jckantor.github.io/cbe30338-2021/22.11-TCLab-Lab-2-Fitting.html#22.11.1.1-Reading-data)"
   ]
  }
 ],
 "metadata": {},
 "nbformat": 4,
 "nbformat_minor": 4
}
