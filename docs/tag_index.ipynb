{
 "cells": [
  {
   "cell_type": "markdown",
   "metadata": {},
   "source": [
    "# [cbe30338-2021](https://jckantor.github.io/cbe30338-2021)\n",
    "\n",
    "## Tag Index\n",
    "* <a name=exercise></a>exercise\n",
    "    - [2.4.1.6 Exercise 1. Determine Operating Range](https://jckantor.github.io/cbe30338-2021/02.04-Continuous-Product-Blending.html#2.4.1.6-Exercise-1.-Determine-Operating-Range)\n",
    "    - [2.4.3.7 Exercise 2. Explore Dynamical Behavior](https://jckantor.github.io/cbe30338-2021/02.04-Continuous-Product-Blending.html#2.4.3.7-Exercise-2.-Explore-Dynamical-Behavior)\n",
    "    - [2.4.6 Exercise 3.](https://jckantor.github.io/cbe30338-2021/02.04-Continuous-Product-Blending.html#2.4.6-Exercise-3.)\n",
    "    - [2.4.8 Exercise 4.](https://jckantor.github.io/cbe30338-2021/02.04-Continuous-Product-Blending.html#2.4.8-Exercise-4.)\n",
    "    - [2.6.9 Suggested Exercises](https://jckantor.github.io/cbe30338-2021/02.06-Exothermic-CSTR.html#2.6.9-Suggested-Exercises)\n",
    "    - [4.6.5 Exercise: Compare the performance of these tuning rules.](https://jckantor.github.io/cbe30338-2021/04.06-PID-Controller-Tuning.html#4.6.5-Exercise:-Compare-the-performance-of-these-tuning-rules.)\n",
    "    - [4.10.2 Exercise 1.  Is the transfer from manual to automatic bumpless?](https://jckantor.github.io/cbe30338-2021/04.10-PID-Control.html#4.10.2-Exercise-1.-Is-the-transfer-from-manual-to-automatic-bumpless?)\n",
    "    - [4.10.3 Exercise 2](https://jckantor.github.io/cbe30338-2021/04.10-PID-Control.html#4.10.3-Exercise-2)\n",
    "    - [6.8.5 Exercise 1.](https://jckantor.github.io/cbe30338-2021/06.08-Gasoline-Blending.html#6.8.5-Exercise-1.)\n",
    "    - [6.8.6 Exercise 2.](https://jckantor.github.io/cbe30338-2021/06.08-Gasoline-Blending.html#6.8.6-Exercise-2.)\n",
    "    - [6.8.7 Exercise 3.](https://jckantor.github.io/cbe30338-2021/06.08-Gasoline-Blending.html#6.8.7-Exercise-3.)"
   ]
  }
 ],
 "metadata": {},
 "nbformat": 4,
 "nbformat_minor": 4
}
