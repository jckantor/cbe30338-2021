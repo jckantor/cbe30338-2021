{
 "cells": [
  {
   "cell_type": "markdown",
   "metadata": {},
   "source": [
    "<!--NOTEBOOK_HEADER-->\n",
    "*This notebook contains material from [cbe30338-2021](https://jckantor.github.io/cbe30338-2021);\n",
    "content is available [on Github](https://github.com/jckantor/cbe30338-2021.git).*\n"
   ]
  },
  {
   "cell_type": "markdown",
   "metadata": {},
   "source": [
    "<!--NAVIGATION-->\n",
    "< [3.4 Implementing Controllers in Python](https://jckantor.github.io/cbe30338-2021/03.04-Implementing-Controllers.html) | [Contents](toc.html) | [3.6 Lab Assignment 3: Relay and PI Control](https://jckantor.github.io/cbe30338-2021/03.06-Lab-Assignment-PI-Control.html) ><p><a href=\"https://colab.research.google.com/github/jckantor/cbe30338-2021/blob/master/docs/03.05-Proportional-Integral-Control.ipynb\"> <img align=\"left\" src=\"https://colab.research.google.com/assets/colab-badge.svg\" alt=\"Open in Colab\" title=\"Open in Google Colaboratory\"></a><p><a href=\"https://jckantor.github.io/cbe30338-2021/03.05-Proportional-Integral-Control.ipynb\"> <img align=\"left\" src=\"https://img.shields.io/badge/Github-Download-blue.svg\" alt=\"Download\" title=\"Download Notebook\"></a>"
   ]
  },
  {
   "cell_type": "markdown",
   "metadata": {
    "nbpages": {
     "level": 1,
     "link": "[3.5 Proportional (P) and Proportional-Integral (PI) Control](https://jckantor.github.io/cbe30338-2021/03.05-Proportional-Integral-Control.html#3.5-Proportional-(P)-and-Proportional-Integral-(PI)-Control)",
     "section": "3.5 Proportional (P) and Proportional-Integral (PI) Control"
    }
   },
   "source": [
    "# 3.5 Proportional (P) and Proportional-Integral (PI) Control"
   ]
  },
  {
   "cell_type": "markdown",
   "metadata": {
    "nbpages": {
     "level": 2,
     "link": "[3.5.1 Learning Goals](https://jckantor.github.io/cbe30338-2021/03.05-Proportional-Integral-Control.html#3.5.1-Learning-Goals)",
     "section": "3.5.1 Learning Goals"
    }
   },
   "source": [
    "## 3.5.1 Learning Goals\n",
    "\n",
    "* Be able be write expressions for proportional control, and proportional-integral control in position and velocity forms.\n",
    "* Define terminology\n",
    "    * negative feedback\n",
    "    * bias (or offset, or null) term\n",
    "    * proportional gain and integral gain\n",
    "    *\n",
    "* Explain how the proportional and integral terms contribute to acheving feedback control to a setpoint.\n",
    "* Explain the purpose of each of the following enhancements of 'textbook' PI control:\n",
    "    * Anti-reset windup\n",
    "         * Control algorithm modifications\n",
    "         * Event loop modifications\n",
    "    * Bumpless Transfer\n",
    "    "
   ]
  },
  {
   "cell_type": "markdown",
   "metadata": {
    "nbpages": {
     "level": 2,
     "link": "[3.5.2 Proportional Control](https://jckantor.github.io/cbe30338-2021/03.05-Proportional-Integral-Control.html#3.5.2-Proportional-Control)",
     "section": "3.5.2 Proportional Control"
    }
   },
   "source": [
    "## 3.5.2 Proportional Control"
   ]
  },
  {
   "cell_type": "markdown",
   "metadata": {
    "nbpages": {
     "level": 3,
     "link": "[3.5.2.1 Descripton](https://jckantor.github.io/cbe30338-2021/03.05-Proportional-Integral-Control.html#3.5.2.1-Descripton)",
     "section": "3.5.2.1 Descripton"
    }
   },
   "source": [
    "### 3.5.2.1 Descripton\n",
    "\n",
    "Unlike on-off relay control, **proportional control** continuously adjusts the manipulated variable in proportion to the error between the setpoint and measured process variable.\n",
    "\n",
    "\\begin{align}\n",
    "MV_k & = \\bar{MV} + K_P(SP_k  - PV_k)\n",
    "\\end{align}\n",
    "\n",
    "$K_p$ is a constant of proportionality called the **proportional control gain**. The **error signal** is the difference between the the measured process variable and setpoint,\n",
    "\n",
    "\\begin{align}\n",
    "e_k & = PV_k - SP_k\n",
    "\\end{align}\n",
    "\n",
    "for which the proportional control becomes\n",
    "\n",
    "\\begin{align}\n",
    "MV_k & = \\bar{MV} - K_P e_k\n",
    "\\end{align}\n",
    "\n",
    "The negative sign is why this is called **negative feedback control**. Negative feedback suppresses deviations from the setpoint. Assuming the proportional gain is positive, and that the process being controlled exhibits a positive causal relationship between the manipulated variable and process variable, if the process variable grows above the setpoint, then the manipulated variable is decreased. If the process variable falls below the setpoint, then the manipulated variable is increased.\n",
    "\n",
    "The constant term $\\bar{MV}$ is called the **bias**, **offset**, or **null** value of the manipulated variable. It is an initial estimate of the value of the manipulated variable required to maintain the desired setpoint. The estimate can be determined in several ways including:\n",
    "\n",
    "* manual adjustment of the manipulated variable followed by a transition to automatic control,\n",
    "* solving a process model for the desired steady state,\n",
    "* feedforward control,\n",
    "* a user provided estimate,\n",
    "* ignored.\n",
    "\n",
    "In subsequent notebooks we will see how $\\bar{MV}$ is used when building advanced control implementations."
   ]
  },
  {
   "cell_type": "markdown",
   "metadata": {
    "nbpages": {
     "level": 3,
     "link": "[3.5.2.2 Implementation](https://jckantor.github.io/cbe30338-2021/03.05-Proportional-Integral-Control.html#3.5.2.2-Implementation)",
     "section": "3.5.2.2 Implementation"
    }
   },
   "source": [
    "### 3.5.2.2 Implementation\n",
    "\n",
    "Our first implementation of feedback control will use a Python generator. An instance of a proportional controller is created by specifying the gain $K_P$, upper and lower bounds on the manipulated variable, and the offset value $\\bar{MV}$."
   ]
  },
  {
   "cell_type": "code",
   "execution_count": null,
   "metadata": {
    "nbpages": {
     "level": 3,
     "link": "[3.5.2.2 Implementation](https://jckantor.github.io/cbe30338-2021/03.05-Proportional-Integral-Control.html#3.5.2.2-Implementation)",
     "section": "3.5.2.2 Implementation"
    }
   },
   "outputs": [],
   "source": [
    "def P(Kp, MV_bar=0, MV_min=0, MV_max=100):\n",
    "    MV = MV_bar\n",
    "    while True:\n",
    "        SP, PV = yield MV\n",
    "        e = PV - SP\n",
    "        MV = MV_bar - Kp*e\n",
    "\n",
    "# create a controller instance with default parameter values\n",
    "controller = P(3.0)"
   ]
  },
  {
   "cell_type": "markdown",
   "metadata": {
    "nbpages": {
     "level": 3,
     "link": "[3.5.2.3 Controller Testing](https://jckantor.github.io/cbe30338-2021/03.05-Proportional-Integral-Control.html#3.5.2.3-Controller-Testing)",
     "section": "3.5.2.3 Controller Testing"
    }
   },
   "source": [
    "### 3.5.2.3 Controller Testing"
   ]
  },
  {
   "cell_type": "markdown",
   "metadata": {
    "nbpages": {
     "level": 3,
     "link": "[3.5.2.3 Controller Testing](https://jckantor.github.io/cbe30338-2021/03.05-Proportional-Integral-Control.html#3.5.2.3-Controller-Testing)",
     "section": "3.5.2.3 Controller Testing"
    }
   },
   "source": [
    "Let's see how the proportional control works when applied to the Temperature Control Laboratory. For this simulation we set $\\bar{MV} = 0$ and $K_p = 3.0$.\n",
    "\n",
    "The following cell creates a function `experiment` that we can use to test controllers. The experiment tests the ability of the control to maintain a setpoint point for temperature T1, and to suppress the influence of a disturbance due to switching on the second heater."
   ]
  },
  {
   "cell_type": "code",
   "execution_count": null,
   "metadata": {
    "nbpages": {
     "level": 3,
     "link": "[3.5.2.3 Controller Testing](https://jckantor.github.io/cbe30338-2021/03.05-Proportional-Integral-Control.html#3.5.2.3-Controller-Testing)",
     "section": "3.5.2.3 Controller Testing"
    }
   },
   "outputs": [],
   "source": [
    "%matplotlib inline\n",
    "from tclab import TCLab, clock, Historian, Plotter, setup\n",
    "\n",
    "def experiment(controller, t_final=450, t_step=2,\n",
    "               SP=lambda t: 40 if t >= 20 else 0, \n",
    "               D=lambda t: 100 if t >= 220 else 0):\n",
    "    TCLab = setup(connected=False, speedup=60)\n",
    "    with TCLab() as lab:\n",
    "\n",
    "        # set up historian and plotter\n",
    "        h = Historian(lab.sources)\n",
    "        p = Plotter(h, t_final)\n",
    "\n",
    "        # initialize manipulated variable\n",
    "        lab.P1 = 200\n",
    "        lab.Q1(next(controller))\n",
    "\n",
    "        # event loop\n",
    "        for t in clock(t_final, t_step):\n",
    "            T1 = lab.T1\n",
    "            U1 = controller.send((SP(t), T1))\n",
    "            lab.Q1(U1)\n",
    "            lab.Q2(D(t))\n",
    "            p.update(t)    \n",
    "            \n",
    "controller = P(3.0)\n",
    "experiment(controller)"
   ]
  },
  {
   "cell_type": "markdown",
   "metadata": {
    "nbpages": {
     "level": 3,
     "link": "[3.5.2.3 Controller Testing](https://jckantor.github.io/cbe30338-2021/03.05-Proportional-Integral-Control.html#3.5.2.3-Controller-Testing)",
     "section": "3.5.2.3 Controller Testing"
    }
   },
   "source": [
    "For systems without significant time delay and with properly chosen parameters, proportional control can achieve a fast response to changes in setpoint. Note, however, the steady state may be different than the desired setpoint, sometimes unacceptably different. This steady-state error a short-coming of purely proportional control.\n",
    "\n",
    "<hr>\n",
    "\n",
    "**Study Question:** Test the simulation for values of $K_p$ that are twice as large, and half as large as demonstrated above. What do you notice about the steady-state error between the desired setpoint and the measured process variable?\n",
    "\n",
    "<hr>"
   ]
  },
  {
   "cell_type": "markdown",
   "metadata": {
    "nbpages": {
     "level": 3,
     "link": "[3.5.2.4 Empirical Tuning Rules](https://jckantor.github.io/cbe30338-2021/03.05-Proportional-Integral-Control.html#3.5.2.4-Empirical-Tuning-Rules)",
     "section": "3.5.2.4 Empirical Tuning Rules"
    }
   },
   "source": [
    "### 3.5.2.4 Empirical Tuning Rules\n",
    "\n",
    "There are a number of **tuning rules** in the literature that provide recommended values for the proportional gain $K_P$. These rules typically require process information obtained from testing. \n",
    "\n",
    "Given process gain $K$, process time constant $\\tau$, and process time delay $\\tau_{delay}$, one example of recommended values are (from Seborg, Edgar, Mellichamp, Doyle):\n",
    "\n",
    "\\begin{align}\n",
    "\\text{Setpoint Tracking}\\qquad & K_P = \\frac{0.202}{K} \\left(\\frac{\\tau_{delay}}{\\tau}\\right)^{-1.219} \\\\\n",
    "\\\\\n",
    "\\text{Disturbance Rejection}\\qquad  & K_P = \\frac{0.490}{K} \\left(\\frac{\\tau_{delay}}{\\tau}\\right)^{-1.084}\n",
    "\\end{align}"
   ]
  },
  {
   "cell_type": "code",
   "execution_count": null,
   "metadata": {
    "nbpages": {
     "level": 3,
     "link": "[3.5.2.4 Empirical Tuning Rules](https://jckantor.github.io/cbe30338-2021/03.05-Proportional-Integral-Control.html#3.5.2.4-Empirical-Tuning-Rules)",
     "section": "3.5.2.4 Empirical Tuning Rules"
    }
   },
   "outputs": [],
   "source": [
    "K_process = 0.6\n",
    "t_process = 140\n",
    "t_delay = 20\n",
    "\n",
    "Kp_setpoint = (0.202/K_process) * (t_delay/t_process)**-1.219\n",
    "print(Kp_setpoint)\n",
    "\n",
    "controller = P(Kp_setpoint)\n",
    "experiment(controller)"
   ]
  },
  {
   "cell_type": "markdown",
   "metadata": {
    "nbpages": {
     "level": 3,
     "link": "[3.5.2.4 Empirical Tuning Rules](https://jckantor.github.io/cbe30338-2021/03.05-Proportional-Integral-Control.html#3.5.2.4-Empirical-Tuning-Rules)",
     "section": "3.5.2.4 Empirical Tuning Rules"
    }
   },
   "source": [
    "<hr>\n",
    "\n",
    "**Study Question:** Repeat the above experiment using the recommended proportional control gain for disturbance rejection. How does the response to \n",
    "\n",
    "<hr>"
   ]
  },
  {
   "cell_type": "markdown",
   "metadata": {
    "nbpages": {
     "level": 3,
     "link": "[3.5.2.5 Steady-State Offset](https://jckantor.github.io/cbe30338-2021/03.05-Proportional-Integral-Control.html#3.5.2.5-Steady-State-Offset)",
     "section": "3.5.2.5 Steady-State Offset"
    }
   },
   "source": [
    "### 3.5.2.5 Steady-State Offset\n",
    "\n",
    "Proportional-only control provides no assurance the the process variable will eventually acquire the setpoint. To see this, consider the proportional control law\n",
    "\n",
    "$$MV_k = \\bar{MV} - K_P e_k$$\n",
    "\n",
    "in the limit $k\\rightarrow\\infty$. \n",
    "\n",
    "$$e_{\\infty} = \\frac{\\bar{MV} - M_{\\infty}}{K_P}$$\n",
    "\n",
    "The error $e_\\infty$ expresses the steady-state difference between a process variable and it setpoint. With proportional control, the only options to reduce steady-state offset are \n",
    "\n",
    "1. Increase $K_P$. This leads to increasing oscillations and relay-like behavior of the manipulated variable.\n",
    "2. Find a perfect initial estimate for $\\bar{MV}$. If we could do this, we wouldn't need feedback control.\n",
    "\n",
    "A persistent steady-state offset is most significant shortcoming of proportional-only control."
   ]
  },
  {
   "cell_type": "markdown",
   "metadata": {
    "nbpages": {
     "level": 2,
     "link": "[3.5.3 Proportional-Integral (PI) Control](https://jckantor.github.io/cbe30338-2021/03.05-Proportional-Integral-Control.html#3.5.3-Proportional-Integral-(PI)-Control)",
     "section": "3.5.3 Proportional-Integral (PI) Control"
    }
   },
   "source": [
    "## 3.5.3 Proportional-Integral (PI) Control"
   ]
  },
  {
   "cell_type": "markdown",
   "metadata": {
    "nbpages": {
     "level": 3,
     "link": "[3.5.3.1 Position form](https://jckantor.github.io/cbe30338-2021/03.05-Proportional-Integral-Control.html#3.5.3.1-Position-form)",
     "section": "3.5.3.1 Position form"
    }
   },
   "source": [
    "### 3.5.3.1 Position form\n",
    "\n",
    "Given a process variable $PV$ and setpoint $SP$, proportional-integral control is defined by the relation\n",
    "\n",
    "\\begin{align}\n",
    "MV(t) & = \\bar{MV} + K_P(SP(t) - PV(t)) + K_I\\int_{-\\infty}^t (SP(t') - PV(t'))\\,dt'\n",
    "\\end{align}\n",
    "\n",
    "where **$K_P$ is the proportional gain** and **$K_I$ is the integral gain**. When implemented in discrete time with time steps of length $h$, the basic rule for proportional-integral control becomes\n",
    "\n",
    "\\begin{align}\n",
    "MV_k & = \\bar{MV} + K_P(SP_k  - PV_k) + h K_I\\sum_{j=0}^{j=k}(SP_j -  PV_j)\n",
    "\\end{align}\n",
    "\n",
    "This is the so-called **position form** of PI control. This formula specifies the value (or \"position\") of the manipulated variable stricly in terms of the current and past values of the **error** signal\n",
    "\n",
    "\\begin{align}\n",
    "e_k & = PV_k - SP_k\n",
    "\\end{align}\n",
    "\n",
    "Note the sign convention: A positive error occurs when the process variable is greater than the setpoint. When written in terms of error,\n",
    "\n",
    "The position form of PI control is rarely used in practice."
   ]
  },
  {
   "cell_type": "markdown",
   "metadata": {
    "nbpages": {
     "level": 3,
     "link": "[3.5.3.2 Velocity form](https://jckantor.github.io/cbe30338-2021/03.05-Proportional-Integral-Control.html#3.5.3.2-Velocity-form)",
     "section": "3.5.3.2 Velocity form"
    }
   },
   "source": [
    "### 3.5.3.2 Velocity form\n",
    "\n",
    "A more common implementation of PI control is done by computing how much the manipulated variable changes at each time step, and incrementing the manipulated variable by that amount.\n",
    "\n",
    "Defining the error at time $k$ as\n",
    "\n",
    "\\begin{align}\n",
    "e_k & = PV_k - SP_k\n",
    "\\end{align}\n",
    "\n",
    "then consecutive values of $MV$ are given by \n",
    "\n",
    "\\begin{align}\n",
    "MV_{k-1} & = \\bar{MV} - K_p e_{k-1} - h K_i \\sum_{j=0}^{k-1} e_{j} \\\\\n",
    "MV_{k} & = \\bar{MV} - K_p e_{k} - h K_i \\sum_{j=0}^{k} e_{j}\n",
    "\\end{align}\n",
    "\n",
    "Taking differences gives a formula for updating the value of $MV$ in response to process measurements or changes in setpoint.\n",
    "\n",
    "\\begin{align}\n",
    "MV_{k} & = MV_{k-1} - K_p(e_{k} - e_{k-1}) - h K_i e_{k}\n",
    "\\end{align}\n",
    "\n",
    "with $MV_0 = \\bar{MV}$. Let's see how this works."
   ]
  },
  {
   "cell_type": "code",
   "execution_count": null,
   "metadata": {
    "nbpages": {
     "level": 3,
     "link": "[3.5.3.2 Velocity form](https://jckantor.github.io/cbe30338-2021/03.05-Proportional-Integral-Control.html#3.5.3.2-Velocity-form)",
     "section": "3.5.3.2 Velocity form"
    }
   },
   "outputs": [],
   "source": [
    "def PI(Kp, Ki, MV_bar=0, MV_min=0, MV_max=100):\n",
    "    MV = MV_bar\n",
    "    e_prev = 0\n",
    "    while True:\n",
    "        SP, PV = yield MV\n",
    "        e = PV - SP\n",
    "        MV += -Kp*(e - e_prev) - Ki*e\n",
    "        e_prev = e\n",
    "        \n",
    "PI_controller = PI(3, 0.2)\n",
    "experiment(PI_controller)"
   ]
  },
  {
   "cell_type": "markdown",
   "metadata": {
    "nbpages": {
     "level": 3,
     "link": "[3.5.3.2 Velocity form](https://jckantor.github.io/cbe30338-2021/03.05-Proportional-Integral-Control.html#3.5.3.2-Velocity-form)",
     "section": "3.5.3.2 Velocity form"
    }
   },
   "source": [
    "As we can see from this example, an important practical property of proportonal-integral control is **steady-state tracking of the setpoint.** In other words, for a steaady setpoint $\\bar{SP}$, at steady-state \n",
    "\n",
    "\\begin{align}\n",
    "\\lim_{k \\rightarrow \\infty} PV_k = \\bar{SP}\n",
    "\\end{align}\n",
    "\n",
    "To see why this is true, start with the velocity form of the proportional-integral controller\n",
    "\n",
    "\\begin{align}\n",
    "MV_{k} & = MV_{k-1} - K_p(e_{k} - e_{k-1}) - h K_i e_{k}\n",
    "\\end{align}\n",
    "\n",
    "At steady-state $MV_{k} = MV_{k-1}$ and $e_{k} = e_{k-1}$ leaving \n",
    "\n",
    "$$h K_i e_{k} = 0 \\implies e_{k} = 0 \\implies PV_{k} = \\bar{SP}$$"
   ]
  },
  {
   "cell_type": "markdown",
   "metadata": {
    "nbpages": {
     "level": 2,
     "link": "[3.5.4 Anti-Reset Windup](https://jckantor.github.io/cbe30338-2021/03.05-Proportional-Integral-Control.html#3.5.4-Anti-Reset-Windup)",
     "section": "3.5.4 Anti-Reset Windup"
    }
   },
   "source": [
    "## 3.5.4 Anti-Reset Windup"
   ]
  },
  {
   "cell_type": "markdown",
   "metadata": {
    "nbpages": {
     "level": 3,
     "link": "[3.5.4.1 Integral or resent windup](https://jckantor.github.io/cbe30338-2021/03.05-Proportional-Integral-Control.html#3.5.4.1-Integral-or-resent-windup)",
     "section": "3.5.4.1 Integral or resent windup"
    }
   },
   "source": [
    "### 3.5.4.1 Integral or resent windup\n",
    "\n",
    "In the next cell we're doing an experiment in which we increase the magnitude of the control gains to see if we an acheive even better control performance. Let's see how we do."
   ]
  },
  {
   "cell_type": "code",
   "execution_count": null,
   "metadata": {
    "nbpages": {
     "level": 3,
     "link": "[3.5.4.1 Integral or resent windup](https://jckantor.github.io/cbe30338-2021/03.05-Proportional-Integral-Control.html#3.5.4.1-Integral-or-resent-windup)",
     "section": "3.5.4.1 Integral or resent windup"
    }
   },
   "outputs": [],
   "source": [
    "PI_controller = PI(10, 1.0)\n",
    "experiment(PI_controller)"
   ]
  },
  {
   "cell_type": "markdown",
   "metadata": {
    "nbpages": {
     "level": 3,
     "link": "[3.5.4.1 Integral or resent windup](https://jckantor.github.io/cbe30338-2021/03.05-Proportional-Integral-Control.html#3.5.4.1-Integral-or-resent-windup)",
     "section": "3.5.4.1 Integral or resent windup"
    }
   },
   "source": [
    "<hr>\n",
    "\n",
    "**Study Question:** Carefully exammine the results of this experiment. The PI velocity algorithm is given by an equation\n",
    "\n",
    "\\begin{align}\n",
    "MV_{k} & = MV_{k-1} - K_p(e_{k} - e_{k-1}) - h K_i e_{k}\n",
    "\\end{align}\n",
    "\n",
    "Looking at the period from 0 to 100 seconds, is this equation being satisfied? Why or why not?  \n",
    "\n",
    "**Study Question:** Carefully examine the code for the PI controller. Is is possible for $MV$ to be different from the actual input applied to the device?\n",
    "\n",
    "<hr>"
   ]
  },
  {
   "cell_type": "markdown",
   "metadata": {
    "nbpages": {
     "level": 3,
     "link": "[3.5.4.2 Anti-reset windup - Part 1](https://jckantor.github.io/cbe30338-2021/03.05-Proportional-Integral-Control.html#3.5.4.2-Anti-reset-windup---Part-1)",
     "section": "3.5.4.2 Anti-reset windup - Part 1"
    }
   },
   "source": [
    "### 3.5.4.2 Anti-reset windup - Part 1\n",
    "\n",
    "There several common strategies for avoiding integral (aka reset) windup. The first of these, which should be part of any practical implementation, is to limit computed values of manipulated variable to the range of allowable values. This will avoid $MV$ 'winding up' due to range limits.\n",
    "\n",
    "\\begin{align}\n",
    "\\hat{MV}_{k} & = MV_{k-1} - K_p(e_{k} - e_{k-1}) - h K_i e_{k} \n",
    "\\end{align}\n",
    "\n",
    "\\begin{align}\n",
    "MV_k & = \\max(MV^{min}, \\min(MV^{max}, \\hat{MV}_k)\n",
    "\\end{align}"
   ]
  },
  {
   "cell_type": "code",
   "execution_count": null,
   "metadata": {
    "nbpages": {
     "level": 3,
     "link": "[3.5.4.2 Anti-reset windup - Part 1](https://jckantor.github.io/cbe30338-2021/03.05-Proportional-Integral-Control.html#3.5.4.2-Anti-reset-windup---Part-1)",
     "section": "3.5.4.2 Anti-reset windup - Part 1"
    }
   },
   "outputs": [],
   "source": [
    "def PI_antiwindup(Kp, Ki, MV_bar=0, MV_min=0, MV_max=100):\n",
    "    MV = MV_bar\n",
    "    e_prev = 0\n",
    "    while True:\n",
    "        SP, PV = yield MV\n",
    "        e = PV - SP\n",
    "        MV += - Kp*(e - e_prev) - Ki*e\n",
    "        MV = max(MV_min, min(MV_max, MV))\n",
    "        e_prev = e\n",
    "        \n",
    "controller = PI_antiwindup(10, 1.0)\n",
    "experiment(controller)"
   ]
  },
  {
   "cell_type": "markdown",
   "metadata": {
    "nbpages": {
     "level": 3,
     "link": "[3.5.4.3 Anti-reset Windup - Part 2](https://jckantor.github.io/cbe30338-2021/03.05-Proportional-Integral-Control.html#3.5.4.3-Anti-reset-Windup---Part-2)",
     "section": "3.5.4.3 Anti-reset Windup - Part 2"
    }
   },
   "source": [
    "### 3.5.4.3 Anti-reset Windup - Part 2\n",
    "\n",
    "A more subtle form of windup occurs when the manipulated variable is subject to external interventions. This can occur when a valve stem in a process application gets stuck, an operator or user intervenes and resets a mechanical actuator, or there is some sort of system failure. \n",
    "\n",
    "For these reasons, practical control systems often include a field measurement of the manipulated variable that is fed back to the controller. The following image, for example, shows a pneumatically operated globe valve with a positioner, and with feedback of position to the central control system.\n",
    "\n",
    "<p><a href=\"https://commons.wikimedia.org/wiki/File:Pl_control_valve.jpg#/media/File:Pl_control_valve.jpg\"><img src=\"https://upload.wikimedia.org/wikipedia/commons/b/b2/Pl_control_valve.jpg\" alt=\"Pl control valve.jpg\" height=\"720\" width=\"540\"></a>\n",
    "    \n",
    " <a href=\"https://creativecommons.org/licenses/by-sa/3.0\" title=\"Creative Commons Attribution-Share Alike 3.0\">CC BY-SA 3.0</a>\n",
    "    \n",
    "Stepper motors are commonly used actuators in lab equipment and robotics. The position of the stepper motor would be manipulated variable. This is an example of a stepper motor with an integrated encoder that can be used to verify the motor's position.\n",
    "    \n",
    "![](https://www.portescap.com/-/media/project/automation-specialty/portescap/portescap/products/workings-of-encoders/encoder_chart_720x450_1_0.jpg)"
   ]
  },
  {
   "cell_type": "markdown",
   "metadata": {
    "nbpages": {
     "level": 3,
     "link": "[3.5.4.3 Anti-reset Windup - Part 2](https://jckantor.github.io/cbe30338-2021/03.05-Proportional-Integral-Control.html#3.5.4.3-Anti-reset-Windup---Part-2)",
     "section": "3.5.4.3 Anti-reset Windup - Part 2"
    }
   },
   "source": [
    "This behavior also occurs in the Temperature Control Laboratory in which the manipulated power levels are constrained to the range 0% to 100%. This is demonstated in the following cell."
   ]
  },
  {
   "cell_type": "code",
   "execution_count": 16,
   "metadata": {
    "nbpages": {
     "level": 3,
     "link": "[3.5.4.3 Anti-reset Windup - Part 2](https://jckantor.github.io/cbe30338-2021/03.05-Proportional-Integral-Control.html#3.5.4.3-Anti-reset-Windup---Part-2)",
     "section": "3.5.4.3 Anti-reset Windup - Part 2"
    }
   },
   "outputs": [
    {
     "name": "stdout",
     "output_type": "stream",
     "text": [
      "TCLab version 0.4.9\n",
      "Simulated TCLab\n",
      "Q1 = 0\n",
      "Q1 = 100\n",
      "TCLab Model disconnected successfully.\n"
     ]
    }
   ],
   "source": [
    "# show that inputs to the TCLab are constrained to the range 0 to 100%\n",
    "\n",
    "TCLab = setup(connected=False, speedup=20)\n",
    "with TCLab() as lab:\n",
    "    print(f\"Q1 = {lab.Q1()}\")\n",
    "    lab.Q1(150)\n",
    "    print(f\"Q1 = {lab.Q1()}\")"
   ]
  },
  {
   "cell_type": "markdown",
   "metadata": {
    "nbpages": {
     "level": 3,
     "link": "[3.5.4.3 Anti-reset Windup - Part 2](https://jckantor.github.io/cbe30338-2021/03.05-Proportional-Integral-Control.html#3.5.4.3-Anti-reset-Windup---Part-2)",
     "section": "3.5.4.3 Anti-reset Windup - Part 2"
    }
   },
   "source": [
    "To accomodate feedback of the manipulated variable, we first need to modify the event loop to incorporate the measurement of the manipulated variable, then send that value to the controller."
   ]
  },
  {
   "cell_type": "code",
   "execution_count": null,
   "metadata": {
    "nbpages": {
     "level": 3,
     "link": "[3.5.4.3 Anti-reset Windup - Part 2](https://jckantor.github.io/cbe30338-2021/03.05-Proportional-Integral-Control.html#3.5.4.3-Anti-reset-Windup---Part-2)",
     "section": "3.5.4.3 Anti-reset Windup - Part 2"
    }
   },
   "outputs": [],
   "source": [
    "%matplotlib inline\n",
    "from tclab import TCLab, clock, Historian, Plotter, setup\n",
    "\n",
    "def experiment(controller, t_final=450, t_step=2,\n",
    "               SP=lambda t: 40 if t >= 20 else 0, \n",
    "               D=lambda t: 100 if t >= 220 else 0):\n",
    "    TCLab = setup(connected=False, speedup=60)\n",
    "    with TCLab() as lab:\n",
    "\n",
    "        # set up historian and plotter\n",
    "        h = Historian(lab.sources)\n",
    "        p = Plotter(h, t_final)\n",
    "\n",
    "        # initialize manipulated variable\n",
    "        lab.P1 = 200\n",
    "        lab.Q1(next(controller))\n",
    "\n",
    "        # event loop\n",
    "        for t in clock(t_final, t_step):\n",
    "            T1 = lab.T1\n",
    "            U1 = lab.Q1()                            # <==== new line\n",
    "            U1 = controller.send((SP(t), T1, U1))    # <==== send U1 to controller \n",
    "            lab.Q1(U1)\n",
    "            lab.Q2(D(t))\n",
    "            p.update(t)     "
   ]
  },
  {
   "cell_type": "markdown",
   "metadata": {
    "nbpages": {
     "level": 3,
     "link": "[3.5.4.3 Anti-reset Windup - Part 2](https://jckantor.github.io/cbe30338-2021/03.05-Proportional-Integral-Control.html#3.5.4.3-Anti-reset-Windup---Part-2)",
     "section": "3.5.4.3 Anti-reset Windup - Part 2"
    }
   },
   "source": [
    "The next change is to the controller. The controller now accepts values for PV, SP, and, additionally, MV. To demonstrate the impact of these changes, this example will comment out the software limits placed on MV to show that feedback of manipulated variable is also an anti-reset windwup strategy."
   ]
  },
  {
   "cell_type": "code",
   "execution_count": null,
   "metadata": {
    "nbpages": {
     "level": 3,
     "link": "[3.5.4.3 Anti-reset Windup - Part 2](https://jckantor.github.io/cbe30338-2021/03.05-Proportional-Integral-Control.html#3.5.4.3-Anti-reset-Windup---Part-2)",
     "section": "3.5.4.3 Anti-reset Windup - Part 2"
    }
   },
   "outputs": [],
   "source": [
    "def PI(Kp, Ki, MV_bar=0, MV_min=0, MV_max=100):\n",
    "    MV = MV_bar\n",
    "    e_prev = 0\n",
    "    while True:\n",
    "        SP, PV, MV = yield MV   # <==== now gets MV from experiment\n",
    "        e = PV - SP\n",
    "        MV += -Kp*(e - e_prev) - Ki*e\n",
    "        # MV = max(MV_min, min(MV_max, MV))\n",
    "        e_prev = e\n",
    "        \n",
    "controller = PI_antiwindup(10, 1.0)\n",
    "experiment(controller)"
   ]
  },
  {
   "cell_type": "markdown",
   "metadata": {
    "nbpages": {
     "level": 2,
     "link": "[3.5.5 Bumpless Transfer](https://jckantor.github.io/cbe30338-2021/03.05-Proportional-Integral-Control.html#3.5.5-Bumpless-Transfer)",
     "section": "3.5.5 Bumpless Transfer"
    }
   },
   "source": [
    "## 3.5.5 Bumpless Transfer\n",
    "\n",
    "1. Set $\\bar{MV}$ equal to the current value of the manipulated variable.\n",
    "2. Set the setpoint equal to the current value of the process variable.\n",
    "\n"
   ]
  },
  {
   "cell_type": "code",
   "execution_count": null,
   "metadata": {
    "nbpages": {
     "level": 2,
     "link": "[3.5.5 Bumpless Transfer](https://jckantor.github.io/cbe30338-2021/03.05-Proportional-Integral-Control.html#3.5.5-Bumpless-Transfer)",
     "section": "3.5.5 Bumpless Transfer"
    }
   },
   "outputs": [],
   "source": [
    "%matplotlib inline\n",
    "from tclab import TCLab, clock, Historian, Plotter, setup\n",
    "\n",
    "def experiment(controller, t_final=450, t_step=2,\n",
    "               SP=lambda t: 40 if t >= 20 else 0):\n",
    "    TCLab = setup(connected=False, speedup=60)\n",
    "    with TCLab() as lab:\n",
    "\n",
    "        # set up historian and plotter\n",
    "        h = Historian(lab.sources)\n",
    "        p = Plotter(h, t_final)\n",
    "\n",
    "        # initialize manipulated variable\n",
    "        lab.P1 = 200\n",
    "        lab.Q1(next(controller))\n",
    "\n",
    "        # event loop \n",
    "        for t in clock(t_final, t_step):\n",
    "            if t < 200:\n",
    "                manual = True\n",
    "                auto = False\n",
    "            else:\n",
    "                manual = False\n",
    "                if auto is False:\n",
    "                    controller = PI_antiwindup(3.0, 1.0, MV_bar=lab.Q1)\n",
    "                    auto = True\n",
    "\n",
    "            if manual:\n",
    "                lab.Q1(30)\n",
    "            else:\n",
    "                T1 = lab.T1\n",
    "                U1 = lab.Q1()\n",
    "                U1 = controller.send((SP(t), T1, U1))\n",
    "                lab.Q1(U1)\n",
    "            p.update(t)   \n",
    "            \n",
    "controller = PI_antiwindup(10, 1.0)\n",
    "experiment(controller)"
   ]
  },
  {
   "cell_type": "code",
   "execution_count": null,
   "metadata": {
    "nbpages": {
     "level": 2,
     "link": "[3.5.5 Bumpless Transfer](https://jckantor.github.io/cbe30338-2021/03.05-Proportional-Integral-Control.html#3.5.5-Bumpless-Transfer)",
     "section": "3.5.5 Bumpless Transfer"
    }
   },
   "outputs": [],
   "source": [
    "%matplotlib inline\n",
    "import numpy as np\n",
    "from tclab import TCLab, clock, Historian, Plotter, setup\n",
    "\n",
    "            U1 = lab.Q1()                            # <==== new line\n",
    "            U1 = controller.send((sp(t), T1, U1))    # <==== send U1 to controller \n",
    "\n",
    "def experiment2(controller):\n",
    "\n",
    "    # time horizon and time step\n",
    "    t_final = 450\n",
    "    t_step = 2\n",
    "\n",
    "    # constant setpoint\n",
    "    def sp(t):\n",
    "        ti = [0, 0, 220]\n",
    "        yi = [20, 40, 40]\n",
    "        return np.interp(t, ti, yi)\n",
    "\n",
    "    # perform experiment\n",
    "    TCLab = setup(connected=False, speedup=20)\n",
    "    with TCLab() as lab:\n",
    "\n",
    "        # set up historian and plotter\n",
    "        h = Historian(lab.sources)\n",
    "        p = Plotter(h, t_final)\n",
    "\n",
    "        # initialize manipulated variable\n",
    "        lab.P1 = 200\n",
    "        lab.Q1(next(controller))\n",
    "\n",
    "        # main event loop\n",
    "        for t in clock(t_final, t_step):\n",
    "            T1 = lab.T1\n",
    "            U1 = lab.Q1()                            # <==== new line\n",
    "            U1 = controller.send((sp(t), T1, U1))    # <==== send U1 to controller \n",
    "            lab.Q1(U1)\n",
    "            p.update(t)   "
   ]
  },
  {
   "cell_type": "code",
   "execution_count": 46,
   "metadata": {
    "nbpages": {
     "level": 2,
     "link": "[3.5.5 Bumpless Transfer](https://jckantor.github.io/cbe30338-2021/03.05-Proportional-Integral-Control.html#3.5.5-Bumpless-Transfer)",
     "section": "3.5.5 Bumpless Transfer"
    }
   },
   "outputs": [
    {
     "data": {
      "image/png": "[encoded data removed]",
      "text/plain": [
       "<Figure size 640x480 with 4 Axes>"
      ]
     },
     "metadata": {},
     "output_type": "display_data"
    },
    {
     "name": "stdout",
     "output_type": "stream",
     "text": [
      "TCLab Model disconnected successfully.\n"
     ]
    },
    {
     "data": {
      "image/png": "[encoded data removed]",
      "text/plain": [
       "<Figure size 640x480 with 4 Axes>"
      ]
     },
     "metadata": {
      "needs_background": "light"
     },
     "output_type": "display_data"
    }
   ],
   "source": [
    "def PI(Kp, Ki, MV_min, MV_max):\n",
    "    SP, PV, MV = yield MV_min\n",
    "    MV += -Ki*(PV - SP)\n",
    "    MV = max(MV_min, min(MV_max, MV))\n",
    "    PV_prev = PV\n",
    "    while True:\n",
    "        SP, PV, MV = yield MV\n",
    "        MV += -Kp*(PV - PV_prev) - Ki*(PV - SP)\n",
    "        MV = max(MV_min, min(MV_max, MV))\n",
    "        PV_prev = PV\n",
    "        \n",
    "PI_controller_no_windup = PI(10, 1, MV_min=0, MV_max=100)\n",
    "experiment2(PI_controller_no_windup)"
   ]
  },
  {
   "cell_type": "code",
   "execution_count": null,
   "metadata": {
    "nbpages": {
     "level": 2,
     "link": "[3.5.5 Bumpless Transfer](https://jckantor.github.io/cbe30338-2021/03.05-Proportional-Integral-Control.html#3.5.5-Bumpless-Transfer)",
     "section": "3.5.5 Bumpless Transfer"
    }
   },
   "outputs": [],
   "source": []
  },
  {
   "cell_type": "markdown",
   "metadata": {},
   "source": [
    "<!--NAVIGATION-->\n",
    "< [3.4 Implementing Controllers in Python](https://jckantor.github.io/cbe30338-2021/03.04-Implementing-Controllers.html) | [Contents](toc.html) | [3.6 Lab Assignment 3: Relay and PI Control](https://jckantor.github.io/cbe30338-2021/03.06-Lab-Assignment-PI-Control.html) ><p><a href=\"https://colab.research.google.com/github/jckantor/cbe30338-2021/blob/master/docs/03.05-Proportional-Integral-Control.ipynb\"> <img align=\"left\" src=\"https://colab.research.google.com/assets/colab-badge.svg\" alt=\"Open in Colab\" title=\"Open in Google Colaboratory\"></a><p><a href=\"https://jckantor.github.io/cbe30338-2021/03.05-Proportional-Integral-Control.ipynb\"> <img align=\"left\" src=\"https://img.shields.io/badge/Github-Download-blue.svg\" alt=\"Download\" title=\"Download Notebook\"></a>"
   ]
  }
 ],
 "metadata": {
  "kernelspec": {
   "display_name": "Python 3",
   "language": "python",
   "name": "python3"
  },
  "language_info": {
   "codemirror_mode": {
    "name": "ipython",
    "version": 3
   },
   "file_extension": ".py",
   "mimetype": "text/x-python",
   "name": "python",
   "nbconvert_exporter": "python",
   "pygments_lexer": "ipython3",
   "version": "3.8.5"
  }
 },
 "nbformat": 4,
 "nbformat_minor": 4
}
