{
 "cells": [
  {
   "cell_type": "markdown",
   "metadata": {},
   "source": [
    "<!--NOTEBOOK_HEADER-->\n",
    "*This notebook contains material from [cbe30338-2021](https://jckantor.github.io/cbe30338-2021);\n",
    "content is available [on Github](https://github.com/jckantor/cbe30338-2021.git).*\n"
   ]
  },
  {
   "cell_type": "markdown",
   "metadata": {},
   "source": [
    "<!--NAVIGATION-->\n",
    "< [1.0 Introduction](https://jckantor.github.io/cbe30338-2021/01.00-Introduction.html) | [Contents](toc.html) | [Tag Index](tag_index.html) | [2.0 Process Modeling](https://jckantor.github.io/cbe30338-2021/02.00-Process-Modeling.html) ><p><a href=\"https://colab.research.google.com/github/jckantor/cbe30338-2021/blob/master/docs/01.01-What-is-Process-Control.ipynb\"> <img align=\"left\" src=\"https://colab.research.google.com/assets/colab-badge.svg\" alt=\"Open in Colab\" title=\"Open in Google Colaboratory\"></a><p><a href=\"https://jckantor.github.io/cbe30338-2021/01.01-What-is-Process-Control.ipynb\"> <img align=\"left\" src=\"https://img.shields.io/badge/Github-Download-blue.svg\" alt=\"Download\" title=\"Download Notebook\"></a>"
   ]
  },
  {
   "cell_type": "markdown",
   "metadata": {
    "nbpages": {
     "level": 1,
     "link": "[1.1 What is Process Control?](https://jckantor.github.io/cbe30338-2021/01.01-What-is-Process-Control.html#1.1-What-is-Process-Control?)",
     "section": "1.1 What is Process Control?"
    }
   },
   "source": [
    "# 1.1 What is Process Control?"
   ]
  },
  {
   "cell_type": "markdown",
   "metadata": {
    "nbpages": {
     "level": 2,
     "link": "[1.1.1 Automation of Industrial Processes](https://jckantor.github.io/cbe30338-2021/01.01-What-is-Process-Control.html#1.1.1-Automation-of-Industrial-Processes)",
     "section": "1.1.1 Automation of Industrial Processes"
    }
   },
   "source": [
    "## 1.1.1 Automation of Industrial Processes"
   ]
  },
  {
   "cell_type": "markdown",
   "metadata": {
    "nbpages": {
     "level": 3,
     "link": "[1.1.1.1 Refineries: Fluidized Catalytic Cracking Unit (FCCU)](https://jckantor.github.io/cbe30338-2021/01.01-What-is-Process-Control.html#1.1.1.1-Refineries:-Fluidized-Catalytic-Cracking-Unit-(FCCU))",
     "section": "1.1.1.1 Refineries: Fluidized Catalytic Cracking Unit (FCCU)"
    }
   },
   "source": [
    "### 1.1.1.1 Refineries: Fluidized Catalytic Cracking Unit (FCCU)\n",
    "\n",
    "The FCCU is a critical process in most refineries. This is the unit responsible for 'cracking' the long chain hydrocarbons found to create more valuable molecules that can be blended into gasoline. Operation of the FCCU involves a complex coordination of a large scale reactors, regenerators, distillation operating with the potential for catastrophic accidents. When you here of explosions at refineries, often it is the outcome of some event involving operation of the FCCU.\n",
    "\n",
    "The following video was created by the U.S. Chemical Safety Board (USCSB) to demonstrate causes of an explosion in 2015 at an ExxonMobil refinery in Torrance, CA.  Watch the first 2-3 minutes for an excellent animation of FCCU operation. While you are watching the animation, ask yourself how this unit can be controlled to establish desired flowrates, prevent hazards, maximize the economic value of the products, and acheive product quality requirements. \n",
    "\n",
    "(If found this interesting,  you might also check out an animation of a [2005 incident at the BP Texas City Refinery](https://youtu.be/goSEyGNfiPM?t=43))"
   ]
  },
  {
   "cell_type": "code",
   "execution_count": 4,
   "metadata": {
    "nbpages": {
     "level": 3,
     "link": "[1.1.1.1 Refineries: Fluidized Catalytic Cracking Unit (FCCU)](https://jckantor.github.io/cbe30338-2021/01.01-What-is-Process-Control.html#1.1.1.1-Refineries:-Fluidized-Catalytic-Cracking-Unit-(FCCU))",
     "section": "1.1.1.1 Refineries: Fluidized Catalytic Cracking Unit (FCCU)"
    }
   },
   "outputs": [
    {
     "data": {
      "text/html": [
       "<iframe width=\"560\" height=\"315\" src=\"https://www.youtube.com/embed/JplAKJrgyew\" frameborder=\"0\" allow=\"accelerometer; autoplay; clipboard-write; encrypted-media; gyroscope; picture-in-picture\" allowfullscreen></iframe>"
      ],
      "text/plain": [
       "<IPython.core.display.HTML object>"
      ]
     },
     "execution_count": 4,
     "metadata": {},
     "output_type": "execute_result"
    }
   ],
   "source": [
    "from IPython.display import HTML\n",
    "\n",
    "HTML('<iframe width=\"560\" height=\"315\" src=\"https://www.youtube.com/embed/JplAKJrgyew\" frameborder=\"0\" allow=\"accelerometer; autoplay; clipboard-write; encrypted-media; gyroscope; picture-in-picture\" allowfullscreen></iframe>')"
   ]
  },
  {
   "cell_type": "markdown",
   "metadata": {
    "nbpages": {
     "level": 3,
     "link": "[1.1.1.2 Manufacturing: Tesla Shanghai Gigafactory](https://jckantor.github.io/cbe30338-2021/01.01-What-is-Process-Control.html#1.1.1.2-Manufacturing:-Tesla-Shanghai-Gigafactory)",
     "section": "1.1.1.2 Manufacturing: Tesla Shanghai Gigafactory"
    }
   },
   "source": [
    "### 1.1.1.2 Manufacturing: Tesla Shanghai Gigafactory\n",
    "\n",
    "Telsa has recently been outfitting factories with very large scale automated casting ('megacasting') to signficantly reduce the complexity of its manufacturiing processes.\n",
    "\n",
    "As you watch the following video, try to identify the many levels of control required to realize this automated manufacturing system. For example, what sensors and actuators are required for each robot to do their tasks?  How is quality control maintained? How are operations coordinated among the assembly stations in the manufacturing line?"
   ]
  },
  {
   "cell_type": "code",
   "execution_count": 9,
   "metadata": {
    "nbpages": {
     "level": 3,
     "link": "[1.1.1.2 Manufacturing: Tesla Shanghai Gigafactory](https://jckantor.github.io/cbe30338-2021/01.01-What-is-Process-Control.html#1.1.1.2-Manufacturing:-Tesla-Shanghai-Gigafactory)",
     "section": "1.1.1.2 Manufacturing: Tesla Shanghai Gigafactory"
    }
   },
   "outputs": [
    {
     "data": {
      "text/html": [
       "<blockquote class=\"twitter-tweet\"><p lang=\"en\" dir=\"ltr\">Giga Shanghai is becoming a production powerhouse. Watch mega castings for Model Y coming out of 6k-ton Giga presses. The whole process is fully automated, including quality check. Pretty mind blowing to say the least. <a href=\"https://t.co/PBMUpDjnD8\">pic.twitter.com/PBMUpDjnD8</a></p>&mdash; Ray4Tesla⚡️🚘☀️🔋 (@ray4tesla) <a href=\"https://twitter.com/ray4tesla/status/1356639381549846529?ref_src=twsrc%5Etfw\">February 2, 2021</a></blockquote> <script async src=\"https://platform.twitter.com/widgets.js\" charset=\"utf-8\"></script>"
      ],
      "text/plain": [
       "<IPython.core.display.HTML object>"
      ]
     },
     "execution_count": 9,
     "metadata": {},
     "output_type": "execute_result"
    }
   ],
   "source": [
    "from IPython.display import HTML\n",
    "HTML('<blockquote class=\"twitter-tweet\"><p lang=\"en\" dir=\"ltr\">Giga Shanghai is becoming a production powerhouse. Watch mega castings for Model Y coming out of 6k-ton Giga presses. The whole process is fully automated, including quality check. Pretty mind blowing to say the least. <a href=\"https://t.co/PBMUpDjnD8\">pic.twitter.com/PBMUpDjnD8</a></p>&mdash; Ray4Tesla⚡️🚘☀️🔋 (@ray4tesla) <a href=\"https://twitter.com/ray4tesla/status/1356639381549846529?ref_src=twsrc%5Etfw\">February 2, 2021</a></blockquote> <script async src=\"https://platform.twitter.com/widgets.js\" charset=\"utf-8\"></script>')"
   ]
  },
  {
   "cell_type": "markdown",
   "metadata": {
    "nbpages": {
     "level": 3,
     "link": "[1.1.1.3 Biomedical: Automated Insulin Therapy](https://jckantor.github.io/cbe30338-2021/01.01-What-is-Process-Control.html#1.1.1.3-Biomedical:-Automated-Insulin-Therapy)",
     "section": "1.1.1.3 Biomedical: Automated Insulin Therapy"
    }
   },
   "source": [
    "### 1.1.1.3 Biomedical: Automated Insulin Therapy\n",
    "\n",
    "Over the last decade, due to the research work by chemical and biomedical engineers, automated insulin therapies are now commercially available from several manufacturers. The following links and illusration show the major components of these systems. \n",
    "\n",
    "* What sensors are required?\n",
    "* What actuators are required?\n",
    "* What is the control objective?\n",
    "* How do you assure safety?\n",
    "\n",
    "[Medtronic MiniMed 770G System](https://www.medtronicdiabetes.com/products/minimed-770g-insulin-pump-system?utm_source=tsa_google_ppc&utm_campaign=Insulin+Pumps+2.0&utm_medium=text&gclid=Cj0KCQiA0-6ABhDMARIsAFVdQv87xTl1TF0Yx9YWM-LRV4x-FjZvWFaZhSA_33o--SDWvbY7h4O-UyEaAvzaEALw_wcB&gclsrc=aw.ds)\n",
    "\n",
    "![](https://www.medtronicdiabetes.com/res/img/770g/770g-img1a.jpg)"
   ]
  },
  {
   "cell_type": "code",
   "execution_count": null,
   "metadata": {
    "nbpages": {
     "level": 3,
     "link": "[1.1.1.3 Biomedical: Automated Insulin Therapy](https://jckantor.github.io/cbe30338-2021/01.01-What-is-Process-Control.html#1.1.1.3-Biomedical:-Automated-Insulin-Therapy)",
     "section": "1.1.1.3 Biomedical: Automated Insulin Therapy"
    }
   },
   "outputs": [],
   "source": [
    "from IPython.display import HTML\n",
    "\n",
    "HTML('<iframe width=\"560\" height=\"315\" src=\"https://www.youtube.com/embed/JplAKJrgyew\" frameborder=\"0\" allow=\"accelerometer; autoplay; clipboard-write; encrypted-media; gyroscope; picture-in-picture\" allowfullscreen></iframe>')"
   ]
  },
  {
   "cell_type": "markdown",
   "metadata": {
    "nbpages": {
     "level": 3,
     "link": "[1.1.1.3 Biomedical: Automated Insulin Therapy](https://jckantor.github.io/cbe30338-2021/01.01-What-is-Process-Control.html#1.1.1.3-Biomedical:-Automated-Insulin-Therapy)",
     "section": "1.1.1.3 Biomedical: Automated Insulin Therapy"
    }
   },
   "source": [
    "![](./figures/FeedbackControlDiagram.png)"
   ]
  },
  {
   "cell_type": "code",
   "execution_count": null,
   "metadata": {
    "nbpages": {
     "level": 3,
     "link": "[1.1.1.3 Biomedical: Automated Insulin Therapy](https://jckantor.github.io/cbe30338-2021/01.01-What-is-Process-Control.html#1.1.1.3-Biomedical:-Automated-Insulin-Therapy)",
     "section": "1.1.1.3 Biomedical: Automated Insulin Therapy"
    }
   },
   "outputs": [],
   "source": []
  },
  {
   "cell_type": "markdown",
   "metadata": {
    "nbpages": {
     "level": 3,
     "link": "[1.1.1.4 Assignment 1](https://jckantor.github.io/cbe30338-2021/01.01-What-is-Process-Control.html#1.1.1.4-Assignment-1)",
     "section": "1.1.1.4 Assignment 1"
    }
   },
   "source": [
    "### 1.1.1.4 Assignment 1\n",
    "\n",
    "The first assignment is to prepare you with the tools you will need for this course. These are simple tasks, but will require some time to complete. (So don't leave this to the last minute!). The assignment is due no later than 11:00 am, Tuesday, February 9th.\n",
    "\n",
    "1. Download and install the most current version of Anaconda. (You will be interfacing Arduino hardware with your laptop, so it is essential to be using versions of Python and the associated library that are consistent with the software developed for this course. To avoid the headaches of incompatiable libraries, the easiest step is maintain an up-to-date Anaconda installation.) After installation, create a new Jupyter notebook with the following features:\n",
    "\n",
    "* A level one header \"Assignment 1\"\n",
    "* A level two header with your name.\n",
    "* The results of executing the followiing commands in separate code cells\n",
    "\n",
    "```\n",
    "    # verify laptop and network\n",
    "    import platform\n",
    "    print(platform.node())\n",
    "    print(platform.platform())\n",
    "    \n",
    "    # verify anaconda installation\n",
    "    !conda --version\n",
    "    \n",
    "    # python version\n",
    "    import sys\n",
    "    print(sys.version)\n",
    "    \n",
    "    # jupyter version\n",
    "    !jupyter --version\n",
    "    \n",
    "    # tclab installation\n",
    "    !pip install tclab\n",
    "```\n",
    "    \n",
    "2. You will need your own copy of the Temperature Control Laboratory no later than the first lab session Friday, February 12th. They can be purchased from the Hammes Bookstore (limited number of devices in stock), or on-line for $35 from [Amazon](https://www.amazon.com/gp/product/B07GMFWMRY) or [apmonitor.com](https://apmonitor.com/pdc/index.php/Main/PurchaseLabKit). Include some indication purchase in your assignment submission. **Please let the instructors immediately if there is any issue with obtaining a copy of the device in time for first lab session.** \n",
    "\n",
    "3. Download the textbook *Feedback Systems: An Introduction for Scientists and Engineers, \n",
    "Second Edition* by Karl J. Åström and Richard M. Murray from [https://fbswiki.org/wiki/index.php/Main_Page](https://fbswiki.org/wiki/index.php/Main_Page). The most current version is v3.1.5. Read sections 1.1 through 1.4.\n",
    "\n",
    "4. After you have completed the reading, prepare a few sentences about any topic you would like to see incorporated into the course. Over the years I've received many fascinating suggestions from students and have used them to expand the scope of the course. So I look forward to hearing your thoughts on how this course can meet your needs and interests!\n",
    "    "
   ]
  },
  {
   "cell_type": "code",
   "execution_count": null,
   "metadata": {
    "nbpages": {
     "level": 3,
     "link": "[1.1.1.4 Assignment 1](https://jckantor.github.io/cbe30338-2021/01.01-What-is-Process-Control.html#1.1.1.4-Assignment-1)",
     "section": "1.1.1.4 Assignment 1"
    }
   },
   "outputs": [],
   "source": []
  },
  {
   "cell_type": "markdown",
   "metadata": {},
   "source": [
    "<!--NAVIGATION-->\n",
    "< [1.0 Introduction](https://jckantor.github.io/cbe30338-2021/01.00-Introduction.html) | [Contents](toc.html) | [Tag Index](tag_index.html) | [2.0 Process Modeling](https://jckantor.github.io/cbe30338-2021/02.00-Process-Modeling.html) ><p><a href=\"https://colab.research.google.com/github/jckantor/cbe30338-2021/blob/master/docs/01.01-What-is-Process-Control.ipynb\"> <img align=\"left\" src=\"https://colab.research.google.com/assets/colab-badge.svg\" alt=\"Open in Colab\" title=\"Open in Google Colaboratory\"></a><p><a href=\"https://jckantor.github.io/cbe30338-2021/01.01-What-is-Process-Control.ipynb\"> <img align=\"left\" src=\"https://img.shields.io/badge/Github-Download-blue.svg\" alt=\"Download\" title=\"Download Notebook\"></a>"
   ]
  }
 ],
 "metadata": {
  "kernelspec": {
   "display_name": "Python 3",
   "language": "python",
   "name": "python3"
  },
  "language_info": {
   "codemirror_mode": {
    "name": "ipython",
    "version": 3
   },
   "file_extension": ".py",
   "mimetype": "text/x-python",
   "name": "python",
   "nbconvert_exporter": "python",
   "pygments_lexer": "ipython3",
   "version": "3.8.5"
  }
 },
 "nbformat": 4,
 "nbformat_minor": 4
}
