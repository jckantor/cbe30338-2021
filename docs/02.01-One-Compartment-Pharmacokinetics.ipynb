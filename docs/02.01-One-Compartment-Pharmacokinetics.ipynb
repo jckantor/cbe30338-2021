{
 "cells": [
  {
   "cell_type": "markdown",
   "metadata": {
    "nbpages": {
     "level": 0,
     "link": "[](https://jckantor.github.io/cbe30338-2021/02.01-One-Compartment-Pharmacokinetics.html)",
     "section": ""
    }
   },
   "source": [
    "<!--NOTEBOOK_HEADER-->\n",
    "*This notebook contains material from [cbe30338-2021](https://jckantor.github.io/cbe30338-2021);\n",
    "content is available [on Github](https://github.com/jckantor/cbe30338-2021.git).*\n"
   ]
  },
  {
   "cell_type": "markdown",
   "metadata": {
    "nbpages": {
     "level": 0,
     "link": "[](https://jckantor.github.io/cbe30338-2021/02.01-One-Compartment-Pharmacokinetics.html)",
     "section": ""
    }
   },
   "source": [
    "<!--NAVIGATION-->\n",
    "< [2.0 Process Modeling](https://jckantor.github.io/cbe30338-2021/02.00-Process-Modeling.html) | [Contents](toc.html) | [Tag Index](tag_index.html) | [2.2 Gravity Drained Tank](https://jckantor.github.io/cbe30338-2021/02.02-Gravity-Drained-Tank.html) ><p><a href=\"https://colab.research.google.com/github/jckantor/cbe30338-2021/blob/master/docs/02.01-One-Compartment-Pharmacokinetics.ipynb\"> <img align=\"left\" src=\"https://colab.research.google.com/assets/colab-badge.svg\" alt=\"Open in Colab\" title=\"Open in Google Colaboratory\"></a><p><a href=\"https://jckantor.github.io/cbe30338-2021/02.01-One-Compartment-Pharmacokinetics.ipynb\"> <img align=\"left\" src=\"https://img.shields.io/badge/Github-Download-blue.svg\" alt=\"Download\" title=\"Download Notebook\"></a>"
   ]
  },
  {
   "cell_type": "markdown",
   "metadata": {
    "nbpages": {
     "level": 1,
     "link": "[2.1 One Compartment Pharmacokinetics](https://jckantor.github.io/cbe30338-2021/02.01-One-Compartment-Pharmacokinetics.html#2.1-One-Compartment-Pharmacokinetics)",
     "section": "2.1 One Compartment Pharmacokinetics"
    },
    "slideshow": {
     "slide_type": "-"
    }
   },
   "source": [
    "# 2.1 One Compartment Pharmacokinetics"
   ]
  },
  {
   "cell_type": "markdown",
   "metadata": {
    "nbpages": {
     "level": 2,
     "link": "[2.1.1 Learning Goals](https://jckantor.github.io/cbe30338-2021/02.01-One-Compartment-Pharmacokinetics.html#2.1.1-Learning-Goals)",
     "section": "2.1.1 Learning Goals"
    }
   },
   "source": [
    "## 2.1.1 Learning Goals\n",
    "\n",
    "The notebook introduces a single, linear, first-order differential equation in the general form\n",
    "\n",
    "$$\\frac{dx}{dt} = a x + b u$$\n",
    "\n",
    "as mathematical model to describe the dynamic response of a system to a changing input. \n",
    "\n",
    "In any particular application, the **state variable** $x$ corresponds to a process variable such as temperature, pressure, concentration, or position. The **input variable** $u(t)$ corresponds to a changing input such as heater power, flowrate, or valve position. This notebook uses this equation to describe a one-compartment model for a pharmacokinetics in the which the state is the concentration of an antimicrobrial, and the input is a rate of intraveneous administration.\n",
    "\n",
    "This notebook demonstrates features of this model that can be used in a wide range of process applications:\n",
    "\n",
    "* Simulate response from a known initial condition.\n",
    "* Simulate response to a changinig input.\n",
    "\n"
   ]
  },
  {
   "cell_type": "markdown",
   "metadata": {
    "nbpages": {
     "level": 2,
     "link": "[2.1.2 Pharamacokinetics](https://jckantor.github.io/cbe30338-2021/02.01-One-Compartment-Pharmacokinetics.html#2.1.2-Pharamacokinetics)",
     "section": "2.1.2 Pharamacokinetics"
    }
   },
   "source": [
    "## 2.1.2 Pharamacokinetics\n",
    "\n",
    "Pharmacokinetics is a branch of pharmacology that studies the fate of chemical species in living organisms. The diverse range of applications includes the administration of drugs and anesthesia in humans. This notebook introduces a one compartment model for pharmacokinetics and shows how it can be used to determine strategies for the intravenous administration of an antimicrobial."
   ]
  },
  {
   "cell_type": "markdown",
   "metadata": {
    "nbpages": {
     "level": 3,
     "link": "[2.1.2.1 One-Compartment Model](https://jckantor.github.io/cbe30338-2021/02.01-One-Compartment-Pharmacokinetics.html#2.1.2.1-One-Compartment-Model)",
     "section": "2.1.2.1 One-Compartment Model"
    },
    "slideshow": {
     "slide_type": "-"
    }
   },
   "source": [
    "### 2.1.2.1 One-Compartment Model\n",
    "\n",
    "For the purposes of drug administration, for a one-compartment model of the human body is assumed to consist of a single compartment of a constant volume $V$ containing all the plasma of the body. The plasma is assumed to be sufficiently well mixed that any drug is uniformly distributed with concentration $C(t)$. The drug enters the plasma by direct injection into the plasma at rate $u(t)$. The drug leaves the body as a component of the plasma where $Q$ is the constant plasma clearance rate.\n",
    "\n",
    "![](./figures/PK-one-compartment.png)\n",
    "\n",
    "A generic mass balance for a single species is given by\n",
    "\n",
    "$$\\fbox{Rate of Accumulation} = \\fbox{Inflow} - \\fbox{Outflow} + \\fbox{Production by reaction} - \\fbox{Consumption by reaction}$$\n",
    "\n",
    "Assuming the drug is neither produced or consumed by reaction in the body, this generic mass balance can be translated to differential equation\n",
    "\n",
    "$$\\begin{align*}\n",
    "\\underbrace{\\fbox{Rate of Accumulation}}_{V \\frac{dC}{dt}} & = \\underbrace{\\fbox{Inflow}}_{u(t)} - \\underbrace{\\fbox{Outflow}}_{Q C} + \\underbrace{\\fbox{Production by reaction}}_0 - \\underbrace{\\fbox{Consumption by reaction}}_0\n",
    "\\end{align*}$$\n",
    "\n",
    "or, summarizing,\n",
    "\n",
    "$$V \\frac{dC}{dt} = u(t) - Q C(t)$$\n",
    "\n",
    "This model is characterized by two parameters, the plasma volume $V$ and the clearance rate $Q$."
   ]
  },
  {
   "cell_type": "markdown",
   "metadata": {
    "nbpages": {
     "level": 3,
     "link": "[2.1.2.2 Antimicrobials](https://jckantor.github.io/cbe30338-2021/02.01-One-Compartment-Pharmacokinetics.html#2.1.2.2-Antimicrobials)",
     "section": "2.1.2.2 Antimicrobials"
    },
    "slideshow": {
     "slide_type": "-"
    }
   },
   "source": [
    "### 2.1.2.2 Antimicrobials\n",
    "\n",
    "Let's consider the administration of an antimicrobial to a patient. Concentration $C(t)$ refers to the concentration of the antibiotic in blood plasma in units of [mg/L or $\\mu$g/mL]. There are two concentration levels of interest in the medical use of an antimicrobrial:\n",
    "\n",
    "**Minimum Inhibitory Concentration (MIC)** The minimum concentration of the antibiotic that prevents visible growth of a particular microorganism after overnight incubation. This is generally not enough to kill the microorganism, only enough to prevent further growth.\n",
    "\n",
    "**Minimum Bactricidal Concentration (MBC)** The lowest concentration of the antimicrobrial that prevents the growth of the microorganism after subculture to antimicrobrial-free media. MBC is generally the concentration needed \"kill\" the microorganism.\n",
    "\n",
    "Extended exposure to an antimicrobrial at levels below MBC leads to [antimicrobrial resistance](https://www.ncbi.nlm.nih.gov/pmc/articles/PMC4378521/)."
   ]
  },
  {
   "cell_type": "markdown",
   "metadata": {
    "nbpages": {
     "level": 3,
     "link": "[2.1.2.3 What questions can we ask and answer with this model?](https://jckantor.github.io/cbe30338-2021/02.01-One-Compartment-Pharmacokinetics.html#2.1.2.3-What-questions-can-we-ask-and-answer-with-this-model?)",
     "section": "2.1.2.3 What questions can we ask and answer with this model?"
    }
   },
   "source": [
    "### 2.1.2.3 What questions can we ask and answer with this model?\n",
    "\n",
    "There are multiple reasons to create mathematical models. In research and development, for example, a mathematical model forms a testable hypothesis of one's understanding of a system. The model guides the design of experiments to either validate or falsify the assumptions incorporated in the model.  \n",
    "\n",
    "In the present context of control systems, a model is used to answer operating questions. In pharmacokinetics, for example, the operational questions might include:\n",
    "\n",
    "* What values for the parameters $V$ and $Q$ provide accurate predictions of system response?\n",
    "* How long will it take to clear the antimicrobial from the body?\n",
    "* What rate of antimicrobial addition is required to achieve the minimum bactricidal concentration?\n",
    "* If doses are administered periodically, how large should each dose be, and how frequently should the doses be administered?\n",
    "\n",
    "Questions like these can be answered through simulation, regression to experimental data, and mathematical analysis. We'll explore several of these techniques below.\n",
    "\n",
    "* Simulation\n",
    "    * Known initial condition\n",
    "    * Time dependent input\n",
    "* Steady state analysis\n",
    "* Alternative model formulations\n",
    "    * State space model\n",
    "    * Gain and Time Constant"
   ]
  },
  {
   "cell_type": "markdown",
   "metadata": {
    "nbpages": {
     "level": 2,
     "link": "[2.1.3 Simulation](https://jckantor.github.io/cbe30338-2021/02.01-One-Compartment-Pharmacokinetics.html#2.1.3-Simulation)",
     "section": "2.1.3 Simulation"
    }
   },
   "source": [
    "## 2.1.3 Simulation"
   ]
  },
  {
   "cell_type": "markdown",
   "metadata": {
    "nbpages": {
     "level": 3,
     "link": "[2.1.3.1 Simulation from a Known Initial Condition](https://jckantor.github.io/cbe30338-2021/02.01-One-Compartment-Pharmacokinetics.html#2.1.3.1-Simulation-from-a-Known-Initial-Condition)",
     "section": "2.1.3.1 Simulation from a Known Initial Condition"
    }
   },
   "source": [
    "### 2.1.3.1 Simulation from a Known Initial Condition"
   ]
  },
  {
   "cell_type": "markdown",
   "metadata": {
    "nbpages": {
     "level": 4,
     "link": "[2.1.3.1.1 Problem Statement ](https://jckantor.github.io/cbe30338-2021/02.01-One-Compartment-Pharmacokinetics.html#2.1.3.1.1-Problem-Statement)",
     "section": "2.1.3.1.1 Problem Statement "
    },
    "slideshow": {
     "slide_type": "-"
    }
   },
   "source": [
    "#### 2.1.3.1.1 Problem Statement \n",
    "\n",
    "Assume the minimum inhibitory concentration (MIC) of a particular organism to a particular antimicrobial is 5 mg/liter, and the minimum bactricidal concentration (MBC) is 8 mg/liter. Further assume the plasma volume $V$ is 4 liters with a clearance rate $Q$ of 0.5 liters/hour. \n",
    "\n",
    "An initial intravenous antimicrobial dose of 64 mg in 4 liters of plasm results in a plasma concentration $C_{initial}$ of 16 mg/liter.  How long will the concentration stay above MBC?  Above MIC?"
   ]
  },
  {
   "cell_type": "markdown",
   "metadata": {
    "nbpages": {
     "level": 4,
     "link": "[2.1.3.1.2 Step 1. Import libraries](https://jckantor.github.io/cbe30338-2021/02.01-One-Compartment-Pharmacokinetics.html#2.1.3.1.2-Step-1.-Import-libraries)",
     "section": "2.1.3.1.2 Step 1. Import libraries"
    },
    "slideshow": {
     "slide_type": "-"
    }
   },
   "source": [
    "#### 2.1.3.1.2 Step 1. Import libraries\n",
    "\n",
    "For this first simulation we compute the response of the one compartment model due starting with an initial condition $C_{initial}$, and assuming input $u(t) = 0$. We will use the [`solve_ivp`](https://docs.scipy.org/doc/scipy/reference/generated/scipy.integrate.solve_ivp.html) function for solving differential equations from the `scipy.integrate` library.\n",
    "\n",
    "The first steps to a solution are:\n",
    "\n",
    "1. Initialize the plotting system.\n",
    "2. Import the `numpy` library for basic mathematical functions.\n",
    "3. Import the `matplotlib.pyplot` library for plotting.\n",
    "4. Import the any needed mathematical functions or libraries."
   ]
  },
  {
   "cell_type": "code",
   "execution_count": 26,
   "metadata": {
    "nbpages": {
     "level": 4,
     "link": "[2.1.3.1.2 Step 1. Import libraries](https://jckantor.github.io/cbe30338-2021/02.01-One-Compartment-Pharmacokinetics.html#2.1.3.1.2-Step-1.-Import-libraries)",
     "section": "2.1.3.1.2 Step 1. Import libraries"
    },
    "slideshow": {
     "slide_type": "-"
    }
   },
   "outputs": [],
   "source": [
    "%matplotlib inline\n",
    "import numpy as np\n",
    "import matplotlib.pyplot as plt\n",
    "from scipy.integrate import solve_ivp"
   ]
  },
  {
   "cell_type": "markdown",
   "metadata": {
    "nbpages": {
     "level": 4,
     "link": "[2.1.3.1.3 Step 2. Enter Parameter Values](https://jckantor.github.io/cbe30338-2021/02.01-One-Compartment-Pharmacokinetics.html#2.1.3.1.3-Step-2.-Enter-Parameter-Values)",
     "section": "2.1.3.1.3 Step 2. Enter Parameter Values"
    },
    "slideshow": {
     "slide_type": "-"
    }
   },
   "source": [
    "#### 2.1.3.1.3 Step 2. Enter Parameter Values"
   ]
  },
  {
   "cell_type": "code",
   "execution_count": 27,
   "metadata": {
    "nbpages": {
     "level": 4,
     "link": "[2.1.3.1.3 Step 2. Enter Parameter Values](https://jckantor.github.io/cbe30338-2021/02.01-One-Compartment-Pharmacokinetics.html#2.1.3.1.3-Step-2.-Enter-Parameter-Values)",
     "section": "2.1.3.1.3 Step 2. Enter Parameter Values"
    }
   },
   "outputs": [],
   "source": [
    "V = 4           # liters\n",
    "Q = 0.5         # liters/hour\n",
    "MIC = 5         # mg/liter\n",
    "MBC = 8         # mg/liter\n",
    "\n",
    "C_initial = 16  # mg/liter"
   ]
  },
  {
   "cell_type": "markdown",
   "metadata": {
    "nbpages": {
     "level": 4,
     "link": "[2.1.3.1.4 Step 3. Write the differential equation in standard form](https://jckantor.github.io/cbe30338-2021/02.01-One-Compartment-Pharmacokinetics.html#2.1.3.1.4-Step-3.-Write-the-differential-equation-in-standard-form)",
     "section": "2.1.3.1.4 Step 3. Write the differential equation in standard form"
    },
    "slideshow": {
     "slide_type": "-"
    }
   },
   "source": [
    "#### 2.1.3.1.4 Step 3. Write the differential equation in standard form\n",
    "\n",
    "The most commonly solvers for systems of differential equations require a function evaluating the right hand sides of the differential equations when written in a standard form\n",
    "\n",
    "$$\\frac{dC}{dt} = \\frac{1}{V}u(t) - \\frac{Q}{V}C$$\n",
    "\n",
    "Here we write two functions. One function returns values of the input $u(t)$ for a specified point in time, the second returns values of the right hand side as a function of time and state."
   ]
  },
  {
   "cell_type": "code",
   "execution_count": 28,
   "metadata": {
    "nbpages": {
     "level": 4,
     "link": "[2.1.3.1.4 Step 3. Write the differential equation in standard form](https://jckantor.github.io/cbe30338-2021/02.01-One-Compartment-Pharmacokinetics.html#2.1.3.1.4-Step-3.-Write-the-differential-equation-in-standard-form)",
     "section": "2.1.3.1.4 Step 3. Write the differential equation in standard form"
    }
   },
   "outputs": [],
   "source": [
    "def u(t):\n",
    "    return 0\n",
    "\n",
    "def deriv(t, C):\n",
    "    return u(t)/V - (Q/V)*C"
   ]
  },
  {
   "cell_type": "markdown",
   "metadata": {
    "nbpages": {
     "level": 4,
     "link": "[2.1.3.1.5 Step 4. Solution and Visualization](https://jckantor.github.io/cbe30338-2021/02.01-One-Compartment-Pharmacokinetics.html#2.1.3.1.5-Step-4.-Solution-and-Visualization)",
     "section": "2.1.3.1.5 Step 4. Solution and Visualization"
    },
    "slideshow": {
     "slide_type": "-"
    }
   },
   "source": [
    "#### 2.1.3.1.5 Step 4. Solution and Visualization"
   ]
  },
  {
   "cell_type": "code",
   "execution_count": 35,
   "metadata": {
    "nbpages": {
     "level": 4,
     "link": "[2.1.3.1.5 Step 4. Solution and Visualization](https://jckantor.github.io/cbe30338-2021/02.01-One-Compartment-Pharmacokinetics.html#2.1.3.1.5-Step-4.-Solution-and-Visualization)",
     "section": "2.1.3.1.5 Step 4. Solution and Visualization"
    }
   },
   "outputs": [
    {
     "name": "stdout",
     "output_type": "stream",
     "text": [
      "  message: 'The solver successfully reached the end of the integration interval.'\n",
      "     nfev: 38\n",
      "     njev: 0\n",
      "      nlu: 0\n",
      "      sol: None\n",
      "   status: 0\n",
      "  success: True\n",
      "        t: array([ 0.        ,  0.48979592,  0.97959184,  1.46938776,  1.95918367,\n",
      "        2.44897959,  2.93877551,  3.42857143,  3.91836735,  4.40816327,\n",
      "        4.89795918,  5.3877551 ,  5.87755102,  6.36734694,  6.85714286,\n",
      "        7.34693878,  7.83673469,  8.32653061,  8.81632653,  9.30612245,\n",
      "        9.79591837, 10.28571429, 10.7755102 , 11.26530612, 11.75510204,\n",
      "       12.24489796, 12.73469388, 13.2244898 , 13.71428571, 14.20408163,\n",
      "       14.69387755, 15.18367347, 15.67346939, 16.16326531, 16.65306122,\n",
      "       17.14285714, 17.63265306, 18.12244898, 18.6122449 , 19.10204082,\n",
      "       19.59183673, 20.08163265, 20.57142857, 21.06122449, 21.55102041,\n",
      "       22.04081633, 22.53061224, 23.02040816, 23.51020408, 24.        ])\n",
      " t_events: None\n",
      "        y: array([[16.        , 15.049792  , 14.15601545, 13.31532006, 12.5243503 ,\n",
      "        11.779541  , 11.07848539, 10.41894155,  9.79872358,  9.21570167,\n",
      "         8.66780203,  8.15300696,  7.6693548 ,  7.21493994,  6.78791284,\n",
      "         6.38648   ,  6.00890398,  5.65350342,  5.31865298,  5.00287861,\n",
      "         4.70546792,  4.42556173,  4.16224355,  3.91462253,  3.68183346,\n",
      "         3.46303676,  3.2574185 ,  3.06419036,  2.88258969,  2.71187945,\n",
      "         2.55134825,  2.40031032,  2.25810554,  2.12410249,  1.99786278,\n",
      "         1.87903463,  1.76723355,  1.66208563,  1.56322756,  1.47030662,\n",
      "         1.38298068,  1.30091823,  1.22379831,  1.1513106 ,  1.08315534,\n",
      "         1.01904339,  0.95869617,  0.90184573,  0.84828924,  0.79791109]])\n",
      " y_events: None\n"
     ]
    }
   ],
   "source": [
    "# specify time span and evaluation points\n",
    "t_span = [0, 24]\n",
    "t_eval = np.linspace(0, 24, 50)\n",
    "\n",
    "# initial conditions\n",
    "IC = [C_initial]\n",
    "\n",
    "# compute solution\n",
    "soln = solve_ivp(deriv, t_span, IC, t_eval=t_eval)\n",
    "\n",
    "# display solution\n",
    "print(soln)"
   ]
  },
  {
   "cell_type": "markdown",
   "metadata": {
    "nbpages": {
     "level": 4,
     "link": "[2.1.3.1.5 Step 4. Solution and Visualization](https://jckantor.github.io/cbe30338-2021/02.01-One-Compartment-Pharmacokinetics.html#2.1.3.1.5-Step-4.-Solution-and-Visualization)",
     "section": "2.1.3.1.5 Step 4. Solution and Visualization"
    }
   },
   "source": [
    "The decision on how to display or visualize a solution is problem dependent. Here we create a simple function to visualize the solution and relevant problem specifications. "
   ]
  },
  {
   "cell_type": "code",
   "execution_count": 37,
   "metadata": {
    "nbpages": {
     "level": 4,
     "link": "[2.1.3.1.5 Step 4. Solution and Visualization](https://jckantor.github.io/cbe30338-2021/02.01-One-Compartment-Pharmacokinetics.html#2.1.3.1.5-Step-4.-Solution-and-Visualization)",
     "section": "2.1.3.1.5 Step 4. Solution and Visualization"
    }
   },
   "outputs": [
    {
     "data": {
      "image/png": "[encoded data removed]",
      "text/plain": [
       "<Figure size 432x288 with 1 Axes>"
      ]
     },
     "metadata": {
      "needs_background": "light"
     },
     "output_type": "display_data"
    }
   ],
   "source": [
    "def plotConcentration(soln):\n",
    "    fig, ax = plt.subplots(1, 1)\n",
    "    ax.plot(soln.t, soln.y[0])\n",
    "    ax.set_xlim(0,max(t))\n",
    "    ax.plot(ax.get_xlim(), [MIC, MIC], 'g--', ax.get_xlim(), [MBC, MBC], 'r--')\n",
    "    ax.legend(['Antibiotic Concentration','MIC','MBC'])\n",
    "    ax.set_xlabel('Time [hrs]')\n",
    "    ax.set_ylabel('Concentration [mg/liter]')\n",
    "    ax.set_title('One Compartment Model with Known Initial Condition');\n",
    "    \n",
    "plotConcentration(soln)\n",
    "\n",
    "# save solution to a file for reuse in documents and reports\n",
    "plt.savefig('./figures/Pharmaockinetics1.png')"
   ]
  },
  {
   "cell_type": "markdown",
   "metadata": {
    "nbpages": {
     "level": 4,
     "link": "[2.1.3.1.6 Step 5. Analysis of the Results](https://jckantor.github.io/cbe30338-2021/02.01-One-Compartment-Pharmacokinetics.html#2.1.3.1.6-Step-5.-Analysis-of-the-Results)",
     "section": "2.1.3.1.6 Step 5. Analysis of the Results"
    },
    "slideshow": {
     "slide_type": "-"
    }
   },
   "source": [
    "#### 2.1.3.1.6 Step 5. Analysis of the Results\n",
    "\n",
    "Let's compare our results to a typical experimental result. \n",
    "\n",
    "| | |\n",
    "| :-: | :-: |\n",
    "|![](./figures/Pharmaockinetics1.png)|![](figures/nihms-475924-f0001.jpg)|\n",
    "\n",
    "We see that that the assumption of a fixed initial condition is questionable. Can we fix this?\n",
    "\n",
    "[Levison, Matthew E., and Julie H. Levison. “Pharmacokinetics and Pharmacodynamics of Antibacterial Agents.” Infectious disease clinics of North America 23.4 (2009): 791–vii. PMC. Web. 8 May 2017.](https://www.ncbi.nlm.nih.gov/pmc/articles/PMC3675903/)"
   ]
  },
  {
   "cell_type": "markdown",
   "metadata": {
    "nbpages": {
     "level": 3,
     "link": "[2.1.3.2 Example 2: Improving Simulation using Time-Dependent Input](https://jckantor.github.io/cbe30338-2021/02.01-One-Compartment-Pharmacokinetics.html#2.1.3.2-Example-2:-Improving-Simulation-using-Time-Dependent-Input)",
     "section": "2.1.3.2 Example 2: Improving Simulation using Time-Dependent Input"
    },
    "slideshow": {
     "slide_type": "-"
    }
   },
   "source": [
    "### 2.1.3.2 Example 2: Improving Simulation using Time-Dependent Input\n",
    "\n",
    "For the next simulation we will assume the dosing takes place over a short period of time $\\delta t$. To obtain a total dose $U_{dose}$ in a time period $\\delta t$, the mass flow rate rate must be\n",
    "\n",
    "$$u(t) = \n",
    "\\begin{cases}\n",
    "U/ \\delta t \\qquad \\mbox{for } 0 \\leq t \\leq \\delta t \\\\\n",
    "0 \\qquad \\mbox{for } t \\geq \\delta t\n",
    "\\end{cases}\n",
    "$$\n",
    "\n",
    "Before doing a simulation, we will write a Python function for $u(t)$. "
   ]
  },
  {
   "cell_type": "code",
   "execution_count": 47,
   "metadata": {
    "nbpages": {
     "level": 3,
     "link": "[2.1.3.2 Example 2: Improving Simulation using Time-Dependent Input](https://jckantor.github.io/cbe30338-2021/02.01-One-Compartment-Pharmacokinetics.html#2.1.3.2-Example-2:-Improving-Simulation-using-Time-Dependent-Input)",
     "section": "2.1.3.2 Example 2: Improving Simulation using Time-Dependent Input"
    },
    "slideshow": {
     "slide_type": "-"
    }
   },
   "outputs": [],
   "source": [
    "# parameter values\n",
    "dt = 1.5         # length hours\n",
    "Udose = 64       # mg\n",
    "\n",
    "# function defintion\n",
    "def u(t):\n",
    "    if t <= 0:\n",
    "        return 0\n",
    "    elif t <= dt:\n",
    "        return Udose/dt\n",
    "    else:\n",
    "        return 0"
   ]
  },
  {
   "cell_type": "markdown",
   "metadata": {
    "nbpages": {
     "level": 3,
     "link": "[2.1.3.2 Example 2: Improving Simulation using Time-Dependent Input](https://jckantor.github.io/cbe30338-2021/02.01-One-Compartment-Pharmacokinetics.html#2.1.3.2-Example-2:-Improving-Simulation-using-Time-Dependent-Input)",
     "section": "2.1.3.2 Example 2: Improving Simulation using Time-Dependent Input"
    },
    "slideshow": {
     "slide_type": "-"
    }
   },
   "source": [
    "This code cell demonstrates the use of a list comprehension to apply a function to each value in a list."
   ]
  },
  {
   "cell_type": "code",
   "execution_count": 48,
   "metadata": {
    "nbpages": {
     "level": 3,
     "link": "[2.1.3.2 Example 2: Improving Simulation using Time-Dependent Input](https://jckantor.github.io/cbe30338-2021/02.01-One-Compartment-Pharmacokinetics.html#2.1.3.2-Example-2:-Improving-Simulation-using-Time-Dependent-Input)",
     "section": "2.1.3.2 Example 2: Improving Simulation using Time-Dependent Input"
    }
   },
   "outputs": [
    {
     "data": {
      "text/plain": [
       "Text(0.5, 1.0, 'Dosing function u(t) for of total dose 64 mg')"
      ]
     },
     "execution_count": 48,
     "metadata": {},
     "output_type": "execute_result"
    },
    {
     "data": {
      "image/png": "[encoded data removed]",
      "text/plain": [
       "<Figure size 432x288 with 1 Axes>"
      ]
     },
     "metadata": {
      "needs_background": "light"
     },
     "output_type": "display_data"
    }
   ],
   "source": [
    "# visualization\n",
    "t = np.linspace(0, 24, 1000)              # create a list of time steps\n",
    "y = np.array([u(tau) for tau in t])       # list comprehension\n",
    "\n",
    "fig, ax = plt.subplots(1, 1)\n",
    "ax.plot(t, y)\n",
    "ax.set_xlabel('Time [hrs]')\n",
    "ax.set_ylabel('Administration Rate [mg/hr]')\n",
    "ax.set_title('Dosing function u(t) for of total dose {0} mg'.format(Udose))"
   ]
  },
  {
   "cell_type": "markdown",
   "metadata": {
    "nbpages": {
     "level": 3,
     "link": "[2.1.3.2 Example 2: Improving Simulation using Time-Dependent Input](https://jckantor.github.io/cbe30338-2021/02.01-One-Compartment-Pharmacokinetics.html#2.1.3.2-Example-2:-Improving-Simulation-using-Time-Dependent-Input)",
     "section": "2.1.3.2 Example 2: Improving Simulation using Time-Dependent Input"
    },
    "slideshow": {
     "slide_type": "-"
    }
   },
   "source": [
    "Simulation"
   ]
  },
  {
   "cell_type": "code",
   "execution_count": 46,
   "metadata": {
    "nbpages": {
     "level": 3,
     "link": "[2.1.3.2 Example 2: Improving Simulation using Time-Dependent Input](https://jckantor.github.io/cbe30338-2021/02.01-One-Compartment-Pharmacokinetics.html#2.1.3.2-Example-2:-Improving-Simulation-using-Time-Dependent-Input)",
     "section": "2.1.3.2 Example 2: Improving Simulation using Time-Dependent Input"
    }
   },
   "outputs": [
    {
     "data": {
      "image/png": "[encoded data removed]",
      "text/plain": [
       "<Figure size 432x288 with 1 Axes>"
      ]
     },
     "metadata": {
      "needs_background": "light"
     },
     "output_type": "display_data"
    }
   ],
   "source": [
    "# specify time span and evaluation points\n",
    "t_span = [0, 24]\n",
    "t_eval = np.linspace(0, 24, 50)\n",
    "\n",
    "# initial conditions\n",
    "C_initial = 0\n",
    "IC = [C_initial]\n",
    "\n",
    "# compute solution\n",
    "soln = solve_ivp(deriv, t_span, IC, t_eval=t_eval)\n",
    "\n",
    "# display solution\n",
    "plotConcentration(soln)\n",
    "plt.savefig('./figures/Pharmaockinetics2.png')"
   ]
  },
  {
   "cell_type": "markdown",
   "metadata": {
    "nbpages": {
     "level": 4,
     "link": "[2.1.3.2.1 Analysis of the Results](https://jckantor.github.io/cbe30338-2021/02.01-One-Compartment-Pharmacokinetics.html#2.1.3.2.1-Analysis-of-the-Results)",
     "section": "2.1.3.2.1 Analysis of the Results"
    },
    "slideshow": {
     "slide_type": "-"
    }
   },
   "source": [
    "#### 2.1.3.2.1 Analysis of the Results\n",
    "\n",
    "Let's compare our results to a typical experimental result. \n",
    "\n",
    "| | |\n",
    "| :-: | :-: |\n",
    "|![](./figures/Pharmaockinetics2.png)|![](./figures/nihms-475924-f0001.jpg)|\n",
    "\n",
    "While it isn't perfect, this is a closer facsimile of actual physiological response.\n",
    "\n",
    "[Levison, Matthew E., and Julie H. Levison. “Pharmacokinetics and Pharmacodynamics of Antibacterial Agents.” Infectious disease clinics of North America 23.4 (2009): 791–vii. PMC. Web. 8 May 2017.](https://www.ncbi.nlm.nih.gov/pmc/articles/PMC3675903/)"
   ]
  },
  {
   "cell_type": "markdown",
   "metadata": {
    "nbpages": {
     "level": 3,
     "link": "[2.1.3.3 Example 2: Periodic Dosng](https://jckantor.github.io/cbe30338-2021/02.01-One-Compartment-Pharmacokinetics.html#2.1.3.3-Example-2:-Periodic-Dosng)",
     "section": "2.1.3.3 Example 2: Periodic Dosng"
    },
    "slideshow": {
     "slide_type": "-"
    }
   },
   "source": [
    "### 2.1.3.3 Example 2: Periodic Dosng\n",
    "\n",
    "The minimum inhibitory concentration (MIC) of a particular organism to a particular antibiotic is 5 mg/liter, the minimum bactricidal concentration (MBC) is 8 mg/liter. Assume the plasma volume $V$ is 4 liters with a clearance rate $Q$ of 0.5 liters/hour. \n",
    "\n",
    "Design an antibiotic therapy to keep the plasma concentration above the MIC level for a period of 96 hours. "
   ]
  },
  {
   "cell_type": "markdown",
   "metadata": {
    "nbpages": {
     "level": 4,
     "link": "[2.1.3.3.1 Solution](https://jckantor.github.io/cbe30338-2021/02.01-One-Compartment-Pharmacokinetics.html#2.1.3.3.1-Solution)",
     "section": "2.1.3.3.1 Solution"
    },
    "slideshow": {
     "slide_type": "-"
    }
   },
   "source": [
    "#### 2.1.3.3.1 Solution\n",
    "\n",
    "We consider the case of repetitive dosing where a new dose is administered every $t_{dose}$ hours. A simple Python \"trick\" for this calculation is the `%` operator which returns the remainder following division. This is a useful tool worth remembering whenever you need to functions that repeat in time."
   ]
  },
  {
   "cell_type": "code",
   "execution_count": 76,
   "metadata": {
    "nbpages": {
     "level": 4,
     "link": "[2.1.3.3.1 Solution](https://jckantor.github.io/cbe30338-2021/02.01-One-Compartment-Pharmacokinetics.html#2.1.3.3.1-Solution)",
     "section": "2.1.3.3.1 Solution"
    },
    "slideshow": {
     "slide_type": "-"
    }
   },
   "outputs": [],
   "source": [
    "# parameter values\n",
    "td = 2           # length of administration for a single dose\n",
    "tdose = 8        # time between doses\n",
    "Udose = 42       # mg\n",
    "\n",
    "# function defintion\n",
    "def u(t):\n",
    "    if t <= 0:\n",
    "        return 0\n",
    "    elif t % tdose <= dt:\n",
    "        return Udose/td\n",
    "    else:\n",
    "        return 0"
   ]
  },
  {
   "cell_type": "code",
   "execution_count": 77,
   "metadata": {
    "nbpages": {
     "level": 4,
     "link": "[2.1.3.3.1 Solution](https://jckantor.github.io/cbe30338-2021/02.01-One-Compartment-Pharmacokinetics.html#2.1.3.3.1-Solution)",
     "section": "2.1.3.3.1 Solution"
    }
   },
   "outputs": [
    {
     "data": {
      "text/plain": [
       "Text(0.5, 1.0, 'Dosing function u(t) for of total dose 42 mg')"
      ]
     },
     "execution_count": 77,
     "metadata": {},
     "output_type": "execute_result"
    },
    {
     "data": {
      "image/png": "[encoded data removed]",
      "text/plain": [
       "<Figure size 432x288 with 1 Axes>"
      ]
     },
     "metadata": {
      "needs_background": "light"
     },
     "output_type": "display_data"
    }
   ],
   "source": [
    "# visualization\n",
    "t = np.linspace(0, 96, 1000)              # create a list of time steps\n",
    "y = np.array([u(tau) for tau in t])       # list comprehension\n",
    "\n",
    "fig, ax = plt.subplots(1, 1)\n",
    "ax.plot(t, y)\n",
    "ax.set_xlabel('Time [hrs]')\n",
    "ax.set_ylabel('Administration Rate [mg/hr]')\n",
    "ax.set_title('Dosing function u(t) for of total dose {0} mg'.format(Udose))"
   ]
  },
  {
   "cell_type": "markdown",
   "metadata": {
    "nbpages": {
     "level": 4,
     "link": "[2.1.3.3.1 Solution](https://jckantor.github.io/cbe30338-2021/02.01-One-Compartment-Pharmacokinetics.html#2.1.3.3.1-Solution)",
     "section": "2.1.3.3.1 Solution"
    },
    "slideshow": {
     "slide_type": "-"
    }
   },
   "source": [
    "The dosing function $u(t)$ is now applied to the simulation of drug concentration in the blood plasma. A fourth argument is added to `odeint(deriv, Cinitial, t, tcrit=t)` indicating that special care must be used for every time step. This is needed in order to get a high fidelity simulation that accounts for the rapidly varying values of $u(t)$."
   ]
  },
  {
   "cell_type": "code",
   "execution_count": 81,
   "metadata": {
    "nbpages": {
     "level": 4,
     "link": "[2.1.3.3.1 Solution](https://jckantor.github.io/cbe30338-2021/02.01-One-Compartment-Pharmacokinetics.html#2.1.3.3.1-Solution)",
     "section": "2.1.3.3.1 Solution"
    }
   },
   "outputs": [
    {
     "name": "stdout",
     "output_type": "stream",
     "text": [
      "None\n"
     ]
    },
    {
     "data": {
      "image/png": "[encoded data removed]",
      "text/plain": [
       "<Figure size 432x288 with 1 Axes>"
      ]
     },
     "metadata": {
      "needs_background": "light"
     },
     "output_type": "display_data"
    }
   ],
   "source": [
    "# specify time span and evaluation points\n",
    "t_span = [0, 96]\n",
    "t_eval = np.linspace(0, 96, 1000)\n",
    "\n",
    "# initial conditions\n",
    "C_initial = 0\n",
    "IC = [C_initial]\n",
    "\n",
    "def mbc_crossing(t, y):\n",
    "    return MBC - y[0]\n",
    "\n",
    "# compute solution\n",
    "soln = solve_ivp(deriv, t_span, IC, t_eval=t_eval)\n",
    "\n",
    "# display solution\n",
    "plotConcentration(soln)\n",
    "plt.savefig('./figures/Pharmaockinetics2.png')\n",
    "\n",
    "print(soln.t_events)"
   ]
  },
  {
   "cell_type": "markdown",
   "metadata": {
    "nbpages": {
     "level": 4,
     "link": "[2.1.3.3.1 Solution](https://jckantor.github.io/cbe30338-2021/02.01-One-Compartment-Pharmacokinetics.html#2.1.3.3.1-Solution)",
     "section": "2.1.3.3.1 Solution"
    }
   },
   "source": [
    "This looks like a mess, and makes no sense. The problem here is that the solver may be using time steps that are larger than the dosing interval, and missing important changes in the input. The fix to this problem is to specify a `max_step` option for the solver. As a rule of thumb, your simulations should always specify a `max_step` that is smaller than the minimum feature in the input sequence. "
   ]
  },
  {
   "cell_type": "code",
   "execution_count": 82,
   "metadata": {
    "nbpages": {
     "level": 4,
     "link": "[2.1.3.3.1 Solution](https://jckantor.github.io/cbe30338-2021/02.01-One-Compartment-Pharmacokinetics.html#2.1.3.3.1-Solution)",
     "section": "2.1.3.3.1 Solution"
    }
   },
   "outputs": [
    {
     "name": "stdout",
     "output_type": "stream",
     "text": [
      "None\n"
     ]
    },
    {
     "data": {
      "image/png": "[encoded data removed]",
      "text/plain": [
       "<Figure size 432x288 with 1 Axes>"
      ]
     },
     "metadata": {
      "needs_background": "light"
     },
     "output_type": "display_data"
    }
   ],
   "source": [
    "# specify time span and evaluation points\n",
    "t_span = [0, 96]\n",
    "t_eval = np.linspace(0, 96, 1000)\n",
    "\n",
    "# initial conditions\n",
    "C_initial = 0\n",
    "IC = [C_initial]\n",
    "\n",
    "def mbc_crossing(t, y):\n",
    "    return MBC - y[0]\n",
    "\n",
    "# compute solution\n",
    "soln = solve_ivp(deriv, t_span, IC, t_eval=t_eval, max_step=0.1)\n",
    "\n",
    "# display solution\n",
    "plotConcentration(soln)\n",
    "plt.savefig('./figures/Pharmaockinetics2.png')\n",
    "\n",
    "print(soln.t_events)"
   ]
  },
  {
   "cell_type": "markdown",
   "metadata": {
    "nbpages": {
     "level": 2,
     "link": "[2.1.4 Analysis](https://jckantor.github.io/cbe30338-2021/02.01-One-Compartment-Pharmacokinetics.html#2.1.4-Analysis)",
     "section": "2.1.4 Analysis"
    }
   },
   "source": [
    "## 2.1.4 Analysis"
   ]
  },
  {
   "cell_type": "markdown",
   "metadata": {
    "nbpages": {
     "level": 1,
     "link": "[2.1 Exercise 1](https://jckantor.github.io/cbe30338-2021/02.01-One-Compartment-Pharmacokinetics.html#2.1-Exercise-1)",
     "section": "2.1 Exercise 1"
    },
    "slideshow": {
     "slide_type": "-"
    }
   },
   "source": [
    "# 2.1 Exercise 1\n",
    "\n",
    "The purpose of the dosing regime is to maintain the plasma concentration above the MBC level for at least 96 hours. Assuming that each dose is 64 mg, modify the simulation and find a value of $t_{dose}$ that results satisfies the MBC objective for a 96 hour period.  Show a plot concentration versus time, and include Python code to compute the total amount of antibiotic administered for the whole treatment."
   ]
  },
  {
   "cell_type": "code",
   "execution_count": null,
   "metadata": {
    "collapsed": true,
    "jupyter": {
     "outputs_hidden": true
    },
    "nbpages": {
     "level": 1,
     "link": "[2.1 Exercise 1](https://jckantor.github.io/cbe30338-2021/02.01-One-Compartment-Pharmacokinetics.html#2.1-Exercise-1)",
     "section": "2.1 Exercise 1"
    }
   },
   "outputs": [],
   "source": []
  },
  {
   "cell_type": "markdown",
   "metadata": {
    "nbpages": {
     "level": 1,
     "link": "[2.1 Exercise 2](https://jckantor.github.io/cbe30338-2021/02.01-One-Compartment-Pharmacokinetics.html#2.1-Exercise-2)",
     "section": "2.1 Exercise 2"
    },
    "slideshow": {
     "slide_type": "-"
    }
   },
   "source": [
    "# 2.1 Exercise 2\n",
    "\n",
    "Consider a continous antibiotic injection at a constant rate designed to maintain the plasma concentration at minimum bactricidal level. Your solution should proceed in three steps:\n",
    "\n",
    "1. First, by hand, set up and solve the steady state equation to find the desired constant dosage rate. \n",
    "2. Modify the Python function for $u(t)$ to simulate the desired flowrate.\n",
    "3. Verify your result by repeating the above simulation using your function for $u(t)$. "
   ]
  },
  {
   "cell_type": "code",
   "execution_count": null,
   "metadata": {
    "collapsed": true,
    "jupyter": {
     "outputs_hidden": true
    },
    "nbpages": {
     "level": 1,
     "link": "[2.1 Exercise 2](https://jckantor.github.io/cbe30338-2021/02.01-One-Compartment-Pharmacokinetics.html#2.1-Exercise-2)",
     "section": "2.1 Exercise 2"
    }
   },
   "outputs": [],
   "source": []
  },
  {
   "cell_type": "markdown",
   "metadata": {
    "nbpages": {
     "level": 1,
     "link": "[2.1 Exercise 2](https://jckantor.github.io/cbe30338-2021/02.01-One-Compartment-Pharmacokinetics.html#2.1-Exercise-2)",
     "section": "2.1 Exercise 2"
    }
   },
   "source": [
    "<!--NAVIGATION-->\n",
    "< [2.0 Process Modeling](https://jckantor.github.io/cbe30338-2021/02.00-Process-Modeling.html) | [Contents](toc.html) | [Tag Index](tag_index.html) | [2.2 Gravity Drained Tank](https://jckantor.github.io/cbe30338-2021/02.02-Gravity-Drained-Tank.html) ><p><a href=\"https://colab.research.google.com/github/jckantor/cbe30338-2021/blob/master/docs/02.01-One-Compartment-Pharmacokinetics.ipynb\"> <img align=\"left\" src=\"https://colab.research.google.com/assets/colab-badge.svg\" alt=\"Open in Colab\" title=\"Open in Google Colaboratory\"></a><p><a href=\"https://jckantor.github.io/cbe30338-2021/02.01-One-Compartment-Pharmacokinetics.ipynb\"> <img align=\"left\" src=\"https://img.shields.io/badge/Github-Download-blue.svg\" alt=\"Download\" title=\"Download Notebook\"></a>"
   ]
  }
 ],
 "metadata": {
  "anaconda-cloud": {},
  "kernelspec": {
   "display_name": "Python 3",
   "language": "python",
   "name": "python3"
  },
  "language_info": {
   "codemirror_mode": {
    "name": "ipython",
    "version": 3
   },
   "file_extension": ".py",
   "mimetype": "text/x-python",
   "name": "python",
   "nbconvert_exporter": "python",
   "pygments_lexer": "ipython3",
   "version": "3.8.5"
  }
 },
 "nbformat": 4,
 "nbformat_minor": 4
}
