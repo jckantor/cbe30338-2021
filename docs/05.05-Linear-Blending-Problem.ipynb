{
 "cells": [
  {
   "cell_type": "markdown",
   "metadata": {
    "nbpages": {
     "level": 0,
     "link": "[](https://jckantor.github.io/cbe30338-2021/05.05-Linear-Blending-Problem.html)",
     "section": ""
    }
   },
   "source": [
    "<!--NOTEBOOK_HEADER-->\n",
    "*This notebook contains material from [cbe30338-2021](https://jckantor.github.io/cbe30338-2021);\n",
    "content is available [on Github](https://github.com/jckantor/cbe30338-2021.git).*\n"
   ]
  },
  {
   "cell_type": "markdown",
   "metadata": {
    "nbpages": {
     "level": 0,
     "link": "[](https://jckantor.github.io/cbe30338-2021/05.05-Linear-Blending-Problem.html)",
     "section": ""
    }
   },
   "source": [
    "<!--NAVIGATION-->\n",
    "< [5.3 Linear Production Model in Pyomo](https://jckantor.github.io/cbe30338-2021/05.03-Linear-Production-Model-in-Pyomo.html) | [Contents](toc.html) | [Tag Index](tag_index.html) | [5.6 Design of a Cold Weather Fuel](https://jckantor.github.io/cbe30338-2021/05.06-Design-of-a-Cold-Weather-Fuel.html) ><p><a href=\"https://colab.research.google.com/github/jckantor/cbe30338-2021/blob/master/docs/05.05-Linear-Blending-Problem.ipynb\"> <img align=\"left\" src=\"https://colab.research.google.com/assets/colab-badge.svg\" alt=\"Open in Colab\" title=\"Open in Google Colaboratory\"></a><p><a href=\"https://jckantor.github.io/cbe30338-2021/05.05-Linear-Blending-Problem.ipynb\"> <img align=\"left\" src=\"https://img.shields.io/badge/Github-Download-blue.svg\" alt=\"Download\" title=\"Download Notebook\"></a>"
   ]
  },
  {
   "cell_type": "markdown",
   "metadata": {
    "nbpages": {
     "level": 1,
     "link": "[5.5 Linear Blending Problem](https://jckantor.github.io/cbe30338-2021/05.05-Linear-Blending-Problem.html#5.5-Linear-Blending-Problem)",
     "section": "5.5 Linear Blending Problem"
    }
   },
   "source": [
    "# 5.5 Linear Blending Problem"
   ]
  },
  {
   "cell_type": "markdown",
   "metadata": {
    "nbpages": {
     "level": 2,
     "link": "[5.5.1 Problem Statement (Jenchura, 2017)](https://jckantor.github.io/cbe30338-2021/05.05-Linear-Blending-Problem.html#5.5.1-Problem-Statement-(Jenchura,-2017))",
     "section": "5.5.1 Problem Statement (Jenchura, 2017)"
    }
   },
   "source": [
    "## 5.5.1 Problem Statement (Jenchura, 2017)\n",
    "\n",
    "A brewery receives an order for 100 gallons of 4% ABV (alchohol by volume) beer. The brewery has on hand beer A that is 4.5% ABV that cost \\\\$0.32 per gallon to make, and beer B that is 3.7% ABV and cost \\\\$0.25 per gallon. Water can also be used as a blending agent at a cost of \\\\$0.05 per gallon. Find the minimum cost blend that meets the customer requirements."
   ]
  },
  {
   "cell_type": "markdown",
   "metadata": {
    "nbpages": {
     "level": 2,
     "link": "[5.5.2 Solving optimization problems with CVXPY](https://jckantor.github.io/cbe30338-2021/05.05-Linear-Blending-Problem.html#5.5.2-Solving-optimization-problems-with-CVXPY)",
     "section": "5.5.2 Solving optimization problems with CVXPY"
    }
   },
   "source": [
    "## 5.5.2 Solving optimization problems with CVXPY\n",
    "\n",
    "The blending problem described above is relatively simple, it can be solved in CVXPY using no more than `cp.Variable()`, `cp.Minimize()`, and `cp.Problem()` as demonstrated below."
   ]
  },
  {
   "cell_type": "markdown",
   "metadata": {
    "nbpages": {
     "level": 3,
     "link": "[5.5.2.1 Step 1. Coding Problem Data as a Python Dictionary](https://jckantor.github.io/cbe30338-2021/05.05-Linear-Blending-Problem.html#5.5.2.1-Step-1.-Coding-Problem-Data-as-a-Python-Dictionary)",
     "section": "5.5.2.1 Step 1. Coding Problem Data as a Python Dictionary"
    }
   },
   "source": [
    "### 5.5.2.1 Step 1. Coding Problem Data as a Python Dictionary\n",
    "\n",
    "The first step is to represent the problem data in a generic manner that could be extended to include additional blending components.  Here we use a dictionary of raw materials, each key denoting a unique blending agent. For each key there is a second level dictionary containing attributes of the blending component. This nested \"dictionary of dictionaries\" organization is a useful of organizing tabular data for optimization problems."
   ]
  },
  {
   "cell_type": "code",
   "execution_count": 99,
   "metadata": {
    "nbpages": {
     "level": 3,
     "link": "[5.5.2.1 Step 1. Coding Problem Data as a Python Dictionary](https://jckantor.github.io/cbe30338-2021/05.05-Linear-Blending-Problem.html#5.5.2.1-Step-1.-Coding-Problem-Data-as-a-Python-Dictionary)",
     "section": "5.5.2.1 Step 1. Coding Problem Data as a Python Dictionary"
    }
   },
   "outputs": [
    {
     "name": "stdout",
     "output_type": "stream",
     "text": [
      "{'A': {'abv': 0.045, 'cost': 0.32}, 'B': {'abv': 0.037, 'cost': 0.25}, 'W': {'abv': 0.0, 'cost': 0.05}}\n"
     ]
    }
   ],
   "source": [
    "data = {\n",
    "    'A': {'abv': 0.045, 'cost': 0.32},\n",
    "    'B': {'abv': 0.037, 'cost': 0.25},\n",
    "    'W': {'abv': 0.000, 'cost': 0.05},\n",
    "}\n",
    "print(data)"
   ]
  },
  {
   "cell_type": "markdown",
   "metadata": {
    "nbpages": {
     "level": 3,
     "link": "[5.5.2.2 Step 2. Identifying index sets](https://jckantor.github.io/cbe30338-2021/05.05-Linear-Blending-Problem.html#5.5.2.2-Step-2.-Identifying-index-sets)",
     "section": "5.5.2.2 Step 2. Identifying index sets"
    }
   },
   "source": [
    "### 5.5.2.2 Step 2. Identifying index sets\n",
    "\n",
    "The objectives and constraints encountered in optimization problems often include sums over a set of objects. In the case, we will need to create sums over the set of raw materials in the blending problem."
   ]
  },
  {
   "cell_type": "code",
   "execution_count": 100,
   "metadata": {
    "nbpages": {
     "level": 3,
     "link": "[5.5.2.2 Step 2. Identifying index sets](https://jckantor.github.io/cbe30338-2021/05.05-Linear-Blending-Problem.html#5.5.2.2-Step-2.-Identifying-index-sets)",
     "section": "5.5.2.2 Step 2. Identifying index sets"
    }
   },
   "outputs": [
    {
     "name": "stdout",
     "output_type": "stream",
     "text": [
      "{'B', 'W', 'A'}\n"
     ]
    }
   ],
   "source": [
    "components = set(data.keys())\n",
    "print(components)"
   ]
  },
  {
   "cell_type": "markdown",
   "metadata": {
    "nbpages": {
     "level": 3,
     "link": "[5.5.2.3 Step 3. Create decision variables](https://jckantor.github.io/cbe30338-2021/05.05-Linear-Blending-Problem.html#5.5.2.3-Step-3.-Create-decision-variables)",
     "section": "5.5.2.3 Step 3. Create decision variables"
    }
   },
   "source": [
    "### 5.5.2.3 Step 3. Create decision variables"
   ]
  },
  {
   "cell_type": "code",
   "execution_count": 101,
   "metadata": {
    "nbpages": {
     "level": 3,
     "link": "[5.5.2.3 Step 3. Create decision variables](https://jckantor.github.io/cbe30338-2021/05.05-Linear-Blending-Problem.html#5.5.2.3-Step-3.-Create-decision-variables)",
     "section": "5.5.2.3 Step 3. Create decision variables"
    }
   },
   "outputs": [
    {
     "name": "stdout",
     "output_type": "stream",
     "text": [
      "{'B': Variable(()), 'W': Variable(()), 'A': Variable(())}\n"
     ]
    }
   ],
   "source": [
    "x = {c: cp.Variable() for c in components}\n",
    "print(x)"
   ]
  },
  {
   "cell_type": "markdown",
   "metadata": {
    "nbpages": {
     "level": 3,
     "link": "[5.5.2.4 Step 4. Objective Function](https://jckantor.github.io/cbe30338-2021/05.05-Linear-Blending-Problem.html#5.5.2.4-Step-4.-Objective-Function)",
     "section": "5.5.2.4 Step 4. Objective Function"
    }
   },
   "source": [
    "### 5.5.2.4 Step 4. Objective Function\n",
    "\n",
    "If we let subscript $c$ denote a blending component from the set of blending components $C$, and denote the volume of $c$ used in the blend as $x_c$, the cost of the blend is\n",
    "\n",
    "\\begin{align}\n",
    "\\mbox{cost} & = \\sum_{c\\in C} x_c P_c\n",
    "\\end{align}\n",
    "\n",
    "where $P_c$ is the price per unit volume of $c$. Using the Python data dictionary defined above, the price $P_c$ is given by `data[c]['cost']`."
   ]
  },
  {
   "cell_type": "code",
   "execution_count": 102,
   "metadata": {
    "nbpages": {
     "level": 3,
     "link": "[5.5.2.4 Step 4. Objective Function](https://jckantor.github.io/cbe30338-2021/05.05-Linear-Blending-Problem.html#5.5.2.4-Step-4.-Objective-Function)",
     "section": "5.5.2.4 Step 4. Objective Function"
    }
   },
   "outputs": [
    {
     "name": "stdout",
     "output_type": "stream",
     "text": [
      "minimize var2566 @ 0.25 + var2567 @ 0.05 + var2568 @ 0.32\n"
     ]
    }
   ],
   "source": [
    "total_cost = sum([x[c]*data[c][\"cost\"] for c in components])\n",
    "objective = cp.Minimize(total_cost)\n",
    "print(objective)"
   ]
  },
  {
   "cell_type": "markdown",
   "metadata": {
    "nbpages": {
     "level": 3,
     "link": "[5.5.2.5 Step 5. Constraints](https://jckantor.github.io/cbe30338-2021/05.05-Linear-Blending-Problem.html#5.5.2.5-Step-5.-Constraints)",
     "section": "5.5.2.5 Step 5. Constraints"
    }
   },
   "source": [
    "### 5.5.2.5 Step 5. Constraints"
   ]
  },
  {
   "cell_type": "markdown",
   "metadata": {
    "nbpages": {
     "level": 4,
     "link": "[5.5.2.5.1 Volume Constraint](https://jckantor.github.io/cbe30338-2021/05.05-Linear-Blending-Problem.html#5.5.2.5.1-Volume-Constraint)",
     "section": "5.5.2.5.1 Volume Constraint"
    }
   },
   "source": [
    "#### 5.5.2.5.1 Volume Constraint\n",
    "\n",
    "The customer requirement is produce a total volume $V$. Assuming ideal solutions, the constraint is given by\n",
    "\n",
    "\\begin{align}\n",
    "V &  = \\sum_{c\\in C} x_c\n",
    "\\end{align}\n",
    "\n",
    "where $x_c$ denotes the volume of component $c$ used in the blend."
   ]
  },
  {
   "cell_type": "markdown",
   "metadata": {
    "nbpages": {
     "level": 4,
     "link": "[5.5.2.5.2 Product Composition Constraint](https://jckantor.github.io/cbe30338-2021/05.05-Linear-Blending-Problem.html#5.5.2.5.2-Product-Composition-Constraint)",
     "section": "5.5.2.5.2 Product Composition Constraint"
    }
   },
   "source": [
    "#### 5.5.2.5.2 Product Composition Constraint\n",
    "\n",
    "The product composition is specified as 4% alchohol by volume. Denoting this as $\\bar{A}$, the constraint may be written as\n",
    "\n",
    "\\begin{align}\n",
    "\\bar{A} & = \\frac{\\sum_{c\\in C}x_c A_c}{\\sum_{c\\in C} x_c}\n",
    "\\end{align}\n",
    "\n",
    "where $A_c$ is the alcohol by volume for component $c$. As written, this is a nonlinear constraint. Multiplying both sides of the equation by the denominator yields a linear constraint\n",
    "\n",
    "\\begin{align}\n",
    "\\bar{A}\\sum_{c\\in C} x_c & = \\sum_{c\\in C}x_c A_c\n",
    "\\end{align}\n",
    "\n",
    "A final form for this constraint can be given in either of two versions. In the first version we subtract the left-hand side from the right to give\n",
    "\n",
    "\\begin{align}\n",
    "0 & = \\sum_{c\\in C}x_c \\left(A_c - \\bar{A}\\right) & \\mbox{ Version 1 of the linear blending constraint}\n",
    "\\end{align}\n",
    "\n",
    "Alternatively, the summation on the left-hand side corresponds to total volume. Since that is known as part of the problem specification, the blending constraint could also be written as\n",
    "\n",
    "\\begin{align}\n",
    "\\bar{A}V & = \\sum_{c\\in C}x_c A_c  & \\mbox{ Version 2 of the linear blending constraint}\n",
    "\\end{align}\n",
    "\n",
    "Which should you use? Either will generally work well. The advantage of version 1 is that it is fully specified by a product requirement $\\bar{A}$, which is sometimes helpful in writing elegant Python code."
   ]
  },
  {
   "cell_type": "markdown",
   "metadata": {
    "nbpages": {
     "level": 3,
     "link": "[5.5.2.6 CVXPY Version 1](https://jckantor.github.io/cbe30338-2021/05.05-Linear-Blending-Problem.html#5.5.2.6-CVXPY-Version-1)",
     "section": "5.5.2.6 CVXPY Version 1"
    }
   },
   "source": [
    "### 5.5.2.6 CVXPY Version 1\n",
    "\n",
    "For this first version, we will write a CVXPY model that uses a minimal of Python or CVXPY coding features."
   ]
  },
  {
   "cell_type": "code",
   "execution_count": 67,
   "metadata": {
    "nbpages": {
     "level": 3,
     "link": "[5.5.2.6 CVXPY Version 1](https://jckantor.github.io/cbe30338-2021/05.05-Linear-Blending-Problem.html#5.5.2.6-CVXPY-Version-1)",
     "section": "5.5.2.6 CVXPY Version 1"
    }
   },
   "outputs": [
    {
     "name": "stdout",
     "output_type": "stream",
     "text": [
      "cost to produce 100 gallons at abv 0.04: $32.00\n",
      "A = 24.49 gallons\n",
      "B = 40.82 gallons\n",
      "W = 34.69 gallons\n"
     ]
    }
   ],
   "source": [
    "import numpy as np\n",
    "import cvxpy as cp\n",
    "\n",
    "vol = 100\n",
    "abv = 0.04\n",
    "\n",
    "A = cp.Variable(nonneg=True)\n",
    "B = cp.Variable(nonneg=True)\n",
    "W = cp.Variable(nonneg=True)\n",
    "\n",
    "constraints = [\n",
    "    A + B + W == vol,\n",
    "    A*(blending_data[\"A\"][\"abv\"] - abv) + B*(blending_data[\"B\"][\"abv\"] - abv) + W*(blending_data[\"W\"][\"abv\"]) == 0\n",
    "]\n",
    "\n",
    "cost = A*blending_data[\"A\"][\"cost\"] + B*blending_data[\"A\"][\"cost\"] + W*blending_data[\"A\"][\"cost\"]\n",
    "\n",
    "problem = cp.Problem(cp.Minimize(cost), constraints)\n",
    "problem.solve()\n",
    "\n",
    "print(f\"cost to produce {vol} gallons at abv {abv}: ${cost.value:4.2f}\")\n",
    "print(f\"A = {A.value:4.2f} gallons\")\n",
    "print(f\"B = {B.value:4.2f} gallons\")\n",
    "print(f\"W = {W.value:4.2f} gallons\")"
   ]
  },
  {
   "cell_type": "markdown",
   "metadata": {
    "nbpages": {
     "level": 3,
     "link": "[5.5.2.7 CVXPY Version 2: Using dictionaries](https://jckantor.github.io/cbe30338-2021/05.05-Linear-Blending-Problem.html#5.5.2.7-CVXPY-Version-2:-Using-dictionaries)",
     "section": "5.5.2.7 CVXPY Version 2: Using dictionaries"
    }
   },
   "source": [
    "### 5.5.2.7 CVXPY Version 2: Using dictionaries\n",
    "\n",
    "Version 1 of our model solves the problem at hand but would require rewriting should any aspect of the problem statement be changed. Consider, for example, what modifications would be needed if\n",
    "\n",
    "* One or more additional blendinig stocks become available. Perhaps many more.\n",
    "* We wish to specify additional properties of the blended product."
   ]
  },
  {
   "cell_type": "code",
   "execution_count": 68,
   "metadata": {
    "nbpages": {
     "level": 3,
     "link": "[5.5.2.7 CVXPY Version 2: Using dictionaries](https://jckantor.github.io/cbe30338-2021/05.05-Linear-Blending-Problem.html#5.5.2.7-CVXPY-Version-2:-Using-dictionaries)",
     "section": "5.5.2.7 CVXPY Version 2: Using dictionaries"
    }
   },
   "outputs": [
    {
     "data": {
      "text/plain": [
       "{'A': Variable((), nonneg=True),\n",
       " 'B': Variable((), nonneg=True),\n",
       " 'W': Variable((), nonneg=True)}"
      ]
     },
     "execution_count": 68,
     "metadata": {},
     "output_type": "execute_result"
    }
   ],
   "source": [
    "import numpy as np\n",
    "import cvxpy as cp\n",
    "\n",
    "vol = 100\n",
    "abv = 0.04\n",
    "\n",
    "components = blending_data.keys()\n",
    "x = dict()\n",
    "for c in components:\n",
    "    x[c] = cp.Variable(nonneg=True)\n",
    "\n",
    "x"
   ]
  },
  {
   "cell_type": "code",
   "execution_count": 37,
   "metadata": {
    "nbpages": {
     "level": 3,
     "link": "[5.5.2.7 CVXPY Version 2: Using dictionaries](https://jckantor.github.io/cbe30338-2021/05.05-Linear-Blending-Problem.html#5.5.2.7-CVXPY-Version-2:-Using-dictionaries)",
     "section": "5.5.2.7 CVXPY Version 2: Using dictionaries"
    }
   },
   "outputs": [
    {
     "name": "stdout",
     "output_type": "stream",
     "text": [
      "A 37.500001136050194\n",
      "B 62.49999861831747\n",
      "W 2.4563236418836055e-07\n"
     ]
    }
   ],
   "source": [
    "import numpy as np\n",
    "import cvxpy as cp\n",
    "\n",
    "def optimal_blend(product_volume, product_abv, component_blending_data):\n",
    "    \n",
    "    components = component_blending_data.keys()\n",
    "    \n",
    "    x = {c: cp.Variable(nonneg=True, name=c) for c in components}\n",
    "    \n",
    "    constraints = [\n",
    "        sum(x[c] for c in components) == product_volume,\n",
    "        sum(x[c]*(component_blending_data[c]['abv'] - product_abv) for c in components) == 0\n",
    "    ]\n",
    "    \n",
    "    objective = cp.Minimize(sum(x[c]*component_blending_data[c]['cost'] for c in components))\n",
    "    \n",
    "    problem = cp.Problem(objective, constraints)\n",
    "    problem.solve()\n",
    "    return problem\n",
    "    \n",
    "soln = optimal_blend(100, 0.04, component_blending_data)\n",
    "\n",
    "\n",
    "for var in soln.variables():\n",
    "    print(var, var.value)"
   ]
  },
  {
   "cell_type": "markdown",
   "metadata": {
    "nbpages": {
     "level": 4,
     "link": "[5.5.2.7.1 Pyomo Model](https://jckantor.github.io/cbe30338-2021/05.05-Linear-Blending-Problem.html#5.5.2.7.1-Pyomo-Model)",
     "section": "5.5.2.7.1 Pyomo Model"
    }
   },
   "source": [
    "#### 5.5.2.7.1 Pyomo Model\n",
    "\n",
    "A Pyomo implementation of this blending model is shown in the next cell. The model is contained within a Python function so that it can be more easily reused for additional calculations, or eventually for use by the process operator.\n",
    "\n",
    "Note that the pyomo library has been imported with the prefix `pyomo`. This is good programming practive to avoid namespace collisions with problem data."
   ]
  },
  {
   "cell_type": "code",
   "execution_count": 19,
   "metadata": {
    "nbpages": {
     "level": 4,
     "link": "[5.5.2.7.1 Pyomo Model](https://jckantor.github.io/cbe30338-2021/05.05-Linear-Blending-Problem.html#5.5.2.7.1-Pyomo-Model)",
     "section": "5.5.2.7.1 Pyomo Model"
    }
   },
   "outputs": [
    {
     "name": "stdout",
     "output_type": "stream",
     "text": [
      "Optimal Blend\n",
      "   A : 37.5 gallons\n",
      "   B : 62.5 gallons\n",
      "   W : 0.0 gallons\n",
      "\n",
      "Volume =  100.0 gallons\n",
      "Cost = $ 27.625\n"
     ]
    }
   ],
   "source": [
    "import pyomo.environ as pyomo\n",
    "\n",
    "vol = 100\n",
    "abv = 0.040\n",
    "\n",
    "def beer_blend(vol, abv, data):\n",
    "    \n",
    "    C = data.keys()\n",
    "    \n",
    "    model = pyomo.ConcreteModel()\n",
    "    \n",
    "    model.x = pyomo.Var(C, domain=pyomo.NonNegativeReals)\n",
    "    \n",
    "    model.cost = pyomo.Objective(expr = sum(model.x[c]*data[c]['cost'] for c in C))\n",
    "    \n",
    "    model.vol = pyomo.Constraint(expr = vol == sum(model.x[c] for c in C))\n",
    "    model.abv = pyomo.Constraint(expr = 0 == sum(model.x[c]*(data[c]['abv'] - abv) for c in C))\n",
    "\n",
    "    solver = pyomo.SolverFactory('glpk')\n",
    "    solver.solve(model)\n",
    "\n",
    "    print('Optimal Blend')\n",
    "    for c in data.keys():\n",
    "        print('  ', c, ':', model.x[c](), 'gallons')\n",
    "    print()\n",
    "    print('Volume = ', model.vol(), 'gallons')\n",
    "    print('Cost = $', model.cost())\n",
    "    \n",
    "beer_blend(vol, abv, data)"
   ]
  },
  {
   "cell_type": "code",
   "execution_count": null,
   "metadata": {
    "nbpages": {
     "level": 4,
     "link": "[5.5.2.7.1 Pyomo Model](https://jckantor.github.io/cbe30338-2021/05.05-Linear-Blending-Problem.html#5.5.2.7.1-Pyomo-Model)",
     "section": "5.5.2.7.1 Pyomo Model"
    }
   },
   "outputs": [],
   "source": []
  },
  {
   "cell_type": "markdown",
   "metadata": {
    "nbpages": {
     "level": 4,
     "link": "[5.5.2.7.1 Pyomo Model](https://jckantor.github.io/cbe30338-2021/05.05-Linear-Blending-Problem.html#5.5.2.7.1-Pyomo-Model)",
     "section": "5.5.2.7.1 Pyomo Model"
    }
   },
   "source": [
    "<!--NAVIGATION-->\n",
    "< [5.3 Linear Production Model in Pyomo](https://jckantor.github.io/cbe30338-2021/05.03-Linear-Production-Model-in-Pyomo.html) | [Contents](toc.html) | [Tag Index](tag_index.html) | [5.6 Design of a Cold Weather Fuel](https://jckantor.github.io/cbe30338-2021/05.06-Design-of-a-Cold-Weather-Fuel.html) ><p><a href=\"https://colab.research.google.com/github/jckantor/cbe30338-2021/blob/master/docs/05.05-Linear-Blending-Problem.ipynb\"> <img align=\"left\" src=\"https://colab.research.google.com/assets/colab-badge.svg\" alt=\"Open in Colab\" title=\"Open in Google Colaboratory\"></a><p><a href=\"https://jckantor.github.io/cbe30338-2021/05.05-Linear-Blending-Problem.ipynb\"> <img align=\"left\" src=\"https://img.shields.io/badge/Github-Download-blue.svg\" alt=\"Download\" title=\"Download Notebook\"></a>"
   ]
  }
 ],
 "metadata": {
  "kernelspec": {
   "display_name": "Python 3",
   "language": "python",
   "name": "python3"
  },
  "language_info": {
   "codemirror_mode": {
    "name": "ipython",
    "version": 3
   },
   "file_extension": ".py",
   "mimetype": "text/x-python",
   "name": "python",
   "nbconvert_exporter": "python",
   "pygments_lexer": "ipython3",
   "version": "3.8.5"
  }
 },
 "nbformat": 4,
 "nbformat_minor": 4
}
