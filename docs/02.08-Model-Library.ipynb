{
 "cells": [
  {
   "cell_type": "markdown",
   "metadata": {
    "nbpages": {
     "level": 0,
     "link": "[](https://jckantor.github.io/cbe30338-2021/02.08-Model-Library.html)",
     "section": ""
    }
   },
   "source": [
    "<!--NOTEBOOK_HEADER-->\n",
    "*This notebook contains material from [cbe30338-2021](https://jckantor.github.io/cbe30338-2021);\n",
    "content is available [on Github](https://github.com/jckantor/cbe30338-2021.git).*\n"
   ]
  },
  {
   "cell_type": "markdown",
   "metadata": {
    "nbpages": {
     "level": 0,
     "link": "[](https://jckantor.github.io/cbe30338-2021/02.08-Model-Library.html)",
     "section": ""
    }
   },
   "source": [
    "<!--NAVIGATION-->\n",
    "< [2.7 Fed-Batch Bioreactor](https://jckantor.github.io/cbe30338-2021/02.07-Fed-Batch-Bioreactor.html) | [Contents](toc.html) | [Tag Index](tag_index.html) | [3.0 Linearization](https://jckantor.github.io/cbe30338-2021/03.00-Linearization.html) ><p><a href=\"https://colab.research.google.com/github/jckantor/cbe30338-2021/blob/master/docs/02.08-Model-Library.ipynb\"> <img align=\"left\" src=\"https://colab.research.google.com/assets/colab-badge.svg\" alt=\"Open in Colab\" title=\"Open in Google Colaboratory\"></a><p><a href=\"https://jckantor.github.io/cbe30338-2021/02.08-Model-Library.ipynb\"> <img align=\"left\" src=\"https://img.shields.io/badge/Github-Download-blue.svg\" alt=\"Download\" title=\"Download Notebook\"></a>"
   ]
  },
  {
   "cell_type": "markdown",
   "metadata": {
    "nbpages": {
     "level": 1,
     "link": "[2.8 Model Library](https://jckantor.github.io/cbe30338-2021/02.08-Model-Library.html#2.8-Model-Library)",
     "section": "2.8 Model Library"
    }
   },
   "source": [
    "# 2.8 Model Library"
   ]
  },
  {
   "cell_type": "code",
   "execution_count": 1,
   "metadata": {
    "collapsed": true,
    "jupyter": {
     "outputs_hidden": true
    },
    "nbpages": {
     "level": 1,
     "link": "[2.8 Model Library](https://jckantor.github.io/cbe30338-2021/02.08-Model-Library.html#2.8-Model-Library)",
     "section": "2.8 Model Library"
    }
   },
   "outputs": [],
   "source": [
    "%matplotlib inline"
   ]
  },
  {
   "cell_type": "code",
   "execution_count": 185,
   "metadata": {
    "nbpages": {
     "level": 1,
     "link": "[2.8 Model Library](https://jckantor.github.io/cbe30338-2021/02.08-Model-Library.html#2.8-Model-Library)",
     "section": "2.8 Model Library"
    }
   },
   "outputs": [],
   "source": [
    "import numpy as np\n",
    "import matplotlib.pyplot as plt\n",
    "from scipy.integrate import odeint,ode\n",
    "\n",
    "class GravityTank():\n",
    "    \n",
    "    def __init__(self, A=1, Cv=1, h = 0):\n",
    "        self.A = A\n",
    "        self.Cv = Cv\n",
    "        self.Qin = 0\n",
    "        self._h = h\n",
    "        self.IC = self._h\n",
    "        \n",
    "    def deriv(self,h,t):\n",
    "        h = max(0,h)\n",
    "        self._h = h\n",
    "        return (self.Qin/self.A - self.Cv*np.sqrt(h)/self.A)\n",
    "    \n",
    "    @property\n",
    "    def Qin(self):\n",
    "        return self._Qin\n",
    "    \n",
    "    @Qin.setter\n",
    "    def Qin(self,Qin):\n",
    "        self._Qin = Qin\n",
    "        \n",
    "    @property\n",
    "    def Qout(self):\n",
    "        return self.Cv*np.sqrt(self._h)\n",
    "        \n",
    "        "
   ]
  },
  {
   "cell_type": "code",
   "execution_count": 186,
   "metadata": {
    "nbpages": {
     "level": 1,
     "link": "[2.8 Model Library](https://jckantor.github.io/cbe30338-2021/02.08-Model-Library.html#2.8-Model-Library)",
     "section": "2.8 Model Library"
    }
   },
   "outputs": [
    {
     "data": {
      "text/plain": [
       "[<matplotlib.lines.Line2D at 0x118d16da0>]"
      ]
     },
     "execution_count": 186,
     "metadata": {},
     "output_type": "execute_result"
    },
    {
     "data": {
      "image/png": "[encoded data removed]",
      "text/plain": [
       "<matplotlib.figure.Figure at 0x118b9e160>"
      ]
     },
     "metadata": {},
     "output_type": "display_data"
    }
   ],
   "source": [
    "tank1 = GravityTank(2,1)\n",
    "tank2 = GravityTank(1.5,2)\n",
    "\n",
    "t = np.linspace(0,.1,50)\n",
    "tank1.Qin = 3\n",
    "\n",
    "def deriv(X,t):\n",
    "    h1,h2 = X\n",
    "    tank2.Qin = tank1.Qout\n",
    "    dh1 = tank1.deriv(h1,t)\n",
    "    dh2 = tank2.deriv(h2,t)\n",
    "    #print(\"{0:9.6f}  {1:9.6f}  {2:9.6f}  {3:9.6f}  {4:9.6f}  {5:9.6f}   {6:9.6f}   {7:9.6f}  {8:9.6f}\".format(h1,h2,tank1.Qin,tank1.Qout,tank2.Qin,tank2.Qout,dh1,dh2,t))\n",
    "    return [dh1,dh2]\n",
    "\n",
    "\n",
    "sol = odeint(deriv,[0,0],t)\n",
    "h1,h2 = sol.T\n",
    "plt.plot(t,h2)"
   ]
  },
  {
   "cell_type": "code",
   "execution_count": 165,
   "metadata": {
    "nbpages": {
     "level": 1,
     "link": "[2.8 Model Library](https://jckantor.github.io/cbe30338-2021/02.08-Model-Library.html#2.8-Model-Library)",
     "section": "2.8 Model Library"
    }
   },
   "outputs": [
    {
     "name": "stderr",
     "output_type": "stream",
     "text": [
      "/Users/jeff/anaconda/lib/python3.5/site-packages/scipy/integrate/_ode.py:869: UserWarning: vode: Excess work done on this call. (Perhaps wrong MF.)\n",
      "  'Unexpected istate=%s' % istate))\n"
     ]
    },
    {
     "data": {
      "text/plain": [
       "[<matplotlib.lines.Line2D at 0x117ed0240>,\n",
       " <matplotlib.lines.Line2D at 0x117ed04e0>,\n",
       " <matplotlib.lines.Line2D at 0x117ed06d8>]"
      ]
     },
     "execution_count": 165,
     "metadata": {},
     "output_type": "execute_result"
    },
    {
     "data": {
      "image/png": "[encoded data removed]",
      "text/plain": [
       "<matplotlib.figure.Figure at 0x116510128>"
      ]
     },
     "metadata": {},
     "output_type": "display_data"
    }
   ],
   "source": [
    "tank1 = GravityTank(2,1)\n",
    "tank2 = GravityTank(1.5,1)\n",
    "tank3 = GravityTank(0.8,0.9)\n",
    "\n",
    "tank1.Qin = 3\n",
    "\n",
    "def deriv(t,X):\n",
    "    h1,h2,h3 = X\n",
    "    tank2.Qin = tank1.Qout\n",
    "    tank3.Qin = tank2.Qout\n",
    "    dh1 = tank1.deriv(h1,t)\n",
    "    dh2 = tank2.deriv(h2,t)\n",
    "    dh3 = tank3.deriv(h3,t)\n",
    "    return [dh1,dh2,dh3]\n",
    "\n",
    "\n",
    "de = ode(deriv)\n",
    "de.set_initial_value(IC,0)\n",
    "\n",
    "ts = []\n",
    "ys = []\n",
    "t_end = 10\n",
    "t_step = .2\n",
    "\n",
    "while de.successful() and de.t < t_end:\n",
    "    de.integrate(de.t + t_step)\n",
    "    ts.append(de.t)\n",
    "    ys.append(de.y)\n",
    "\n",
    "plt.plot(ts,ys)"
   ]
  },
  {
   "cell_type": "code",
   "execution_count": 107,
   "metadata": {
    "nbpages": {
     "level": 1,
     "link": "[2.8 Model Library](https://jckantor.github.io/cbe30338-2021/02.08-Model-Library.html#2.8-Model-Library)",
     "section": "2.8 Model Library"
    }
   },
   "outputs": [
    {
     "name": "stdout",
     "output_type": "stream",
     "text": [
      "[0, 0, 0]\n",
      "[1.5, 0.0, 0.0]\n"
     ]
    },
    {
     "name": "stderr",
     "output_type": "stream",
     "text": [
      "/Users/jeff/anaconda/lib/python3.5/site-packages/scipy/integrate/odepack.py:218: ODEintWarning: Excess work done on this call (perhaps wrong Dfun type). Run with full_output = 1 to get quantitative information.\n",
      "  warnings.warn(warning_msg, ODEintWarning)\n"
     ]
    },
    {
     "data": {
      "text/plain": [
       "[<matplotlib.lines.Line2D at 0x114d11d30>,\n",
       " <matplotlib.lines.Line2D at 0x114d11f60>,\n",
       " <matplotlib.lines.Line2D at 0x114d17198>]"
      ]
     },
     "execution_count": 107,
     "metadata": {},
     "output_type": "execute_result"
    },
    {
     "data": {
      "image/png": "[encoded data removed]",
      "text/plain": [
       "<matplotlib.figure.Figure at 0x1133d3b00>"
      ]
     },
     "metadata": {},
     "output_type": "display_data"
    }
   ],
   "source": [
    "IC = [tank1.IC] + [tank2.IC] + [tank3.IC]\n",
    "print(IC)\n",
    "print(deriv(IC,0))\n",
    "t = np.linspace(0,45,500)\n",
    "sol = odeint(deriv,IC,t)\n",
    "plt.plot(t,sol)"
   ]
  },
  {
   "cell_type": "code",
   "execution_count": 53,
   "metadata": {
    "nbpages": {
     "level": 1,
     "link": "[2.8 Model Library](https://jckantor.github.io/cbe30338-2021/02.08-Model-Library.html#2.8-Model-Library)",
     "section": "2.8 Model Library"
    }
   },
   "outputs": [
    {
     "data": {
      "text/plain": [
       "0.0"
      ]
     },
     "execution_count": 53,
     "metadata": {},
     "output_type": "execute_result"
    }
   ],
   "source": [
    "tank3.Qin"
   ]
  },
  {
   "cell_type": "code",
   "execution_count": null,
   "metadata": {
    "collapsed": true,
    "jupyter": {
     "outputs_hidden": true
    },
    "nbpages": {
     "level": 1,
     "link": "[2.8 Model Library](https://jckantor.github.io/cbe30338-2021/02.08-Model-Library.html#2.8-Model-Library)",
     "section": "2.8 Model Library"
    }
   },
   "outputs": [],
   "source": []
  },
  {
   "cell_type": "markdown",
   "metadata": {
    "nbpages": {
     "level": 1,
     "link": "[2.8 Model Library](https://jckantor.github.io/cbe30338-2021/02.08-Model-Library.html#2.8-Model-Library)",
     "section": "2.8 Model Library"
    }
   },
   "source": [
    "<!--NAVIGATION-->\n",
    "< [2.7 Fed-Batch Bioreactor](https://jckantor.github.io/cbe30338-2021/02.07-Fed-Batch-Bioreactor.html) | [Contents](toc.html) | [Tag Index](tag_index.html) | [3.0 Linearization](https://jckantor.github.io/cbe30338-2021/03.00-Linearization.html) ><p><a href=\"https://colab.research.google.com/github/jckantor/cbe30338-2021/blob/master/docs/02.08-Model-Library.ipynb\"> <img align=\"left\" src=\"https://colab.research.google.com/assets/colab-badge.svg\" alt=\"Open in Colab\" title=\"Open in Google Colaboratory\"></a><p><a href=\"https://jckantor.github.io/cbe30338-2021/02.08-Model-Library.ipynb\"> <img align=\"left\" src=\"https://img.shields.io/badge/Github-Download-blue.svg\" alt=\"Download\" title=\"Download Notebook\"></a>"
   ]
  }
 ],
 "metadata": {
  "kernelspec": {
   "display_name": "Python 3",
   "language": "python",
   "name": "python3"
  },
  "language_info": {
   "codemirror_mode": {
    "name": "ipython",
    "version": 3
   },
   "file_extension": ".py",
   "mimetype": "text/x-python",
   "name": "python",
   "nbconvert_exporter": "python",
   "pygments_lexer": "ipython3",
   "version": "3.8.5"
  }
 },
 "nbformat": 4,
 "nbformat_minor": 4
}
