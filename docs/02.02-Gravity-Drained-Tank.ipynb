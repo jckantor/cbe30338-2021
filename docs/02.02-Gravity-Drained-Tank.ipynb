{
 "cells": [
  {
   "cell_type": "markdown",
   "metadata": {
    "nbpages": {
     "level": 0,
     "link": "[](https://jckantor.github.io/cbe30338-2021/02.02-Gravity-Drained-Tank.html)",
     "section": ""
    }
   },
   "source": [
    "<!--NOTEBOOK_HEADER-->\n",
    "*This notebook contains material from [cbe30338-2021](https://jckantor.github.io/cbe30338-2021);\n",
    "content is available [on Github](https://github.com/jckantor/cbe30338-2021.git).*\n"
   ]
  },
  {
   "cell_type": "markdown",
   "metadata": {
    "nbpages": {
     "level": 0,
     "link": "[](https://jckantor.github.io/cbe30338-2021/02.02-Gravity-Drained-Tank.html)",
     "section": ""
    }
   },
   "source": [
    "<!--NAVIGATION-->\n",
    "< [2.1 Process Variables](https://jckantor.github.io/cbe30338-2021/02.01-Process-Variables.html) | [Contents](toc.html) | [Tag Index](tag_index.html) | [2.3 Blending Tank Simulation](https://jckantor.github.io/cbe30338-2021/02.03-Blending-Tank-Simulation.html) ><p><a href=\"https://colab.research.google.com/github/jckantor/cbe30338-2021/blob/master/../cbe30338-2021/docs/02.02-Gravity-Drained-Tank.ipynb\"> <img align=\"left\" src=\"https://colab.research.google.com/assets/colab-badge.svg\" alt=\"Open in Colab\" title=\"Open in Google Colaboratory\"></a><p><a href=\"https://jckantor.github.io/cbe30338-2021/02.02-Gravity-Drained-Tank.ipynb\"> <img align=\"left\" src=\"https://img.shields.io/badge/Github-Download-blue.svg\" alt=\"Download\" title=\"Download Notebook\"></a>"
   ]
  },
  {
   "cell_type": "markdown",
   "metadata": {
    "colab_type": "text",
    "id": "VzFcLHpl3OPe",
    "nbpages": {
     "level": 1,
     "link": "[2.2 Gravity Drained Tank](https://jckantor.github.io/cbe30338-2021/02.02-Gravity-Drained-Tank.html#2.2-Gravity-Drained-Tank)",
     "section": "2.2 Gravity Drained Tank"
    }
   },
   "source": [
    "# 2.2 Gravity Drained Tank"
   ]
  },
  {
   "cell_type": "markdown",
   "metadata": {
    "colab_type": "text",
    "id": "VzFcLHpl3OPe",
    "nbpages": {
     "level": 2,
     "link": "[2.2.1 Summary](https://jckantor.github.io/cbe30338-2021/02.02-Gravity-Drained-Tank.html#2.2.1-Summary)",
     "section": "2.2.1 Summary"
    }
   },
   "source": [
    "## 2.2.1 Summary\n",
    "\n",
    "In the example we study the problem of constructing nonlinear process model for the liquid level in a gravity drained tank."
   ]
  },
  {
   "cell_type": "markdown",
   "metadata": {
    "colab_type": "text",
    "id": "xSIqWFm93OPg",
    "nbpages": {
     "level": 2,
     "link": "[2.2.2 Torricelli's law](https://jckantor.github.io/cbe30338-2021/02.02-Gravity-Drained-Tank.html#2.2.2-Torricelli's-law)",
     "section": "2.2.2 Torricelli's law"
    }
   },
   "source": [
    "## 2.2.2 Torricelli's law\n",
    "\n",
    "Torricelli's law states the velocity of an incompressible liquid stream exiting a liquid tank at level $h$ below the surface is \n",
    "\n",
    "$$v = \\sqrt{2gh}$$ \n",
    "\n",
    "This is the same velocity as an object dropped from a height $h$. The derivation is straightforward. From Bernoulli's principle,\n",
    "\n",
    "$$\\frac{v^2}{2} + gh + \\frac{P}{\\rho} = \\text{constant}$$"
   ]
  },
  {
   "cell_type": "markdown",
   "metadata": {
    "colab_type": "text",
    "id": "zGDdqtSj3OPj",
    "nbpages": {
     "level": 2,
     "link": "[2.2.2 Torricelli's law](https://jckantor.github.io/cbe30338-2021/02.02-Gravity-Drained-Tank.html#2.2.2-Torricelli's-law)",
     "section": "2.2.2 Torricelli's law"
    }
   },
   "source": [
    "Applying this principle, compare a drop of water just below the surface of the water at distance $h$ above the exit, to a drop of water exiting the tank\n",
    "\n",
    "$$gh + \\frac{P_{atm}}{\\rho} = \\frac{v^2}{2} + \\frac{P_{atm}}{\\rho}$$\n",
    "\n",
    "$$\\implies v^2 = 2gh$$\n",
    "$$\\implies v = \\sqrt{2gh}$$\n",
    "\n",
    "Torricelli's law is an approximation that doesn't account for the effects of fluid viscosity, the specific flow geometry near the exit, or other flow non-idealities. Nevertheless it is a useful first approximation for flow from a tank."
   ]
  },
  {
   "cell_type": "markdown",
   "metadata": {
    "colab_type": "text",
    "id": "H8dmoxAJ3OPk",
    "nbpages": {
     "level": 2,
     "link": "[2.2.3 Mass Balance for Tank with Constant Cross-Sectional Area](https://jckantor.github.io/cbe30338-2021/02.02-Gravity-Drained-Tank.html#2.2.3-Mass-Balance-for-Tank-with-Constant-Cross-Sectional-Area)",
     "section": "2.2.3 Mass Balance for Tank with Constant Cross-Sectional Area"
    }
   },
   "source": [
    "## 2.2.3 Mass Balance for Tank with Constant Cross-Sectional Area\n",
    "\n",
    "For a tank with constant cross-sectional area, such as a cylindrical or rectangular tank, the liquid height is described by a differential equation\n",
    "\n",
    "$$A\\frac{dh}{dt} = q_{in}(t) - q_{out}(t)$$\n",
    "\n",
    "where $q_{out}$ is a function of liquid height. Torricelli's law tells the outlet flow from the tank is proportional to square root of the liquid height\n",
    "\n",
    "$$ q_{out}(h) = C_v\\sqrt{h} $$"
   ]
  },
  {
   "cell_type": "markdown",
   "metadata": {
    "colab_type": "text",
    "id": "rcxaOAy73OPl",
    "nbpages": {
     "level": 2,
     "link": "[2.2.3 Mass Balance for Tank with Constant Cross-Sectional Area](https://jckantor.github.io/cbe30338-2021/02.02-Gravity-Drained-Tank.html#2.2.3-Mass-Balance-for-Tank-with-Constant-Cross-Sectional-Area)",
     "section": "2.2.3 Mass Balance for Tank with Constant Cross-Sectional Area"
    }
   },
   "source": [
    "Dividing by area we obtain a nonlinear ordinary differential equation \n",
    "\n",
    "$$ \\frac{dh}{dt} = - \\frac{C_V}{A}\\sqrt{h} + \\frac{1}{A}q_{in}(t) $$\n",
    "\n",
    "in our standard form where the LHS derivative appears with a constant coefficient of 1."
   ]
  },
  {
   "cell_type": "markdown",
   "metadata": {
    "colab_type": "text",
    "id": "56j29DiG3OPm",
    "nbpages": {
     "level": 2,
     "link": "[2.2.4 Step-by-Step Approach to Nonlinear Simulation](https://jckantor.github.io/cbe30338-2021/02.02-Gravity-Drained-Tank.html#2.2.4-Step-by-Step-Approach-to-Nonlinear-Simulation)",
     "section": "2.2.4 Step-by-Step Approach to Nonlinear Simulation"
    }
   },
   "source": [
    "## 2.2.4 Step-by-Step Approach to Nonlinear Simulation"
   ]
  },
  {
   "cell_type": "markdown",
   "metadata": {
    "colab_type": "text",
    "id": "C-BiES7y3OPn",
    "nbpages": {
     "level": 3,
     "link": "[2.2.4.1 Step 1. Initialize Jupyter and Python](https://jckantor.github.io/cbe30338-2021/02.02-Gravity-Drained-Tank.html#2.2.4.1-Step-1.-Initialize-Jupyter-and-Python)",
     "section": "2.2.4.1 Step 1. Initialize Jupyter and Python"
    }
   },
   "source": [
    "### 2.2.4.1 Step 1. Initialize Jupyter and Python\n",
    "\n",
    "The first step in any Python application is to initialize graphics display (if you will be creating graphic output), and import any needed libraries.  \n",
    "\n",
    "The `%matplotlib inline` is a command telling the Jupyter notebook to display any graphics inside this notebook.\n",
    "\n",
    "We then import a standard graphics library (`matplotlib.pyplot`) that will be referred to with the prefix `plt`, a standard numerical library `numpy` that will be referred to with the prefix `np`, and the function `odeint` from the `scipy.integrate` library.  "
   ]
  },
  {
   "cell_type": "code",
   "execution_count": null,
   "metadata": {
    "colab": {},
    "colab_type": "code",
    "id": "lAtqLB373OPp",
    "nbpages": {
     "level": 3,
     "link": "[2.2.4.1 Step 1. Initialize Jupyter and Python](https://jckantor.github.io/cbe30338-2021/02.02-Gravity-Drained-Tank.html#2.2.4.1-Step-1.-Initialize-Jupyter-and-Python)",
     "section": "2.2.4.1 Step 1. Initialize Jupyter and Python"
    }
   },
   "outputs": [],
   "source": [
    "%matplotlib inline\n",
    "import matplotlib.pyplot as plt\n",
    "import numpy as np\n",
    "from scipy.integrate import odeint"
   ]
  },
  {
   "cell_type": "markdown",
   "metadata": {
    "colab_type": "text",
    "id": "Rz2LNFOP3OPu",
    "nbpages": {
     "level": 3,
     "link": "[2.2.4.2 Step 2. Define parameters](https://jckantor.github.io/cbe30338-2021/02.02-Gravity-Drained-Tank.html#2.2.4.2-Step-2.-Define-parameters)",
     "section": "2.2.4.2 Step 2. Define parameters"
    }
   },
   "source": [
    "### 2.2.4.2 Step 2. Define parameters\n",
    "\n",
    "Provide values for all relevant parameters.  Use comments to describe the parameters and units."
   ]
  },
  {
   "cell_type": "code",
   "execution_count": null,
   "metadata": {
    "colab": {},
    "colab_type": "code",
    "id": "qYEqVEsU3OPv",
    "nbpages": {
     "level": 3,
     "link": "[2.2.4.2 Step 2. Define parameters](https://jckantor.github.io/cbe30338-2021/02.02-Gravity-Drained-Tank.html#2.2.4.2-Step-2.-Define-parameters)",
     "section": "2.2.4.2 Step 2. Define parameters"
    }
   },
   "outputs": [],
   "source": [
    "Cv  = 0.1     # Outlet valve constant [cubic meters/min/meter^1/2]\n",
    "A   = 1.0     # Tank area [meter^2]"
   ]
  },
  {
   "cell_type": "markdown",
   "metadata": {
    "colab_type": "text",
    "id": "QqTpi1bf3OPy",
    "nbpages": {
     "level": 3,
     "link": "[2.2.4.3 Step 3. Write Functions for the RHS of the Differential Equations](https://jckantor.github.io/cbe30338-2021/02.02-Gravity-Drained-Tank.html#2.2.4.3-Step-3.-Write-Functions-for-the-RHS-of-the-Differential-Equations)",
     "section": "2.2.4.3 Step 3. Write Functions for the RHS of the Differential Equations"
    }
   },
   "source": [
    "### 2.2.4.3 Step 3. Write Functions for the RHS of the Differential Equations"
   ]
  },
  {
   "cell_type": "code",
   "execution_count": null,
   "metadata": {
    "colab": {},
    "colab_type": "code",
    "id": "nuIhX1VO3OPy",
    "nbpages": {
     "level": 3,
     "link": "[2.2.4.3 Step 3. Write Functions for the RHS of the Differential Equations](https://jckantor.github.io/cbe30338-2021/02.02-Gravity-Drained-Tank.html#2.2.4.3-Step-3.-Write-Functions-for-the-RHS-of-the-Differential-Equations)",
     "section": "2.2.4.3 Step 3. Write Functions for the RHS of the Differential Equations"
    }
   },
   "outputs": [],
   "source": [
    "# inlet flow rate in cubic meters/min\n",
    "def qin(t):\n",
    "    return 0.15\n",
    "\n",
    "def deriv(h,t):\n",
    "    return qin(t)/A - Cv*np.sqrt(h)/A"
   ]
  },
  {
   "cell_type": "markdown",
   "metadata": {
    "colab_type": "text",
    "id": "n1EJHyQd3OP1",
    "nbpages": {
     "level": 3,
     "link": "[2.2.4.4 Step 4. Choose an Initial Condition, a Time Grid, and Integrate the Differential Equation](https://jckantor.github.io/cbe30338-2021/02.02-Gravity-Drained-Tank.html#2.2.4.4-Step-4.-Choose-an-Initial-Condition,-a-Time-Grid,-and-Integrate-the-Differential-Equation)",
     "section": "2.2.4.4 Step 4. Choose an Initial Condition, a Time Grid, and Integrate the Differential Equation"
    }
   },
   "source": [
    "### 2.2.4.4 Step 4. Choose an Initial Condition, a Time Grid, and Integrate the Differential Equation"
   ]
  },
  {
   "cell_type": "code",
   "execution_count": null,
   "metadata": {
    "colab": {},
    "colab_type": "code",
    "id": "HiA2HZcb3OP1",
    "nbpages": {
     "level": 3,
     "link": "[2.2.4.4 Step 4. Choose an Initial Condition, a Time Grid, and Integrate the Differential Equation](https://jckantor.github.io/cbe30338-2021/02.02-Gravity-Drained-Tank.html#2.2.4.4-Step-4.-Choose-an-Initial-Condition,-a-Time-Grid,-and-Integrate-the-Differential-Equation)",
     "section": "2.2.4.4 Step 4. Choose an Initial Condition, a Time Grid, and Integrate the Differential Equation"
    }
   },
   "outputs": [],
   "source": [
    "IC = [0.0]\n",
    "t = np.linspace(0,200,101)\n",
    "h = odeint(deriv,IC,t)"
   ]
  },
  {
   "cell_type": "markdown",
   "metadata": {
    "colab_type": "text",
    "id": "UJ5008ZA3OP6",
    "nbpages": {
     "level": 3,
     "link": "[2.2.4.5 Step 5. Visualize and Analyze Results](https://jckantor.github.io/cbe30338-2021/02.02-Gravity-Drained-Tank.html#2.2.4.5-Step-5.-Visualize-and-Analyze-Results)",
     "section": "2.2.4.5 Step 5. Visualize and Analyze Results"
    }
   },
   "source": [
    "### 2.2.4.5 Step 5. Visualize and Analyze Results"
   ]
  },
  {
   "cell_type": "code",
   "execution_count": 6,
   "metadata": {
    "colab": {
     "base_uri": "https://localhost:8080/",
     "height": 294
    },
    "colab_type": "code",
    "id": "DyQyXfpp3OP8",
    "nbpages": {
     "level": 3,
     "link": "[2.2.4.5 Step 5. Visualize and Analyze Results](https://jckantor.github.io/cbe30338-2021/02.02-Gravity-Drained-Tank.html#2.2.4.5-Step-5.-Visualize-and-Analyze-Results)",
     "section": "2.2.4.5 Step 5. Visualize and Analyze Results"
    },
    "outputId": "be349d5d-4806-4249-e3c5-85f14d31ff28"
   },
   "outputs": [
    {
     "data": {
      "image/png": "[encoded data removed]",
      "text/plain": [
       "<Figure size 432x288 with 1 Axes>"
      ]
     },
     "metadata": {
      "tags": []
     },
     "output_type": "display_data"
    }
   ],
   "source": [
    "plt.plot(t,h)\n",
    "\n",
    "plt.xlabel('minutes')\n",
    "plt.ylabel('meters')\n",
    "plt.title('Gravity-Drained Tank')\n",
    "plt.legend(['Liquid Level']);"
   ]
  },
  {
   "cell_type": "markdown",
   "metadata": {
    "colab_type": "text",
    "id": "taamgWsu3OQB",
    "nbpages": {
     "level": 3,
     "link": "[2.2.4.6 Step 6.  Adjust and Repeat as Needed](https://jckantor.github.io/cbe30338-2021/02.02-Gravity-Drained-Tank.html#2.2.4.6-Step-6.-Adjust-and-Repeat-as-Needed)",
     "section": "2.2.4.6 Step 6.  Adjust and Repeat as Needed"
    }
   },
   "source": [
    "### 2.2.4.6 Step 6.  Adjust and Repeat as Needed\n",
    "\n",
    "Rarely does a simulation provide you with the information you seek on the first try.  You will almost certainly need to revise parameter values, choose different time grids, and add visualization features to obtain the most informative results."
   ]
  },
  {
   "cell_type": "code",
   "execution_count": null,
   "metadata": {
    "colab": {},
    "colab_type": "code",
    "id": "fuPuM5fV3OQC",
    "nbpages": {
     "level": 3,
     "link": "[2.2.4.6 Step 6.  Adjust and Repeat as Needed](https://jckantor.github.io/cbe30338-2021/02.02-Gravity-Drained-Tank.html#2.2.4.6-Step-6.-Adjust-and-Repeat-as-Needed)",
     "section": "2.2.4.6 Step 6.  Adjust and Repeat as Needed"
    }
   },
   "outputs": [],
   "source": []
  },
  {
   "cell_type": "markdown",
   "metadata": {
    "nbpages": {
     "level": 3,
     "link": "[2.2.4.6 Step 6.  Adjust and Repeat as Needed](https://jckantor.github.io/cbe30338-2021/02.02-Gravity-Drained-Tank.html#2.2.4.6-Step-6.-Adjust-and-Repeat-as-Needed)",
     "section": "2.2.4.6 Step 6.  Adjust and Repeat as Needed"
    }
   },
   "source": [
    "<!--NAVIGATION-->\n",
    "< [2.1 Process Variables](https://jckantor.github.io/cbe30338-2021/02.01-Process-Variables.html) | [Contents](toc.html) | [Tag Index](tag_index.html) | [2.3 Blending Tank Simulation](https://jckantor.github.io/cbe30338-2021/02.03-Blending-Tank-Simulation.html) ><p><a href=\"https://colab.research.google.com/github/jckantor/cbe30338-2021/blob/master/../cbe30338-2021/docs/02.02-Gravity-Drained-Tank.ipynb\"> <img align=\"left\" src=\"https://colab.research.google.com/assets/colab-badge.svg\" alt=\"Open in Colab\" title=\"Open in Google Colaboratory\"></a><p><a href=\"https://jckantor.github.io/cbe30338-2021/02.02-Gravity-Drained-Tank.ipynb\"> <img align=\"left\" src=\"https://img.shields.io/badge/Github-Download-blue.svg\" alt=\"Download\" title=\"Download Notebook\"></a>"
   ]
  }
 ],
 "metadata": {
  "colab": {
   "name": "Gravity Drained Tank.ipynb",
   "provenance": [],
   "version": "0.3.2"
  },
  "kernelspec": {
   "display_name": "Python 3",
   "language": "python",
   "name": "python3"
  },
  "language_info": {
   "codemirror_mode": {
    "name": "ipython",
    "version": 3
   },
   "file_extension": ".py",
   "mimetype": "text/x-python",
   "name": "python",
   "nbconvert_exporter": "python",
   "pygments_lexer": "ipython3",
   "version": "3.7.4"
  }
 },
 "nbformat": 4,
 "nbformat_minor": 2
}
