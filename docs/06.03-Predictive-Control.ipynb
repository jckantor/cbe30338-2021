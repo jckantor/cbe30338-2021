{
 "cells": [
  {
   "cell_type": "markdown",
   "metadata": {
    "id": "0LK2EfX4lq-4",
    "nbpages": {
     "level": 0,
     "link": "[](https://jckantor.github.io/cbe30338-2021/06.03-Predictive-Control.html)",
     "section": ""
    }
   },
   "source": [
    "<!--NOTEBOOK_HEADER-->\n",
    "*This notebook contains material from [cbe30338-2021](https://jckantor.github.io/cbe30338-2021);\n",
    "content is available [on Github](https://github.com/jckantor/cbe30338-2021.git).*\n"
   ]
  },
  {
   "cell_type": "markdown",
   "metadata": {
    "id": "eCfL4gSqlq-_",
    "nbpages": {
     "level": 0,
     "link": "[](https://jckantor.github.io/cbe30338-2021/06.03-Predictive-Control.html)",
     "section": ""
    }
   },
   "source": [
    "<!--NAVIGATION-->\n",
    "< [6.2 Simulation and Open-Loop Optimal Control](https://jckantor.github.io/cbe30338-2021/06.02-Simulation-and-Open-Loop-Optimal-Control.html) | [Contents](toc.html) | [Tag Index](tag_index.html) | [7.0 Projects](https://jckantor.github.io/cbe30338-2021/07.00-Projects.html) ><p><a href=\"https://colab.research.google.com/github/jckantor/cbe30338-2021/blob/master/docs/06.03-Predictive-Control.ipynb\"> <img align=\"left\" src=\"https://colab.research.google.com/assets/colab-badge.svg\" alt=\"Open in Colab\" title=\"Open in Google Colaboratory\"></a><p><a href=\"https://jckantor.github.io/cbe30338-2021/06.03-Predictive-Control.ipynb\"> <img align=\"left\" src=\"https://img.shields.io/badge/Github-Download-blue.svg\" alt=\"Download\" title=\"Download Notebook\"></a>"
   ]
  },
  {
   "cell_type": "markdown",
   "metadata": {
    "id": "MchKwOJOlq_A",
    "nbpages": {
     "level": 1,
     "link": "[6.3  Predictive Control](https://jckantor.github.io/cbe30338-2021/06.03-Predictive-Control.html#6.3-Predictive-Control)",
     "section": "6.3  Predictive Control"
    }
   },
   "source": [
    "# 6.3  Predictive Control\n"
   ]
  },
  {
   "cell_type": "markdown",
   "metadata": {
    "id": "gsSqgmyilq_B",
    "nbpages": {
     "level": 3,
     "link": "[6.3.1 Model](https://jckantor.github.io/cbe30338-2021/06.03-Predictive-Control.html#6.3.1-Model)",
     "section": "6.3.1 Model"
    }
   },
   "source": [
    "### 6.3.1 Model\n",
    "\n",
    "We will use the two-state model for a single heater/sensor assembly for the calculations that follow.\n",
    "\n",
    "\\begin{align}\n",
    "C^H_p\\frac{dT_{H,1}}{dt} & = U_a(T_{amb} - T_{H,1}) + U_b(T_{S,1} - T_{H,1}) + \\alpha P_1 u_1\\\\\n",
    "C^S_p\\frac{dT_{S,1}}{dt} & = U_b(T_{H,1} - T_{S,1}) \n",
    "\\end{align}\n",
    "\n",
    "The model is recast into linear state space form as\n",
    "\n",
    "\\begin{align}\n",
    "\\frac{dx}{dt} & = A x + B_u u + B_d d \\\\\n",
    "y & = C x\n",
    "\\end{align}\n",
    "\n",
    "where\n",
    "\n",
    "$$x = \\begin{bmatrix} T_{H,1} \\\\ T_{S,1} \\end{bmatrix}\n",
    "\\qquad\n",
    "u = \\begin{bmatrix} u_1 \\end{bmatrix}\n",
    "\\qquad\n",
    "d = \\begin{bmatrix} T_{amb} \\end{bmatrix}\n",
    "\\qquad\n",
    "y = \\begin{bmatrix} T_{S,1} \\end{bmatrix}$$\n",
    "\n",
    "and\n",
    "\n",
    "$$A = \\begin{bmatrix} -\\frac{U_a+U_b}{C^H_p} & \\frac{U_b}{C^H_p} \\\\ \\frac{U_b}{C^S_p} & -\\frac{U_b}{C^S_p} \\end{bmatrix}\n",
    "\\qquad\n",
    "B_u = \\begin{bmatrix} \\frac{\\alpha P_1}{C^H_p} \\\\ 0 \\end{bmatrix}\n",
    "\\qquad\n",
    "B_d = \\begin{bmatrix} \\frac{U_a}{C_p^H} \\\\ 0 \\end{bmatrix}\n",
    "\\qquad\n",
    "C = \\begin{bmatrix} 0 & 1 \\end{bmatrix}$$\n"
   ]
  },
  {
   "cell_type": "markdown",
   "metadata": {
    "id": "ztXe8jjMlq_H",
    "nbpages": {
     "level": 2,
     "link": "[6.3.1 Feedforward Optimal Control](https://jckantor.github.io/cbe30338-2021/06.03-Predictive-Control.html#6.3.1-Feedforward-Optimal-Control)",
     "section": "6.3.1 Feedforward Optimal Control"
    }
   },
   "source": [
    "## 6.3.1 Feedforward Optimal Control\n",
    "\n",
    "An optimal control policy minimizes the differences\n",
    "\n",
    "\\begin{align*}\n",
    "\\min_{u} \\int_{t_0}^{t_f} \\|T_H^{SP}(t) - T_H(t)\\|^2\\,dt \\\\\n",
    "\\end{align*}\n",
    "\n",
    "subject to constraints\n",
    "\n",
    "\\begin{align*}\n",
    "C_p^H \\frac{dT_H}{dt} & = U_a (T_{amb} - T_H) + U_c (T_S - T_H) + P u(t) + d(t)\\\\\n",
    "C_p^S \\frac{dT_S}{dt} & = - U_c (T_S - T_H) \n",
    "\\end{align*}\n",
    "\n",
    "initial conditions\n",
    "\n",
    "\\begin{align*}\n",
    "T_H(t_0) & = T_{amb} \\\\\n",
    "T_S(t_0) & = T_{amb}\n",
    "\\end{align*}\n",
    "\n",
    "and prior knowledge of $d(t)$."
   ]
  },
  {
   "cell_type": "code",
   "execution_count": 3,
   "metadata": {
    "id": "BFMFRXBQmEMy",
    "nbpages": {
     "level": 2,
     "link": "[6.3.1 Feedforward Optimal Control](https://jckantor.github.io/cbe30338-2021/06.03-Predictive-Control.html#6.3.1-Feedforward-Optimal-Control)",
     "section": "6.3.1 Feedforward Optimal Control"
    }
   },
   "outputs": [],
   "source": [
    "%matplotlib inline\n",
    "import matplotlib.pyplot as plt\n",
    "import numpy as np\n",
    "import cvxpy as cp\n",
    "\n",
    "# parameter estimates.\n",
    "alpha = 0.00016       # watts / (units P * percent U1)\n",
    "P1 = 200              # P units\n",
    "P2 = 100              # P units\n",
    "Ua = 0.050            # heat transfer coefficient from heater to environment\n",
    "CpH = 2.2             # heat capacity of the heater (J/deg C)\n",
    "CpS = 1.9             # heat capacity of the sensor (J/deg C)\n",
    "Ub = 0.021            # heat transfer coefficient from heater to sensor\n",
    "\n",
    "# state space model\n",
    "A = np.array([[-(Ua + Ub)/CpH, Ub/CpH], [Ub/CpS, -Ub/CpS]])\n",
    "Bu = np.array([[alpha*P1/CpH], [0]])     # single column\n",
    "Bd = np.array([[Ua/CpH], [0]])           # single column\n",
    "C = np.array([[0, 1]])                   # single row\n",
    "\n",
    "Tamb = 20"
   ]
  },
  {
   "cell_type": "code",
   "execution_count": 18,
   "metadata": {
    "colab": {
     "base_uri": "https://localhost:8080/",
     "height": 227
    },
    "executionInfo": {
     "elapsed": 783,
     "status": "ok",
     "timestamp": 1618927830118,
     "user": {
      "displayName": "",
      "photoUrl": "",
      "userId": ""
     },
     "user_tz": 240
    },
    "id": "L06xARtOmae_",
    "nbpages": {
     "level": 2,
     "link": "[6.3.1 Feedforward Optimal Control](https://jckantor.github.io/cbe30338-2021/06.03-Predictive-Control.html#6.3.1-Feedforward-Optimal-Control)",
     "section": "6.3.1 Feedforward Optimal Control"
    },
    "outputId": "3a27c501-7452-4e78-b4fd-433b43c60598"
   },
   "outputs": [
    {
     "data": {
      "image/png": "[encoded data removed]",
      "text/plain": [
       "<Figure size 720x216 with 1 Axes>"
      ]
     },
     "metadata": {
      "needs_background": "light"
     },
     "output_type": "display_data"
    }
   ],
   "source": [
    "# time grid\n",
    "tf = 800\n",
    "dt = 2\n",
    "n = round(tf/dt)\n",
    "t_grid = np.linspace(0, tf, n+1)\n",
    "\n",
    "# setpoint/reference\n",
    "def r(t):\n",
    "    return np.interp(t, [0, 0, 0], [Tamb, Tamb, 60])\n",
    "\n",
    "def d(t):\n",
    "    return np.interp(t, [0], [Tamb])\n",
    "\n",
    "# plot function\n",
    "fig, ax = plt.subplots(1, 1, figsize=(10, 3))\n",
    "ax.plot(t_grid, r(t_grid), label=\"setpoint\")\n",
    "ax.plot(t_grid, d(t_grid), label=\"disturbance\")\n",
    "ax.set_title('setpoint')\n",
    "ax.set_ylabel('deg C')\n",
    "ax.legend()\n",
    "ax.grid(True)"
   ]
  },
  {
   "cell_type": "code",
   "execution_count": 19,
   "metadata": {
    "colab": {
     "base_uri": "https://localhost:8080/",
     "height": 441
    },
    "executionInfo": {
     "elapsed": 6186,
     "status": "ok",
     "timestamp": 1618928059293,
     "user": {
      "displayName": "",
      "photoUrl": "",
      "userId": ""
     },
     "user_tz": 240
    },
    "id": "7c6IY7rolxul",
    "nbpages": {
     "level": 2,
     "link": "[6.3.1 Feedforward Optimal Control](https://jckantor.github.io/cbe30338-2021/06.03-Predictive-Control.html#6.3.1-Feedforward-Optimal-Control)",
     "section": "6.3.1 Feedforward Optimal Control"
    },
    "outputId": "501e7233-58ea-4357-d2b7-ac4691463cf5"
   },
   "outputs": [
    {
     "data": {
      "image/png": "[encoded data removed]",
      "text/plain": [
       "<Figure size 720x432 with 3 Axes>"
      ]
     },
     "metadata": {
      "needs_background": "light"
     },
     "output_type": "display_data"
    }
   ],
   "source": [
    "# add $u$ as a decision variable\n",
    "u = {t: cp.Variable(1, nonneg=True) for t in t_grid}\n",
    "x = {t: cp.Variable(2) for t in t_grid}\n",
    "y = {t: cp.Variable(1) for t in t_grid}\n",
    "\n",
    "# least-squares optimization objective\n",
    "objective = cp.Minimize(sum((y[t]-r(t))**2 for t in t_grid))\n",
    "\n",
    "model = [x[t] == x[t-dt] + dt*(A@x[t-dt] + Bu@u[t-dt] + Bd@[d(t-dt)]) for t in t_grid[1:]]\n",
    "output = [y[t] == C@x[t] for t in t_grid]\n",
    "inputs = [u[t] <= 100 for t in t_grid]\n",
    "IC = [x[0] == np.array([30, Tamb])]\n",
    "\n",
    "problem = cp.Problem(objective,  model + IC + output + inputs)\n",
    "problem.solve()\n",
    "\n",
    "# display solution\n",
    "fix, ax = plt.subplots(3, 1, figsize=(10,6), sharex=True)\n",
    "ax[0].plot(t_grid, [x[t][0].value  for t in t_grid], label=\"T_H\")\n",
    "ax[0].plot(t_grid, [x[t][1].value  for t in t_grid], label=\"T_S\")\n",
    "ax[0].plot(t_grid, [r(t) for t in t_grid], label=\"SP\")\n",
    "ax[0].set_ylabel(\"deg C\")\n",
    "ax[0].legend()\n",
    "ax[1].plot(t_grid, [u[t].value for t in t_grid], label=\"u(t)\")\n",
    "ax[1].set_ylabel(\"% of max power\")\n",
    "ax[2].plot(t_grid, [d(t) for t in t_grid], label=\"d(t)\")\n",
    "ax[2].set_ylabel(\"deg C\")\n",
    "for a in ax:\n",
    "    a.grid(True)\n",
    "    a.legend()\n",
    "plt.tight_layout()"
   ]
  },
  {
   "cell_type": "markdown",
   "metadata": {
    "id": "D_2whAmBnT3z",
    "nbpages": {
     "level": 2,
     "link": "[6.3.1 Feedforward Optimal Control](https://jckantor.github.io/cbe30338-2021/06.03-Predictive-Control.html#6.3.1-Feedforward-Optimal-Control)",
     "section": "6.3.1 Feedforward Optimal Control"
    }
   },
   "source": [
    "What information do you need to compute the control policy $u(t)$?\n",
    "\n",
    "* Modify model for constant d\n",
    "* Demonstrate effect of lack of future information about setpoint\n",
    "* Demonstrate effect of initial condition\n",
    "\n",
    "Now write a function that computes a control policy given tstep, d, x, and SP\n",
    "\n"
   ]
  },
  {
   "cell_type": "markdown",
   "metadata": {
    "id": "flr5i2IQqlIH",
    "nbpages": {
     "level": 2,
     "link": "[6.3.1 Feedforward Optimal Control](https://jckantor.github.io/cbe30338-2021/06.03-Predictive-Control.html#6.3.1-Feedforward-Optimal-Control)",
     "section": "6.3.1 Feedforward Optimal Control"
    }
   },
   "source": [
    "* Encapsulate code as a generator\n"
   ]
  },
  {
   "cell_type": "markdown",
   "metadata": {
    "id": "iqcgQFZ2qvpu",
    "nbpages": {
     "level": 2,
     "link": "[6.3.1 Feedforward Optimal Control](https://jckantor.github.io/cbe30338-2021/06.03-Predictive-Control.html#6.3.1-Feedforward-Optimal-Control)",
     "section": "6.3.1 Feedforward Optimal Control"
    }
   },
   "source": [
    "* Set up event loop for tclab"
   ]
  },
  {
   "cell_type": "markdown",
   "metadata": {
    "id": "xCyRLchqq2il",
    "nbpages": {
     "level": 2,
     "link": "[6.3.1 Feedforward Optimal Control](https://jckantor.github.io/cbe30338-2021/06.03-Predictive-Control.html#6.3.1-Feedforward-Optimal-Control)",
     "section": "6.3.1 Feedforward Optimal Control"
    }
   },
   "source": [
    "* add observer"
   ]
  },
  {
   "cell_type": "markdown",
   "metadata": {},
   "source": [
    "<!--NAVIGATION-->\n",
    "< [6.2 Simulation and Open-Loop Optimal Control](https://jckantor.github.io/cbe30338-2021/06.02-Simulation-and-Open-Loop-Optimal-Control.html) | [Contents](toc.html) | [Tag Index](tag_index.html) | [7.0 Projects](https://jckantor.github.io/cbe30338-2021/07.00-Projects.html) ><p><a href=\"https://colab.research.google.com/github/jckantor/cbe30338-2021/blob/master/docs/06.03-Predictive-Control.ipynb\"> <img align=\"left\" src=\"https://colab.research.google.com/assets/colab-badge.svg\" alt=\"Open in Colab\" title=\"Open in Google Colaboratory\"></a><p><a href=\"https://jckantor.github.io/cbe30338-2021/06.03-Predictive-Control.ipynb\"> <img align=\"left\" src=\"https://img.shields.io/badge/Github-Download-blue.svg\" alt=\"Download\" title=\"Download Notebook\"></a>"
   ]
  }
 ],
 "metadata": {
  "colab": {
   "collapsed_sections": [],
   "name": "Predictive-Control.ipynb",
   "provenance": [
    {
     "file_id": "https://github.com/jckantor/cbe30338-2021/blob/master/docs/06.02-Simulation-and-Open-Loop-Optimal-Control.ipynb",
     "timestamp": 1618928532300
    }
   ]
  },
  "kernelspec": {
   "display_name": "Python 3",
   "language": "python",
   "name": "python3"
  },
  "language_info": {
   "codemirror_mode": {
    "name": "ipython",
    "version": 3
   },
   "file_extension": ".py",
   "mimetype": "text/x-python",
   "name": "python",
   "nbconvert_exporter": "python",
   "pygments_lexer": "ipython3",
   "version": "3.8.5"
  }
 },
 "nbformat": 4,
 "nbformat_minor": 4
}
